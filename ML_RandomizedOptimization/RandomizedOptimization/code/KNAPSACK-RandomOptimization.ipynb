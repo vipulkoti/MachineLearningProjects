{
 "cells": [
  {
   "cell_type": "code",
   "execution_count": 1,
   "id": "92f88520",
   "metadata": {},
   "outputs": [],
   "source": [
    "import mlrose_hiive\n",
    "import numpy as np\n",
    "import pandas as pd\n",
    "import matplotlib.pyplot as plt\n",
    "\n"
   ]
  },
  {
   "cell_type": "markdown",
   "id": "0a8663fa",
   "metadata": {},
   "source": [
    "<h3>KNAPSACK Problem</h3>"
   ]
  },
  {
   "cell_type": "code",
   "execution_count": 2,
   "id": "694e292c",
   "metadata": {},
   "outputs": [],
   "source": [
    "# Problem definition\n",
    "knapsack_len=300\n",
    "# weights between 10 to 40\n",
    "knapsack_weights=np.random.uniform(10,40,knapsack_len)\n",
    "# values between 20 to 30\n",
    "knapsack_values=np.random.uniform(20,30,knapsack_len)\n",
    "max_weight_pct = 0.5\n",
    "problem = mlrose_hiive.KnapsackOpt(weights=knapsack_weights, values=knapsack_values,\n",
    "                                  max_weight_pct=max_weight_pct)\n",
    "\n",
    "experiment_name = \"Knapsack\"\n",
    "output_directory = \"Knapsack\""
   ]
  },
  {
   "cell_type": "markdown",
   "id": "3d0d53f4",
   "metadata": {},
   "source": [
    "<h3>MIMC</h3>"
   ]
  },
  {
   "cell_type": "code",
   "execution_count": 3,
   "id": "1cd682e7",
   "metadata": {},
   "outputs": [
    {
     "name": "stdout",
     "output_type": "stream",
     "text": [
      "Wall time: 14min 28s\n"
     ]
    }
   ],
   "source": [
    "%%time\n",
    "problem = mlrose_hiive.KnapsackOpt(weights=knapsack_weights, values=knapsack_values,\n",
    "                                  max_weight_pct=max_weight_pct)\n",
    "\n",
    "mmc = mlrose_hiive.MIMICRunner(problem=problem,\n",
    "                          experiment_name=experiment_name + \"_MIMIC\",\n",
    "                               output_directory=output_directory,\n",
    "                          seed=33,\n",
    "                          iteration_list=[100],\n",
    "                          max_attempts=100,\n",
    "                       population_sizes=[200, 400, 600],\n",
    "                       keep_percent_list=[0.05, 0.1, 0.20, 0.3],\n",
    "#                           population_sizes=[20,50,100],\n",
    "#                           keep_percent_list=[0.25, 0.5, 0.75],\n",
    "                          use_fast_mimic=True)\n",
    "\n",
    "# the two data frames will contain the results\n",
    "mmc_run_stats, mmc_run_curves = mmc.run()"
   ]
  },
  {
   "cell_type": "code",
   "execution_count": 4,
   "id": "78adbe0d",
   "metadata": {},
   "outputs": [
    {
     "data": {
      "text/html": [
       "<div>\n",
       "<style scoped>\n",
       "    .dataframe tbody tr th:only-of-type {\n",
       "        vertical-align: middle;\n",
       "    }\n",
       "\n",
       "    .dataframe tbody tr th {\n",
       "        vertical-align: top;\n",
       "    }\n",
       "\n",
       "    .dataframe thead th {\n",
       "        text-align: right;\n",
       "    }\n",
       "</style>\n",
       "<table border=\"1\" class=\"dataframe\">\n",
       "  <thead>\n",
       "    <tr style=\"text-align: right;\">\n",
       "      <th></th>\n",
       "      <th>Iteration</th>\n",
       "      <th>Time</th>\n",
       "      <th>Fitness</th>\n",
       "      <th>FEvals</th>\n",
       "      <th>use_fast_mimic</th>\n",
       "      <th>Population Size</th>\n",
       "      <th>Keep Percent</th>\n",
       "      <th>max_iters</th>\n",
       "    </tr>\n",
       "  </thead>\n",
       "  <tbody>\n",
       "    <tr>\n",
       "      <th>0</th>\n",
       "      <td>0</td>\n",
       "      <td>0.007511</td>\n",
       "      <td>3622.999708</td>\n",
       "      <td>200.0</td>\n",
       "      <td>True</td>\n",
       "      <td>200</td>\n",
       "      <td>0.05</td>\n",
       "      <td>100</td>\n",
       "    </tr>\n",
       "    <tr>\n",
       "      <th>1</th>\n",
       "      <td>1</td>\n",
       "      <td>0.109163</td>\n",
       "      <td>3976.126313</td>\n",
       "      <td>402.0</td>\n",
       "      <td>True</td>\n",
       "      <td>200</td>\n",
       "      <td>0.05</td>\n",
       "      <td>100</td>\n",
       "    </tr>\n",
       "    <tr>\n",
       "      <th>2</th>\n",
       "      <td>2</td>\n",
       "      <td>0.208391</td>\n",
       "      <td>4021.854502</td>\n",
       "      <td>604.0</td>\n",
       "      <td>True</td>\n",
       "      <td>200</td>\n",
       "      <td>0.05</td>\n",
       "      <td>100</td>\n",
       "    </tr>\n",
       "    <tr>\n",
       "      <th>3</th>\n",
       "      <td>3</td>\n",
       "      <td>0.311771</td>\n",
       "      <td>4084.739148</td>\n",
       "      <td>806.0</td>\n",
       "      <td>True</td>\n",
       "      <td>200</td>\n",
       "      <td>0.05</td>\n",
       "      <td>100</td>\n",
       "    </tr>\n",
       "    <tr>\n",
       "      <th>4</th>\n",
       "      <td>4</td>\n",
       "      <td>0.424783</td>\n",
       "      <td>4115.316018</td>\n",
       "      <td>1008.0</td>\n",
       "      <td>True</td>\n",
       "      <td>200</td>\n",
       "      <td>0.05</td>\n",
       "      <td>100</td>\n",
       "    </tr>\n",
       "    <tr>\n",
       "      <th>...</th>\n",
       "      <td>...</td>\n",
       "      <td>...</td>\n",
       "      <td>...</td>\n",
       "      <td>...</td>\n",
       "      <td>...</td>\n",
       "      <td>...</td>\n",
       "      <td>...</td>\n",
       "      <td>...</td>\n",
       "    </tr>\n",
       "    <tr>\n",
       "      <th>1207</th>\n",
       "      <td>96</td>\n",
       "      <td>43.171388</td>\n",
       "      <td>4790.327115</td>\n",
       "      <td>58342.0</td>\n",
       "      <td>True</td>\n",
       "      <td>600</td>\n",
       "      <td>0.30</td>\n",
       "      <td>100</td>\n",
       "    </tr>\n",
       "    <tr>\n",
       "      <th>1208</th>\n",
       "      <td>97</td>\n",
       "      <td>43.635953</td>\n",
       "      <td>4790.327115</td>\n",
       "      <td>58943.0</td>\n",
       "      <td>True</td>\n",
       "      <td>600</td>\n",
       "      <td>0.30</td>\n",
       "      <td>100</td>\n",
       "    </tr>\n",
       "    <tr>\n",
       "      <th>1209</th>\n",
       "      <td>98</td>\n",
       "      <td>44.103142</td>\n",
       "      <td>4790.327115</td>\n",
       "      <td>59544.0</td>\n",
       "      <td>True</td>\n",
       "      <td>600</td>\n",
       "      <td>0.30</td>\n",
       "      <td>100</td>\n",
       "    </tr>\n",
       "    <tr>\n",
       "      <th>1210</th>\n",
       "      <td>99</td>\n",
       "      <td>44.567531</td>\n",
       "      <td>4790.327115</td>\n",
       "      <td>60145.0</td>\n",
       "      <td>True</td>\n",
       "      <td>600</td>\n",
       "      <td>0.30</td>\n",
       "      <td>100</td>\n",
       "    </tr>\n",
       "    <tr>\n",
       "      <th>1211</th>\n",
       "      <td>100</td>\n",
       "      <td>45.035690</td>\n",
       "      <td>4790.327115</td>\n",
       "      <td>60746.0</td>\n",
       "      <td>True</td>\n",
       "      <td>600</td>\n",
       "      <td>0.30</td>\n",
       "      <td>100</td>\n",
       "    </tr>\n",
       "  </tbody>\n",
       "</table>\n",
       "<p>1212 rows × 8 columns</p>\n",
       "</div>"
      ],
      "text/plain": [
       "      Iteration       Time      Fitness   FEvals  use_fast_mimic  \\\n",
       "0             0   0.007511  3622.999708    200.0            True   \n",
       "1             1   0.109163  3976.126313    402.0            True   \n",
       "2             2   0.208391  4021.854502    604.0            True   \n",
       "3             3   0.311771  4084.739148    806.0            True   \n",
       "4             4   0.424783  4115.316018   1008.0            True   \n",
       "...         ...        ...          ...      ...             ...   \n",
       "1207         96  43.171388  4790.327115  58342.0            True   \n",
       "1208         97  43.635953  4790.327115  58943.0            True   \n",
       "1209         98  44.103142  4790.327115  59544.0            True   \n",
       "1210         99  44.567531  4790.327115  60145.0            True   \n",
       "1211        100  45.035690  4790.327115  60746.0            True   \n",
       "\n",
       "      Population Size  Keep Percent  max_iters  \n",
       "0                 200          0.05        100  \n",
       "1                 200          0.05        100  \n",
       "2                 200          0.05        100  \n",
       "3                 200          0.05        100  \n",
       "4                 200          0.05        100  \n",
       "...               ...           ...        ...  \n",
       "1207              600          0.30        100  \n",
       "1208              600          0.30        100  \n",
       "1209              600          0.30        100  \n",
       "1210              600          0.30        100  \n",
       "1211              600          0.30        100  \n",
       "\n",
       "[1212 rows x 8 columns]"
      ]
     },
     "execution_count": 4,
     "metadata": {},
     "output_type": "execute_result"
    }
   ],
   "source": [
    "mmc_run_curves"
   ]
  },
  {
   "cell_type": "code",
   "execution_count": 5,
   "id": "e3c93a68",
   "metadata": {},
   "outputs": [
    {
     "name": "stdout",
     "output_type": "stream",
     "text": [
      "Max and mean\n",
      "4790.327115396508 4580.3007332916595 72.36377216666668\n",
      "Keep Percent\n",
      "0.05    4409.343675\n",
      "0.10    4544.978692\n",
      "0.20    4685.942095\n",
      "0.30    4680.938471\n",
      "Name: Fitness, dtype: float64\n",
      "Population Size\n",
      "200    4358.741729\n",
      "400    4646.229872\n",
      "600    4735.930599\n",
      "Name: Fitness, dtype: float64\n",
      "Population Size\n",
      "200     41.115821\n",
      "400     72.388499\n",
      "600    103.586997\n",
      "Name: Time, dtype: float64\n"
     ]
    }
   ],
   "source": [
    "last_iters = mmc_run_stats[mmc_run_stats.Iteration != 0].reset_index()\n",
    "print(\"Max and mean\")\n",
    "print(last_iters.Fitness.max(), last_iters.Fitness.mean(), last_iters.Time.mean())\n",
    "print(last_iters.groupby(\"Keep Percent\").Fitness.mean())\n",
    "print(last_iters.groupby(\"Population Size\").Fitness.mean())\n",
    "print(last_iters.groupby(\"Population Size\").Time.mean())"
   ]
  },
  {
   "cell_type": "code",
   "execution_count": 6,
   "id": "eb4c1f92",
   "metadata": {},
   "outputs": [
    {
     "data": {
      "text/plain": [
       "Iteration                   72\n",
       "Time                 31.799664\n",
       "Fitness            4790.327115\n",
       "FEvals                 43918.0\n",
       "use_fast_mimic            True\n",
       "Population Size            600\n",
       "Keep Percent               0.3\n",
       "max_iters                  100\n",
       "Name: 1183, dtype: object"
      ]
     },
     "execution_count": 6,
     "metadata": {},
     "output_type": "execute_result"
    }
   ],
   "source": [
    "best_index_in_mmc_curve = mmc_run_curves.Fitness.idxmax()\n",
    "mmc_run_curves.iloc[best_index_in_mmc_curve]\n"
   ]
  },
  {
   "cell_type": "code",
   "execution_count": 7,
   "id": "2cd6a884",
   "metadata": {},
   "outputs": [
    {
     "data": {
      "text/html": [
       "<div>\n",
       "<style scoped>\n",
       "    .dataframe tbody tr th:only-of-type {\n",
       "        vertical-align: middle;\n",
       "    }\n",
       "\n",
       "    .dataframe tbody tr th {\n",
       "        vertical-align: top;\n",
       "    }\n",
       "\n",
       "    .dataframe thead th {\n",
       "        text-align: right;\n",
       "    }\n",
       "</style>\n",
       "<table border=\"1\" class=\"dataframe\">\n",
       "  <thead>\n",
       "    <tr style=\"text-align: right;\">\n",
       "      <th></th>\n",
       "      <th>Iteration</th>\n",
       "      <th>Time</th>\n",
       "      <th>Fitness</th>\n",
       "      <th>FEvals</th>\n",
       "      <th>use_fast_mimic</th>\n",
       "      <th>Population Size</th>\n",
       "      <th>Keep Percent</th>\n",
       "      <th>max_iters</th>\n",
       "    </tr>\n",
       "  </thead>\n",
       "  <tbody>\n",
       "    <tr>\n",
       "      <th>0</th>\n",
       "      <td>0</td>\n",
       "      <td>0.007511</td>\n",
       "      <td>3622.999708</td>\n",
       "      <td>200.0</td>\n",
       "      <td>True</td>\n",
       "      <td>200</td>\n",
       "      <td>0.05</td>\n",
       "      <td>100</td>\n",
       "    </tr>\n",
       "    <tr>\n",
       "      <th>1</th>\n",
       "      <td>1</td>\n",
       "      <td>0.109163</td>\n",
       "      <td>3976.126313</td>\n",
       "      <td>402.0</td>\n",
       "      <td>True</td>\n",
       "      <td>200</td>\n",
       "      <td>0.05</td>\n",
       "      <td>100</td>\n",
       "    </tr>\n",
       "    <tr>\n",
       "      <th>2</th>\n",
       "      <td>2</td>\n",
       "      <td>0.208391</td>\n",
       "      <td>4021.854502</td>\n",
       "      <td>604.0</td>\n",
       "      <td>True</td>\n",
       "      <td>200</td>\n",
       "      <td>0.05</td>\n",
       "      <td>100</td>\n",
       "    </tr>\n",
       "    <tr>\n",
       "      <th>3</th>\n",
       "      <td>3</td>\n",
       "      <td>0.311771</td>\n",
       "      <td>4084.739148</td>\n",
       "      <td>806.0</td>\n",
       "      <td>True</td>\n",
       "      <td>200</td>\n",
       "      <td>0.05</td>\n",
       "      <td>100</td>\n",
       "    </tr>\n",
       "    <tr>\n",
       "      <th>4</th>\n",
       "      <td>4</td>\n",
       "      <td>0.424783</td>\n",
       "      <td>4115.316018</td>\n",
       "      <td>1008.0</td>\n",
       "      <td>True</td>\n",
       "      <td>200</td>\n",
       "      <td>0.05</td>\n",
       "      <td>100</td>\n",
       "    </tr>\n",
       "    <tr>\n",
       "      <th>...</th>\n",
       "      <td>...</td>\n",
       "      <td>...</td>\n",
       "      <td>...</td>\n",
       "      <td>...</td>\n",
       "      <td>...</td>\n",
       "      <td>...</td>\n",
       "      <td>...</td>\n",
       "      <td>...</td>\n",
       "    </tr>\n",
       "    <tr>\n",
       "      <th>1207</th>\n",
       "      <td>96</td>\n",
       "      <td>43.171388</td>\n",
       "      <td>4790.327115</td>\n",
       "      <td>58342.0</td>\n",
       "      <td>True</td>\n",
       "      <td>600</td>\n",
       "      <td>0.30</td>\n",
       "      <td>100</td>\n",
       "    </tr>\n",
       "    <tr>\n",
       "      <th>1208</th>\n",
       "      <td>97</td>\n",
       "      <td>43.635953</td>\n",
       "      <td>4790.327115</td>\n",
       "      <td>58943.0</td>\n",
       "      <td>True</td>\n",
       "      <td>600</td>\n",
       "      <td>0.30</td>\n",
       "      <td>100</td>\n",
       "    </tr>\n",
       "    <tr>\n",
       "      <th>1209</th>\n",
       "      <td>98</td>\n",
       "      <td>44.103142</td>\n",
       "      <td>4790.327115</td>\n",
       "      <td>59544.0</td>\n",
       "      <td>True</td>\n",
       "      <td>600</td>\n",
       "      <td>0.30</td>\n",
       "      <td>100</td>\n",
       "    </tr>\n",
       "    <tr>\n",
       "      <th>1210</th>\n",
       "      <td>99</td>\n",
       "      <td>44.567531</td>\n",
       "      <td>4790.327115</td>\n",
       "      <td>60145.0</td>\n",
       "      <td>True</td>\n",
       "      <td>600</td>\n",
       "      <td>0.30</td>\n",
       "      <td>100</td>\n",
       "    </tr>\n",
       "    <tr>\n",
       "      <th>1211</th>\n",
       "      <td>100</td>\n",
       "      <td>45.035690</td>\n",
       "      <td>4790.327115</td>\n",
       "      <td>60746.0</td>\n",
       "      <td>True</td>\n",
       "      <td>600</td>\n",
       "      <td>0.30</td>\n",
       "      <td>100</td>\n",
       "    </tr>\n",
       "  </tbody>\n",
       "</table>\n",
       "<p>1212 rows × 8 columns</p>\n",
       "</div>"
      ],
      "text/plain": [
       "      Iteration       Time      Fitness   FEvals  use_fast_mimic  \\\n",
       "0             0   0.007511  3622.999708    200.0            True   \n",
       "1             1   0.109163  3976.126313    402.0            True   \n",
       "2             2   0.208391  4021.854502    604.0            True   \n",
       "3             3   0.311771  4084.739148    806.0            True   \n",
       "4             4   0.424783  4115.316018   1008.0            True   \n",
       "...         ...        ...          ...      ...             ...   \n",
       "1207         96  43.171388  4790.327115  58342.0            True   \n",
       "1208         97  43.635953  4790.327115  58943.0            True   \n",
       "1209         98  44.103142  4790.327115  59544.0            True   \n",
       "1210         99  44.567531  4790.327115  60145.0            True   \n",
       "1211        100  45.035690  4790.327115  60746.0            True   \n",
       "\n",
       "      Population Size  Keep Percent  max_iters  \n",
       "0                 200          0.05        100  \n",
       "1                 200          0.05        100  \n",
       "2                 200          0.05        100  \n",
       "3                 200          0.05        100  \n",
       "4                 200          0.05        100  \n",
       "...               ...           ...        ...  \n",
       "1207              600          0.30        100  \n",
       "1208              600          0.30        100  \n",
       "1209              600          0.30        100  \n",
       "1210              600          0.30        100  \n",
       "1211              600          0.30        100  \n",
       "\n",
       "[1212 rows x 8 columns]"
      ]
     },
     "execution_count": 7,
     "metadata": {},
     "output_type": "execute_result"
    }
   ],
   "source": [
    "mmc_run_curves"
   ]
  },
  {
   "cell_type": "code",
   "execution_count": 8,
   "id": "0ee08189",
   "metadata": {},
   "outputs": [
    {
     "data": {
      "text/plain": [
       "(600, 0.3)"
      ]
     },
     "execution_count": 8,
     "metadata": {},
     "output_type": "execute_result"
    }
   ],
   "source": [
    "best_p_size = mmc_run_curves.iloc[best_index_in_mmc_curve]['Population Size'] \n",
    "best_keep = mmc_run_curves.iloc[best_index_in_mmc_curve]['Keep Percent']  \n",
    "best_curve_mmc = mmc_run_curves.loc[mmc_run_curves['Population Size'] == best_p_size, :]\n",
    "best_curve_mmc = best_curve_mmc.loc[best_curve_mmc['Keep Percent'] == best_keep, :]\n",
    "best_curve_mmc.reset_index(inplace=True)\n",
    "best_p_size, best_keep\n"
   ]
  },
  {
   "cell_type": "code",
   "execution_count": 9,
   "id": "4ff406ec",
   "metadata": {},
   "outputs": [
    {
     "data": {
      "text/plain": [
       "Text(0, 0.5, 'Value')"
      ]
     },
     "execution_count": 9,
     "metadata": {},
     "output_type": "execute_result"
    },
    {
     "data": {
      "image/png": "[encoded data removed]",
      "text/plain": [
       "<Figure size 864x576 with 1 Axes>"
      ]
     },
     "metadata": {
      "needs_background": "light"
     },
     "output_type": "display_data"
    }
   ],
   "source": [
    "ax = best_curve_mmc.Fitness.plot(lw=2, colormap='jet', marker='.', markersize=2, \n",
    "                             figsize=(12,8), grid=1,\n",
    "                             title='Best MMC Search')\n",
    "ax.set_xlabel(\"Iterations\")\n",
    "ax.set_ylabel(\"Value\")"
   ]
  },
  {
   "cell_type": "code",
   "execution_count": 10,
   "id": "3877be3e",
   "metadata": {},
   "outputs": [
    {
     "data": {
      "text/html": [
       "<div>\n",
       "<style scoped>\n",
       "    .dataframe tbody tr th:only-of-type {\n",
       "        vertical-align: middle;\n",
       "    }\n",
       "\n",
       "    .dataframe tbody tr th {\n",
       "        vertical-align: top;\n",
       "    }\n",
       "\n",
       "    .dataframe thead th {\n",
       "        text-align: right;\n",
       "    }\n",
       "</style>\n",
       "<table border=\"1\" class=\"dataframe\">\n",
       "  <thead>\n",
       "    <tr style=\"text-align: right;\">\n",
       "      <th></th>\n",
       "      <th>Iteration</th>\n",
       "      <th>Time</th>\n",
       "      <th>Fitness</th>\n",
       "      <th>FEvals</th>\n",
       "      <th>use_fast_mimic</th>\n",
       "      <th>Population Size</th>\n",
       "      <th>Keep Percent</th>\n",
       "      <th>max_iters</th>\n",
       "    </tr>\n",
       "  </thead>\n",
       "  <tbody>\n",
       "    <tr>\n",
       "      <th>0</th>\n",
       "      <td>0</td>\n",
       "      <td>0.007511</td>\n",
       "      <td>3622.999708</td>\n",
       "      <td>200.0</td>\n",
       "      <td>True</td>\n",
       "      <td>200</td>\n",
       "      <td>0.05</td>\n",
       "      <td>100</td>\n",
       "    </tr>\n",
       "    <tr>\n",
       "      <th>1</th>\n",
       "      <td>1</td>\n",
       "      <td>0.109163</td>\n",
       "      <td>3976.126313</td>\n",
       "      <td>402.0</td>\n",
       "      <td>True</td>\n",
       "      <td>200</td>\n",
       "      <td>0.05</td>\n",
       "      <td>100</td>\n",
       "    </tr>\n",
       "    <tr>\n",
       "      <th>2</th>\n",
       "      <td>2</td>\n",
       "      <td>0.208391</td>\n",
       "      <td>4021.854502</td>\n",
       "      <td>604.0</td>\n",
       "      <td>True</td>\n",
       "      <td>200</td>\n",
       "      <td>0.05</td>\n",
       "      <td>100</td>\n",
       "    </tr>\n",
       "    <tr>\n",
       "      <th>3</th>\n",
       "      <td>3</td>\n",
       "      <td>0.311771</td>\n",
       "      <td>4084.739148</td>\n",
       "      <td>806.0</td>\n",
       "      <td>True</td>\n",
       "      <td>200</td>\n",
       "      <td>0.05</td>\n",
       "      <td>100</td>\n",
       "    </tr>\n",
       "    <tr>\n",
       "      <th>4</th>\n",
       "      <td>4</td>\n",
       "      <td>0.424783</td>\n",
       "      <td>4115.316018</td>\n",
       "      <td>1008.0</td>\n",
       "      <td>True</td>\n",
       "      <td>200</td>\n",
       "      <td>0.05</td>\n",
       "      <td>100</td>\n",
       "    </tr>\n",
       "    <tr>\n",
       "      <th>...</th>\n",
       "      <td>...</td>\n",
       "      <td>...</td>\n",
       "      <td>...</td>\n",
       "      <td>...</td>\n",
       "      <td>...</td>\n",
       "      <td>...</td>\n",
       "      <td>...</td>\n",
       "      <td>...</td>\n",
       "    </tr>\n",
       "    <tr>\n",
       "      <th>1207</th>\n",
       "      <td>96</td>\n",
       "      <td>43.171388</td>\n",
       "      <td>4790.327115</td>\n",
       "      <td>58342.0</td>\n",
       "      <td>True</td>\n",
       "      <td>600</td>\n",
       "      <td>0.30</td>\n",
       "      <td>100</td>\n",
       "    </tr>\n",
       "    <tr>\n",
       "      <th>1208</th>\n",
       "      <td>97</td>\n",
       "      <td>43.635953</td>\n",
       "      <td>4790.327115</td>\n",
       "      <td>58943.0</td>\n",
       "      <td>True</td>\n",
       "      <td>600</td>\n",
       "      <td>0.30</td>\n",
       "      <td>100</td>\n",
       "    </tr>\n",
       "    <tr>\n",
       "      <th>1209</th>\n",
       "      <td>98</td>\n",
       "      <td>44.103142</td>\n",
       "      <td>4790.327115</td>\n",
       "      <td>59544.0</td>\n",
       "      <td>True</td>\n",
       "      <td>600</td>\n",
       "      <td>0.30</td>\n",
       "      <td>100</td>\n",
       "    </tr>\n",
       "    <tr>\n",
       "      <th>1210</th>\n",
       "      <td>99</td>\n",
       "      <td>44.567531</td>\n",
       "      <td>4790.327115</td>\n",
       "      <td>60145.0</td>\n",
       "      <td>True</td>\n",
       "      <td>600</td>\n",
       "      <td>0.30</td>\n",
       "      <td>100</td>\n",
       "    </tr>\n",
       "    <tr>\n",
       "      <th>1211</th>\n",
       "      <td>100</td>\n",
       "      <td>45.035690</td>\n",
       "      <td>4790.327115</td>\n",
       "      <td>60746.0</td>\n",
       "      <td>True</td>\n",
       "      <td>600</td>\n",
       "      <td>0.30</td>\n",
       "      <td>100</td>\n",
       "    </tr>\n",
       "  </tbody>\n",
       "</table>\n",
       "<p>1212 rows × 8 columns</p>\n",
       "</div>"
      ],
      "text/plain": [
       "      Iteration       Time      Fitness   FEvals  use_fast_mimic  \\\n",
       "0             0   0.007511  3622.999708    200.0            True   \n",
       "1             1   0.109163  3976.126313    402.0            True   \n",
       "2             2   0.208391  4021.854502    604.0            True   \n",
       "3             3   0.311771  4084.739148    806.0            True   \n",
       "4             4   0.424783  4115.316018   1008.0            True   \n",
       "...         ...        ...          ...      ...             ...   \n",
       "1207         96  43.171388  4790.327115  58342.0            True   \n",
       "1208         97  43.635953  4790.327115  58943.0            True   \n",
       "1209         98  44.103142  4790.327115  59544.0            True   \n",
       "1210         99  44.567531  4790.327115  60145.0            True   \n",
       "1211        100  45.035690  4790.327115  60746.0            True   \n",
       "\n",
       "      Population Size  Keep Percent  max_iters  \n",
       "0                 200          0.05        100  \n",
       "1                 200          0.05        100  \n",
       "2                 200          0.05        100  \n",
       "3                 200          0.05        100  \n",
       "4                 200          0.05        100  \n",
       "...               ...           ...        ...  \n",
       "1207              600          0.30        100  \n",
       "1208              600          0.30        100  \n",
       "1209              600          0.30        100  \n",
       "1210              600          0.30        100  \n",
       "1211              600          0.30        100  \n",
       "\n",
       "[1212 rows x 8 columns]"
      ]
     },
     "execution_count": 10,
     "metadata": {},
     "output_type": "execute_result"
    }
   ],
   "source": [
    "mmc_run_curves"
   ]
  },
  {
   "cell_type": "code",
   "execution_count": 11,
   "id": "19dffd6c",
   "metadata": {},
   "outputs": [
    {
     "data": {
      "image/png": "[encoded data removed]",
      "text/plain": [
       "<Figure size 432x288 with 1 Axes>"
      ]
     },
     "metadata": {
      "needs_background": "light"
     },
     "output_type": "display_data"
    }
   ],
   "source": [
    "mmc_kp = mmc_run_curves.groupby(['Iteration','Keep Percent']).agg({'Fitness':'mean'}).reset_index()\n",
    "ax = mmc_kp.pivot_table(values=\"Fitness\", index=\"Iteration\", columns=\"Keep Percent\").plot(lw=2, colormap='jet', \n",
    "                                                                                          grid=1, marker='.', \n",
    "                                                                                          markersize=2,\n",
    "                                                                                          title='MMIC- KeepPercentage')\n",
    "ax.set_xlabel(\"Iteration\")\n",
    "ax.set_ylabel(\"Fitness\")\n",
    "fig = ax.get_figure()\n",
    "fig.savefig('../images/Knap/Knap_mmc_keep_percent.png')"
   ]
  },
  {
   "cell_type": "code",
   "execution_count": 12,
   "id": "b3a0e47f",
   "metadata": {},
   "outputs": [
    {
     "data": {
      "image/png": "[encoded data removed]",
      "text/plain": [
       "<Figure size 432x288 with 1 Axes>"
      ]
     },
     "metadata": {
      "needs_background": "light"
     },
     "output_type": "display_data"
    }
   ],
   "source": [
    "mmc_p = mmc_run_curves.groupby(['Iteration','Population Size']).agg({'Fitness':'mean'}).reset_index()\n",
    "ax = mmc_p.pivot_table(values=\"Fitness\", index=\"Iteration\", columns=\"Population Size\").plot(lw=2, colormap='jet', \n",
    "                                                                                          grid=1, marker='.', \n",
    "                                                                                          markersize=2,\n",
    "                                                                                          title='MMIC- Population Size')\n",
    "ax.set_xlabel(\"Iteration\")\n",
    "ax.set_ylabel(\"Fitness\")\n",
    "fig = ax.get_figure()\n",
    "fig.savefig('../images/Knap/Knap_mmc_p_size.png')"
   ]
  },
  {
   "cell_type": "markdown",
   "id": "cc86f212",
   "metadata": {},
   "source": [
    "<h3> RHC </h3>"
   ]
  },
  {
   "cell_type": "code",
   "execution_count": 13,
   "id": "5c8b3a91",
   "metadata": {},
   "outputs": [
    {
     "name": "stdout",
     "output_type": "stream",
     "text": [
      "Wall time: 1min 12s\n"
     ]
    }
   ],
   "source": [
    "%%time\n",
    "problem = mlrose_hiive.KnapsackOpt(weights=knapsack_weights, values=knapsack_values,\n",
    "                                  max_weight_pct=max_weight_pct)\n",
    "\n",
    "runner_return = mlrose_hiive.RHCRunner(problem,\n",
    "                                       experiment_name=experiment_name+ \"_RHC\",\n",
    "                                       output_directory=output_directory,\n",
    "                                       iteration_list=[300],\n",
    "                                       seed=33,\n",
    "                                       restart_list=[10, 50, 100], max_attempts=100)\n",
    "rhc_run_stats, rhc_run_curves = runner_return.run()"
   ]
  },
  {
   "cell_type": "code",
   "execution_count": 14,
   "id": "95b365e9",
   "metadata": {},
   "outputs": [
    {
     "data": {
      "text/html": [
       "<div>\n",
       "<style scoped>\n",
       "    .dataframe tbody tr th:only-of-type {\n",
       "        vertical-align: middle;\n",
       "    }\n",
       "\n",
       "    .dataframe tbody tr th {\n",
       "        vertical-align: top;\n",
       "    }\n",
       "\n",
       "    .dataframe thead th {\n",
       "        text-align: right;\n",
       "    }\n",
       "</style>\n",
       "<table border=\"1\" class=\"dataframe\">\n",
       "  <thead>\n",
       "    <tr style=\"text-align: right;\">\n",
       "      <th></th>\n",
       "      <th>Iteration</th>\n",
       "      <th>Time</th>\n",
       "      <th>Fitness</th>\n",
       "      <th>FEvals</th>\n",
       "      <th>Restarts</th>\n",
       "      <th>max_iters</th>\n",
       "      <th>current_restart</th>\n",
       "    </tr>\n",
       "  </thead>\n",
       "  <tbody>\n",
       "    <tr>\n",
       "      <th>0</th>\n",
       "      <td>0</td>\n",
       "      <td>0.000338</td>\n",
       "      <td>3622.999708</td>\n",
       "      <td>0.0</td>\n",
       "      <td>10</td>\n",
       "      <td>300</td>\n",
       "      <td>0</td>\n",
       "    </tr>\n",
       "    <tr>\n",
       "      <th>1</th>\n",
       "      <td>1</td>\n",
       "      <td>0.010586</td>\n",
       "      <td>3622.999708</td>\n",
       "      <td>1.0</td>\n",
       "      <td>10</td>\n",
       "      <td>300</td>\n",
       "      <td>0</td>\n",
       "    </tr>\n",
       "    <tr>\n",
       "      <th>2</th>\n",
       "      <td>2</td>\n",
       "      <td>0.010641</td>\n",
       "      <td>3650.924151</td>\n",
       "      <td>3.0</td>\n",
       "      <td>10</td>\n",
       "      <td>300</td>\n",
       "      <td>0</td>\n",
       "    </tr>\n",
       "    <tr>\n",
       "      <th>3</th>\n",
       "      <td>3</td>\n",
       "      <td>0.010672</td>\n",
       "      <td>3650.924151</td>\n",
       "      <td>4.0</td>\n",
       "      <td>10</td>\n",
       "      <td>300</td>\n",
       "      <td>0</td>\n",
       "    </tr>\n",
       "    <tr>\n",
       "      <th>4</th>\n",
       "      <td>4</td>\n",
       "      <td>0.010701</td>\n",
       "      <td>3650.924151</td>\n",
       "      <td>5.0</td>\n",
       "      <td>10</td>\n",
       "      <td>300</td>\n",
       "      <td>0</td>\n",
       "    </tr>\n",
       "    <tr>\n",
       "      <th>...</th>\n",
       "      <td>...</td>\n",
       "      <td>...</td>\n",
       "      <td>...</td>\n",
       "      <td>...</td>\n",
       "      <td>...</td>\n",
       "      <td>...</td>\n",
       "      <td>...</td>\n",
       "    </tr>\n",
       "    <tr>\n",
       "      <th>18089</th>\n",
       "      <td>96</td>\n",
       "      <td>0.015508</td>\n",
       "      <td>0.000000</td>\n",
       "      <td>11532.0</td>\n",
       "      <td>100</td>\n",
       "      <td>300</td>\n",
       "      <td>100</td>\n",
       "    </tr>\n",
       "    <tr>\n",
       "      <th>18090</th>\n",
       "      <td>97</td>\n",
       "      <td>0.015587</td>\n",
       "      <td>0.000000</td>\n",
       "      <td>11533.0</td>\n",
       "      <td>100</td>\n",
       "      <td>300</td>\n",
       "      <td>100</td>\n",
       "    </tr>\n",
       "    <tr>\n",
       "      <th>18091</th>\n",
       "      <td>98</td>\n",
       "      <td>0.015660</td>\n",
       "      <td>0.000000</td>\n",
       "      <td>11534.0</td>\n",
       "      <td>100</td>\n",
       "      <td>300</td>\n",
       "      <td>100</td>\n",
       "    </tr>\n",
       "    <tr>\n",
       "      <th>18092</th>\n",
       "      <td>99</td>\n",
       "      <td>0.015734</td>\n",
       "      <td>0.000000</td>\n",
       "      <td>11535.0</td>\n",
       "      <td>100</td>\n",
       "      <td>300</td>\n",
       "      <td>100</td>\n",
       "    </tr>\n",
       "    <tr>\n",
       "      <th>18093</th>\n",
       "      <td>100</td>\n",
       "      <td>0.015810</td>\n",
       "      <td>0.000000</td>\n",
       "      <td>11536.0</td>\n",
       "      <td>100</td>\n",
       "      <td>300</td>\n",
       "      <td>100</td>\n",
       "    </tr>\n",
       "  </tbody>\n",
       "</table>\n",
       "<p>18094 rows × 7 columns</p>\n",
       "</div>"
      ],
      "text/plain": [
       "       Iteration      Time      Fitness   FEvals  Restarts  max_iters  \\\n",
       "0              0  0.000338  3622.999708      0.0        10        300   \n",
       "1              1  0.010586  3622.999708      1.0        10        300   \n",
       "2              2  0.010641  3650.924151      3.0        10        300   \n",
       "3              3  0.010672  3650.924151      4.0        10        300   \n",
       "4              4  0.010701  3650.924151      5.0        10        300   \n",
       "...          ...       ...          ...      ...       ...        ...   \n",
       "18089         96  0.015508     0.000000  11532.0       100        300   \n",
       "18090         97  0.015587     0.000000  11533.0       100        300   \n",
       "18091         98  0.015660     0.000000  11534.0       100        300   \n",
       "18092         99  0.015734     0.000000  11535.0       100        300   \n",
       "18093        100  0.015810     0.000000  11536.0       100        300   \n",
       "\n",
       "       current_restart  \n",
       "0                    0  \n",
       "1                    0  \n",
       "2                    0  \n",
       "3                    0  \n",
       "4                    0  \n",
       "...                ...  \n",
       "18089              100  \n",
       "18090              100  \n",
       "18091              100  \n",
       "18092              100  \n",
       "18093              100  \n",
       "\n",
       "[18094 rows x 7 columns]"
      ]
     },
     "execution_count": 14,
     "metadata": {},
     "output_type": "execute_result"
    }
   ],
   "source": [
    "rhc_run_curves"
   ]
  },
  {
   "cell_type": "code",
   "execution_count": 15,
   "id": "edca45c1",
   "metadata": {},
   "outputs": [
    {
     "data": {
      "text/plain": [
       "75.0"
      ]
     },
     "execution_count": 15,
     "metadata": {},
     "output_type": "execute_result"
    }
   ],
   "source": [
    "best_index_in_curve = rhc_run_curves.Fitness.idxmax()\n",
    "best_decay = rhc_run_curves.iloc[best_index_in_curve].current_restart\n",
    "best_curve_rhc = rhc_run_curves.loc[rhc_run_curves.current_restart == best_decay, :]\n",
    "best_curve_rhc.reset_index(inplace=True)\n",
    "best_decay"
   ]
  },
  {
   "cell_type": "code",
   "execution_count": 16,
   "id": "d42cce1b",
   "metadata": {},
   "outputs": [
    {
     "data": {
      "text/plain": [
       "Iteration            29.000000\n",
       "Time                  0.011574\n",
       "Fitness            3907.289046\n",
       "FEvals             8499.000000\n",
       "Restarts            100.000000\n",
       "max_iters           300.000000\n",
       "current_restart      75.000000\n",
       "Name: 15181, dtype: float64"
      ]
     },
     "execution_count": 16,
     "metadata": {},
     "output_type": "execute_result"
    }
   ],
   "source": [
    "best_index_in_RHC_curve = rhc_run_curves.Fitness.idxmax()\n",
    "rhc_run_curves.iloc[best_index_in_RHC_curve]"
   ]
  },
  {
   "cell_type": "code",
   "execution_count": 17,
   "id": "1d60d95c",
   "metadata": {},
   "outputs": [
    {
     "name": "stdout",
     "output_type": "stream",
     "text": [
      "Max and mean\n",
      "3907.2890459146856 2291.3964203183 14.554185945398755\n",
      "Restarts\n",
      "10     2724.829474\n",
      "50     2291.080137\n",
      "100    2244.350548\n",
      "Name: Fitness, dtype: float64\n",
      "Restarts\n",
      "10      0.322582\n",
      "50      5.761724\n",
      "100    20.543921\n",
      "Name: Time, dtype: float64\n",
      "Restarts\n",
      "10      736.636364\n",
      "50     3015.803922\n",
      "100    5801.128713\n",
      "Name: FEvals, dtype: float64\n"
     ]
    }
   ],
   "source": [
    "last_iters = rhc_run_stats[rhc_run_stats.Iteration != 0].reset_index()\n",
    "print(\"Max and mean\")\n",
    "print(last_iters.Fitness.max(), last_iters.Fitness.mean(), last_iters.Time.mean())\n",
    "print(last_iters.groupby(\"Restarts\").Fitness.mean())\n",
    "print(last_iters.groupby(\"Restarts\").Time.mean())\n",
    "print(last_iters.groupby(\"Restarts\").FEvals.mean())"
   ]
  },
  {
   "cell_type": "code",
   "execution_count": 18,
   "id": "aef44ea1",
   "metadata": {},
   "outputs": [
    {
     "data": {
      "text/html": [
       "<div>\n",
       "<style scoped>\n",
       "    .dataframe tbody tr th:only-of-type {\n",
       "        vertical-align: middle;\n",
       "    }\n",
       "\n",
       "    .dataframe tbody tr th {\n",
       "        vertical-align: top;\n",
       "    }\n",
       "\n",
       "    .dataframe thead th {\n",
       "        text-align: right;\n",
       "    }\n",
       "</style>\n",
       "<table border=\"1\" class=\"dataframe\">\n",
       "  <thead>\n",
       "    <tr style=\"text-align: right;\">\n",
       "      <th></th>\n",
       "      <th>index</th>\n",
       "      <th>Iteration</th>\n",
       "      <th>Time</th>\n",
       "      <th>Fitness</th>\n",
       "      <th>FEvals</th>\n",
       "      <th>Restarts</th>\n",
       "      <th>max_iters</th>\n",
       "      <th>current_restart</th>\n",
       "    </tr>\n",
       "  </thead>\n",
       "  <tbody>\n",
       "    <tr>\n",
       "      <th>0</th>\n",
       "      <td>15153</td>\n",
       "      <td>1</td>\n",
       "      <td>0.010586</td>\n",
       "      <td>3576.815296</td>\n",
       "      <td>8458.0</td>\n",
       "      <td>100</td>\n",
       "      <td>300</td>\n",
       "      <td>75</td>\n",
       "    </tr>\n",
       "    <tr>\n",
       "      <th>1</th>\n",
       "      <td>15154</td>\n",
       "      <td>2</td>\n",
       "      <td>0.010641</td>\n",
       "      <td>3576.815296</td>\n",
       "      <td>8459.0</td>\n",
       "      <td>100</td>\n",
       "      <td>300</td>\n",
       "      <td>75</td>\n",
       "    </tr>\n",
       "    <tr>\n",
       "      <th>2</th>\n",
       "      <td>15155</td>\n",
       "      <td>3</td>\n",
       "      <td>0.010672</td>\n",
       "      <td>3600.729204</td>\n",
       "      <td>8461.0</td>\n",
       "      <td>100</td>\n",
       "      <td>300</td>\n",
       "      <td>75</td>\n",
       "    </tr>\n",
       "    <tr>\n",
       "      <th>3</th>\n",
       "      <td>15156</td>\n",
       "      <td>4</td>\n",
       "      <td>0.010701</td>\n",
       "      <td>3625.111229</td>\n",
       "      <td>8463.0</td>\n",
       "      <td>100</td>\n",
       "      <td>300</td>\n",
       "      <td>75</td>\n",
       "    </tr>\n",
       "    <tr>\n",
       "      <th>4</th>\n",
       "      <td>15157</td>\n",
       "      <td>5</td>\n",
       "      <td>0.010730</td>\n",
       "      <td>3625.111229</td>\n",
       "      <td>8464.0</td>\n",
       "      <td>100</td>\n",
       "      <td>300</td>\n",
       "      <td>75</td>\n",
       "    </tr>\n",
       "    <tr>\n",
       "      <th>...</th>\n",
       "      <td>...</td>\n",
       "      <td>...</td>\n",
       "      <td>...</td>\n",
       "      <td>...</td>\n",
       "      <td>...</td>\n",
       "      <td>...</td>\n",
       "      <td>...</td>\n",
       "      <td>...</td>\n",
       "    </tr>\n",
       "    <tr>\n",
       "      <th>124</th>\n",
       "      <td>15277</td>\n",
       "      <td>125</td>\n",
       "      <td>0.018387</td>\n",
       "      <td>3907.289046</td>\n",
       "      <td>8595.0</td>\n",
       "      <td>100</td>\n",
       "      <td>300</td>\n",
       "      <td>75</td>\n",
       "    </tr>\n",
       "    <tr>\n",
       "      <th>125</th>\n",
       "      <td>15278</td>\n",
       "      <td>126</td>\n",
       "      <td>0.018479</td>\n",
       "      <td>3907.289046</td>\n",
       "      <td>8596.0</td>\n",
       "      <td>100</td>\n",
       "      <td>300</td>\n",
       "      <td>75</td>\n",
       "    </tr>\n",
       "    <tr>\n",
       "      <th>126</th>\n",
       "      <td>15279</td>\n",
       "      <td>127</td>\n",
       "      <td>0.018568</td>\n",
       "      <td>3907.289046</td>\n",
       "      <td>8597.0</td>\n",
       "      <td>100</td>\n",
       "      <td>300</td>\n",
       "      <td>75</td>\n",
       "    </tr>\n",
       "    <tr>\n",
       "      <th>127</th>\n",
       "      <td>15280</td>\n",
       "      <td>128</td>\n",
       "      <td>0.018655</td>\n",
       "      <td>3907.289046</td>\n",
       "      <td>8598.0</td>\n",
       "      <td>100</td>\n",
       "      <td>300</td>\n",
       "      <td>75</td>\n",
       "    </tr>\n",
       "    <tr>\n",
       "      <th>128</th>\n",
       "      <td>15281</td>\n",
       "      <td>129</td>\n",
       "      <td>0.018748</td>\n",
       "      <td>3907.289046</td>\n",
       "      <td>8599.0</td>\n",
       "      <td>100</td>\n",
       "      <td>300</td>\n",
       "      <td>75</td>\n",
       "    </tr>\n",
       "  </tbody>\n",
       "</table>\n",
       "<p>129 rows × 8 columns</p>\n",
       "</div>"
      ],
      "text/plain": [
       "     index  Iteration      Time      Fitness  FEvals  Restarts  max_iters  \\\n",
       "0    15153          1  0.010586  3576.815296  8458.0       100        300   \n",
       "1    15154          2  0.010641  3576.815296  8459.0       100        300   \n",
       "2    15155          3  0.010672  3600.729204  8461.0       100        300   \n",
       "3    15156          4  0.010701  3625.111229  8463.0       100        300   \n",
       "4    15157          5  0.010730  3625.111229  8464.0       100        300   \n",
       "..     ...        ...       ...          ...     ...       ...        ...   \n",
       "124  15277        125  0.018387  3907.289046  8595.0       100        300   \n",
       "125  15278        126  0.018479  3907.289046  8596.0       100        300   \n",
       "126  15279        127  0.018568  3907.289046  8597.0       100        300   \n",
       "127  15280        128  0.018655  3907.289046  8598.0       100        300   \n",
       "128  15281        129  0.018748  3907.289046  8599.0       100        300   \n",
       "\n",
       "     current_restart  \n",
       "0                 75  \n",
       "1                 75  \n",
       "2                 75  \n",
       "3                 75  \n",
       "4                 75  \n",
       "..               ...  \n",
       "124               75  \n",
       "125               75  \n",
       "126               75  \n",
       "127               75  \n",
       "128               75  \n",
       "\n",
       "[129 rows x 8 columns]"
      ]
     },
     "execution_count": 18,
     "metadata": {},
     "output_type": "execute_result"
    }
   ],
   "source": [
    "best_curve_rhc"
   ]
  },
  {
   "cell_type": "code",
   "execution_count": 19,
   "id": "d4fbec23",
   "metadata": {},
   "outputs": [
    {
     "data": {
      "text/plain": [
       "Text(0, 0.5, 'Value')"
      ]
     },
     "execution_count": 19,
     "metadata": {},
     "output_type": "execute_result"
    },
    {
     "data": {
      "image/png": "[encoded data removed]",
      "text/plain": [
       "<Figure size 864x576 with 1 Axes>"
      ]
     },
     "metadata": {
      "needs_background": "light"
     },
     "output_type": "display_data"
    }
   ],
   "source": [
    "ax = best_curve_rhc.Fitness.plot(lw=2, colormap='jet', marker='.', markersize=2, \n",
    "                             figsize=(12,8), grid=1,\n",
    "                             title='Best Random Search')\n",
    "ax.set_xlabel(\"Iterations\")\n",
    "ax.set_ylabel(\"Value\")"
   ]
  },
  {
   "cell_type": "code",
   "execution_count": 20,
   "id": "69bd3746",
   "metadata": {},
   "outputs": [
    {
     "data": {
      "text/html": [
       "<div>\n",
       "<style scoped>\n",
       "    .dataframe tbody tr th:only-of-type {\n",
       "        vertical-align: middle;\n",
       "    }\n",
       "\n",
       "    .dataframe tbody tr th {\n",
       "        vertical-align: top;\n",
       "    }\n",
       "\n",
       "    .dataframe thead th {\n",
       "        text-align: right;\n",
       "    }\n",
       "</style>\n",
       "<table border=\"1\" class=\"dataframe\">\n",
       "  <thead>\n",
       "    <tr style=\"text-align: right;\">\n",
       "      <th></th>\n",
       "      <th>Iteration</th>\n",
       "      <th>Time</th>\n",
       "      <th>Fitness</th>\n",
       "      <th>FEvals</th>\n",
       "      <th>Restarts</th>\n",
       "      <th>max_iters</th>\n",
       "      <th>current_restart</th>\n",
       "    </tr>\n",
       "  </thead>\n",
       "  <tbody>\n",
       "    <tr>\n",
       "      <th>0</th>\n",
       "      <td>0</td>\n",
       "      <td>0.000338</td>\n",
       "      <td>3622.999708</td>\n",
       "      <td>0.0</td>\n",
       "      <td>10</td>\n",
       "      <td>300</td>\n",
       "      <td>0</td>\n",
       "    </tr>\n",
       "    <tr>\n",
       "      <th>1</th>\n",
       "      <td>1</td>\n",
       "      <td>0.010586</td>\n",
       "      <td>3622.999708</td>\n",
       "      <td>1.0</td>\n",
       "      <td>10</td>\n",
       "      <td>300</td>\n",
       "      <td>0</td>\n",
       "    </tr>\n",
       "    <tr>\n",
       "      <th>2</th>\n",
       "      <td>2</td>\n",
       "      <td>0.010641</td>\n",
       "      <td>3650.924151</td>\n",
       "      <td>3.0</td>\n",
       "      <td>10</td>\n",
       "      <td>300</td>\n",
       "      <td>0</td>\n",
       "    </tr>\n",
       "    <tr>\n",
       "      <th>3</th>\n",
       "      <td>3</td>\n",
       "      <td>0.010672</td>\n",
       "      <td>3650.924151</td>\n",
       "      <td>4.0</td>\n",
       "      <td>10</td>\n",
       "      <td>300</td>\n",
       "      <td>0</td>\n",
       "    </tr>\n",
       "    <tr>\n",
       "      <th>4</th>\n",
       "      <td>4</td>\n",
       "      <td>0.010701</td>\n",
       "      <td>3650.924151</td>\n",
       "      <td>5.0</td>\n",
       "      <td>10</td>\n",
       "      <td>300</td>\n",
       "      <td>0</td>\n",
       "    </tr>\n",
       "    <tr>\n",
       "      <th>...</th>\n",
       "      <td>...</td>\n",
       "      <td>...</td>\n",
       "      <td>...</td>\n",
       "      <td>...</td>\n",
       "      <td>...</td>\n",
       "      <td>...</td>\n",
       "      <td>...</td>\n",
       "    </tr>\n",
       "    <tr>\n",
       "      <th>18089</th>\n",
       "      <td>96</td>\n",
       "      <td>0.015508</td>\n",
       "      <td>0.000000</td>\n",
       "      <td>11532.0</td>\n",
       "      <td>100</td>\n",
       "      <td>300</td>\n",
       "      <td>100</td>\n",
       "    </tr>\n",
       "    <tr>\n",
       "      <th>18090</th>\n",
       "      <td>97</td>\n",
       "      <td>0.015587</td>\n",
       "      <td>0.000000</td>\n",
       "      <td>11533.0</td>\n",
       "      <td>100</td>\n",
       "      <td>300</td>\n",
       "      <td>100</td>\n",
       "    </tr>\n",
       "    <tr>\n",
       "      <th>18091</th>\n",
       "      <td>98</td>\n",
       "      <td>0.015660</td>\n",
       "      <td>0.000000</td>\n",
       "      <td>11534.0</td>\n",
       "      <td>100</td>\n",
       "      <td>300</td>\n",
       "      <td>100</td>\n",
       "    </tr>\n",
       "    <tr>\n",
       "      <th>18092</th>\n",
       "      <td>99</td>\n",
       "      <td>0.015734</td>\n",
       "      <td>0.000000</td>\n",
       "      <td>11535.0</td>\n",
       "      <td>100</td>\n",
       "      <td>300</td>\n",
       "      <td>100</td>\n",
       "    </tr>\n",
       "    <tr>\n",
       "      <th>18093</th>\n",
       "      <td>100</td>\n",
       "      <td>0.015810</td>\n",
       "      <td>0.000000</td>\n",
       "      <td>11536.0</td>\n",
       "      <td>100</td>\n",
       "      <td>300</td>\n",
       "      <td>100</td>\n",
       "    </tr>\n",
       "  </tbody>\n",
       "</table>\n",
       "<p>18094 rows × 7 columns</p>\n",
       "</div>"
      ],
      "text/plain": [
       "       Iteration      Time      Fitness   FEvals  Restarts  max_iters  \\\n",
       "0              0  0.000338  3622.999708      0.0        10        300   \n",
       "1              1  0.010586  3622.999708      1.0        10        300   \n",
       "2              2  0.010641  3650.924151      3.0        10        300   \n",
       "3              3  0.010672  3650.924151      4.0        10        300   \n",
       "4              4  0.010701  3650.924151      5.0        10        300   \n",
       "...          ...       ...          ...      ...       ...        ...   \n",
       "18089         96  0.015508     0.000000  11532.0       100        300   \n",
       "18090         97  0.015587     0.000000  11533.0       100        300   \n",
       "18091         98  0.015660     0.000000  11534.0       100        300   \n",
       "18092         99  0.015734     0.000000  11535.0       100        300   \n",
       "18093        100  0.015810     0.000000  11536.0       100        300   \n",
       "\n",
       "       current_restart  \n",
       "0                    0  \n",
       "1                    0  \n",
       "2                    0  \n",
       "3                    0  \n",
       "4                    0  \n",
       "...                ...  \n",
       "18089              100  \n",
       "18090              100  \n",
       "18091              100  \n",
       "18092              100  \n",
       "18093              100  \n",
       "\n",
       "[18094 rows x 7 columns]"
      ]
     },
     "execution_count": 20,
     "metadata": {},
     "output_type": "execute_result"
    }
   ],
   "source": [
    "rhc_run_curves"
   ]
  },
  {
   "cell_type": "code",
   "execution_count": 21,
   "id": "632822ae",
   "metadata": {},
   "outputs": [
    {
     "data": {
      "image/png": "[encoded data removed]",
      "text/plain": [
       "<Figure size 432x288 with 1 Axes>"
      ]
     },
     "metadata": {
      "needs_background": "light"
     },
     "output_type": "display_data"
    }
   ],
   "source": [
    "rhc_cr = rhc_run_curves.groupby(['Iteration','Restarts']).agg({'Fitness':'mean'}).reset_index()\n",
    "ax = rhc_cr.pivot_table(values=\"Fitness\", index=\"Iteration\", columns=\"Restarts\").plot(lw=2, colormap='jet', legend=True\n",
    "                                                                                          , grid=1, marker='.', \n",
    "                                                                                          markersize=2,\n",
    "                                                                                          title='RHC - Restarts')\n",
    "ax.set_xlabel(\"Iteration\")\n",
    "ax.set_ylabel(\"Fitness\")\n",
    "fig = ax.get_figure()\n",
    "fig.savefig('../images/Knap/Knap_rhc_restart.png')"
   ]
  },
  {
   "cell_type": "markdown",
   "id": "7ac495f1",
   "metadata": {},
   "source": [
    "<h3>SA</h3>"
   ]
  },
  {
   "cell_type": "code",
   "execution_count": 22,
   "id": "2d975c8a",
   "metadata": {},
   "outputs": [
    {
     "name": "stdout",
     "output_type": "stream",
     "text": [
      "Wall time: 788 ms\n"
     ]
    }
   ],
   "source": [
    "%%time\n",
    "problem = mlrose_hiive.KnapsackOpt(weights=knapsack_weights, values=knapsack_values,\n",
    "                                  max_weight_pct=max_weight_pct)\n",
    "\n",
    "sa = mlrose_hiive.SARunner(problem,\n",
    "                            experiment_name=experiment_name+ \"_SA\",\n",
    "                            output_directory=output_directory, \n",
    "                           iteration_list=[300],\n",
    "                           temperature_list=[1, 5, 10, 50, 100],\n",
    "                   decay_list=[mlrose_hiive.GeomDecay, mlrose_hiive.ExpDecay, mlrose_hiive.ArithDecay],\n",
    "#                            temperature_list=[1, 10, 50, 100, 250],\n",
    "#                            decay_list=[mlrose_hiive.ExpDecay,\n",
    "#                                        mlrose_hiive.GeomDecay],\n",
    "                           seed=33, max_attempts=100)\n",
    "\n",
    "sa_run_stats, sa_run_curves = sa.run()   "
   ]
  },
  {
   "cell_type": "code",
   "execution_count": 23,
   "id": "e01042c3",
   "metadata": {},
   "outputs": [
    {
     "name": "stdout",
     "output_type": "stream",
     "text": [
      "3700.635362502726 3791.978989612403\n",
      "0.035876253333344724\n"
     ]
    }
   ],
   "source": [
    "last_iters = sa_run_stats[sa_run_stats.Iteration != 0].reset_index()\n",
    "print(last_iters.Fitness.mean(), last_iters.Fitness.max())\n",
    "print(last_iters.Time.mean())"
   ]
  },
  {
   "cell_type": "code",
   "execution_count": 24,
   "id": "c5ecb39f",
   "metadata": {},
   "outputs": [
    {
     "name": "stdout",
     "output_type": "stream",
     "text": [
      "nan\n",
      "nan\n",
      "nan\n",
      "0.014328166666700781\n",
      "0.0345369333333565\n",
      "nan\n",
      "nan\n",
      "0.035876253333344724\n"
     ]
    }
   ],
   "source": [
    "print(last_iters.loc[last_iters.schedule_init_temp == 0.05, \"Time\"].mean())\n",
    "print(last_iters.loc[last_iters.schedule_init_temp == 0.1, \"Time\"].mean())\n",
    "print(last_iters.loc[last_iters.schedule_init_temp == 0.5, \"Time\"].mean())\n",
    "print(last_iters.loc[last_iters.schedule_init_temp == 1, \"Time\"].mean())\n",
    "print(last_iters.loc[last_iters.schedule_init_temp == 10, \"Time\"].mean())\n",
    "print(last_iters.loc[last_iters.schedule_init_temp == 20, \"Time\"].mean())\n",
    "print(last_iters.loc[last_iters.schedule_init_temp == 25, \"Time\"].mean())\n",
    "print(last_iters.loc[:, \"Time\"].mean())"
   ]
  },
  {
   "cell_type": "code",
   "execution_count": 25,
   "id": "e3d77122",
   "metadata": {},
   "outputs": [
    {
     "data": {
      "text/plain": [
       "ExpDecay(init_temp=100, exp_const=0.005, min_temp=0.001)"
      ]
     },
     "execution_count": 25,
     "metadata": {},
     "output_type": "execute_result"
    }
   ],
   "source": [
    "best_index_in_curve = sa_run_curves.Fitness.idxmax()\n",
    "best_decay = sa_run_curves.iloc[best_index_in_curve].Temperature\n",
    "best_curve_sa = sa_run_curves.loc[sa_run_curves.Temperature == best_decay, :]\n",
    "best_curve_sa.reset_index(inplace=True)\n",
    "best_decay"
   ]
  },
  {
   "cell_type": "code",
   "execution_count": 26,
   "id": "2ba532f4",
   "metadata": {},
   "outputs": [
    {
     "data": {
      "text/plain": [
       "Iteration             291\n",
       "Time              0.01141\n",
       "Fitness        3867.11136\n",
       "FEvals              466.0\n",
       "Temperature           100\n",
       "max_iters             300\n",
       "Name: 2772, dtype: object"
      ]
     },
     "execution_count": 26,
     "metadata": {},
     "output_type": "execute_result"
    }
   ],
   "source": [
    "best_index_in_SA_curve = sa_run_curves.Fitness.idxmax()\n",
    "sa_run_curves.iloc[best_index_in_SA_curve]"
   ]
  },
  {
   "cell_type": "code",
   "execution_count": 27,
   "id": "fa70727f",
   "metadata": {},
   "outputs": [],
   "source": [
    "dfp = pd.DataFrame(sa_run_curves)\n",
    "dfp = dfp.astype({'Temperature':'string'})"
   ]
  },
  {
   "cell_type": "code",
   "execution_count": 28,
   "id": "468c4bf1",
   "metadata": {},
   "outputs": [
    {
     "data": {
      "image/png": "[encoded data removed]",
      "text/plain": [
       "<Figure size 432x288 with 1 Axes>"
      ]
     },
     "metadata": {
      "needs_background": "light"
     },
     "output_type": "display_data"
    }
   ],
   "source": [
    "sa_ps = dfp.groupby(['Iteration','Temperature']).agg({'Fitness':'mean'}).reset_index()\n",
    "ax = sa_ps.pivot_table(values=\"Fitness\", index=\"Iteration\", columns=\"Temperature\").plot(lw=2, colormap='jet', \n",
    "                                                                                             grid=1, marker='.', \n",
    "                                                                                          markersize=2,\n",
    "                                                                                          title='SA - Temperature')\n",
    "ax.set_xlabel(\"Iteration\")\n",
    "ax.set_ylabel(\"Fitness\")\n",
    "fig = ax.get_figure()\n",
    "fig.savefig('../images/Knap/Knap_sa_temp.png')"
   ]
  },
  {
   "cell_type": "code",
   "execution_count": 29,
   "id": "e24c56d3",
   "metadata": {},
   "outputs": [
    {
     "data": {
      "text/plain": [
       "Text(0, 0.5, 'Value')"
      ]
     },
     "execution_count": 29,
     "metadata": {},
     "output_type": "execute_result"
    },
    {
     "data": {
      "image/png": "[encoded data removed]",
      "text/plain": [
       "<Figure size 864x576 with 1 Axes>"
      ]
     },
     "metadata": {
      "needs_background": "light"
     },
     "output_type": "display_data"
    }
   ],
   "source": [
    "ax = best_curve_sa.Fitness.plot(lw=2, colormap='jet', marker='.', markersize=2, \n",
    "                             figsize=(12,8), grid=1,\n",
    "                             title='Best Simulated Annealing')\n",
    "ax.set_xlabel(\"Iterations\")\n",
    "ax.set_ylabel(\"Value\")"
   ]
  },
  {
   "cell_type": "markdown",
   "id": "47087d94",
   "metadata": {},
   "source": [
    "<h3>GA</h3>"
   ]
  },
  {
   "cell_type": "code",
   "execution_count": 30,
   "id": "465fdba0",
   "metadata": {},
   "outputs": [
    {
     "name": "stdout",
     "output_type": "stream",
     "text": [
      "Wall time: 26.9 s\n"
     ]
    }
   ],
   "source": [
    "%%time\n",
    "problem = mlrose_hiive.KnapsackOpt(weights=knapsack_weights, values=knapsack_values,\n",
    "                                  max_weight_pct=max_weight_pct)\n",
    "\n",
    "ga = mlrose_hiive.GARunner(problem=problem,\n",
    "                        experiment_name=experiment_name+ \"_GA\",\n",
    "                        output_directory=output_directory,\n",
    "                          seed=44,\n",
    "                          iteration_list=[100],\n",
    "                          population_sizes=[200,400,600],\n",
    "                          mutation_rates=[0.1, 0.25, 0.5])\n",
    "ga_run_stats, ga_run_curves = ga.run()   "
   ]
  },
  {
   "cell_type": "code",
   "execution_count": 31,
   "id": "e495267f",
   "metadata": {},
   "outputs": [
    {
     "name": "stdout",
     "output_type": "stream",
     "text": [
      "Max and mean\n",
      "4767.358137055287 4732.956480133015 2.9828857444444767\n",
      "Mutation Rate\n",
      "0.10    4737.381668\n",
      "0.25    4728.518371\n",
      "0.50    4732.969402\n",
      "Name: Fitness, dtype: float64\n",
      "Population Size\n",
      "200    4710.611646\n",
      "400    4746.378759\n",
      "600    4741.879035\n",
      "Name: Fitness, dtype: float64\n",
      "Population Size\n",
      "200    1.430720\n",
      "400    2.990877\n",
      "600    4.527060\n",
      "Name: Time, dtype: float64\n"
     ]
    }
   ],
   "source": [
    "\n",
    "last_iters = ga_run_stats[ga_run_stats.Iteration != 0].reset_index()\n",
    "print(\"Max and mean\")\n",
    "print(last_iters.Fitness.max(), last_iters.Fitness.mean(), last_iters.Time.mean())\n",
    "print(last_iters.groupby(\"Mutation Rate\").Fitness.mean())\n",
    "print(last_iters.groupby(\"Population Size\").Fitness.mean())\n",
    "print(last_iters.groupby(\"Population Size\").Time.mean())"
   ]
  },
  {
   "cell_type": "code",
   "execution_count": 32,
   "id": "35092fe6",
   "metadata": {},
   "outputs": [
    {
     "data": {
      "text/plain": [
       "Iteration             98.000000\n",
       "Time                   1.411551\n",
       "Fitness             4767.358137\n",
       "FEvals             39736.000000\n",
       "Population Size      400.000000\n",
       "Mutation Rate          0.100000\n",
       "max_iters            100.000000\n",
       "Name: 401, dtype: float64"
      ]
     },
     "execution_count": 32,
     "metadata": {},
     "output_type": "execute_result"
    }
   ],
   "source": [
    "best_index_in_GA_curve = ga_run_curves.Fitness.idxmax()\n",
    "ga_run_curves.iloc[best_index_in_GA_curve]\n"
   ]
  },
  {
   "cell_type": "code",
   "execution_count": 33,
   "id": "76e3f163",
   "metadata": {},
   "outputs": [
    {
     "data": {
      "text/plain": [
       "400.0"
      ]
     },
     "execution_count": 33,
     "metadata": {},
     "output_type": "execute_result"
    }
   ],
   "source": [
    "best_p_size_ga = ga_run_curves.iloc[best_index_in_GA_curve]['Population Size'] \n",
    "best_m_rate = ga_run_curves.iloc[best_index_in_GA_curve]['Mutation Rate']  \n",
    "best_curve_ga = ga_run_curves.loc[ga_run_curves['Population Size'] == best_p_size_ga, :]\n",
    "best_curve_ga = best_curve_ga.loc[best_curve_ga['Mutation Rate'] == best_m_rate, :]\n",
    "best_curve_ga.reset_index(inplace=True)\n",
    "best_p_size_ga"
   ]
  },
  {
   "cell_type": "code",
   "execution_count": 34,
   "id": "f0e4ecb2",
   "metadata": {},
   "outputs": [
    {
     "data": {
      "text/plain": [
       "Text(0, 0.5, 'Value')"
      ]
     },
     "execution_count": 34,
     "metadata": {},
     "output_type": "execute_result"
    },
    {
     "data": {
      "image/png": "[encoded data removed]",
      "text/plain": [
       "<Figure size 864x576 with 1 Axes>"
      ]
     },
     "metadata": {
      "needs_background": "light"
     },
     "output_type": "display_data"
    }
   ],
   "source": [
    "ax = best_curve_ga.Fitness.plot(lw=2, colormap='jet', marker='.', markersize=2, \n",
    "                             figsize=(12,8), grid=1,\n",
    "                             title='Best GA Search')\n",
    "ax.set_xlabel(\"Iterations\")\n",
    "ax.set_ylabel(\"Value\")"
   ]
  },
  {
   "cell_type": "code",
   "execution_count": 35,
   "id": "494665b8",
   "metadata": {},
   "outputs": [
    {
     "data": {
      "text/html": [
       "<div>\n",
       "<style scoped>\n",
       "    .dataframe tbody tr th:only-of-type {\n",
       "        vertical-align: middle;\n",
       "    }\n",
       "\n",
       "    .dataframe tbody tr th {\n",
       "        vertical-align: top;\n",
       "    }\n",
       "\n",
       "    .dataframe thead th {\n",
       "        text-align: right;\n",
       "    }\n",
       "</style>\n",
       "<table border=\"1\" class=\"dataframe\">\n",
       "  <thead>\n",
       "    <tr style=\"text-align: right;\">\n",
       "      <th></th>\n",
       "      <th>Iteration</th>\n",
       "      <th>Time</th>\n",
       "      <th>Fitness</th>\n",
       "      <th>FEvals</th>\n",
       "      <th>Population Size</th>\n",
       "      <th>Mutation Rate</th>\n",
       "      <th>max_iters</th>\n",
       "    </tr>\n",
       "  </thead>\n",
       "  <tbody>\n",
       "    <tr>\n",
       "      <th>0</th>\n",
       "      <td>0</td>\n",
       "      <td>0.007252</td>\n",
       "      <td>3696.564718</td>\n",
       "      <td>200.0</td>\n",
       "      <td>200</td>\n",
       "      <td>0.1</td>\n",
       "      <td>100</td>\n",
       "    </tr>\n",
       "    <tr>\n",
       "      <th>1</th>\n",
       "      <td>1</td>\n",
       "      <td>0.030120</td>\n",
       "      <td>3902.218522</td>\n",
       "      <td>402.0</td>\n",
       "      <td>200</td>\n",
       "      <td>0.1</td>\n",
       "      <td>100</td>\n",
       "    </tr>\n",
       "    <tr>\n",
       "      <th>2</th>\n",
       "      <td>2</td>\n",
       "      <td>0.042576</td>\n",
       "      <td>3955.096822</td>\n",
       "      <td>604.0</td>\n",
       "      <td>200</td>\n",
       "      <td>0.1</td>\n",
       "      <td>100</td>\n",
       "    </tr>\n",
       "    <tr>\n",
       "      <th>3</th>\n",
       "      <td>3</td>\n",
       "      <td>0.055303</td>\n",
       "      <td>3955.096822</td>\n",
       "      <td>805.0</td>\n",
       "      <td>200</td>\n",
       "      <td>0.1</td>\n",
       "      <td>100</td>\n",
       "    </tr>\n",
       "    <tr>\n",
       "      <th>4</th>\n",
       "      <td>4</td>\n",
       "      <td>0.069138</td>\n",
       "      <td>3984.934128</td>\n",
       "      <td>1007.0</td>\n",
       "      <td>200</td>\n",
       "      <td>0.1</td>\n",
       "      <td>100</td>\n",
       "    </tr>\n",
       "    <tr>\n",
       "      <th>...</th>\n",
       "      <td>...</td>\n",
       "      <td>...</td>\n",
       "      <td>...</td>\n",
       "      <td>...</td>\n",
       "      <td>...</td>\n",
       "      <td>...</td>\n",
       "      <td>...</td>\n",
       "    </tr>\n",
       "    <tr>\n",
       "      <th>904</th>\n",
       "      <td>96</td>\n",
       "      <td>1.383675</td>\n",
       "      <td>4724.870710</td>\n",
       "      <td>58329.0</td>\n",
       "      <td>600</td>\n",
       "      <td>0.5</td>\n",
       "      <td>100</td>\n",
       "    </tr>\n",
       "    <tr>\n",
       "      <th>905</th>\n",
       "      <td>97</td>\n",
       "      <td>1.397733</td>\n",
       "      <td>4724.870710</td>\n",
       "      <td>58930.0</td>\n",
       "      <td>600</td>\n",
       "      <td>0.5</td>\n",
       "      <td>100</td>\n",
       "    </tr>\n",
       "    <tr>\n",
       "      <th>906</th>\n",
       "      <td>98</td>\n",
       "      <td>1.411551</td>\n",
       "      <td>4734.874980</td>\n",
       "      <td>59532.0</td>\n",
       "      <td>600</td>\n",
       "      <td>0.5</td>\n",
       "      <td>100</td>\n",
       "    </tr>\n",
       "    <tr>\n",
       "      <th>907</th>\n",
       "      <td>99</td>\n",
       "      <td>1.425789</td>\n",
       "      <td>4734.874980</td>\n",
       "      <td>60133.0</td>\n",
       "      <td>600</td>\n",
       "      <td>0.5</td>\n",
       "      <td>100</td>\n",
       "    </tr>\n",
       "    <tr>\n",
       "      <th>908</th>\n",
       "      <td>100</td>\n",
       "      <td>1.439793</td>\n",
       "      <td>4746.379523</td>\n",
       "      <td>60735.0</td>\n",
       "      <td>600</td>\n",
       "      <td>0.5</td>\n",
       "      <td>100</td>\n",
       "    </tr>\n",
       "  </tbody>\n",
       "</table>\n",
       "<p>909 rows × 7 columns</p>\n",
       "</div>"
      ],
      "text/plain": [
       "     Iteration      Time      Fitness   FEvals  Population Size  \\\n",
       "0            0  0.007252  3696.564718    200.0              200   \n",
       "1            1  0.030120  3902.218522    402.0              200   \n",
       "2            2  0.042576  3955.096822    604.0              200   \n",
       "3            3  0.055303  3955.096822    805.0              200   \n",
       "4            4  0.069138  3984.934128   1007.0              200   \n",
       "..         ...       ...          ...      ...              ...   \n",
       "904         96  1.383675  4724.870710  58329.0              600   \n",
       "905         97  1.397733  4724.870710  58930.0              600   \n",
       "906         98  1.411551  4734.874980  59532.0              600   \n",
       "907         99  1.425789  4734.874980  60133.0              600   \n",
       "908        100  1.439793  4746.379523  60735.0              600   \n",
       "\n",
       "     Mutation Rate  max_iters  \n",
       "0              0.1        100  \n",
       "1              0.1        100  \n",
       "2              0.1        100  \n",
       "3              0.1        100  \n",
       "4              0.1        100  \n",
       "..             ...        ...  \n",
       "904            0.5        100  \n",
       "905            0.5        100  \n",
       "906            0.5        100  \n",
       "907            0.5        100  \n",
       "908            0.5        100  \n",
       "\n",
       "[909 rows x 7 columns]"
      ]
     },
     "execution_count": 35,
     "metadata": {},
     "output_type": "execute_result"
    }
   ],
   "source": [
    "ga_run_curves"
   ]
  },
  {
   "cell_type": "code",
   "execution_count": 36,
   "id": "f0641c3d",
   "metadata": {},
   "outputs": [
    {
     "data": {
      "image/png": "[encoded data removed]",
      "text/plain": [
       "<Figure size 432x288 with 1 Axes>"
      ]
     },
     "metadata": {
      "needs_background": "light"
     },
     "output_type": "display_data"
    }
   ],
   "source": [
    "ga_ps = ga_run_curves.groupby(['Iteration','Population Size']).agg({'Fitness':'mean'}).reset_index()\n",
    "ax = ga_ps.pivot_table(values=\"Fitness\", index=\"Iteration\", columns=\"Population Size\").plot(lw=2, colormap='jet', \n",
    "                                                                                             grid=1, marker='.', \n",
    "                                                                                          markersize=2,\n",
    "                                                                                          title='GA - Population Size')\n",
    "ax.set_xlabel(\"Iteration\")\n",
    "ax.set_ylabel(\"Fitness\")\n",
    "fig = ax.get_figure()\n",
    "fig.savefig('../images/Knap/Knap_ga_p_size.png')"
   ]
  },
  {
   "cell_type": "code",
   "execution_count": 37,
   "id": "9ceb4e95",
   "metadata": {},
   "outputs": [
    {
     "data": {
      "image/png": "[encoded data removed]",
      "text/plain": [
       "<Figure size 432x288 with 1 Axes>"
      ]
     },
     "metadata": {
      "needs_background": "light"
     },
     "output_type": "display_data"
    }
   ],
   "source": [
    "ga_mutaion = ga_run_curves.groupby(['Iteration','Mutation Rate']).agg({'Fitness':'mean'}).reset_index()\n",
    "ax = ga_mutaion.pivot_table(values=\"Fitness\", index=\"Iteration\", columns=\"Mutation Rate\").plot(lw=2, colormap='jet', \n",
    "                                                                                             grid=1, marker='.', \n",
    "                                                                                          markersize=2,\n",
    "                                                                                          title='GA - Mutation Rate')\n",
    "ax.set_xlabel(\"Iteration\")\n",
    "ax.set_ylabel(\"Fitness\")\n",
    "fig = ax.get_figure()\n",
    "fig.savefig('../images/Knap/Knap_ga_M_Rate.png')"
   ]
  },
  {
   "cell_type": "code",
   "execution_count": 38,
   "id": "7f566788",
   "metadata": {},
   "outputs": [
    {
     "data": {
      "image/png": "[encoded data removed]",
      "text/plain": [
       "<Figure size 432x288 with 1 Axes>"
      ]
     },
     "metadata": {
      "needs_background": "light"
     },
     "output_type": "display_data"
    }
   ],
   "source": [
    "all_curves = {\"Random Hill Climb\": best_curve_rhc.Fitness, \"Simulated Annealing\": best_curve_sa.Fitness, \"Genetic Alg\": best_curve_ga.Fitness, \"MIMIC\": best_curve_mmc.Fitness}\n",
    "\n",
    "np.array([len(x) for x in all_curves]).max()\n",
    "\n",
    "plt.xlabel(\"Iterations\")\n",
    "plt.ylabel(\"Fitness\")\n",
    "plt.title(\"Knap snack\")\n",
    "\n",
    "for name, curve in all_curves.items():\n",
    "    plt.plot(range(len(curve)), curve, label=name, lw=2)\n",
    "\n",
    "    plt.legend(loc=\"best\")\n",
    "plt.grid(visible=True)\n",
    "plt.savefig('../images/Knap/knap_f_score_compare.png')\n",
    "plt.show()"
   ]
  },
  {
   "cell_type": "code",
   "execution_count": 39,
   "id": "2a7fa437",
   "metadata": {},
   "outputs": [
    {
     "data": {
      "image/png": "[encoded data removed]",
      "text/plain": [
       "<Figure size 432x288 with 1 Axes>"
      ]
     },
     "metadata": {
      "needs_background": "light"
     },
     "output_type": "display_data"
    }
   ],
   "source": [
    "all_curves = {\"Random Hill Climb\": best_curve_rhc.FEvals, \"Simulated Annealing\": best_curve_sa.FEvals, \"Genetic Alg\": best_curve_ga.FEvals, \"MIMIC\": best_curve_mmc.FEvals}\n",
    "\n",
    "np.array([len(x) for x in all_curves]).max()\n",
    "\n",
    "plt.xlabel(\"Iterations\")\n",
    "plt.ylabel(\"Function evals\")\n",
    "plt.title(\"Kanp Snack\")\n",
    "\n",
    "for name, curve in all_curves.items():\n",
    "    plt.plot(range(len(curve)), curve, label=name, lw=2)\n",
    "\n",
    "    plt.legend(loc=\"best\")\n",
    "plt.grid(visible=True)\n",
    "plt.savefig('../images/Knap/knap_f_evals_compare.png')\n",
    "plt.show()"
   ]
  },
  {
   "cell_type": "code",
   "execution_count": 40,
   "id": "7e9011a3",
   "metadata": {},
   "outputs": [
    {
     "data": {
      "text/plain": [
       "0        400.0\n",
       "1        802.0\n",
       "2       1204.0\n",
       "3       1605.0\n",
       "4       2006.0\n",
       "        ...   \n",
       "96     38933.0\n",
       "97     39334.0\n",
       "98     39736.0\n",
       "99     40137.0\n",
       "100    40538.0\n",
       "Name: FEvals, Length: 101, dtype: float64"
      ]
     },
     "execution_count": 40,
     "metadata": {},
     "output_type": "execute_result"
    }
   ],
   "source": [
    "best_curve_ga.FEvals"
   ]
  },
  {
   "cell_type": "code",
   "execution_count": 41,
   "id": "cf61f9ad",
   "metadata": {},
   "outputs": [
    {
     "data": {
      "text/plain": [
       "0        600.0\n",
       "1       1202.0\n",
       "2       1804.0\n",
       "3       2405.0\n",
       "4       3007.0\n",
       "        ...   \n",
       "96     58342.0\n",
       "97     58943.0\n",
       "98     59544.0\n",
       "99     60145.0\n",
       "100    60746.0\n",
       "Name: FEvals, Length: 101, dtype: float64"
      ]
     },
     "execution_count": 41,
     "metadata": {},
     "output_type": "execute_result"
    }
   ],
   "source": [
    "best_curve_mmc.FEvals"
   ]
  },
  {
   "cell_type": "code",
   "execution_count": 42,
   "id": "6a0b4a11",
   "metadata": {},
   "outputs": [],
   "source": [
    "def train_and_time(algo, times, fitness):\n",
    "    start = time.clock()\n",
    "    #print(algo())\n",
    "    best_state, best_fitness,_ = algo()\n",
    "    end = time.clock()\n",
    "    times.append(end - start)\n",
    "    fitness.append(best_fitness)"
   ]
  },
  {
   "cell_type": "code",
   "execution_count": 43,
   "id": "ec347164",
   "metadata": {},
   "outputs": [
    {
     "name": "stdout",
     "output_type": "stream",
     "text": [
      "KnapSack Problem with  10  points\n",
      "KnapSack Problem with  20  points\n",
      "KnapSack Problem with  30  points\n",
      "KnapSack Problem with  40  points\n",
      "KnapSack Problem with  50  points\n",
      "KnapSack Problem with  60  points\n",
      "KnapSack Problem with  70  points\n"
     ]
    },
    {
     "data": {
      "image/png": "[encoded data removed]",
      "text/plain": [
       "<Figure size 360x360 with 1 Axes>"
      ]
     },
     "metadata": {
      "needs_background": "light"
     },
     "output_type": "display_data"
    },
    {
     "data": {
      "image/png": "[encoded data removed]",
      "text/plain": [
       "<Figure size 360x360 with 1 Axes>"
      ]
     },
     "metadata": {
      "needs_background": "light"
     },
     "output_type": "display_data"
    }
   ],
   "source": [
    "####### Kanp Snack\n",
    "import time \n",
    "\n",
    "cp_hill_times = []\n",
    "cp_hill_scores = []\n",
    "cp_anneal_times = []\n",
    "cp_anneal_scores = []\n",
    "cp_genetic_times = []\n",
    "cp_genetic_scores = []\n",
    "cp_mimic_times = []\n",
    "cp_mimic_scores = []\n",
    "\n",
    "\n",
    "def run_knapSnack(num_points):\n",
    "    \n",
    "    knapsack_weights=np.random.uniform(10,40,num_points)\n",
    "    knapsack_values=np.random.uniform(20,30,num_points)\n",
    "    max_weight_pct = 0.5\n",
    "    \n",
    "    print (\"KnapSack Problem with \", num_points, \" points\")\n",
    "    \n",
    "    knapSnack = mlrose_hiive.KnapsackOpt(weights=knapsack_weights, values=knapsack_values, max_weight_pct=max_weight_pct)\n",
    "    train_and_time(lambda : mlrose_hiive.random_hill_climb(problem=knapSnack, restarts =100, max_iters= 500, max_attempts= 100, random_state=33),cp_hill_times, cp_hill_scores)\n",
    "    \n",
    "    knapSnack = mlrose_hiive.KnapsackOpt(weights=knapsack_weights, values=knapsack_values, max_weight_pct=max_weight_pct)\n",
    "    train_and_time(lambda : mlrose_hiive.simulated_annealing(problem=knapSnack, schedule= mlrose_hiive.GeomDecay(init_temp=0.5),max_iters=500, max_attempts= 100, random_state=33), cp_anneal_times, cp_anneal_scores)\n",
    "    \n",
    "    knapSnack = mlrose_hiive.KnapsackOpt(weights=knapsack_weights, values=knapsack_values, max_weight_pct=max_weight_pct)\n",
    "    train_and_time(lambda : mlrose_hiive.genetic_alg(problem=knapSnack,pop_size = 100, mutation_prob=0.1, max_iters=200, max_attempts= 100, random_state=33), cp_genetic_times, cp_genetic_scores)\n",
    "    \n",
    "    knapSnack = mlrose_hiive.KnapsackOpt(weights=knapsack_weights, values=knapsack_values, max_weight_pct=max_weight_pct)\n",
    "    train_and_time(lambda : mlrose_hiive.mimic(problem=knapSnack, pop_size = 600, keep_pct= 0.3, max_iters=200, max_attempts= 100, random_state=33), cp_mimic_times, cp_mimic_scores)\n",
    "\n",
    "\n",
    "point_range = range(10,80,10)\n",
    "for p in point_range:\n",
    "    run_knapSnack(p)\n",
    "plt.rcParams[\"figure.figsize\"] = (5,5)\n",
    "plt.plot(point_range,cp_hill_times,'-d',point_range,cp_anneal_times,'-d',point_range,cp_genetic_times,'-d',point_range,cp_mimic_times,'-d')\n",
    "plt.title(\"KnapSnack Problem\")\n",
    "plt.xlabel(\"Problem Length\")\n",
    "plt.ylabel(\"Time\")\n",
    "plt.legend([\"random hill climb\", \"simulated annealing\",\"genetic algorithm\",\"mimic\"])\n",
    "plt.grid(visible=True)\n",
    "plt.savefig('../images/Knap/knap_time.png')\n",
    "plt.show()\n",
    "\n",
    "plt.plot(point_range,cp_hill_scores,'-d',point_range,cp_anneal_scores,'-d',point_range,cp_genetic_scores,'-d',point_range,cp_mimic_scores,'-d')\n",
    "plt.title(\"KnapSnack Problem\")\n",
    "plt.xlabel(\"Problem Length\")\n",
    "plt.ylabel(\"Highest Score\")\n",
    "plt.legend([\"random hill climb\", \"simulated annealing\",\"genetic algorithm\",\"mimic\"])\n",
    "plt.grid(visible=True)\n",
    "plt.savefig('../images/Knap/knap_h_score.png')\n",
    "plt.show()"
   ]
  },
  {
   "cell_type": "code",
   "execution_count": null,
   "id": "dc3740ba",
   "metadata": {},
   "outputs": [],
   "source": []
  }
 ],
 "metadata": {
  "kernelspec": {
   "display_name": "Python 3 (ipykernel)",
   "language": "python",
   "name": "python3"
  },
  "language_info": {
   "codemirror_mode": {
    "name": "ipython",
    "version": 3
   },
   "file_extension": ".py",
   "mimetype": "text/x-python",
   "name": "python",
   "nbconvert_exporter": "python",
   "pygments_lexer": "ipython3",
   "version": "3.7.13"
  }
 },
 "nbformat": 4,
 "nbformat_minor": 5
}
