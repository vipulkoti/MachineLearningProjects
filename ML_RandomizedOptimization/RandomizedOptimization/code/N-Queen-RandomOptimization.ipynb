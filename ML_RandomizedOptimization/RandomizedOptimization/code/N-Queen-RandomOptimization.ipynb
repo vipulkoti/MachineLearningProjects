{
 "cells": [
  {
   "cell_type": "code",
   "execution_count": 11,
   "id": "92f88520",
   "metadata": {},
   "outputs": [],
   "source": [
    "import mlrose_hiive\n",
    "import numpy as np\n",
    "import pandas as pd\n",
    "import matplotlib.pyplot as plt\n",
    "\n"
   ]
  },
  {
   "cell_type": "markdown",
   "id": "0a8663fa",
   "metadata": {},
   "source": [
    "<h3>N- Queen Problem</h3>"
   ]
  },
  {
   "cell_type": "code",
   "execution_count": 12,
   "id": "694e292c",
   "metadata": {},
   "outputs": [],
   "source": [
    "#custom Fitness\n",
    "def queeens_max(state):\n",
    "    fitness_cnt = 0\n",
    "    for i in range(len(state)-1):\n",
    "        for j in range(i+1, len(state)):\n",
    "            # check for attacking pairs\n",
    "            if (state[j] != state[i]) \\\n",
    "                and (state[j] != state[i] + (j-i)) \\\n",
    "                and (state[j] != state[i] - (j-i)):\n",
    "                \n",
    "                # if noa attack\n",
    "                fitness_cnt +=1\n",
    "\n",
    "    return fitness_cnt\n",
    "\n",
    "fitness_cust = mlrose_hiive.CustomFitness(queeens_max)\n",
    "number_of_queens = 33 \n",
    "\n",
    "problem = mlrose_hiive.DiscreteOpt(length = number_of_queens, fitness_fn = fitness_cust, \n",
    "                             maximize = True, max_val = number_of_queens)\n",
    "\n",
    "\n",
    "experiment_name = \"N_Queen\"\n",
    "output_directory = \"N_Queen\""
   ]
  },
  {
   "cell_type": "code",
   "execution_count": 13,
   "id": "f734e2c6",
   "metadata": {},
   "outputs": [
    {
     "data": {
      "text/plain": [
       "561"
      ]
     },
     "execution_count": 13,
     "metadata": {},
     "output_type": "execute_result"
    }
   ],
   "source": [
    "possible_attack = 0\n",
    "for i in range(number_of_queens,0,-1):\n",
    "    possible_attack += i\n",
    "possible_attack\n"
   ]
  },
  {
   "cell_type": "markdown",
   "id": "3d0d53f4",
   "metadata": {},
   "source": [
    "<h3>MIMC</h3>"
   ]
  },
  {
   "cell_type": "code",
   "execution_count": 14,
   "id": "1cd682e7",
   "metadata": {},
   "outputs": [
    {
     "name": "stdout",
     "output_type": "stream",
     "text": [
      "Wall time: 8min\n"
     ]
    }
   ],
   "source": [
    "%%time\n",
    "\n",
    "problem = mlrose_hiive.DiscreteOpt(length = number_of_queens, fitness_fn = fitness_cust, \n",
    "                             maximize = True, max_val = number_of_queens)\n",
    "\n",
    "mmc = mlrose_hiive.MIMICRunner(problem=problem,\n",
    "                          experiment_name=experiment_name + \"_MIMIC\",\n",
    "                               output_directory=output_directory,\n",
    "                          seed=33,\n",
    "                          iteration_list=[200],\n",
    "                          max_attempts=100,\n",
    "                           population_sizes=[50, 100, 200],\n",
    "                           keep_percent_list=[0.1, 0.4, 0.8],\n",
    "#                           population_sizes=[20,50,100],\n",
    "#                           keep_percent_list=[0.25, 0.5, 0.75],\n",
    "                          use_fast_mimic=True)\n",
    "\n",
    "# the two data frames will contain the results\n",
    "mmc_run_stats, mmc_run_curves = mmc.run()"
   ]
  },
  {
   "cell_type": "code",
   "execution_count": 15,
   "id": "78adbe0d",
   "metadata": {},
   "outputs": [
    {
     "data": {
      "text/html": [
       "<div>\n",
       "<style scoped>\n",
       "    .dataframe tbody tr th:only-of-type {\n",
       "        vertical-align: middle;\n",
       "    }\n",
       "\n",
       "    .dataframe tbody tr th {\n",
       "        vertical-align: top;\n",
       "    }\n",
       "\n",
       "    .dataframe thead th {\n",
       "        text-align: right;\n",
       "    }\n",
       "</style>\n",
       "<table border=\"1\" class=\"dataframe\">\n",
       "  <thead>\n",
       "    <tr style=\"text-align: right;\">\n",
       "      <th></th>\n",
       "      <th>Iteration</th>\n",
       "      <th>Time</th>\n",
       "      <th>Fitness</th>\n",
       "      <th>FEvals</th>\n",
       "      <th>use_fast_mimic</th>\n",
       "      <th>Population Size</th>\n",
       "      <th>Keep Percent</th>\n",
       "      <th>max_iters</th>\n",
       "    </tr>\n",
       "  </thead>\n",
       "  <tbody>\n",
       "    <tr>\n",
       "      <th>0</th>\n",
       "      <td>0</td>\n",
       "      <td>0.024818</td>\n",
       "      <td>489.0</td>\n",
       "      <td>50.0</td>\n",
       "      <td>True</td>\n",
       "      <td>50</td>\n",
       "      <td>0.1</td>\n",
       "      <td>200</td>\n",
       "    </tr>\n",
       "    <tr>\n",
       "      <th>1</th>\n",
       "      <td>1</td>\n",
       "      <td>0.277401</td>\n",
       "      <td>502.0</td>\n",
       "      <td>102.0</td>\n",
       "      <td>True</td>\n",
       "      <td>50</td>\n",
       "      <td>0.1</td>\n",
       "      <td>200</td>\n",
       "    </tr>\n",
       "    <tr>\n",
       "      <th>2</th>\n",
       "      <td>2</td>\n",
       "      <td>0.516444</td>\n",
       "      <td>502.0</td>\n",
       "      <td>153.0</td>\n",
       "      <td>True</td>\n",
       "      <td>50</td>\n",
       "      <td>0.1</td>\n",
       "      <td>200</td>\n",
       "    </tr>\n",
       "    <tr>\n",
       "      <th>3</th>\n",
       "      <td>3</td>\n",
       "      <td>0.815438</td>\n",
       "      <td>502.0</td>\n",
       "      <td>204.0</td>\n",
       "      <td>True</td>\n",
       "      <td>50</td>\n",
       "      <td>0.1</td>\n",
       "      <td>200</td>\n",
       "    </tr>\n",
       "    <tr>\n",
       "      <th>4</th>\n",
       "      <td>4</td>\n",
       "      <td>1.118553</td>\n",
       "      <td>502.0</td>\n",
       "      <td>255.0</td>\n",
       "      <td>True</td>\n",
       "      <td>50</td>\n",
       "      <td>0.1</td>\n",
       "      <td>200</td>\n",
       "    </tr>\n",
       "    <tr>\n",
       "      <th>...</th>\n",
       "      <td>...</td>\n",
       "      <td>...</td>\n",
       "      <td>...</td>\n",
       "      <td>...</td>\n",
       "      <td>...</td>\n",
       "      <td>...</td>\n",
       "      <td>...</td>\n",
       "      <td>...</td>\n",
       "    </tr>\n",
       "    <tr>\n",
       "      <th>1077</th>\n",
       "      <td>99</td>\n",
       "      <td>30.265910</td>\n",
       "      <td>509.0</td>\n",
       "      <td>20101.0</td>\n",
       "      <td>True</td>\n",
       "      <td>200</td>\n",
       "      <td>0.8</td>\n",
       "      <td>200</td>\n",
       "    </tr>\n",
       "    <tr>\n",
       "      <th>1078</th>\n",
       "      <td>100</td>\n",
       "      <td>30.574506</td>\n",
       "      <td>509.0</td>\n",
       "      <td>20302.0</td>\n",
       "      <td>True</td>\n",
       "      <td>200</td>\n",
       "      <td>0.8</td>\n",
       "      <td>200</td>\n",
       "    </tr>\n",
       "    <tr>\n",
       "      <th>1079</th>\n",
       "      <td>101</td>\n",
       "      <td>30.875617</td>\n",
       "      <td>509.0</td>\n",
       "      <td>20503.0</td>\n",
       "      <td>True</td>\n",
       "      <td>200</td>\n",
       "      <td>0.8</td>\n",
       "      <td>200</td>\n",
       "    </tr>\n",
       "    <tr>\n",
       "      <th>1080</th>\n",
       "      <td>102</td>\n",
       "      <td>0.023712</td>\n",
       "      <td>509.0</td>\n",
       "      <td>20704.0</td>\n",
       "      <td>True</td>\n",
       "      <td>200</td>\n",
       "      <td>0.8</td>\n",
       "      <td>200</td>\n",
       "    </tr>\n",
       "    <tr>\n",
       "      <th>1081</th>\n",
       "      <td>103</td>\n",
       "      <td>0.296386</td>\n",
       "      <td>509.0</td>\n",
       "      <td>20905.0</td>\n",
       "      <td>True</td>\n",
       "      <td>200</td>\n",
       "      <td>0.8</td>\n",
       "      <td>200</td>\n",
       "    </tr>\n",
       "  </tbody>\n",
       "</table>\n",
       "<p>1082 rows × 8 columns</p>\n",
       "</div>"
      ],
      "text/plain": [
       "      Iteration       Time  Fitness   FEvals  use_fast_mimic  Population Size  \\\n",
       "0             0   0.024818    489.0     50.0            True               50   \n",
       "1             1   0.277401    502.0    102.0            True               50   \n",
       "2             2   0.516444    502.0    153.0            True               50   \n",
       "3             3   0.815438    502.0    204.0            True               50   \n",
       "4             4   1.118553    502.0    255.0            True               50   \n",
       "...         ...        ...      ...      ...             ...              ...   \n",
       "1077         99  30.265910    509.0  20101.0            True              200   \n",
       "1078        100  30.574506    509.0  20302.0            True              200   \n",
       "1079        101  30.875617    509.0  20503.0            True              200   \n",
       "1080        102   0.023712    509.0  20704.0            True              200   \n",
       "1081        103   0.296386    509.0  20905.0            True              200   \n",
       "\n",
       "      Keep Percent  max_iters  \n",
       "0              0.1        200  \n",
       "1              0.1        200  \n",
       "2              0.1        200  \n",
       "3              0.1        200  \n",
       "4              0.1        200  \n",
       "...            ...        ...  \n",
       "1077           0.8        200  \n",
       "1078           0.8        200  \n",
       "1079           0.8        200  \n",
       "1080           0.8        200  \n",
       "1081           0.8        200  \n",
       "\n",
       "[1082 rows x 8 columns]"
      ]
     },
     "execution_count": 15,
     "metadata": {},
     "output_type": "execute_result"
    }
   ],
   "source": [
    "mmc_run_curves"
   ]
  },
  {
   "cell_type": "code",
   "execution_count": 16,
   "id": "e3c93a68",
   "metadata": {},
   "outputs": [
    {
     "name": "stdout",
     "output_type": "stream",
     "text": [
      "Max and mean\n",
      "513.0 507.3333333333333 53.32665476666668\n",
      "Keep Percent\n",
      "0.1    504.666667\n",
      "0.4    510.666667\n",
      "0.8    506.666667\n",
      "Name: Fitness, dtype: float64\n",
      "Population Size\n",
      "50     506.666667\n",
      "100    506.000000\n",
      "200    509.333333\n",
      "Name: Fitness, dtype: float64\n",
      "Population Size\n",
      "50     38.044734\n",
      "100    55.207542\n",
      "200    66.727689\n",
      "Name: Time, dtype: float64\n"
     ]
    }
   ],
   "source": [
    "last_iters = mmc_run_stats[mmc_run_stats.Iteration != 0].reset_index()\n",
    "print(\"Max and mean\")\n",
    "print(last_iters.Fitness.max(), last_iters.Fitness.mean(), last_iters.Time.mean())\n",
    "print(last_iters.groupby(\"Keep Percent\").Fitness.mean())\n",
    "print(last_iters.groupby(\"Population Size\").Fitness.mean())\n",
    "print(last_iters.groupby(\"Population Size\").Time.mean())"
   ]
  },
  {
   "cell_type": "code",
   "execution_count": 17,
   "id": "eb4c1f92",
   "metadata": {},
   "outputs": [
    {
     "data": {
      "text/plain": [
       "Iteration                 62\n",
       "Time               18.944338\n",
       "Fitness                513.0\n",
       "FEvals                3219.0\n",
       "use_fast_mimic          True\n",
       "Population Size           50\n",
       "Keep Percent             0.4\n",
       "max_iters                200\n",
       "Name: 164, dtype: object"
      ]
     },
     "execution_count": 17,
     "metadata": {},
     "output_type": "execute_result"
    }
   ],
   "source": [
    "best_index_in_mmc_curve = mmc_run_curves.Fitness.idxmax()\n",
    "mmc_run_curves.iloc[best_index_in_mmc_curve]\n"
   ]
  },
  {
   "cell_type": "code",
   "execution_count": 18,
   "id": "0ee08189",
   "metadata": {},
   "outputs": [
    {
     "data": {
      "text/plain": [
       "(50, 0.4)"
      ]
     },
     "execution_count": 18,
     "metadata": {},
     "output_type": "execute_result"
    }
   ],
   "source": [
    "best_p_size = mmc_run_curves.iloc[best_index_in_mmc_curve]['Population Size'] \n",
    "best_keep = mmc_run_curves.iloc[best_index_in_mmc_curve]['Keep Percent']  \n",
    "best_curve_mmc = mmc_run_curves.loc[mmc_run_curves['Population Size'] == best_p_size, :]\n",
    "best_curve_mmc = best_curve_mmc.loc[best_curve_mmc['Keep Percent'] == best_keep, :]\n",
    "best_curve_mmc.reset_index(inplace=True)\n",
    "best_p_size, best_keep\n"
   ]
  },
  {
   "cell_type": "code",
   "execution_count": 19,
   "id": "4ff406ec",
   "metadata": {},
   "outputs": [
    {
     "data": {
      "text/plain": [
       "Text(0, 0.5, 'Value')"
      ]
     },
     "execution_count": 19,
     "metadata": {},
     "output_type": "execute_result"
    },
    {
     "data": {
      "image/png": "[encoded data removed]",
      "text/plain": [
       "<Figure size 864x576 with 1 Axes>"
      ]
     },
     "metadata": {
      "needs_background": "light"
     },
     "output_type": "display_data"
    }
   ],
   "source": [
    "ax = best_curve_mmc.Fitness.plot(lw=2, colormap='jet', marker='.', markersize=2, \n",
    "                             figsize=(12,8), grid=1,\n",
    "                             title='Best MMC Search')\n",
    "ax.set_xlabel(\"Iterations\")\n",
    "ax.set_ylabel(\"Value\")"
   ]
  },
  {
   "cell_type": "code",
   "execution_count": 20,
   "id": "3877be3e",
   "metadata": {},
   "outputs": [
    {
     "data": {
      "text/html": [
       "<div>\n",
       "<style scoped>\n",
       "    .dataframe tbody tr th:only-of-type {\n",
       "        vertical-align: middle;\n",
       "    }\n",
       "\n",
       "    .dataframe tbody tr th {\n",
       "        vertical-align: top;\n",
       "    }\n",
       "\n",
       "    .dataframe thead th {\n",
       "        text-align: right;\n",
       "    }\n",
       "</style>\n",
       "<table border=\"1\" class=\"dataframe\">\n",
       "  <thead>\n",
       "    <tr style=\"text-align: right;\">\n",
       "      <th></th>\n",
       "      <th>Iteration</th>\n",
       "      <th>Time</th>\n",
       "      <th>Fitness</th>\n",
       "      <th>FEvals</th>\n",
       "      <th>use_fast_mimic</th>\n",
       "      <th>Population Size</th>\n",
       "      <th>Keep Percent</th>\n",
       "      <th>max_iters</th>\n",
       "    </tr>\n",
       "  </thead>\n",
       "  <tbody>\n",
       "    <tr>\n",
       "      <th>0</th>\n",
       "      <td>0</td>\n",
       "      <td>0.024818</td>\n",
       "      <td>489.0</td>\n",
       "      <td>50.0</td>\n",
       "      <td>True</td>\n",
       "      <td>50</td>\n",
       "      <td>0.1</td>\n",
       "      <td>200</td>\n",
       "    </tr>\n",
       "    <tr>\n",
       "      <th>1</th>\n",
       "      <td>1</td>\n",
       "      <td>0.277401</td>\n",
       "      <td>502.0</td>\n",
       "      <td>102.0</td>\n",
       "      <td>True</td>\n",
       "      <td>50</td>\n",
       "      <td>0.1</td>\n",
       "      <td>200</td>\n",
       "    </tr>\n",
       "    <tr>\n",
       "      <th>2</th>\n",
       "      <td>2</td>\n",
       "      <td>0.516444</td>\n",
       "      <td>502.0</td>\n",
       "      <td>153.0</td>\n",
       "      <td>True</td>\n",
       "      <td>50</td>\n",
       "      <td>0.1</td>\n",
       "      <td>200</td>\n",
       "    </tr>\n",
       "    <tr>\n",
       "      <th>3</th>\n",
       "      <td>3</td>\n",
       "      <td>0.815438</td>\n",
       "      <td>502.0</td>\n",
       "      <td>204.0</td>\n",
       "      <td>True</td>\n",
       "      <td>50</td>\n",
       "      <td>0.1</td>\n",
       "      <td>200</td>\n",
       "    </tr>\n",
       "    <tr>\n",
       "      <th>4</th>\n",
       "      <td>4</td>\n",
       "      <td>1.118553</td>\n",
       "      <td>502.0</td>\n",
       "      <td>255.0</td>\n",
       "      <td>True</td>\n",
       "      <td>50</td>\n",
       "      <td>0.1</td>\n",
       "      <td>200</td>\n",
       "    </tr>\n",
       "    <tr>\n",
       "      <th>...</th>\n",
       "      <td>...</td>\n",
       "      <td>...</td>\n",
       "      <td>...</td>\n",
       "      <td>...</td>\n",
       "      <td>...</td>\n",
       "      <td>...</td>\n",
       "      <td>...</td>\n",
       "      <td>...</td>\n",
       "    </tr>\n",
       "    <tr>\n",
       "      <th>1077</th>\n",
       "      <td>99</td>\n",
       "      <td>30.265910</td>\n",
       "      <td>509.0</td>\n",
       "      <td>20101.0</td>\n",
       "      <td>True</td>\n",
       "      <td>200</td>\n",
       "      <td>0.8</td>\n",
       "      <td>200</td>\n",
       "    </tr>\n",
       "    <tr>\n",
       "      <th>1078</th>\n",
       "      <td>100</td>\n",
       "      <td>30.574506</td>\n",
       "      <td>509.0</td>\n",
       "      <td>20302.0</td>\n",
       "      <td>True</td>\n",
       "      <td>200</td>\n",
       "      <td>0.8</td>\n",
       "      <td>200</td>\n",
       "    </tr>\n",
       "    <tr>\n",
       "      <th>1079</th>\n",
       "      <td>101</td>\n",
       "      <td>30.875617</td>\n",
       "      <td>509.0</td>\n",
       "      <td>20503.0</td>\n",
       "      <td>True</td>\n",
       "      <td>200</td>\n",
       "      <td>0.8</td>\n",
       "      <td>200</td>\n",
       "    </tr>\n",
       "    <tr>\n",
       "      <th>1080</th>\n",
       "      <td>102</td>\n",
       "      <td>0.023712</td>\n",
       "      <td>509.0</td>\n",
       "      <td>20704.0</td>\n",
       "      <td>True</td>\n",
       "      <td>200</td>\n",
       "      <td>0.8</td>\n",
       "      <td>200</td>\n",
       "    </tr>\n",
       "    <tr>\n",
       "      <th>1081</th>\n",
       "      <td>103</td>\n",
       "      <td>0.296386</td>\n",
       "      <td>509.0</td>\n",
       "      <td>20905.0</td>\n",
       "      <td>True</td>\n",
       "      <td>200</td>\n",
       "      <td>0.8</td>\n",
       "      <td>200</td>\n",
       "    </tr>\n",
       "  </tbody>\n",
       "</table>\n",
       "<p>1082 rows × 8 columns</p>\n",
       "</div>"
      ],
      "text/plain": [
       "      Iteration       Time  Fitness   FEvals  use_fast_mimic  Population Size  \\\n",
       "0             0   0.024818    489.0     50.0            True               50   \n",
       "1             1   0.277401    502.0    102.0            True               50   \n",
       "2             2   0.516444    502.0    153.0            True               50   \n",
       "3             3   0.815438    502.0    204.0            True               50   \n",
       "4             4   1.118553    502.0    255.0            True               50   \n",
       "...         ...        ...      ...      ...             ...              ...   \n",
       "1077         99  30.265910    509.0  20101.0            True              200   \n",
       "1078        100  30.574506    509.0  20302.0            True              200   \n",
       "1079        101  30.875617    509.0  20503.0            True              200   \n",
       "1080        102   0.023712    509.0  20704.0            True              200   \n",
       "1081        103   0.296386    509.0  20905.0            True              200   \n",
       "\n",
       "      Keep Percent  max_iters  \n",
       "0              0.1        200  \n",
       "1              0.1        200  \n",
       "2              0.1        200  \n",
       "3              0.1        200  \n",
       "4              0.1        200  \n",
       "...            ...        ...  \n",
       "1077           0.8        200  \n",
       "1078           0.8        200  \n",
       "1079           0.8        200  \n",
       "1080           0.8        200  \n",
       "1081           0.8        200  \n",
       "\n",
       "[1082 rows x 8 columns]"
      ]
     },
     "execution_count": 20,
     "metadata": {},
     "output_type": "execute_result"
    }
   ],
   "source": [
    "mmc_run_curves"
   ]
  },
  {
   "cell_type": "code",
   "execution_count": 21,
   "id": "19dffd6c",
   "metadata": {},
   "outputs": [
    {
     "data": {
      "image/png": "[encoded data removed]",
      "text/plain": [
       "<Figure size 432x288 with 1 Axes>"
      ]
     },
     "metadata": {
      "needs_background": "light"
     },
     "output_type": "display_data"
    }
   ],
   "source": [
    "mmc_kp = mmc_run_curves.groupby(['Iteration','Keep Percent']).agg({'Fitness':'mean'}).reset_index()\n",
    "ax = mmc_kp.pivot_table(values=\"Fitness\", index=\"Iteration\", columns=\"Keep Percent\").plot(lw=2, colormap='jet', \n",
    "                                                                                          grid=1, marker='.', \n",
    "                                                                                          markersize=2,\n",
    "                                                                                          title='MMIC- KeepPercentage')\n",
    "ax.set_xlabel(\"Iteration\")\n",
    "ax.set_ylabel(\"Fitness\")\n",
    "fig = ax.get_figure()\n",
    "fig.savefig('../images/NQueens/nQueen_mimic_keep_size.png')"
   ]
  },
  {
   "cell_type": "code",
   "execution_count": 22,
   "id": "b3a0e47f",
   "metadata": {},
   "outputs": [
    {
     "data": {
      "image/png": "[encoded data removed]",
      "text/plain": [
       "<Figure size 432x288 with 1 Axes>"
      ]
     },
     "metadata": {
      "needs_background": "light"
     },
     "output_type": "display_data"
    }
   ],
   "source": [
    "mmc_p = mmc_run_curves.groupby(['Iteration','Population Size']).agg({'Fitness':'mean'}).reset_index()\n",
    "ax = mmc_p.pivot_table(values=\"Fitness\", index=\"Iteration\", columns=\"Population Size\").plot(lw=2, colormap='jet', \n",
    "                                                                                          grid=1, marker='.', \n",
    "                                                                                          markersize=2,\n",
    "                                                                                          title='MMIC- Population Size')\n",
    "ax.set_xlabel(\"Iteration\")\n",
    "ax.set_ylabel(\"Fitness\")\n",
    "fig = ax.get_figure()\n",
    "fig.savefig('../images/NQueens/nQueen_mimic_p_size.png')"
   ]
  },
  {
   "cell_type": "markdown",
   "id": "cc86f212",
   "metadata": {},
   "source": [
    "<h3> RHC </h3>"
   ]
  },
  {
   "cell_type": "code",
   "execution_count": 64,
   "id": "5c8b3a91",
   "metadata": {},
   "outputs": [
    {
     "name": "stdout",
     "output_type": "stream",
     "text": [
      "Wall time: 8min 25s\n"
     ]
    }
   ],
   "source": [
    "%%time\n",
    "\n",
    "problem = mlrose_hiive.DiscreteOpt(length = number_of_queens, fitness_fn = fitness_cust, \n",
    "                             maximize = True, max_val = number_of_queens)\n",
    "\n",
    "runner_return = mlrose_hiive.RHCRunner(problem,\n",
    "                                       experiment_name=experiment_name+ \"_RHC\",\n",
    "                                       output_directory=output_directory,\n",
    "                                       iteration_list=[500],\n",
    "                                       seed=33,\n",
    "                                       restart_list=[10, 50, 100], max_attempts=100)\n",
    "rhc_run_stats, rhc_run_curves = runner_return.run()"
   ]
  },
  {
   "cell_type": "code",
   "execution_count": 65,
   "id": "95b365e9",
   "metadata": {},
   "outputs": [
    {
     "data": {
      "text/html": [
       "<div>\n",
       "<style scoped>\n",
       "    .dataframe tbody tr th:only-of-type {\n",
       "        vertical-align: middle;\n",
       "    }\n",
       "\n",
       "    .dataframe tbody tr th {\n",
       "        vertical-align: top;\n",
       "    }\n",
       "\n",
       "    .dataframe thead th {\n",
       "        text-align: right;\n",
       "    }\n",
       "</style>\n",
       "<table border=\"1\" class=\"dataframe\">\n",
       "  <thead>\n",
       "    <tr style=\"text-align: right;\">\n",
       "      <th></th>\n",
       "      <th>Iteration</th>\n",
       "      <th>Time</th>\n",
       "      <th>Fitness</th>\n",
       "      <th>FEvals</th>\n",
       "      <th>Restarts</th>\n",
       "      <th>max_iters</th>\n",
       "      <th>current_restart</th>\n",
       "    </tr>\n",
       "  </thead>\n",
       "  <tbody>\n",
       "    <tr>\n",
       "      <th>0</th>\n",
       "      <td>0</td>\n",
       "      <td>0.001539</td>\n",
       "      <td>489.0</td>\n",
       "      <td>0.0</td>\n",
       "      <td>10</td>\n",
       "      <td>500</td>\n",
       "      <td>0</td>\n",
       "    </tr>\n",
       "    <tr>\n",
       "      <th>1</th>\n",
       "      <td>1</td>\n",
       "      <td>0.014729</td>\n",
       "      <td>491.0</td>\n",
       "      <td>2.0</td>\n",
       "      <td>10</td>\n",
       "      <td>500</td>\n",
       "      <td>0</td>\n",
       "    </tr>\n",
       "    <tr>\n",
       "      <th>2</th>\n",
       "      <td>2</td>\n",
       "      <td>0.015220</td>\n",
       "      <td>491.0</td>\n",
       "      <td>3.0</td>\n",
       "      <td>10</td>\n",
       "      <td>500</td>\n",
       "      <td>0</td>\n",
       "    </tr>\n",
       "    <tr>\n",
       "      <th>3</th>\n",
       "      <td>3</td>\n",
       "      <td>0.015700</td>\n",
       "      <td>491.0</td>\n",
       "      <td>4.0</td>\n",
       "      <td>10</td>\n",
       "      <td>500</td>\n",
       "      <td>0</td>\n",
       "    </tr>\n",
       "    <tr>\n",
       "      <th>4</th>\n",
       "      <td>4</td>\n",
       "      <td>0.016642</td>\n",
       "      <td>492.0</td>\n",
       "      <td>6.0</td>\n",
       "      <td>10</td>\n",
       "      <td>500</td>\n",
       "      <td>0</td>\n",
       "    </tr>\n",
       "    <tr>\n",
       "      <th>...</th>\n",
       "      <td>...</td>\n",
       "      <td>...</td>\n",
       "      <td>...</td>\n",
       "      <td>...</td>\n",
       "      <td>...</td>\n",
       "      <td>...</td>\n",
       "      <td>...</td>\n",
       "    </tr>\n",
       "    <tr>\n",
       "      <th>56566</th>\n",
       "      <td>226</td>\n",
       "      <td>0.152833</td>\n",
       "      <td>517.0</td>\n",
       "      <td>36844.0</td>\n",
       "      <td>100</td>\n",
       "      <td>500</td>\n",
       "      <td>100</td>\n",
       "    </tr>\n",
       "    <tr>\n",
       "      <th>56567</th>\n",
       "      <td>227</td>\n",
       "      <td>0.153401</td>\n",
       "      <td>517.0</td>\n",
       "      <td>36845.0</td>\n",
       "      <td>100</td>\n",
       "      <td>500</td>\n",
       "      <td>100</td>\n",
       "    </tr>\n",
       "    <tr>\n",
       "      <th>56568</th>\n",
       "      <td>228</td>\n",
       "      <td>0.154433</td>\n",
       "      <td>517.0</td>\n",
       "      <td>36846.0</td>\n",
       "      <td>100</td>\n",
       "      <td>500</td>\n",
       "      <td>100</td>\n",
       "    </tr>\n",
       "    <tr>\n",
       "      <th>56569</th>\n",
       "      <td>229</td>\n",
       "      <td>0.155013</td>\n",
       "      <td>517.0</td>\n",
       "      <td>36847.0</td>\n",
       "      <td>100</td>\n",
       "      <td>500</td>\n",
       "      <td>100</td>\n",
       "    </tr>\n",
       "    <tr>\n",
       "      <th>56570</th>\n",
       "      <td>230</td>\n",
       "      <td>0.155607</td>\n",
       "      <td>517.0</td>\n",
       "      <td>36848.0</td>\n",
       "      <td>100</td>\n",
       "      <td>500</td>\n",
       "      <td>100</td>\n",
       "    </tr>\n",
       "  </tbody>\n",
       "</table>\n",
       "<p>56571 rows × 7 columns</p>\n",
       "</div>"
      ],
      "text/plain": [
       "       Iteration      Time  Fitness   FEvals  Restarts  max_iters  \\\n",
       "0              0  0.001539    489.0      0.0        10        500   \n",
       "1              1  0.014729    491.0      2.0        10        500   \n",
       "2              2  0.015220    491.0      3.0        10        500   \n",
       "3              3  0.015700    491.0      4.0        10        500   \n",
       "4              4  0.016642    492.0      6.0        10        500   \n",
       "...          ...       ...      ...      ...       ...        ...   \n",
       "56566        226  0.152833    517.0  36844.0       100        500   \n",
       "56567        227  0.153401    517.0  36845.0       100        500   \n",
       "56568        228  0.154433    517.0  36846.0       100        500   \n",
       "56569        229  0.155013    517.0  36847.0       100        500   \n",
       "56570        230  0.155607    517.0  36848.0       100        500   \n",
       "\n",
       "       current_restart  \n",
       "0                    0  \n",
       "1                    0  \n",
       "2                    0  \n",
       "3                    0  \n",
       "4                    0  \n",
       "...                ...  \n",
       "56566              100  \n",
       "56567              100  \n",
       "56568              100  \n",
       "56569              100  \n",
       "56570              100  \n",
       "\n",
       "[56571 rows x 7 columns]"
      ]
     },
     "execution_count": 65,
     "metadata": {},
     "output_type": "execute_result"
    }
   ],
   "source": [
    "rhc_run_curves"
   ]
  },
  {
   "cell_type": "code",
   "execution_count": 25,
   "id": "edca45c1",
   "metadata": {},
   "outputs": [
    {
     "data": {
      "text/plain": [
       "16.0"
      ]
     },
     "execution_count": 25,
     "metadata": {},
     "output_type": "execute_result"
    }
   ],
   "source": [
    "best_index_in_curve = rhc_run_curves.Fitness.idxmax()\n",
    "best_decay = rhc_run_curves.iloc[best_index_in_curve].current_restart\n",
    "best_curve_rhc = rhc_run_curves.loc[rhc_run_curves.current_restart == best_decay, :]\n",
    "best_curve_rhc.reset_index(inplace=True)\n",
    "best_decay"
   ]
  },
  {
   "cell_type": "code",
   "execution_count": 68,
   "id": "236d392a",
   "metadata": {},
   "outputs": [
    {
     "data": {
      "text/plain": [
       "Iteration           272.000000\n",
       "Time                  0.181903\n",
       "Fitness             524.000000\n",
       "FEvals             6186.000000\n",
       "Restarts             50.000000\n",
       "max_iters           500.000000\n",
       "current_restart      16.000000\n",
       "Name: 9645, dtype: float64"
      ]
     },
     "execution_count": 68,
     "metadata": {},
     "output_type": "execute_result"
    }
   ],
   "source": [
    "best_index_in_RHC_curve = rhc_run_curves.Fitness.idxmax()\n",
    "rhc_run_curves.iloc[best_index_in_RHC_curve]"
   ]
  },
  {
   "cell_type": "code",
   "execution_count": 67,
   "id": "49596ab4",
   "metadata": {},
   "outputs": [
    {
     "name": "stdout",
     "output_type": "stream",
     "text": [
      "Max and mean\n",
      "524.0 520.4907975460122 101.31379109938612\n",
      "Restarts\n",
      "10     520.272727\n",
      "50     520.745098\n",
      "100    520.386139\n",
      "Name: Fitness, dtype: float64\n",
      "Restarts\n",
      "10       2.715174\n",
      "50      36.553163\n",
      "100    144.753165\n",
      "Name: Time, dtype: float64\n",
      "Restarts\n",
      "10      2317.363636\n",
      "50      9777.588235\n",
      "100    18866.128713\n",
      "Name: FEvals, dtype: float64\n"
     ]
    }
   ],
   "source": [
    "last_iters = rhc_run_stats[rhc_run_stats.Iteration != 0].reset_index()\n",
    "print(\"Max and mean\")\n",
    "print(last_iters.Fitness.max(), last_iters.Fitness.mean(), last_iters.Time.mean())\n",
    "print(last_iters.groupby(\"Restarts\").Fitness.mean())\n",
    "print(last_iters.groupby(\"Restarts\").Time.mean())\n",
    "print(last_iters.groupby(\"Restarts\").FEvals.mean())"
   ]
  },
  {
   "cell_type": "code",
   "execution_count": 55,
   "id": "aef44ea1",
   "metadata": {},
   "outputs": [
    {
     "data": {
      "text/html": [
       "<div>\n",
       "<style scoped>\n",
       "    .dataframe tbody tr th:only-of-type {\n",
       "        vertical-align: middle;\n",
       "    }\n",
       "\n",
       "    .dataframe tbody tr th {\n",
       "        vertical-align: top;\n",
       "    }\n",
       "\n",
       "    .dataframe thead th {\n",
       "        text-align: right;\n",
       "    }\n",
       "</style>\n",
       "<table border=\"1\" class=\"dataframe\">\n",
       "  <thead>\n",
       "    <tr style=\"text-align: right;\">\n",
       "      <th></th>\n",
       "      <th>index</th>\n",
       "      <th>Iteration</th>\n",
       "      <th>Time</th>\n",
       "      <th>Fitness</th>\n",
       "      <th>FEvals</th>\n",
       "      <th>Restarts</th>\n",
       "      <th>max_iters</th>\n",
       "      <th>current_restart</th>\n",
       "    </tr>\n",
       "  </thead>\n",
       "  <tbody>\n",
       "    <tr>\n",
       "      <th>0</th>\n",
       "      <td>5573</td>\n",
       "      <td>1</td>\n",
       "      <td>0.007956</td>\n",
       "      <td>496.0</td>\n",
       "      <td>5895.0</td>\n",
       "      <td>100</td>\n",
       "      <td>500</td>\n",
       "      <td>16</td>\n",
       "    </tr>\n",
       "    <tr>\n",
       "      <th>1</th>\n",
       "      <td>5574</td>\n",
       "      <td>2</td>\n",
       "      <td>0.008424</td>\n",
       "      <td>496.0</td>\n",
       "      <td>5896.0</td>\n",
       "      <td>100</td>\n",
       "      <td>500</td>\n",
       "      <td>16</td>\n",
       "    </tr>\n",
       "    <tr>\n",
       "      <th>2</th>\n",
       "      <td>5575</td>\n",
       "      <td>3</td>\n",
       "      <td>0.008888</td>\n",
       "      <td>496.0</td>\n",
       "      <td>5897.0</td>\n",
       "      <td>100</td>\n",
       "      <td>500</td>\n",
       "      <td>16</td>\n",
       "    </tr>\n",
       "    <tr>\n",
       "      <th>3</th>\n",
       "      <td>5576</td>\n",
       "      <td>4</td>\n",
       "      <td>0.009791</td>\n",
       "      <td>497.0</td>\n",
       "      <td>5899.0</td>\n",
       "      <td>100</td>\n",
       "      <td>500</td>\n",
       "      <td>16</td>\n",
       "    </tr>\n",
       "    <tr>\n",
       "      <th>4</th>\n",
       "      <td>5577</td>\n",
       "      <td>5</td>\n",
       "      <td>0.010691</td>\n",
       "      <td>498.0</td>\n",
       "      <td>5901.0</td>\n",
       "      <td>100</td>\n",
       "      <td>500</td>\n",
       "      <td>16</td>\n",
       "    </tr>\n",
       "    <tr>\n",
       "      <th>...</th>\n",
       "      <td>...</td>\n",
       "      <td>...</td>\n",
       "      <td>...</td>\n",
       "      <td>...</td>\n",
       "      <td>...</td>\n",
       "      <td>...</td>\n",
       "      <td>...</td>\n",
       "      <td>...</td>\n",
       "    </tr>\n",
       "    <tr>\n",
       "      <th>367</th>\n",
       "      <td>5940</td>\n",
       "      <td>368</td>\n",
       "      <td>0.235562</td>\n",
       "      <td>524.0</td>\n",
       "      <td>6282.0</td>\n",
       "      <td>100</td>\n",
       "      <td>500</td>\n",
       "      <td>16</td>\n",
       "    </tr>\n",
       "    <tr>\n",
       "      <th>368</th>\n",
       "      <td>5941</td>\n",
       "      <td>369</td>\n",
       "      <td>0.236256</td>\n",
       "      <td>524.0</td>\n",
       "      <td>6283.0</td>\n",
       "      <td>100</td>\n",
       "      <td>500</td>\n",
       "      <td>16</td>\n",
       "    </tr>\n",
       "    <tr>\n",
       "      <th>369</th>\n",
       "      <td>5942</td>\n",
       "      <td>370</td>\n",
       "      <td>0.236943</td>\n",
       "      <td>524.0</td>\n",
       "      <td>6284.0</td>\n",
       "      <td>100</td>\n",
       "      <td>500</td>\n",
       "      <td>16</td>\n",
       "    </tr>\n",
       "    <tr>\n",
       "      <th>370</th>\n",
       "      <td>5943</td>\n",
       "      <td>371</td>\n",
       "      <td>0.237627</td>\n",
       "      <td>524.0</td>\n",
       "      <td>6285.0</td>\n",
       "      <td>100</td>\n",
       "      <td>500</td>\n",
       "      <td>16</td>\n",
       "    </tr>\n",
       "    <tr>\n",
       "      <th>371</th>\n",
       "      <td>5944</td>\n",
       "      <td>372</td>\n",
       "      <td>0.238315</td>\n",
       "      <td>524.0</td>\n",
       "      <td>6286.0</td>\n",
       "      <td>100</td>\n",
       "      <td>500</td>\n",
       "      <td>16</td>\n",
       "    </tr>\n",
       "  </tbody>\n",
       "</table>\n",
       "<p>372 rows × 8 columns</p>\n",
       "</div>"
      ],
      "text/plain": [
       "     index  Iteration      Time  Fitness  FEvals  Restarts  max_iters  \\\n",
       "0     5573          1  0.007956    496.0  5895.0       100        500   \n",
       "1     5574          2  0.008424    496.0  5896.0       100        500   \n",
       "2     5575          3  0.008888    496.0  5897.0       100        500   \n",
       "3     5576          4  0.009791    497.0  5899.0       100        500   \n",
       "4     5577          5  0.010691    498.0  5901.0       100        500   \n",
       "..     ...        ...       ...      ...     ...       ...        ...   \n",
       "367   5940        368  0.235562    524.0  6282.0       100        500   \n",
       "368   5941        369  0.236256    524.0  6283.0       100        500   \n",
       "369   5942        370  0.236943    524.0  6284.0       100        500   \n",
       "370   5943        371  0.237627    524.0  6285.0       100        500   \n",
       "371   5944        372  0.238315    524.0  6286.0       100        500   \n",
       "\n",
       "     current_restart  \n",
       "0                 16  \n",
       "1                 16  \n",
       "2                 16  \n",
       "3                 16  \n",
       "4                 16  \n",
       "..               ...  \n",
       "367               16  \n",
       "368               16  \n",
       "369               16  \n",
       "370               16  \n",
       "371               16  \n",
       "\n",
       "[372 rows x 8 columns]"
      ]
     },
     "execution_count": 55,
     "metadata": {},
     "output_type": "execute_result"
    }
   ],
   "source": [
    "best_curve_rhc"
   ]
  },
  {
   "cell_type": "code",
   "execution_count": 66,
   "id": "d8ef4189",
   "metadata": {},
   "outputs": [
    {
     "data": {
      "text/plain": [
       "Restarts\n",
       "10      2022.069192\n",
       "50      9540.175658\n",
       "100    18414.081981\n",
       "Name: FEvals, dtype: float64"
      ]
     },
     "execution_count": 66,
     "metadata": {},
     "output_type": "execute_result"
    }
   ],
   "source": [
    "rhc_run_curves.groupby(\"Restarts\").FEvals.mean()"
   ]
  },
  {
   "cell_type": "code",
   "execution_count": 71,
   "id": "d4fbec23",
   "metadata": {},
   "outputs": [
    {
     "data": {
      "text/plain": [
       "Text(0, 0.5, 'Value')"
      ]
     },
     "execution_count": 71,
     "metadata": {},
     "output_type": "execute_result"
    },
    {
     "data": {
      "image/png": "[encoded data removed]",
      "text/plain": [
       "<Figure size 864x576 with 1 Axes>"
      ]
     },
     "metadata": {
      "needs_background": "light"
     },
     "output_type": "display_data"
    }
   ],
   "source": [
    "ax = best_curve_rhc.Fitness.plot(lw=2, colormap='jet', marker='.', markersize=2, \n",
    "                             figsize=(12,8), grid=1,\n",
    "                             title='Best Random Search')\n",
    "ax.set_xlabel(\"Iterations\")\n",
    "ax.set_ylabel(\"Value\")"
   ]
  },
  {
   "cell_type": "code",
   "execution_count": 72,
   "id": "69bd3746",
   "metadata": {},
   "outputs": [
    {
     "data": {
      "text/html": [
       "<div>\n",
       "<style scoped>\n",
       "    .dataframe tbody tr th:only-of-type {\n",
       "        vertical-align: middle;\n",
       "    }\n",
       "\n",
       "    .dataframe tbody tr th {\n",
       "        vertical-align: top;\n",
       "    }\n",
       "\n",
       "    .dataframe thead th {\n",
       "        text-align: right;\n",
       "    }\n",
       "</style>\n",
       "<table border=\"1\" class=\"dataframe\">\n",
       "  <thead>\n",
       "    <tr style=\"text-align: right;\">\n",
       "      <th></th>\n",
       "      <th>Iteration</th>\n",
       "      <th>Time</th>\n",
       "      <th>Fitness</th>\n",
       "      <th>FEvals</th>\n",
       "      <th>Restarts</th>\n",
       "      <th>max_iters</th>\n",
       "      <th>current_restart</th>\n",
       "    </tr>\n",
       "  </thead>\n",
       "  <tbody>\n",
       "    <tr>\n",
       "      <th>0</th>\n",
       "      <td>0</td>\n",
       "      <td>0.001539</td>\n",
       "      <td>489.0</td>\n",
       "      <td>0.0</td>\n",
       "      <td>10</td>\n",
       "      <td>500</td>\n",
       "      <td>0</td>\n",
       "    </tr>\n",
       "    <tr>\n",
       "      <th>1</th>\n",
       "      <td>1</td>\n",
       "      <td>0.014729</td>\n",
       "      <td>491.0</td>\n",
       "      <td>2.0</td>\n",
       "      <td>10</td>\n",
       "      <td>500</td>\n",
       "      <td>0</td>\n",
       "    </tr>\n",
       "    <tr>\n",
       "      <th>2</th>\n",
       "      <td>2</td>\n",
       "      <td>0.015220</td>\n",
       "      <td>491.0</td>\n",
       "      <td>3.0</td>\n",
       "      <td>10</td>\n",
       "      <td>500</td>\n",
       "      <td>0</td>\n",
       "    </tr>\n",
       "    <tr>\n",
       "      <th>3</th>\n",
       "      <td>3</td>\n",
       "      <td>0.015700</td>\n",
       "      <td>491.0</td>\n",
       "      <td>4.0</td>\n",
       "      <td>10</td>\n",
       "      <td>500</td>\n",
       "      <td>0</td>\n",
       "    </tr>\n",
       "    <tr>\n",
       "      <th>4</th>\n",
       "      <td>4</td>\n",
       "      <td>0.016642</td>\n",
       "      <td>492.0</td>\n",
       "      <td>6.0</td>\n",
       "      <td>10</td>\n",
       "      <td>500</td>\n",
       "      <td>0</td>\n",
       "    </tr>\n",
       "    <tr>\n",
       "      <th>...</th>\n",
       "      <td>...</td>\n",
       "      <td>...</td>\n",
       "      <td>...</td>\n",
       "      <td>...</td>\n",
       "      <td>...</td>\n",
       "      <td>...</td>\n",
       "      <td>...</td>\n",
       "    </tr>\n",
       "    <tr>\n",
       "      <th>56566</th>\n",
       "      <td>226</td>\n",
       "      <td>0.152833</td>\n",
       "      <td>517.0</td>\n",
       "      <td>36844.0</td>\n",
       "      <td>100</td>\n",
       "      <td>500</td>\n",
       "      <td>100</td>\n",
       "    </tr>\n",
       "    <tr>\n",
       "      <th>56567</th>\n",
       "      <td>227</td>\n",
       "      <td>0.153401</td>\n",
       "      <td>517.0</td>\n",
       "      <td>36845.0</td>\n",
       "      <td>100</td>\n",
       "      <td>500</td>\n",
       "      <td>100</td>\n",
       "    </tr>\n",
       "    <tr>\n",
       "      <th>56568</th>\n",
       "      <td>228</td>\n",
       "      <td>0.154433</td>\n",
       "      <td>517.0</td>\n",
       "      <td>36846.0</td>\n",
       "      <td>100</td>\n",
       "      <td>500</td>\n",
       "      <td>100</td>\n",
       "    </tr>\n",
       "    <tr>\n",
       "      <th>56569</th>\n",
       "      <td>229</td>\n",
       "      <td>0.155013</td>\n",
       "      <td>517.0</td>\n",
       "      <td>36847.0</td>\n",
       "      <td>100</td>\n",
       "      <td>500</td>\n",
       "      <td>100</td>\n",
       "    </tr>\n",
       "    <tr>\n",
       "      <th>56570</th>\n",
       "      <td>230</td>\n",
       "      <td>0.155607</td>\n",
       "      <td>517.0</td>\n",
       "      <td>36848.0</td>\n",
       "      <td>100</td>\n",
       "      <td>500</td>\n",
       "      <td>100</td>\n",
       "    </tr>\n",
       "  </tbody>\n",
       "</table>\n",
       "<p>56571 rows × 7 columns</p>\n",
       "</div>"
      ],
      "text/plain": [
       "       Iteration      Time  Fitness   FEvals  Restarts  max_iters  \\\n",
       "0              0  0.001539    489.0      0.0        10        500   \n",
       "1              1  0.014729    491.0      2.0        10        500   \n",
       "2              2  0.015220    491.0      3.0        10        500   \n",
       "3              3  0.015700    491.0      4.0        10        500   \n",
       "4              4  0.016642    492.0      6.0        10        500   \n",
       "...          ...       ...      ...      ...       ...        ...   \n",
       "56566        226  0.152833    517.0  36844.0       100        500   \n",
       "56567        227  0.153401    517.0  36845.0       100        500   \n",
       "56568        228  0.154433    517.0  36846.0       100        500   \n",
       "56569        229  0.155013    517.0  36847.0       100        500   \n",
       "56570        230  0.155607    517.0  36848.0       100        500   \n",
       "\n",
       "       current_restart  \n",
       "0                    0  \n",
       "1                    0  \n",
       "2                    0  \n",
       "3                    0  \n",
       "4                    0  \n",
       "...                ...  \n",
       "56566              100  \n",
       "56567              100  \n",
       "56568              100  \n",
       "56569              100  \n",
       "56570              100  \n",
       "\n",
       "[56571 rows x 7 columns]"
      ]
     },
     "execution_count": 72,
     "metadata": {},
     "output_type": "execute_result"
    }
   ],
   "source": [
    "rhc_run_curves"
   ]
  },
  {
   "cell_type": "code",
   "execution_count": 70,
   "id": "632822ae",
   "metadata": {},
   "outputs": [
    {
     "data": {
      "image/png": "[encoded data removed]",
      "text/plain": [
       "<Figure size 360x360 with 1 Axes>"
      ]
     },
     "metadata": {
      "needs_background": "light"
     },
     "output_type": "display_data"
    }
   ],
   "source": [
    "rhc_cr = rhc_run_curves.groupby(['Iteration','Restarts']).agg({'Fitness':'mean'}).reset_index()\n",
    "ax = rhc_cr.pivot_table(values=\"Fitness\", index=\"Iteration\", columns=\"Restarts\").plot(lw=2, colormap='jet', legend=True\n",
    "                                                                                          , grid=1, marker='.', \n",
    "                                                                                          markersize=2,\n",
    "                                                                                          title='RHC - Restarts')\n",
    "ax.set_xlabel(\"Iteration\")\n",
    "ax.set_ylabel(\"Fitness\")\n",
    "fig = ax.get_figure()\n",
    "fig.savefig('../images/NQueens/nQueen_rhc_restarts.png')"
   ]
  },
  {
   "cell_type": "markdown",
   "id": "7ac495f1",
   "metadata": {},
   "source": [
    "<h3>SA</h3>"
   ]
  },
  {
   "cell_type": "code",
   "execution_count": 86,
   "id": "2d975c8a",
   "metadata": {},
   "outputs": [
    {
     "name": "stdout",
     "output_type": "stream",
     "text": [
      "Wall time: 11.2 s\n"
     ]
    }
   ],
   "source": [
    "%%time\n",
    "\n",
    "problem = mlrose_hiive.DiscreteOpt(length = number_of_queens, fitness_fn = fitness_cust, \n",
    "                             maximize = True, max_val = number_of_queens)\n",
    "\n",
    "sa = mlrose_hiive.SARunner(problem,\n",
    "                            experiment_name=experiment_name+ \"_SA\",\n",
    "                            output_directory=output_directory, \n",
    "                           iteration_list=[500],\n",
    "                           temperature_list=[ 0.05, 0.1, 0.5, 1, 10, 20, 25],\n",
    "                   decay_list=[mlrose_hiive.GeomDecay, mlrose_hiive.ExpDecay, mlrose_hiive.ArithDecay],\n",
    "#                            temperature_list=[1, 10, 50, 100, 250],\n",
    "#                            decay_list=[mlrose_hiive.ExpDecay,\n",
    "#                                        mlrose_hiive.GeomDecay],\n",
    "                           seed=33, max_attempts=100)\n",
    "\n",
    "sa_run_stats, sa_run_curves = sa.run()   "
   ]
  },
  {
   "cell_type": "code",
   "execution_count": 93,
   "id": "e01042c3",
   "metadata": {},
   "outputs": [
    {
     "name": "stdout",
     "output_type": "stream",
     "text": [
      "514.5714285714286 524.0 979\n",
      "0.4915355619048655\n"
     ]
    }
   ],
   "source": [
    "last_iters = sa_run_stats[sa_run_stats.Iteration != 0].reset_index()\n",
    "print(last_iters.Fitness.mean(), last_iters.Fitness.max(), last_iters.FEvals.max())\n",
    "print(last_iters.Time.mean())"
   ]
  },
  {
   "cell_type": "code",
   "execution_count": 88,
   "id": "c5ecb39f",
   "metadata": {},
   "outputs": [
    {
     "name": "stdout",
     "output_type": "stream",
     "text": [
      "0.37879576666697784\n",
      "0.3913407333323751\n",
      "0.4205684666679493\n",
      "0.4656363000006725\n",
      "0.5749544333327018\n",
      "0.5937353333344314\n",
      "0.6157178999989507\n",
      "0.4915355619048655\n"
     ]
    }
   ],
   "source": [
    "print(last_iters.loc[last_iters.schedule_init_temp == 0.05, \"Time\"].mean())\n",
    "print(last_iters.loc[last_iters.schedule_init_temp == 0.1, \"Time\"].mean())\n",
    "print(last_iters.loc[last_iters.schedule_init_temp == 0.5, \"Time\"].mean())\n",
    "print(last_iters.loc[last_iters.schedule_init_temp == 1, \"Time\"].mean())\n",
    "print(last_iters.loc[last_iters.schedule_init_temp == 10, \"Time\"].mean())\n",
    "print(last_iters.loc[last_iters.schedule_init_temp == 20, \"Time\"].mean())\n",
    "print(last_iters.loc[last_iters.schedule_init_temp == 25, \"Time\"].mean())\n",
    "print(last_iters.loc[:, \"Time\"].mean())"
   ]
  },
  {
   "cell_type": "code",
   "execution_count": 89,
   "id": "e3d77122",
   "metadata": {},
   "outputs": [
    {
     "data": {
      "text/plain": [
       "GeomDecay(init_temp=0.05, decay=0.99, min_temp=0.001)"
      ]
     },
     "execution_count": 89,
     "metadata": {},
     "output_type": "execute_result"
    }
   ],
   "source": [
    "best_index_in_curve = sa_run_curves.Fitness.idxmax()\n",
    "best_decay = sa_run_curves.iloc[best_index_in_curve].Temperature\n",
    "best_curve_sa = sa_run_curves.loc[sa_run_curves.Temperature == best_decay, :]\n",
    "best_curve_sa.reset_index(inplace=True)\n",
    "best_decay"
   ]
  },
  {
   "cell_type": "code",
   "execution_count": 90,
   "id": "1490139b",
   "metadata": {},
   "outputs": [
    {
     "data": {
      "text/plain": [
       "Iteration           500\n",
       "Time           0.367428\n",
       "Fitness           524.0\n",
       "FEvals            588.0\n",
       "Temperature        0.05\n",
       "max_iters           500\n",
       "Name: 500, dtype: object"
      ]
     },
     "execution_count": 90,
     "metadata": {},
     "output_type": "execute_result"
    }
   ],
   "source": [
    "best_index_in_SA_curve = sa_run_curves.Fitness.idxmax()\n",
    "sa_run_curves.iloc[best_index_in_SA_curve]"
   ]
  },
  {
   "cell_type": "code",
   "execution_count": 91,
   "id": "fa70727f",
   "metadata": {},
   "outputs": [],
   "source": [
    "dfp = pd.DataFrame(sa_run_curves)\n",
    "dfp = dfp.astype({'Temperature':'string'})"
   ]
  },
  {
   "cell_type": "code",
   "execution_count": 92,
   "id": "468c4bf1",
   "metadata": {},
   "outputs": [
    {
     "data": {
      "image/png": "[encoded data removed]",
      "text/plain": [
       "<Figure size 360x360 with 1 Axes>"
      ]
     },
     "metadata": {
      "needs_background": "light"
     },
     "output_type": "display_data"
    }
   ],
   "source": [
    "sa_ps = dfp.groupby(['Iteration','Temperature']).agg({'Fitness':'mean'}).reset_index()\n",
    "ax = sa_ps.pivot_table(values=\"Fitness\", index=\"Iteration\", columns=\"Temperature\").plot(lw=2, colormap='jet', \n",
    "                                                                                             grid=1, marker='.', \n",
    "                                                                                          markersize=2,\n",
    "                                                                                          title='SA - Temperature')\n",
    "ax.set_xlabel(\"Iteration\")\n",
    "ax.set_ylabel(\"Fitness\")\n",
    "fig = ax.get_figure()\n",
    "fig.savefig('../images/NQueens/nQueen_sa_Temp.png')"
   ]
  },
  {
   "cell_type": "code",
   "execution_count": 38,
   "id": "e24c56d3",
   "metadata": {},
   "outputs": [
    {
     "data": {
      "text/plain": [
       "Text(0, 0.5, 'Value')"
      ]
     },
     "execution_count": 38,
     "metadata": {},
     "output_type": "execute_result"
    },
    {
     "data": {
      "image/png": "[encoded data removed]",
      "text/plain": [
       "<Figure size 864x576 with 1 Axes>"
      ]
     },
     "metadata": {
      "needs_background": "light"
     },
     "output_type": "display_data"
    }
   ],
   "source": [
    "ax = best_curve_sa.Fitness.plot(lw=2, colormap='jet', marker='.', markersize=2, \n",
    "                             figsize=(12,8), grid=1,\n",
    "                             title='Best Simulated Annealing')\n",
    "ax.set_xlabel(\"Iterations\")\n",
    "ax.set_ylabel(\"Value\")\n"
   ]
  },
  {
   "cell_type": "markdown",
   "id": "47087d94",
   "metadata": {},
   "source": [
    "<h3>GA</h3>"
   ]
  },
  {
   "cell_type": "code",
   "execution_count": 39,
   "id": "465fdba0",
   "metadata": {},
   "outputs": [
    {
     "name": "stdout",
     "output_type": "stream",
     "text": [
      "Wall time: 56.3 s\n"
     ]
    }
   ],
   "source": [
    "%%time\n",
    "\n",
    "problem = mlrose_hiive.DiscreteOpt(length = number_of_queens, fitness_fn = fitness_cust, \n",
    "                             maximize = True, max_val = number_of_queens)\n",
    "\n",
    "ga = mlrose_hiive.GARunner(problem=problem,\n",
    "                        experiment_name=experiment_name+ \"_GA\",\n",
    "                        output_directory=output_directory,\n",
    "                          seed=44,\n",
    "                          iteration_list=[200],\n",
    "                          population_sizes=[20,50,100],\n",
    "                          mutation_rates=[0.1, 0.25, 0.5])\n",
    "ga_run_stats, ga_run_curves = ga.run()   "
   ]
  },
  {
   "cell_type": "code",
   "execution_count": 40,
   "id": "e495267f",
   "metadata": {},
   "outputs": [
    {
     "name": "stdout",
     "output_type": "stream",
     "text": [
      "Max and mean\n",
      "525.0 522.6666666666666 6.243584055555528\n",
      "Mutation Rate\n",
      "0.10    522.666667\n",
      "0.25    523.333333\n",
      "0.50    522.000000\n",
      "Name: Fitness, dtype: float64\n",
      "Population Size\n",
      "20     520.333333\n",
      "50     523.000000\n",
      "100    524.666667\n",
      "Name: Fitness, dtype: float64\n",
      "Population Size\n",
      "20      2.253979\n",
      "50      5.491923\n",
      "100    10.984850\n",
      "Name: Time, dtype: float64\n"
     ]
    }
   ],
   "source": [
    "\n",
    "last_iters = ga_run_stats[ga_run_stats.Iteration != 0].reset_index()\n",
    "print(\"Max and mean\")\n",
    "print(last_iters.Fitness.max(), last_iters.Fitness.mean(), last_iters.Time.mean())\n",
    "print(last_iters.groupby(\"Mutation Rate\").Fitness.mean())\n",
    "print(last_iters.groupby(\"Population Size\").Fitness.mean())\n",
    "print(last_iters.groupby(\"Population Size\").Time.mean())"
   ]
  },
  {
   "cell_type": "code",
   "execution_count": 41,
   "id": "35092fe6",
   "metadata": {},
   "outputs": [
    {
     "data": {
      "text/plain": [
       "Iteration           121.000000\n",
       "Time                  1.380579\n",
       "Fitness             525.000000\n",
       "FEvals             6236.000000\n",
       "Population Size      50.000000\n",
       "Mutation Rate         0.250000\n",
       "max_iters           200.000000\n",
       "Name: 925, dtype: float64"
      ]
     },
     "execution_count": 41,
     "metadata": {},
     "output_type": "execute_result"
    }
   ],
   "source": [
    "best_index_in_GA_curve = ga_run_curves.Fitness.idxmax()\n",
    "ga_run_curves.iloc[best_index_in_GA_curve]\n"
   ]
  },
  {
   "cell_type": "code",
   "execution_count": 42,
   "id": "76e3f163",
   "metadata": {},
   "outputs": [
    {
     "data": {
      "text/plain": [
       "50.0"
      ]
     },
     "execution_count": 42,
     "metadata": {},
     "output_type": "execute_result"
    }
   ],
   "source": [
    "best_p_size_ga = ga_run_curves.iloc[best_index_in_GA_curve]['Population Size'] \n",
    "best_m_rate = ga_run_curves.iloc[best_index_in_GA_curve]['Mutation Rate']  \n",
    "best_curve_ga = ga_run_curves.loc[ga_run_curves['Population Size'] == best_p_size_ga, :]\n",
    "best_curve_ga = best_curve_ga.loc[best_curve_ga['Mutation Rate'] == best_m_rate, :]\n",
    "best_curve_ga.reset_index(inplace=True)\n",
    "best_p_size_ga"
   ]
  },
  {
   "cell_type": "code",
   "execution_count": 43,
   "id": "f0e4ecb2",
   "metadata": {},
   "outputs": [
    {
     "data": {
      "text/plain": [
       "Text(0, 0.5, 'Value')"
      ]
     },
     "execution_count": 43,
     "metadata": {},
     "output_type": "execute_result"
    },
    {
     "data": {
      "image/png": "[encoded data removed]",
      "text/plain": [
       "<Figure size 864x576 with 1 Axes>"
      ]
     },
     "metadata": {
      "needs_background": "light"
     },
     "output_type": "display_data"
    }
   ],
   "source": [
    "ax = best_curve_ga.Fitness.plot(lw=2, colormap='jet', marker='.', markersize=2, \n",
    "                             figsize=(12,8), grid=1,\n",
    "                             title='Best GA Search')\n",
    "ax.set_xlabel(\"Iterations\")\n",
    "ax.set_ylabel(\"Value\")"
   ]
  },
  {
   "cell_type": "code",
   "execution_count": 44,
   "id": "494665b8",
   "metadata": {},
   "outputs": [
    {
     "data": {
      "text/html": [
       "<div>\n",
       "<style scoped>\n",
       "    .dataframe tbody tr th:only-of-type {\n",
       "        vertical-align: middle;\n",
       "    }\n",
       "\n",
       "    .dataframe tbody tr th {\n",
       "        vertical-align: top;\n",
       "    }\n",
       "\n",
       "    .dataframe thead th {\n",
       "        text-align: right;\n",
       "    }\n",
       "</style>\n",
       "<table border=\"1\" class=\"dataframe\">\n",
       "  <thead>\n",
       "    <tr style=\"text-align: right;\">\n",
       "      <th></th>\n",
       "      <th>Iteration</th>\n",
       "      <th>Time</th>\n",
       "      <th>Fitness</th>\n",
       "      <th>FEvals</th>\n",
       "      <th>Population Size</th>\n",
       "      <th>Mutation Rate</th>\n",
       "      <th>max_iters</th>\n",
       "    </tr>\n",
       "  </thead>\n",
       "  <tbody>\n",
       "    <tr>\n",
       "      <th>0</th>\n",
       "      <td>0</td>\n",
       "      <td>0.010298</td>\n",
       "      <td>491.0</td>\n",
       "      <td>20.0</td>\n",
       "      <td>20</td>\n",
       "      <td>0.1</td>\n",
       "      <td>200</td>\n",
       "    </tr>\n",
       "    <tr>\n",
       "      <th>1</th>\n",
       "      <td>1</td>\n",
       "      <td>0.029676</td>\n",
       "      <td>501.0</td>\n",
       "      <td>42.0</td>\n",
       "      <td>20</td>\n",
       "      <td>0.1</td>\n",
       "      <td>200</td>\n",
       "    </tr>\n",
       "    <tr>\n",
       "      <th>2</th>\n",
       "      <td>2</td>\n",
       "      <td>0.040759</td>\n",
       "      <td>501.0</td>\n",
       "      <td>63.0</td>\n",
       "      <td>20</td>\n",
       "      <td>0.1</td>\n",
       "      <td>200</td>\n",
       "    </tr>\n",
       "    <tr>\n",
       "      <th>3</th>\n",
       "      <td>3</td>\n",
       "      <td>0.051839</td>\n",
       "      <td>501.0</td>\n",
       "      <td>84.0</td>\n",
       "      <td>20</td>\n",
       "      <td>0.1</td>\n",
       "      <td>200</td>\n",
       "    </tr>\n",
       "    <tr>\n",
       "      <th>4</th>\n",
       "      <td>4</td>\n",
       "      <td>0.062890</td>\n",
       "      <td>502.0</td>\n",
       "      <td>106.0</td>\n",
       "      <td>20</td>\n",
       "      <td>0.1</td>\n",
       "      <td>200</td>\n",
       "    </tr>\n",
       "    <tr>\n",
       "      <th>...</th>\n",
       "      <td>...</td>\n",
       "      <td>...</td>\n",
       "      <td>...</td>\n",
       "      <td>...</td>\n",
       "      <td>...</td>\n",
       "      <td>...</td>\n",
       "      <td>...</td>\n",
       "    </tr>\n",
       "    <tr>\n",
       "      <th>1804</th>\n",
       "      <td>196</td>\n",
       "      <td>2.200580</td>\n",
       "      <td>524.0</td>\n",
       "      <td>19911.0</td>\n",
       "      <td>100</td>\n",
       "      <td>0.5</td>\n",
       "      <td>200</td>\n",
       "    </tr>\n",
       "    <tr>\n",
       "      <th>1805</th>\n",
       "      <td>197</td>\n",
       "      <td>2.211873</td>\n",
       "      <td>524.0</td>\n",
       "      <td>20012.0</td>\n",
       "      <td>100</td>\n",
       "      <td>0.5</td>\n",
       "      <td>200</td>\n",
       "    </tr>\n",
       "    <tr>\n",
       "      <th>1806</th>\n",
       "      <td>198</td>\n",
       "      <td>2.222654</td>\n",
       "      <td>525.0</td>\n",
       "      <td>20114.0</td>\n",
       "      <td>100</td>\n",
       "      <td>0.5</td>\n",
       "      <td>200</td>\n",
       "    </tr>\n",
       "    <tr>\n",
       "      <th>1807</th>\n",
       "      <td>199</td>\n",
       "      <td>2.233613</td>\n",
       "      <td>525.0</td>\n",
       "      <td>20215.0</td>\n",
       "      <td>100</td>\n",
       "      <td>0.5</td>\n",
       "      <td>200</td>\n",
       "    </tr>\n",
       "    <tr>\n",
       "      <th>1808</th>\n",
       "      <td>200</td>\n",
       "      <td>2.244006</td>\n",
       "      <td>525.0</td>\n",
       "      <td>20316.0</td>\n",
       "      <td>100</td>\n",
       "      <td>0.5</td>\n",
       "      <td>200</td>\n",
       "    </tr>\n",
       "  </tbody>\n",
       "</table>\n",
       "<p>1809 rows × 7 columns</p>\n",
       "</div>"
      ],
      "text/plain": [
       "      Iteration      Time  Fitness   FEvals  Population Size  Mutation Rate  \\\n",
       "0             0  0.010298    491.0     20.0               20            0.1   \n",
       "1             1  0.029676    501.0     42.0               20            0.1   \n",
       "2             2  0.040759    501.0     63.0               20            0.1   \n",
       "3             3  0.051839    501.0     84.0               20            0.1   \n",
       "4             4  0.062890    502.0    106.0               20            0.1   \n",
       "...         ...       ...      ...      ...              ...            ...   \n",
       "1804        196  2.200580    524.0  19911.0              100            0.5   \n",
       "1805        197  2.211873    524.0  20012.0              100            0.5   \n",
       "1806        198  2.222654    525.0  20114.0              100            0.5   \n",
       "1807        199  2.233613    525.0  20215.0              100            0.5   \n",
       "1808        200  2.244006    525.0  20316.0              100            0.5   \n",
       "\n",
       "      max_iters  \n",
       "0           200  \n",
       "1           200  \n",
       "2           200  \n",
       "3           200  \n",
       "4           200  \n",
       "...         ...  \n",
       "1804        200  \n",
       "1805        200  \n",
       "1806        200  \n",
       "1807        200  \n",
       "1808        200  \n",
       "\n",
       "[1809 rows x 7 columns]"
      ]
     },
     "execution_count": 44,
     "metadata": {},
     "output_type": "execute_result"
    }
   ],
   "source": [
    "ga_run_curves"
   ]
  },
  {
   "cell_type": "code",
   "execution_count": 45,
   "id": "f0641c3d",
   "metadata": {},
   "outputs": [
    {
     "data": {
      "image/png": "[encoded data removed]",
      "text/plain": [
       "<Figure size 432x288 with 1 Axes>"
      ]
     },
     "metadata": {
      "needs_background": "light"
     },
     "output_type": "display_data"
    }
   ],
   "source": [
    "ga_ps = ga_run_curves.groupby(['Iteration','Population Size']).agg({'Fitness':'mean'}).reset_index()\n",
    "ax = ga_ps.pivot_table(values=\"Fitness\", index=\"Iteration\", columns=\"Population Size\").plot(lw=2, colormap='jet', \n",
    "                                                                                             grid=1, marker='.', \n",
    "                                                                                          markersize=2,\n",
    "                                                                                          title='GA - Population Size')\n",
    "ax.set_xlabel(\"Iteration\")\n",
    "ax.set_ylabel(\"Fitness\")\n",
    "fig = ax.get_figure()\n",
    "fig.savefig('../images/NQueens/nQueen_ga_p_size.png')"
   ]
  },
  {
   "cell_type": "code",
   "execution_count": 46,
   "id": "9ceb4e95",
   "metadata": {},
   "outputs": [
    {
     "data": {
      "image/png": "[encoded data removed]",
      "text/plain": [
       "<Figure size 432x288 with 1 Axes>"
      ]
     },
     "metadata": {
      "needs_background": "light"
     },
     "output_type": "display_data"
    }
   ],
   "source": [
    "ga_mutaion = ga_run_curves.groupby(['Iteration','Mutation Rate']).agg({'Fitness':'mean'}).reset_index()\n",
    "ax = ga_mutaion.pivot_table(values=\"Fitness\", index=\"Iteration\", columns=\"Mutation Rate\").plot(lw=2, colormap='jet', \n",
    "                                                                                             grid=1, marker='.', \n",
    "                                                                                          markersize=2,\n",
    "                                                                                          title='GA - Mutation Rate')\n",
    "ax.set_xlabel(\"Iteration\")\n",
    "ax.set_ylabel(\"Fitness\")\n",
    "fig = ax.get_figure()\n",
    "fig.savefig('../images/NQueens/nQueen_ga_M_Rate.png')"
   ]
  },
  {
   "cell_type": "code",
   "execution_count": 47,
   "id": "7f566788",
   "metadata": {},
   "outputs": [
    {
     "data": {
      "image/png": "[encoded data removed]",
      "text/plain": [
       "<Figure size 432x288 with 1 Axes>"
      ]
     },
     "metadata": {
      "needs_background": "light"
     },
     "output_type": "display_data"
    }
   ],
   "source": [
    "all_curves = {\"Random Hill Climb\": best_curve_rhc.Fitness, \"Simulated Annealing\": best_curve_sa.Fitness, \"Genetic Alg\": best_curve_ga.Fitness, \"MIMIC\": best_curve_mmc.Fitness}\n",
    "\n",
    "np.array([len(x) for x in all_curves]).max()\n",
    "\n",
    "plt.xlabel(\"Iterations\")\n",
    "plt.ylabel(\"Fitness\")\n",
    "plt.title(\"NQueens Fitness Score Comparisson\")\n",
    "\n",
    "for name, curve in all_curves.items():\n",
    "    plt.plot(range(len(curve)), curve, label=name, lw=2)\n",
    "\n",
    "    plt.legend(loc=\"best\")\n",
    "plt.grid(visible=True)\n",
    "plt.savefig('../images/NQueens/nQueen_f_score_compare.png')\n",
    "plt.show()"
   ]
  },
  {
   "cell_type": "code",
   "execution_count": 48,
   "id": "c74bbbbd",
   "metadata": {},
   "outputs": [
    {
     "data": {
      "image/png": "[encoded data removed]",
      "text/plain": [
       "<Figure size 432x288 with 1 Axes>"
      ]
     },
     "metadata": {
      "needs_background": "light"
     },
     "output_type": "display_data"
    }
   ],
   "source": [
    "all_curves = {\"Random Hill Climb\": best_curve_rhc.FEvals, \"Simulated Annealing\": best_curve_sa.FEvals, \"Genetic Alg\": best_curve_ga.FEvals, \"MIMIC\": best_curve_mmc.FEvals}\n",
    "np.array([len(x) for x in all_curves]).max()\n",
    "\n",
    "plt.xlabel(\"Iterations\")\n",
    "plt.ylabel(\"Function Evals\")\n",
    "plt.title(\"NQueens Function Evals Comparisson\")\n",
    "\n",
    "for name, curve in all_curves.items():\n",
    "    plt.plot(range(len(curve)), curve, label=name, lw=2)\n",
    "\n",
    "    plt.legend(loc=\"best\")\n",
    "plt.grid(visible=True)\n",
    "plt.savefig('../images/NQueens/nQueen_f_evals_compare.png')\n",
    "plt.show()"
   ]
  },
  {
   "cell_type": "code",
   "execution_count": 49,
   "id": "2a7fa437",
   "metadata": {},
   "outputs": [],
   "source": [
    "def train_and_time(algo, times, fitness):\n",
    "    start = time.clock()\n",
    "    #print(algo())\n",
    "    best_state, best_fitness,_ = algo()\n",
    "    end = time.clock()\n",
    "    times.append(end - start)\n",
    "    fitness.append(best_fitness)\n",
    "    "
   ]
  },
  {
   "cell_type": "code",
   "execution_count": 97,
   "id": "6a0b4a11",
   "metadata": {},
   "outputs": [
    {
     "name": "stdout",
     "output_type": "stream",
     "text": [
      "N Queens Problem with  10  Queens &  55 Attacks\n",
      "N Queens Problem with  18  Queens &  171 Attacks\n",
      "N Queens Problem with  26  Queens &  351 Attacks\n",
      "N Queens Problem with  34  Queens &  595 Attacks\n",
      "N Queens Problem with  42  Queens &  903 Attacks\n",
      "N Queens Problem with  50  Queens &  1275 Attacks\n",
      "N Queens Problem with  58  Queens &  1711 Attacks\n"
     ]
    },
    {
     "data": {
      "image/png": "[encoded data removed]",
      "text/plain": [
       "<Figure size 360x360 with 1 Axes>"
      ]
     },
     "metadata": {
      "needs_background": "light"
     },
     "output_type": "display_data"
    },
    {
     "data": {
      "image/png": "[encoded data removed]",
      "text/plain": [
       "<Figure size 360x360 with 1 Axes>"
      ]
     },
     "metadata": {
      "needs_background": "light"
     },
     "output_type": "display_data"
    }
   ],
   "source": [
    "import time\n",
    "####### Nqueens\n",
    "\n",
    "cp_hill_times = []\n",
    "cp_hill_scores = []\n",
    "cp_hill_curves = []\n",
    "cp_anneal_times = []\n",
    "cp_anneal_scores = []\n",
    "cp_anneal_curves = []\n",
    "cp_genetic_times = []\n",
    "cp_genetic_scores = []\n",
    "cp_genetic_curves = []\n",
    "cp_mimic_times = []\n",
    "cp_mimic_scores = []\n",
    "cp_mimic_curves = []\n",
    "\n",
    "def possible_attacks(number_of_queens):\n",
    "    possible_attack = 0\n",
    "    for i in range(number_of_queens,0,-1):\n",
    "        possible_attack += i\n",
    "    return possible_attack\n",
    "\n",
    "#custom Fitness\n",
    "def queeens_max(state):\n",
    "    fitness_cnt = 0\n",
    "    for i in range(len(state)-1):\n",
    "        for j in range(i+1, len(state)):\n",
    "            # check for attacking pairs\n",
    "            if (state[j] != state[i]) \\\n",
    "                and (state[j] != state[i] + (j-i)) \\\n",
    "                and (state[j] != state[i] - (j-i)):\n",
    "                \n",
    "                # if noa attack\n",
    "                fitness_cnt +=1\n",
    "\n",
    "    return fitness_cnt\n",
    "\n",
    "fitness_cust = mlrose_hiive.CustomFitness(queeens_max)\n",
    "\n",
    "\n",
    "def run_nQueens(num_points):\n",
    "    print (\"N Queens Problem with \", num_points, \" Queens & \", possible_attacks(num_points), 'Attacks')\n",
    "    \n",
    "    n_queens_p = mlrose_hiive.DiscreteOpt(length = num_points, fitness_fn = fitness_cust, maximize = True, max_val = num_points)\n",
    "    train_and_time(lambda : mlrose_hiive.random_hill_climb(problem=n_queens_p, restarts =100, max_iters= 500, max_attempts= 100, random_state=33),cp_hill_times, cp_hill_scores)\n",
    "    \n",
    "    n_queens_p = mlrose_hiive.DiscreteOpt(length = num_points, fitness_fn = fitness_cust, maximize = True, max_val = num_points)\n",
    "    train_and_time(lambda : mlrose_hiive.simulated_annealing(problem=n_queens_p, schedule= mlrose_hiive.GeomDecay(init_temp=0.5),max_iters=500, max_attempts= 100, random_state=33), cp_anneal_times, cp_anneal_scores)\n",
    "    \n",
    "    n_queens_p = mlrose_hiive.DiscreteOpt(length = num_points, fitness_fn = fitness_cust, maximize = True, max_val = num_points)\n",
    "    train_and_time(lambda : mlrose_hiive.genetic_alg(pop_size = 50, mutation_prob=0.25,  problem=n_queens_p, max_iters=200, max_attempts= 100, random_state=33), cp_genetic_times, cp_genetic_scores)\n",
    "    \n",
    "    n_queens_p = mlrose_hiive.DiscreteOpt(length = num_points, fitness_fn = fitness_cust, maximize = True, max_val = num_points)\n",
    "    train_and_time(lambda : mlrose_hiive.mimic(pop_size = 50, problem=n_queens_p, keep_pct= 0.4, max_iters=200, max_attempts= 100, random_state=33), cp_mimic_times, cp_mimic_scores)\n",
    "    \n",
    "#     train_and_time(lambda : mlrose_hiive.random_hill_climb(problem=n_queens_p, max_attempts=10),cp_hill_times, cp_hill_scores)\n",
    "#     train_and_time(lambda : mlrose_hiive.simulated_annealing(problem=n_queens_p, max_attempts=10), cp_anneal_times, cp_anneal_scores)\n",
    "#     train_and_time(lambda : mlrose_hiive.genetic_alg(pop_size = 30, problem=n_queens_p, max_attempts=10), cp_genetic_times, cp_genetic_scores)\n",
    "#     train_and_time(lambda : mlrose_hiive.mimic(pop_size = 30, problem=n_queens_p, max_attempts=10), cp_mimic_times, cp_mimic_scores)\n",
    "\n",
    "point_range = range(10,66,8)\n",
    "for p in point_range:\n",
    "    run_nQueens(p)\n",
    "plt.rcParams[\"figure.figsize\"] = (5,5)\n",
    "plt.plot(point_range,cp_hill_times,'-d',point_range,cp_anneal_times,'-d',point_range,cp_genetic_times,'-d',point_range,cp_mimic_times,'-d')\n",
    "plt.title(\"N Queens Problem\")\n",
    "plt.xlabel(\"No. of Queens\")\n",
    "plt.ylabel(\"Time\")\n",
    "plt.legend([\"random hill climb\", \"simulated annealing\",\"genetic algorithm\",\"mimic\"])\n",
    "plt.grid(visible=True)\n",
    "plt.savefig('../images/NQueens/nQueen_time.png')\n",
    "plt.show()\n",
    "\n",
    "plt.plot(point_range,cp_hill_scores,'-d',point_range,cp_anneal_scores,'-d',point_range,cp_genetic_scores,'-d',point_range,cp_mimic_scores,'-d')\n",
    "plt.title(\"N Queens Problem\")\n",
    "plt.xlabel(\"No. of Queens\")\n",
    "plt.ylabel(\"Highest Score\")\n",
    "plt.legend([\"random hill climb\", \"simulated annealing\",\"genetic algorithm\",\"mimic\"])\n",
    "plt.grid(visible=True)\n",
    "plt.savefig('../images/NQueens/nQueen_h_score.png')\n",
    "plt.show()"
   ]
  },
  {
   "cell_type": "code",
   "execution_count": null,
   "id": "ec347164",
   "metadata": {},
   "outputs": [],
   "source": []
  },
  {
   "cell_type": "code",
   "execution_count": null,
   "id": "c507ab66",
   "metadata": {},
   "outputs": [],
   "source": []
  }
 ],
 "metadata": {
  "kernelspec": {
   "display_name": "Python 3 (ipykernel)",
   "language": "python",
   "name": "python3"
  },
  "language_info": {
   "codemirror_mode": {
    "name": "ipython",
    "version": 3
   },
   "file_extension": ".py",
   "mimetype": "text/x-python",
   "name": "python",
   "nbconvert_exporter": "python",
   "pygments_lexer": "ipython3",
   "version": "3.7.13"
  }
 },
 "nbformat": 4,
 "nbformat_minor": 5
}
