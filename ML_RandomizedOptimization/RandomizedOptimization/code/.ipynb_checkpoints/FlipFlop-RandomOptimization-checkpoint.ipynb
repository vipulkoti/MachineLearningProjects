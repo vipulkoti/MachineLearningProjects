{
 "cells": [
  {
   "cell_type": "code",
   "execution_count": 39,
   "id": "92f88520",
   "metadata": {},
   "outputs": [],
   "source": [
    "import mlrose_hiive\n",
    "import numpy as np\n",
    "import pandas as pd\n",
    "import matplotlib.pyplot as plt\n",
    "import time\n"
   ]
  },
  {
   "cell_type": "markdown",
   "id": "0a8663fa",
   "metadata": {},
   "source": [
    "<h3>Filp Flop Problem</h3>"
   ]
  },
  {
   "cell_type": "code",
   "execution_count": 40,
   "id": "694e292c",
   "metadata": {},
   "outputs": [],
   "source": [
    "flip_len=150\n",
    "iteration = 200\n",
    "problem = mlrose_hiive.FlipFlopOpt(length=flip_len)\n",
    "experiment_name = \"Flip_Flop\"\n",
    "output_directory = \"Flip_Flop\""
   ]
  },
  {
   "cell_type": "markdown",
   "id": "3d0d53f4",
   "metadata": {},
   "source": [
    "<h3>MIMC</h3>"
   ]
  },
  {
   "cell_type": "code",
   "execution_count": 41,
   "id": "1cd682e7",
   "metadata": {},
   "outputs": [
    {
     "name": "stdout",
     "output_type": "stream",
     "text": [
      "Wall time: 1min 45s\n"
     ]
    }
   ],
   "source": [
    "%%time\n",
    "mmc = mlrose_hiive.MIMICRunner(problem=problem,\n",
    "                          experiment_name=experiment_name + \"_MIMIC\",\n",
    "                               output_directory=output_directory,\n",
    "                          seed=33,\n",
    "                          iteration_list=[200],\n",
    "                          max_attempts=100,\n",
    "                           population_sizes=[50, 100, 200],\n",
    "                           keep_percent_list=[0.1, 0.4, 0.8],\n",
    "#                           population_sizes=[20,50,100],\n",
    "#                           keep_percent_list=[0.25, 0.5, 0.75],\n",
    "                          use_fast_mimic=True)\n",
    "\n",
    "# the two data frames will contain the results\n",
    "mmc_run_stats, mmc_run_curves = mmc.run()"
   ]
  },
  {
   "cell_type": "code",
   "execution_count": 42,
   "id": "78adbe0d",
   "metadata": {},
   "outputs": [
    {
     "data": {
      "text/html": [
       "<div>\n",
       "<style scoped>\n",
       "    .dataframe tbody tr th:only-of-type {\n",
       "        vertical-align: middle;\n",
       "    }\n",
       "\n",
       "    .dataframe tbody tr th {\n",
       "        vertical-align: top;\n",
       "    }\n",
       "\n",
       "    .dataframe thead th {\n",
       "        text-align: right;\n",
       "    }\n",
       "</style>\n",
       "<table border=\"1\" class=\"dataframe\">\n",
       "  <thead>\n",
       "    <tr style=\"text-align: right;\">\n",
       "      <th></th>\n",
       "      <th>Iteration</th>\n",
       "      <th>Time</th>\n",
       "      <th>Fitness</th>\n",
       "      <th>FEvals</th>\n",
       "      <th>use_fast_mimic</th>\n",
       "      <th>Population Size</th>\n",
       "      <th>Keep Percent</th>\n",
       "      <th>max_iters</th>\n",
       "    </tr>\n",
       "  </thead>\n",
       "  <tbody>\n",
       "    <tr>\n",
       "      <th>0</th>\n",
       "      <td>0</td>\n",
       "      <td>0.003583</td>\n",
       "      <td>69.0</td>\n",
       "      <td>0.0</td>\n",
       "      <td>True</td>\n",
       "      <td>50</td>\n",
       "      <td>0.1</td>\n",
       "      <td>200</td>\n",
       "    </tr>\n",
       "    <tr>\n",
       "      <th>1</th>\n",
       "      <td>1</td>\n",
       "      <td>0.080432</td>\n",
       "      <td>87.0</td>\n",
       "      <td>2.0</td>\n",
       "      <td>True</td>\n",
       "      <td>50</td>\n",
       "      <td>0.1</td>\n",
       "      <td>200</td>\n",
       "    </tr>\n",
       "    <tr>\n",
       "      <th>2</th>\n",
       "      <td>2</td>\n",
       "      <td>0.116233</td>\n",
       "      <td>94.0</td>\n",
       "      <td>4.0</td>\n",
       "      <td>True</td>\n",
       "      <td>50</td>\n",
       "      <td>0.1</td>\n",
       "      <td>200</td>\n",
       "    </tr>\n",
       "    <tr>\n",
       "      <th>3</th>\n",
       "      <td>3</td>\n",
       "      <td>0.150480</td>\n",
       "      <td>94.0</td>\n",
       "      <td>5.0</td>\n",
       "      <td>True</td>\n",
       "      <td>50</td>\n",
       "      <td>0.1</td>\n",
       "      <td>200</td>\n",
       "    </tr>\n",
       "    <tr>\n",
       "      <th>4</th>\n",
       "      <td>4</td>\n",
       "      <td>0.185498</td>\n",
       "      <td>94.0</td>\n",
       "      <td>6.0</td>\n",
       "      <td>True</td>\n",
       "      <td>50</td>\n",
       "      <td>0.1</td>\n",
       "      <td>200</td>\n",
       "    </tr>\n",
       "    <tr>\n",
       "      <th>...</th>\n",
       "      <td>...</td>\n",
       "      <td>...</td>\n",
       "      <td>...</td>\n",
       "      <td>...</td>\n",
       "      <td>...</td>\n",
       "      <td>...</td>\n",
       "      <td>...</td>\n",
       "      <td>...</td>\n",
       "    </tr>\n",
       "    <tr>\n",
       "      <th>1147</th>\n",
       "      <td>176</td>\n",
       "      <td>4.016616</td>\n",
       "      <td>123.0</td>\n",
       "      <td>193.0</td>\n",
       "      <td>True</td>\n",
       "      <td>200</td>\n",
       "      <td>0.8</td>\n",
       "      <td>200</td>\n",
       "    </tr>\n",
       "    <tr>\n",
       "      <th>1148</th>\n",
       "      <td>177</td>\n",
       "      <td>4.072494</td>\n",
       "      <td>123.0</td>\n",
       "      <td>194.0</td>\n",
       "      <td>True</td>\n",
       "      <td>200</td>\n",
       "      <td>0.8</td>\n",
       "      <td>200</td>\n",
       "    </tr>\n",
       "    <tr>\n",
       "      <th>1149</th>\n",
       "      <td>178</td>\n",
       "      <td>4.138152</td>\n",
       "      <td>123.0</td>\n",
       "      <td>195.0</td>\n",
       "      <td>True</td>\n",
       "      <td>200</td>\n",
       "      <td>0.8</td>\n",
       "      <td>200</td>\n",
       "    </tr>\n",
       "    <tr>\n",
       "      <th>1150</th>\n",
       "      <td>179</td>\n",
       "      <td>4.217379</td>\n",
       "      <td>123.0</td>\n",
       "      <td>196.0</td>\n",
       "      <td>True</td>\n",
       "      <td>200</td>\n",
       "      <td>0.8</td>\n",
       "      <td>200</td>\n",
       "    </tr>\n",
       "    <tr>\n",
       "      <th>1151</th>\n",
       "      <td>180</td>\n",
       "      <td>4.278210</td>\n",
       "      <td>123.0</td>\n",
       "      <td>197.0</td>\n",
       "      <td>True</td>\n",
       "      <td>200</td>\n",
       "      <td>0.8</td>\n",
       "      <td>200</td>\n",
       "    </tr>\n",
       "  </tbody>\n",
       "</table>\n",
       "<p>1152 rows × 8 columns</p>\n",
       "</div>"
      ],
      "text/plain": [
       "      Iteration      Time  Fitness  FEvals  use_fast_mimic  Population Size  \\\n",
       "0             0  0.003583     69.0     0.0            True               50   \n",
       "1             1  0.080432     87.0     2.0            True               50   \n",
       "2             2  0.116233     94.0     4.0            True               50   \n",
       "3             3  0.150480     94.0     5.0            True               50   \n",
       "4             4  0.185498     94.0     6.0            True               50   \n",
       "...         ...       ...      ...     ...             ...              ...   \n",
       "1147        176  4.016616    123.0   193.0            True              200   \n",
       "1148        177  4.072494    123.0   194.0            True              200   \n",
       "1149        178  4.138152    123.0   195.0            True              200   \n",
       "1150        179  4.217379    123.0   196.0            True              200   \n",
       "1151        180  4.278210    123.0   197.0            True              200   \n",
       "\n",
       "      Keep Percent  max_iters  \n",
       "0              0.1        200  \n",
       "1              0.1        200  \n",
       "2              0.1        200  \n",
       "3              0.1        200  \n",
       "4              0.1        200  \n",
       "...            ...        ...  \n",
       "1147           0.8        200  \n",
       "1148           0.8        200  \n",
       "1149           0.8        200  \n",
       "1150           0.8        200  \n",
       "1151           0.8        200  \n",
       "\n",
       "[1152 rows x 8 columns]"
      ]
     },
     "execution_count": 42,
     "metadata": {},
     "output_type": "execute_result"
    }
   ],
   "source": [
    "mmc_run_curves"
   ]
  },
  {
   "cell_type": "code",
   "execution_count": 43,
   "id": "e3c93a68",
   "metadata": {},
   "outputs": [
    {
     "name": "stdout",
     "output_type": "stream",
     "text": [
      "Max and mean\n",
      "127.0 111.33333333333333 11.735062055554913\n",
      "Keep Percent\n",
      "0.1    106.000000\n",
      "0.4    113.333333\n",
      "0.8    114.666667\n",
      "Name: Fitness, dtype: float64\n",
      "Population Size\n",
      "50      98.000000\n",
      "100    111.666667\n",
      "200    124.333333\n",
      "Name: Fitness, dtype: float64\n",
      "Population Size\n",
      "50      6.681095\n",
      "100    10.485936\n",
      "200    18.038155\n",
      "Name: Time, dtype: float64\n"
     ]
    }
   ],
   "source": [
    "last_iters = mmc_run_stats[mmc_run_stats.Iteration != 0].reset_index()\n",
    "print(\"Max and mean\")\n",
    "print(last_iters.Fitness.max(), last_iters.Fitness.mean(), last_iters.Time.mean())\n",
    "print(last_iters.groupby(\"Keep Percent\").Fitness.mean())\n",
    "print(last_iters.groupby(\"Population Size\").Fitness.mean())\n",
    "print(last_iters.groupby(\"Population Size\").Time.mean())"
   ]
  },
  {
   "cell_type": "code",
   "execution_count": 44,
   "id": "eb4c1f92",
   "metadata": {},
   "outputs": [
    {
     "data": {
      "text/plain": [
       "Iteration                25\n",
       "Time               1.410193\n",
       "Fitness               127.0\n",
       "FEvals                 38.0\n",
       "use_fast_mimic         True\n",
       "Population Size         200\n",
       "Keep Percent            0.4\n",
       "max_iters               200\n",
       "Name: 870, dtype: object"
      ]
     },
     "execution_count": 44,
     "metadata": {},
     "output_type": "execute_result"
    }
   ],
   "source": [
    "best_index_in_mmc_curve = mmc_run_curves.Fitness.idxmax()\n",
    "mmc_run_curves.iloc[best_index_in_mmc_curve]\n"
   ]
  },
  {
   "cell_type": "code",
   "execution_count": 45,
   "id": "0ee08189",
   "metadata": {},
   "outputs": [
    {
     "data": {
      "text/plain": [
       "(200, 0.4)"
      ]
     },
     "execution_count": 45,
     "metadata": {},
     "output_type": "execute_result"
    }
   ],
   "source": [
    "best_p_size = mmc_run_curves.iloc[best_index_in_mmc_curve]['Population Size'] \n",
    "best_keep = mmc_run_curves.iloc[best_index_in_mmc_curve]['Keep Percent']  \n",
    "best_curve_mmc = mmc_run_curves.loc[mmc_run_curves['Population Size'] == best_p_size, :]\n",
    "best_curve_mmc = best_curve_mmc.loc[best_curve_mmc['Keep Percent'] == best_keep, :]\n",
    "best_curve_mmc.reset_index(inplace=True)\n",
    "best_p_size, best_keep\n"
   ]
  },
  {
   "cell_type": "code",
   "execution_count": 46,
   "id": "4ff406ec",
   "metadata": {},
   "outputs": [
    {
     "data": {
      "text/plain": [
       "Text(0, 0.5, 'Value')"
      ]
     },
     "execution_count": 46,
     "metadata": {},
     "output_type": "execute_result"
    },
    {
     "data": {
      "image/png": "[encoded data removed]",
      "text/plain": [
       "<Figure size 864x576 with 1 Axes>"
      ]
     },
     "metadata": {
      "needs_background": "light"
     },
     "output_type": "display_data"
    }
   ],
   "source": [
    "ax = best_curve_mmc.Fitness.plot(lw=2, colormap='jet', marker='.', markersize=2, \n",
    "                             figsize=(12,8), grid=1,\n",
    "                             title='Best MMC Search')\n",
    "ax.set_xlabel(\"Iterations\")\n",
    "ax.set_ylabel(\"Value\")"
   ]
  },
  {
   "cell_type": "code",
   "execution_count": 47,
   "id": "fb9822a2",
   "metadata": {},
   "outputs": [
    {
     "data": {
      "text/plain": [
       "Text(0, 0.5, 'Value')"
      ]
     },
     "execution_count": 47,
     "metadata": {},
     "output_type": "execute_result"
    },
    {
     "data": {
      "image/png": "[encoded data removed]",
      "text/plain": [
       "<Figure size 864x576 with 1 Axes>"
      ]
     },
     "metadata": {
      "needs_background": "light"
     },
     "output_type": "display_data"
    }
   ],
   "source": [
    "ax = best_curve_mmc.FEvals.plot(lw=2, colormap='jet', marker='.', markersize=2, \n",
    "                             figsize=(12,8), grid=1,\n",
    "                             title='FEvals Best MMC Search')\n",
    "ax.set_xlabel(\"Iterations\")\n",
    "ax.set_ylabel(\"Value\")"
   ]
  },
  {
   "cell_type": "code",
   "execution_count": 48,
   "id": "3877be3e",
   "metadata": {},
   "outputs": [
    {
     "data": {
      "text/html": [
       "<div>\n",
       "<style scoped>\n",
       "    .dataframe tbody tr th:only-of-type {\n",
       "        vertical-align: middle;\n",
       "    }\n",
       "\n",
       "    .dataframe tbody tr th {\n",
       "        vertical-align: top;\n",
       "    }\n",
       "\n",
       "    .dataframe thead th {\n",
       "        text-align: right;\n",
       "    }\n",
       "</style>\n",
       "<table border=\"1\" class=\"dataframe\">\n",
       "  <thead>\n",
       "    <tr style=\"text-align: right;\">\n",
       "      <th></th>\n",
       "      <th>Iteration</th>\n",
       "      <th>Time</th>\n",
       "      <th>Fitness</th>\n",
       "      <th>FEvals</th>\n",
       "      <th>use_fast_mimic</th>\n",
       "      <th>Population Size</th>\n",
       "      <th>Keep Percent</th>\n",
       "      <th>max_iters</th>\n",
       "    </tr>\n",
       "  </thead>\n",
       "  <tbody>\n",
       "    <tr>\n",
       "      <th>0</th>\n",
       "      <td>0</td>\n",
       "      <td>0.003583</td>\n",
       "      <td>69.0</td>\n",
       "      <td>0.0</td>\n",
       "      <td>True</td>\n",
       "      <td>50</td>\n",
       "      <td>0.1</td>\n",
       "      <td>200</td>\n",
       "    </tr>\n",
       "    <tr>\n",
       "      <th>1</th>\n",
       "      <td>1</td>\n",
       "      <td>0.080432</td>\n",
       "      <td>87.0</td>\n",
       "      <td>2.0</td>\n",
       "      <td>True</td>\n",
       "      <td>50</td>\n",
       "      <td>0.1</td>\n",
       "      <td>200</td>\n",
       "    </tr>\n",
       "    <tr>\n",
       "      <th>2</th>\n",
       "      <td>2</td>\n",
       "      <td>0.116233</td>\n",
       "      <td>94.0</td>\n",
       "      <td>4.0</td>\n",
       "      <td>True</td>\n",
       "      <td>50</td>\n",
       "      <td>0.1</td>\n",
       "      <td>200</td>\n",
       "    </tr>\n",
       "    <tr>\n",
       "      <th>3</th>\n",
       "      <td>3</td>\n",
       "      <td>0.150480</td>\n",
       "      <td>94.0</td>\n",
       "      <td>5.0</td>\n",
       "      <td>True</td>\n",
       "      <td>50</td>\n",
       "      <td>0.1</td>\n",
       "      <td>200</td>\n",
       "    </tr>\n",
       "    <tr>\n",
       "      <th>4</th>\n",
       "      <td>4</td>\n",
       "      <td>0.185498</td>\n",
       "      <td>94.0</td>\n",
       "      <td>6.0</td>\n",
       "      <td>True</td>\n",
       "      <td>50</td>\n",
       "      <td>0.1</td>\n",
       "      <td>200</td>\n",
       "    </tr>\n",
       "    <tr>\n",
       "      <th>...</th>\n",
       "      <td>...</td>\n",
       "      <td>...</td>\n",
       "      <td>...</td>\n",
       "      <td>...</td>\n",
       "      <td>...</td>\n",
       "      <td>...</td>\n",
       "      <td>...</td>\n",
       "      <td>...</td>\n",
       "    </tr>\n",
       "    <tr>\n",
       "      <th>1147</th>\n",
       "      <td>176</td>\n",
       "      <td>4.016616</td>\n",
       "      <td>123.0</td>\n",
       "      <td>193.0</td>\n",
       "      <td>True</td>\n",
       "      <td>200</td>\n",
       "      <td>0.8</td>\n",
       "      <td>200</td>\n",
       "    </tr>\n",
       "    <tr>\n",
       "      <th>1148</th>\n",
       "      <td>177</td>\n",
       "      <td>4.072494</td>\n",
       "      <td>123.0</td>\n",
       "      <td>194.0</td>\n",
       "      <td>True</td>\n",
       "      <td>200</td>\n",
       "      <td>0.8</td>\n",
       "      <td>200</td>\n",
       "    </tr>\n",
       "    <tr>\n",
       "      <th>1149</th>\n",
       "      <td>178</td>\n",
       "      <td>4.138152</td>\n",
       "      <td>123.0</td>\n",
       "      <td>195.0</td>\n",
       "      <td>True</td>\n",
       "      <td>200</td>\n",
       "      <td>0.8</td>\n",
       "      <td>200</td>\n",
       "    </tr>\n",
       "    <tr>\n",
       "      <th>1150</th>\n",
       "      <td>179</td>\n",
       "      <td>4.217379</td>\n",
       "      <td>123.0</td>\n",
       "      <td>196.0</td>\n",
       "      <td>True</td>\n",
       "      <td>200</td>\n",
       "      <td>0.8</td>\n",
       "      <td>200</td>\n",
       "    </tr>\n",
       "    <tr>\n",
       "      <th>1151</th>\n",
       "      <td>180</td>\n",
       "      <td>4.278210</td>\n",
       "      <td>123.0</td>\n",
       "      <td>197.0</td>\n",
       "      <td>True</td>\n",
       "      <td>200</td>\n",
       "      <td>0.8</td>\n",
       "      <td>200</td>\n",
       "    </tr>\n",
       "  </tbody>\n",
       "</table>\n",
       "<p>1152 rows × 8 columns</p>\n",
       "</div>"
      ],
      "text/plain": [
       "      Iteration      Time  Fitness  FEvals  use_fast_mimic  Population Size  \\\n",
       "0             0  0.003583     69.0     0.0            True               50   \n",
       "1             1  0.080432     87.0     2.0            True               50   \n",
       "2             2  0.116233     94.0     4.0            True               50   \n",
       "3             3  0.150480     94.0     5.0            True               50   \n",
       "4             4  0.185498     94.0     6.0            True               50   \n",
       "...         ...       ...      ...     ...             ...              ...   \n",
       "1147        176  4.016616    123.0   193.0            True              200   \n",
       "1148        177  4.072494    123.0   194.0            True              200   \n",
       "1149        178  4.138152    123.0   195.0            True              200   \n",
       "1150        179  4.217379    123.0   196.0            True              200   \n",
       "1151        180  4.278210    123.0   197.0            True              200   \n",
       "\n",
       "      Keep Percent  max_iters  \n",
       "0              0.1        200  \n",
       "1              0.1        200  \n",
       "2              0.1        200  \n",
       "3              0.1        200  \n",
       "4              0.1        200  \n",
       "...            ...        ...  \n",
       "1147           0.8        200  \n",
       "1148           0.8        200  \n",
       "1149           0.8        200  \n",
       "1150           0.8        200  \n",
       "1151           0.8        200  \n",
       "\n",
       "[1152 rows x 8 columns]"
      ]
     },
     "execution_count": 48,
     "metadata": {},
     "output_type": "execute_result"
    }
   ],
   "source": [
    "mmc_run_curves"
   ]
  },
  {
   "cell_type": "code",
   "execution_count": 49,
   "id": "19dffd6c",
   "metadata": {},
   "outputs": [
    {
     "data": {
      "text/plain": [
       "Text(0, 0.5, 'Fitness')"
      ]
     },
     "execution_count": 49,
     "metadata": {},
     "output_type": "execute_result"
    },
    {
     "data": {
      "image/png": "[encoded data removed]",
      "text/plain": [
       "<Figure size 360x360 with 1 Axes>"
      ]
     },
     "metadata": {
      "needs_background": "light"
     },
     "output_type": "display_data"
    }
   ],
   "source": [
    "mmc_kp = mmc_run_curves.groupby(['Iteration','Keep Percent']).agg({'Fitness':'mean'}).reset_index()\n",
    "ax = mmc_kp.pivot_table(values=\"Fitness\", index=\"Iteration\", columns=\"Keep Percent\").plot(lw=2, colormap='jet', \n",
    "                                                                                          grid=1, marker='.', \n",
    "                                                                                          markersize=2,\n",
    "                                                                                          title='MMIC- KeepPercentage')\n",
    "ax.set_xlabel(\"Iteration\")\n",
    "ax.set_ylabel(\"Fitness\")"
   ]
  },
  {
   "cell_type": "code",
   "execution_count": 50,
   "id": "b3a0e47f",
   "metadata": {},
   "outputs": [
    {
     "data": {
      "text/plain": [
       "Text(0, 0.5, 'Fitness')"
      ]
     },
     "execution_count": 50,
     "metadata": {},
     "output_type": "execute_result"
    },
    {
     "data": {
      "image/png": "[encoded data removed]",
      "text/plain": [
       "<Figure size 360x360 with 1 Axes>"
      ]
     },
     "metadata": {
      "needs_background": "light"
     },
     "output_type": "display_data"
    }
   ],
   "source": [
    "mmc_p = mmc_run_curves.groupby(['Iteration','Population Size']).agg({'Fitness':'mean'}).reset_index()\n",
    "ax = mmc_p.pivot_table(values=\"Fitness\", index=\"Iteration\", columns=\"Population Size\").plot(lw=2, colormap='jet', \n",
    "                                                                                          grid=1, marker='.', \n",
    "                                                                                          markersize=2,\n",
    "                                                                                          title='MMIC- Population Size')\n",
    "ax.set_xlabel(\"Iteration\")\n",
    "ax.set_ylabel(\"Fitness\")"
   ]
  },
  {
   "cell_type": "markdown",
   "id": "cc86f212",
   "metadata": {},
   "source": [
    "<h3> RHC </h3>"
   ]
  },
  {
   "cell_type": "code",
   "execution_count": 51,
   "id": "5c8b3a91",
   "metadata": {},
   "outputs": [
    {
     "name": "stdout",
     "output_type": "stream",
     "text": [
      "Wall time: 2min 5s\n"
     ]
    }
   ],
   "source": [
    "%%time\n",
    "runner_return = mlrose_hiive.RHCRunner(problem,\n",
    "                                       experiment_name=experiment_name+ \"_RHC\",\n",
    "                                       output_directory=output_directory,\n",
    "                                       iteration_list=[200],\n",
    "                                       seed=33,\n",
    "                                       restart_list=[100], max_attempts=100)\n",
    "rhc_run_stats, rhc_run_curves = runner_return.run()"
   ]
  },
  {
   "cell_type": "code",
   "execution_count": 52,
   "id": "95b365e9",
   "metadata": {},
   "outputs": [
    {
     "data": {
      "text/html": [
       "<div>\n",
       "<style scoped>\n",
       "    .dataframe tbody tr th:only-of-type {\n",
       "        vertical-align: middle;\n",
       "    }\n",
       "\n",
       "    .dataframe tbody tr th {\n",
       "        vertical-align: top;\n",
       "    }\n",
       "\n",
       "    .dataframe thead th {\n",
       "        text-align: right;\n",
       "    }\n",
       "</style>\n",
       "<table border=\"1\" class=\"dataframe\">\n",
       "  <thead>\n",
       "    <tr style=\"text-align: right;\">\n",
       "      <th></th>\n",
       "      <th>Iteration</th>\n",
       "      <th>Time</th>\n",
       "      <th>Fitness</th>\n",
       "      <th>FEvals</th>\n",
       "      <th>Restarts</th>\n",
       "      <th>max_iters</th>\n",
       "      <th>current_restart</th>\n",
       "    </tr>\n",
       "  </thead>\n",
       "  <tbody>\n",
       "    <tr>\n",
       "      <th>0</th>\n",
       "      <td>0</td>\n",
       "      <td>0.000721</td>\n",
       "      <td>69.0</td>\n",
       "      <td>0.0</td>\n",
       "      <td>100</td>\n",
       "      <td>200</td>\n",
       "      <td>0</td>\n",
       "    </tr>\n",
       "    <tr>\n",
       "      <th>1</th>\n",
       "      <td>1</td>\n",
       "      <td>0.008058</td>\n",
       "      <td>69.0</td>\n",
       "      <td>1.0</td>\n",
       "      <td>100</td>\n",
       "      <td>200</td>\n",
       "      <td>0</td>\n",
       "    </tr>\n",
       "    <tr>\n",
       "      <th>2</th>\n",
       "      <td>2</td>\n",
       "      <td>0.008377</td>\n",
       "      <td>69.0</td>\n",
       "      <td>2.0</td>\n",
       "      <td>100</td>\n",
       "      <td>200</td>\n",
       "      <td>0</td>\n",
       "    </tr>\n",
       "    <tr>\n",
       "      <th>3</th>\n",
       "      <td>3</td>\n",
       "      <td>0.008688</td>\n",
       "      <td>69.0</td>\n",
       "      <td>3.0</td>\n",
       "      <td>100</td>\n",
       "      <td>200</td>\n",
       "      <td>0</td>\n",
       "    </tr>\n",
       "    <tr>\n",
       "      <th>4</th>\n",
       "      <td>4</td>\n",
       "      <td>0.009154</td>\n",
       "      <td>69.0</td>\n",
       "      <td>4.0</td>\n",
       "      <td>100</td>\n",
       "      <td>200</td>\n",
       "      <td>0</td>\n",
       "    </tr>\n",
       "    <tr>\n",
       "      <th>...</th>\n",
       "      <td>...</td>\n",
       "      <td>...</td>\n",
       "      <td>...</td>\n",
       "      <td>...</td>\n",
       "      <td>...</td>\n",
       "      <td>...</td>\n",
       "      <td>...</td>\n",
       "    </tr>\n",
       "    <tr>\n",
       "      <th>20168</th>\n",
       "      <td>196</td>\n",
       "      <td>0.098178</td>\n",
       "      <td>111.0</td>\n",
       "      <td>22148.0</td>\n",
       "      <td>100</td>\n",
       "      <td>200</td>\n",
       "      <td>100</td>\n",
       "    </tr>\n",
       "    <tr>\n",
       "      <th>20169</th>\n",
       "      <td>197</td>\n",
       "      <td>0.099012</td>\n",
       "      <td>111.0</td>\n",
       "      <td>22149.0</td>\n",
       "      <td>100</td>\n",
       "      <td>200</td>\n",
       "      <td>100</td>\n",
       "    </tr>\n",
       "    <tr>\n",
       "      <th>20170</th>\n",
       "      <td>198</td>\n",
       "      <td>0.099850</td>\n",
       "      <td>111.0</td>\n",
       "      <td>22150.0</td>\n",
       "      <td>100</td>\n",
       "      <td>200</td>\n",
       "      <td>100</td>\n",
       "    </tr>\n",
       "    <tr>\n",
       "      <th>20171</th>\n",
       "      <td>199</td>\n",
       "      <td>0.100699</td>\n",
       "      <td>111.0</td>\n",
       "      <td>22151.0</td>\n",
       "      <td>100</td>\n",
       "      <td>200</td>\n",
       "      <td>100</td>\n",
       "    </tr>\n",
       "    <tr>\n",
       "      <th>20172</th>\n",
       "      <td>200</td>\n",
       "      <td>0.101583</td>\n",
       "      <td>111.0</td>\n",
       "      <td>22152.0</td>\n",
       "      <td>100</td>\n",
       "      <td>200</td>\n",
       "      <td>100</td>\n",
       "    </tr>\n",
       "  </tbody>\n",
       "</table>\n",
       "<p>20173 rows × 7 columns</p>\n",
       "</div>"
      ],
      "text/plain": [
       "       Iteration      Time  Fitness   FEvals  Restarts  max_iters  \\\n",
       "0              0  0.000721     69.0      0.0       100        200   \n",
       "1              1  0.008058     69.0      1.0       100        200   \n",
       "2              2  0.008377     69.0      2.0       100        200   \n",
       "3              3  0.008688     69.0      3.0       100        200   \n",
       "4              4  0.009154     69.0      4.0       100        200   \n",
       "...          ...       ...      ...      ...       ...        ...   \n",
       "20168        196  0.098178    111.0  22148.0       100        200   \n",
       "20169        197  0.099012    111.0  22149.0       100        200   \n",
       "20170        198  0.099850    111.0  22150.0       100        200   \n",
       "20171        199  0.100699    111.0  22151.0       100        200   \n",
       "20172        200  0.101583    111.0  22152.0       100        200   \n",
       "\n",
       "       current_restart  \n",
       "0                    0  \n",
       "1                    0  \n",
       "2                    0  \n",
       "3                    0  \n",
       "4                    0  \n",
       "...                ...  \n",
       "20168              100  \n",
       "20169              100  \n",
       "20170              100  \n",
       "20171              100  \n",
       "20172              100  \n",
       "\n",
       "[20173 rows x 7 columns]"
      ]
     },
     "execution_count": 52,
     "metadata": {},
     "output_type": "execute_result"
    }
   ],
   "source": [
    "rhc_run_curves"
   ]
  },
  {
   "cell_type": "code",
   "execution_count": 53,
   "id": "edca45c1",
   "metadata": {},
   "outputs": [
    {
     "data": {
      "text/plain": [
       "79.0"
      ]
     },
     "execution_count": 53,
     "metadata": {},
     "output_type": "execute_result"
    }
   ],
   "source": [
    "best_index_in_curve = rhc_run_curves.Fitness.idxmax()\n",
    "best_decay = rhc_run_curves.iloc[best_index_in_curve].current_restart\n",
    "best_curve_rhc = rhc_run_curves.loc[rhc_run_curves.current_restart == best_decay, :]\n",
    "best_curve_rhc.reset_index(inplace=True)\n",
    "best_decay"
   ]
  },
  {
   "cell_type": "code",
   "execution_count": 54,
   "id": "aef44ea1",
   "metadata": {},
   "outputs": [
    {
     "data": {
      "text/html": [
       "<div>\n",
       "<style scoped>\n",
       "    .dataframe tbody tr th:only-of-type {\n",
       "        vertical-align: middle;\n",
       "    }\n",
       "\n",
       "    .dataframe tbody tr th {\n",
       "        vertical-align: top;\n",
       "    }\n",
       "\n",
       "    .dataframe thead th {\n",
       "        text-align: right;\n",
       "    }\n",
       "</style>\n",
       "<table border=\"1\" class=\"dataframe\">\n",
       "  <thead>\n",
       "    <tr style=\"text-align: right;\">\n",
       "      <th></th>\n",
       "      <th>index</th>\n",
       "      <th>Iteration</th>\n",
       "      <th>Time</th>\n",
       "      <th>Fitness</th>\n",
       "      <th>FEvals</th>\n",
       "      <th>Restarts</th>\n",
       "      <th>max_iters</th>\n",
       "      <th>current_restart</th>\n",
       "    </tr>\n",
       "  </thead>\n",
       "  <tbody>\n",
       "    <tr>\n",
       "      <th>0</th>\n",
       "      <td>15801</td>\n",
       "      <td>1</td>\n",
       "      <td>0.008058</td>\n",
       "      <td>78.0</td>\n",
       "      <td>17358.0</td>\n",
       "      <td>100</td>\n",
       "      <td>200</td>\n",
       "      <td>79</td>\n",
       "    </tr>\n",
       "    <tr>\n",
       "      <th>1</th>\n",
       "      <td>15802</td>\n",
       "      <td>2</td>\n",
       "      <td>0.008377</td>\n",
       "      <td>78.0</td>\n",
       "      <td>17359.0</td>\n",
       "      <td>100</td>\n",
       "      <td>200</td>\n",
       "      <td>79</td>\n",
       "    </tr>\n",
       "    <tr>\n",
       "      <th>2</th>\n",
       "      <td>15803</td>\n",
       "      <td>3</td>\n",
       "      <td>0.008688</td>\n",
       "      <td>78.0</td>\n",
       "      <td>17360.0</td>\n",
       "      <td>100</td>\n",
       "      <td>200</td>\n",
       "      <td>79</td>\n",
       "    </tr>\n",
       "    <tr>\n",
       "      <th>3</th>\n",
       "      <td>15804</td>\n",
       "      <td>4</td>\n",
       "      <td>0.009154</td>\n",
       "      <td>78.0</td>\n",
       "      <td>17361.0</td>\n",
       "      <td>100</td>\n",
       "      <td>200</td>\n",
       "      <td>79</td>\n",
       "    </tr>\n",
       "    <tr>\n",
       "      <th>4</th>\n",
       "      <td>15805</td>\n",
       "      <td>5</td>\n",
       "      <td>0.009803</td>\n",
       "      <td>78.0</td>\n",
       "      <td>17362.0</td>\n",
       "      <td>100</td>\n",
       "      <td>200</td>\n",
       "      <td>79</td>\n",
       "    </tr>\n",
       "    <tr>\n",
       "      <th>...</th>\n",
       "      <td>...</td>\n",
       "      <td>...</td>\n",
       "      <td>...</td>\n",
       "      <td>...</td>\n",
       "      <td>...</td>\n",
       "      <td>...</td>\n",
       "      <td>...</td>\n",
       "      <td>...</td>\n",
       "    </tr>\n",
       "    <tr>\n",
       "      <th>195</th>\n",
       "      <td>15996</td>\n",
       "      <td>196</td>\n",
       "      <td>0.098178</td>\n",
       "      <td>124.0</td>\n",
       "      <td>17576.0</td>\n",
       "      <td>100</td>\n",
       "      <td>200</td>\n",
       "      <td>79</td>\n",
       "    </tr>\n",
       "    <tr>\n",
       "      <th>196</th>\n",
       "      <td>15997</td>\n",
       "      <td>197</td>\n",
       "      <td>0.099012</td>\n",
       "      <td>124.0</td>\n",
       "      <td>17577.0</td>\n",
       "      <td>100</td>\n",
       "      <td>200</td>\n",
       "      <td>79</td>\n",
       "    </tr>\n",
       "    <tr>\n",
       "      <th>197</th>\n",
       "      <td>15998</td>\n",
       "      <td>198</td>\n",
       "      <td>0.099850</td>\n",
       "      <td>124.0</td>\n",
       "      <td>17578.0</td>\n",
       "      <td>100</td>\n",
       "      <td>200</td>\n",
       "      <td>79</td>\n",
       "    </tr>\n",
       "    <tr>\n",
       "      <th>198</th>\n",
       "      <td>15999</td>\n",
       "      <td>199</td>\n",
       "      <td>0.100699</td>\n",
       "      <td>124.0</td>\n",
       "      <td>17579.0</td>\n",
       "      <td>100</td>\n",
       "      <td>200</td>\n",
       "      <td>79</td>\n",
       "    </tr>\n",
       "    <tr>\n",
       "      <th>199</th>\n",
       "      <td>16000</td>\n",
       "      <td>200</td>\n",
       "      <td>0.101583</td>\n",
       "      <td>124.0</td>\n",
       "      <td>17580.0</td>\n",
       "      <td>100</td>\n",
       "      <td>200</td>\n",
       "      <td>79</td>\n",
       "    </tr>\n",
       "  </tbody>\n",
       "</table>\n",
       "<p>200 rows × 8 columns</p>\n",
       "</div>"
      ],
      "text/plain": [
       "     index  Iteration      Time  Fitness   FEvals  Restarts  max_iters  \\\n",
       "0    15801          1  0.008058     78.0  17358.0       100        200   \n",
       "1    15802          2  0.008377     78.0  17359.0       100        200   \n",
       "2    15803          3  0.008688     78.0  17360.0       100        200   \n",
       "3    15804          4  0.009154     78.0  17361.0       100        200   \n",
       "4    15805          5  0.009803     78.0  17362.0       100        200   \n",
       "..     ...        ...       ...      ...      ...       ...        ...   \n",
       "195  15996        196  0.098178    124.0  17576.0       100        200   \n",
       "196  15997        197  0.099012    124.0  17577.0       100        200   \n",
       "197  15998        198  0.099850    124.0  17578.0       100        200   \n",
       "198  15999        199  0.100699    124.0  17579.0       100        200   \n",
       "199  16000        200  0.101583    124.0  17580.0       100        200   \n",
       "\n",
       "     current_restart  \n",
       "0                 79  \n",
       "1                 79  \n",
       "2                 79  \n",
       "3                 79  \n",
       "4                 79  \n",
       "..               ...  \n",
       "195               79  \n",
       "196               79  \n",
       "197               79  \n",
       "198               79  \n",
       "199               79  \n",
       "\n",
       "[200 rows x 8 columns]"
      ]
     },
     "execution_count": 54,
     "metadata": {},
     "output_type": "execute_result"
    }
   ],
   "source": [
    "best_curve_rhc"
   ]
  },
  {
   "cell_type": "code",
   "execution_count": 55,
   "id": "d4fbec23",
   "metadata": {},
   "outputs": [
    {
     "data": {
      "text/plain": [
       "Text(0, 0.5, 'Value')"
      ]
     },
     "execution_count": 55,
     "metadata": {},
     "output_type": "execute_result"
    },
    {
     "data": {
      "image/png": "[encoded data removed]",
      "text/plain": [
       "<Figure size 864x576 with 1 Axes>"
      ]
     },
     "metadata": {
      "needs_background": "light"
     },
     "output_type": "display_data"
    }
   ],
   "source": [
    "ax = best_curve_rhc.Fitness.plot(lw=2, colormap='jet', marker='.', markersize=2, \n",
    "                             figsize=(12,8), grid=1,\n",
    "                             title='Best Random Search')\n",
    "ax.set_xlabel(\"Iterations\")\n",
    "ax.set_ylabel(\"Value\")"
   ]
  },
  {
   "cell_type": "code",
   "execution_count": 56,
   "id": "69bd3746",
   "metadata": {},
   "outputs": [
    {
     "data": {
      "text/html": [
       "<div>\n",
       "<style scoped>\n",
       "    .dataframe tbody tr th:only-of-type {\n",
       "        vertical-align: middle;\n",
       "    }\n",
       "\n",
       "    .dataframe tbody tr th {\n",
       "        vertical-align: top;\n",
       "    }\n",
       "\n",
       "    .dataframe thead th {\n",
       "        text-align: right;\n",
       "    }\n",
       "</style>\n",
       "<table border=\"1\" class=\"dataframe\">\n",
       "  <thead>\n",
       "    <tr style=\"text-align: right;\">\n",
       "      <th></th>\n",
       "      <th>Iteration</th>\n",
       "      <th>Time</th>\n",
       "      <th>Fitness</th>\n",
       "      <th>FEvals</th>\n",
       "      <th>Restarts</th>\n",
       "      <th>max_iters</th>\n",
       "      <th>current_restart</th>\n",
       "    </tr>\n",
       "  </thead>\n",
       "  <tbody>\n",
       "    <tr>\n",
       "      <th>0</th>\n",
       "      <td>0</td>\n",
       "      <td>0.000721</td>\n",
       "      <td>69.0</td>\n",
       "      <td>0.0</td>\n",
       "      <td>100</td>\n",
       "      <td>200</td>\n",
       "      <td>0</td>\n",
       "    </tr>\n",
       "    <tr>\n",
       "      <th>1</th>\n",
       "      <td>1</td>\n",
       "      <td>0.008058</td>\n",
       "      <td>69.0</td>\n",
       "      <td>1.0</td>\n",
       "      <td>100</td>\n",
       "      <td>200</td>\n",
       "      <td>0</td>\n",
       "    </tr>\n",
       "    <tr>\n",
       "      <th>2</th>\n",
       "      <td>2</td>\n",
       "      <td>0.008377</td>\n",
       "      <td>69.0</td>\n",
       "      <td>2.0</td>\n",
       "      <td>100</td>\n",
       "      <td>200</td>\n",
       "      <td>0</td>\n",
       "    </tr>\n",
       "    <tr>\n",
       "      <th>3</th>\n",
       "      <td>3</td>\n",
       "      <td>0.008688</td>\n",
       "      <td>69.0</td>\n",
       "      <td>3.0</td>\n",
       "      <td>100</td>\n",
       "      <td>200</td>\n",
       "      <td>0</td>\n",
       "    </tr>\n",
       "    <tr>\n",
       "      <th>4</th>\n",
       "      <td>4</td>\n",
       "      <td>0.009154</td>\n",
       "      <td>69.0</td>\n",
       "      <td>4.0</td>\n",
       "      <td>100</td>\n",
       "      <td>200</td>\n",
       "      <td>0</td>\n",
       "    </tr>\n",
       "    <tr>\n",
       "      <th>...</th>\n",
       "      <td>...</td>\n",
       "      <td>...</td>\n",
       "      <td>...</td>\n",
       "      <td>...</td>\n",
       "      <td>...</td>\n",
       "      <td>...</td>\n",
       "      <td>...</td>\n",
       "    </tr>\n",
       "    <tr>\n",
       "      <th>20168</th>\n",
       "      <td>196</td>\n",
       "      <td>0.098178</td>\n",
       "      <td>111.0</td>\n",
       "      <td>22148.0</td>\n",
       "      <td>100</td>\n",
       "      <td>200</td>\n",
       "      <td>100</td>\n",
       "    </tr>\n",
       "    <tr>\n",
       "      <th>20169</th>\n",
       "      <td>197</td>\n",
       "      <td>0.099012</td>\n",
       "      <td>111.0</td>\n",
       "      <td>22149.0</td>\n",
       "      <td>100</td>\n",
       "      <td>200</td>\n",
       "      <td>100</td>\n",
       "    </tr>\n",
       "    <tr>\n",
       "      <th>20170</th>\n",
       "      <td>198</td>\n",
       "      <td>0.099850</td>\n",
       "      <td>111.0</td>\n",
       "      <td>22150.0</td>\n",
       "      <td>100</td>\n",
       "      <td>200</td>\n",
       "      <td>100</td>\n",
       "    </tr>\n",
       "    <tr>\n",
       "      <th>20171</th>\n",
       "      <td>199</td>\n",
       "      <td>0.100699</td>\n",
       "      <td>111.0</td>\n",
       "      <td>22151.0</td>\n",
       "      <td>100</td>\n",
       "      <td>200</td>\n",
       "      <td>100</td>\n",
       "    </tr>\n",
       "    <tr>\n",
       "      <th>20172</th>\n",
       "      <td>200</td>\n",
       "      <td>0.101583</td>\n",
       "      <td>111.0</td>\n",
       "      <td>22152.0</td>\n",
       "      <td>100</td>\n",
       "      <td>200</td>\n",
       "      <td>100</td>\n",
       "    </tr>\n",
       "  </tbody>\n",
       "</table>\n",
       "<p>20173 rows × 7 columns</p>\n",
       "</div>"
      ],
      "text/plain": [
       "       Iteration      Time  Fitness   FEvals  Restarts  max_iters  \\\n",
       "0              0  0.000721     69.0      0.0       100        200   \n",
       "1              1  0.008058     69.0      1.0       100        200   \n",
       "2              2  0.008377     69.0      2.0       100        200   \n",
       "3              3  0.008688     69.0      3.0       100        200   \n",
       "4              4  0.009154     69.0      4.0       100        200   \n",
       "...          ...       ...      ...      ...       ...        ...   \n",
       "20168        196  0.098178    111.0  22148.0       100        200   \n",
       "20169        197  0.099012    111.0  22149.0       100        200   \n",
       "20170        198  0.099850    111.0  22150.0       100        200   \n",
       "20171        199  0.100699    111.0  22151.0       100        200   \n",
       "20172        200  0.101583    111.0  22152.0       100        200   \n",
       "\n",
       "       current_restart  \n",
       "0                    0  \n",
       "1                    0  \n",
       "2                    0  \n",
       "3                    0  \n",
       "4                    0  \n",
       "...                ...  \n",
       "20168              100  \n",
       "20169              100  \n",
       "20170              100  \n",
       "20171              100  \n",
       "20172              100  \n",
       "\n",
       "[20173 rows x 7 columns]"
      ]
     },
     "execution_count": 56,
     "metadata": {},
     "output_type": "execute_result"
    }
   ],
   "source": [
    "rhc_run_curves"
   ]
  },
  {
   "cell_type": "code",
   "execution_count": 57,
   "id": "632822ae",
   "metadata": {},
   "outputs": [
    {
     "data": {
      "text/plain": [
       "Text(0, 0.5, 'Fitness')"
      ]
     },
     "execution_count": 57,
     "metadata": {},
     "output_type": "execute_result"
    },
    {
     "data": {
      "image/png": "[encoded data removed]",
      "text/plain": [
       "<Figure size 360x360 with 1 Axes>"
      ]
     },
     "metadata": {
      "needs_background": "light"
     },
     "output_type": "display_data"
    }
   ],
   "source": [
    "rhc_cr = rhc_run_curves.groupby(['Iteration','current_restart']).agg({'Fitness':'mean'}).reset_index()\n",
    "ax = rhc_cr.pivot_table(values=\"Fitness\", index=\"Iteration\", columns=\"current_restart\").plot(lw=2, colormap='jet', legend=False\n",
    "                                                                                          , grid=1, marker='.', \n",
    "                                                                                          markersize=2,\n",
    "                                                                                          title='RHC - current_restart')\n",
    "ax.set_xlabel(\"Iteration\")\n",
    "ax.set_ylabel(\"Fitness\")"
   ]
  },
  {
   "cell_type": "markdown",
   "id": "7ac495f1",
   "metadata": {},
   "source": [
    "<h3>SA</h3>"
   ]
  },
  {
   "cell_type": "code",
   "execution_count": 58,
   "id": "2d975c8a",
   "metadata": {},
   "outputs": [
    {
     "name": "stdout",
     "output_type": "stream",
     "text": [
      "Wall time: 44.7 s\n"
     ]
    }
   ],
   "source": [
    "%%time\n",
    "sa = mlrose_hiive.SARunner(problem,\n",
    "                            experiment_name=experiment_name+ \"_SA\",\n",
    "                            output_directory=output_directory, \n",
    "                           iteration_list=[2000],\n",
    "                           temperature_list=[0.05, 0.1, 0.5, 1, 10, 20, 25],\n",
    "                   decay_list=[mlrose_hiive.GeomDecay, mlrose_hiive.ExpDecay, mlrose_hiive.ArithDecay],\n",
    "#                            temperature_list=[1, 10, 50, 100, 250],\n",
    "#                            decay_list=[mlrose_hiive.ExpDecay,\n",
    "#                                        mlrose_hiive.GeomDecay],\n",
    "                           seed=33, max_attempts=100)\n",
    "\n",
    "sa_run_stats, sa_run_curves = sa.run()   "
   ]
  },
  {
   "cell_type": "code",
   "execution_count": 59,
   "id": "e01042c3",
   "metadata": {},
   "outputs": [
    {
     "name": "stdout",
     "output_type": "stream",
     "text": [
      "130.47619047619048 142.0\n",
      "1.9847963190473994\n"
     ]
    }
   ],
   "source": [
    "last_iters = sa_run_stats[sa_run_stats.Iteration != 0].reset_index()\n",
    "print(last_iters.Fitness.mean(), last_iters.Fitness.max())\n",
    "print(last_iters.Time.mean())"
   ]
  },
  {
   "cell_type": "code",
   "execution_count": 60,
   "id": "c5ecb39f",
   "metadata": {},
   "outputs": [
    {
     "name": "stdout",
     "output_type": "stream",
     "text": [
      "1.770725866665695\n",
      "1.773826166667277\n",
      "1.8716764666654246\n",
      "1.977207400000528\n",
      "2.1027151999999965\n",
      "2.171671466667855\n",
      "2.225751666665019\n",
      "1.9847963190473994\n"
     ]
    }
   ],
   "source": [
    "print(last_iters.loc[last_iters.schedule_init_temp == 0.05, \"Time\"].mean())\n",
    "print(last_iters.loc[last_iters.schedule_init_temp == 0.1, \"Time\"].mean())\n",
    "print(last_iters.loc[last_iters.schedule_init_temp == 0.5, \"Time\"].mean())\n",
    "print(last_iters.loc[last_iters.schedule_init_temp == 1, \"Time\"].mean())\n",
    "print(last_iters.loc[last_iters.schedule_init_temp == 10, \"Time\"].mean())\n",
    "print(last_iters.loc[last_iters.schedule_init_temp == 20, \"Time\"].mean())\n",
    "print(last_iters.loc[last_iters.schedule_init_temp == 25, \"Time\"].mean())\n",
    "print(last_iters.loc[:, \"Time\"].mean())"
   ]
  },
  {
   "cell_type": "code",
   "execution_count": 61,
   "id": "e3d77122",
   "metadata": {},
   "outputs": [
    {
     "data": {
      "text/plain": [
       "GeomDecay(init_temp=0.05, decay=0.99, min_temp=0.001)"
      ]
     },
     "execution_count": 61,
     "metadata": {},
     "output_type": "execute_result"
    }
   ],
   "source": [
    "best_index_in_curve = sa_run_curves.Fitness.idxmax()\n",
    "best_decay = sa_run_curves.iloc[best_index_in_curve].Temperature\n",
    "best_curve_sa = sa_run_curves.loc[sa_run_curves.Temperature == best_decay, :]\n",
    "best_curve_sa.reset_index(inplace=True)\n",
    "best_decay"
   ]
  },
  {
   "cell_type": "code",
   "execution_count": 62,
   "id": "fa70727f",
   "metadata": {},
   "outputs": [],
   "source": [
    "dfp = pd.DataFrame(sa_run_curves)\n",
    "dfp = dfp.astype({'Temperature':'string'})"
   ]
  },
  {
   "cell_type": "code",
   "execution_count": 63,
   "id": "468c4bf1",
   "metadata": {},
   "outputs": [
    {
     "data": {
      "text/plain": [
       "Text(0, 0.5, 'Fitness')"
      ]
     },
     "execution_count": 63,
     "metadata": {},
     "output_type": "execute_result"
    },
    {
     "data": {
      "image/png": "[encoded data removed]",
      "text/plain": [
       "<Figure size 360x360 with 1 Axes>"
      ]
     },
     "metadata": {
      "needs_background": "light"
     },
     "output_type": "display_data"
    }
   ],
   "source": [
    "sa_ps = dfp.groupby(['Iteration','Temperature']).agg({'Fitness':'mean'}).reset_index()\n",
    "ax = sa_ps.pivot_table(values=\"Fitness\", index=\"Iteration\", columns=\"Temperature\").plot(lw=2, colormap='jet', \n",
    "                                                                                             grid=1, marker='.', \n",
    "                                                                                          markersize=2,\n",
    "                                                                                          title='SA - Temperature')\n",
    "ax.set_xlabel(\"Iteration\")\n",
    "ax.set_ylabel(\"Fitness\")"
   ]
  },
  {
   "cell_type": "code",
   "execution_count": 64,
   "id": "e24c56d3",
   "metadata": {},
   "outputs": [
    {
     "data": {
      "text/plain": [
       "Text(0, 0.5, 'Value')"
      ]
     },
     "execution_count": 64,
     "metadata": {},
     "output_type": "execute_result"
    },
    {
     "data": {
      "image/png": "[encoded data removed]",
      "text/plain": [
       "<Figure size 864x576 with 1 Axes>"
      ]
     },
     "metadata": {
      "needs_background": "light"
     },
     "output_type": "display_data"
    }
   ],
   "source": [
    "ax = best_curve_sa.Fitness.plot(lw=2, colormap='jet', marker='.', markersize=2, \n",
    "                             figsize=(12,8), grid=1,\n",
    "                             title='Best Simulated Annealing')\n",
    "ax.set_xlabel(\"Iterations\")\n",
    "ax.set_ylabel(\"Value\")"
   ]
  },
  {
   "cell_type": "markdown",
   "id": "47087d94",
   "metadata": {},
   "source": [
    "<h3>GA</h3>"
   ]
  },
  {
   "cell_type": "code",
   "execution_count": 65,
   "id": "465fdba0",
   "metadata": {},
   "outputs": [
    {
     "name": "stdout",
     "output_type": "stream",
     "text": [
      "Wall time: 5.52 s\n"
     ]
    }
   ],
   "source": [
    "%%time\n",
    "ga = mlrose_hiive.GARunner(problem=problem,\n",
    "                        experiment_name=experiment_name+ \"_GA\",\n",
    "                        output_directory=output_directory,\n",
    "                          seed=44,\n",
    "                          iteration_list=[200],\n",
    "                          population_sizes=[20,50,100],\n",
    "                          mutation_rates=[0.1, 0.25, 0.5])\n",
    "ga_run_stats, ga_run_curves = ga.run()   "
   ]
  },
  {
   "cell_type": "code",
   "execution_count": 66,
   "id": "e495267f",
   "metadata": {},
   "outputs": [
    {
     "name": "stdout",
     "output_type": "stream",
     "text": [
      "Max and mean\n",
      "132.0 127.11111111111111 0.6005657222210883\n",
      "Mutation Rate\n",
      "0.10    126.333333\n",
      "0.25    126.666667\n",
      "0.50    128.333333\n",
      "Name: Fitness, dtype: float64\n",
      "Population Size\n",
      "20     123.666667\n",
      "50     126.333333\n",
      "100    131.333333\n",
      "Name: Fitness, dtype: float64\n",
      "Population Size\n",
      "20     0.276029\n",
      "50     0.545796\n",
      "100    0.979873\n",
      "Name: Time, dtype: float64\n"
     ]
    }
   ],
   "source": [
    "\n",
    "last_iters = ga_run_stats[ga_run_stats.Iteration != 0].reset_index()\n",
    "print(\"Max and mean\")\n",
    "print(last_iters.Fitness.max(), last_iters.Fitness.mean(), last_iters.Time.mean())\n",
    "print(last_iters.groupby(\"Mutation Rate\").Fitness.mean())\n",
    "print(last_iters.groupby(\"Population Size\").Fitness.mean())\n",
    "print(last_iters.groupby(\"Population Size\").Time.mean())"
   ]
  },
  {
   "cell_type": "code",
   "execution_count": 67,
   "id": "35092fe6",
   "metadata": {},
   "outputs": [
    {
     "data": {
      "text/plain": [
       "Iteration          126.000000\n",
       "Time                 0.177711\n",
       "Fitness            132.000000\n",
       "FEvals             151.000000\n",
       "Population Size    100.000000\n",
       "Mutation Rate        0.100000\n",
       "max_iters          200.000000\n",
       "Name: 1332, dtype: float64"
      ]
     },
     "execution_count": 67,
     "metadata": {},
     "output_type": "execute_result"
    }
   ],
   "source": [
    "best_index_in_GA_curve = ga_run_curves.Fitness.idxmax()\n",
    "ga_run_curves.iloc[best_index_in_GA_curve]\n"
   ]
  },
  {
   "cell_type": "code",
   "execution_count": 68,
   "id": "76e3f163",
   "metadata": {},
   "outputs": [
    {
     "data": {
      "text/plain": [
       "100.0"
      ]
     },
     "execution_count": 68,
     "metadata": {},
     "output_type": "execute_result"
    }
   ],
   "source": [
    "best_p_size_ga = ga_run_curves.iloc[best_index_in_GA_curve]['Population Size'] \n",
    "best_m_rate = ga_run_curves.iloc[best_index_in_GA_curve]['Mutation Rate']  \n",
    "best_curve_ga = ga_run_curves.loc[ga_run_curves['Population Size'] == best_p_size_ga, :]\n",
    "best_curve_ga = best_curve_ga.loc[best_curve_ga['Mutation Rate'] == best_m_rate, :]\n",
    "best_curve_ga.reset_index(inplace=True)\n",
    "best_p_size_ga"
   ]
  },
  {
   "cell_type": "code",
   "execution_count": 69,
   "id": "f0e4ecb2",
   "metadata": {},
   "outputs": [
    {
     "data": {
      "text/plain": [
       "Text(0, 0.5, 'Value')"
      ]
     },
     "execution_count": 69,
     "metadata": {},
     "output_type": "execute_result"
    },
    {
     "data": {
      "image/png": "[encoded data removed]",
      "text/plain": [
       "<Figure size 864x576 with 1 Axes>"
      ]
     },
     "metadata": {
      "needs_background": "light"
     },
     "output_type": "display_data"
    }
   ],
   "source": [
    "ax = best_curve_ga.Fitness.plot(lw=2, colormap='jet', marker='.', markersize=2, \n",
    "                             figsize=(12,8), grid=1,\n",
    "                             title='Best GA Search')\n",
    "ax.set_xlabel(\"Iterations\")\n",
    "ax.set_ylabel(\"Value\")"
   ]
  },
  {
   "cell_type": "code",
   "execution_count": 70,
   "id": "494665b8",
   "metadata": {},
   "outputs": [
    {
     "data": {
      "text/html": [
       "<div>\n",
       "<style scoped>\n",
       "    .dataframe tbody tr th:only-of-type {\n",
       "        vertical-align: middle;\n",
       "    }\n",
       "\n",
       "    .dataframe tbody tr th {\n",
       "        vertical-align: top;\n",
       "    }\n",
       "\n",
       "    .dataframe thead th {\n",
       "        text-align: right;\n",
       "    }\n",
       "</style>\n",
       "<table border=\"1\" class=\"dataframe\">\n",
       "  <thead>\n",
       "    <tr style=\"text-align: right;\">\n",
       "      <th></th>\n",
       "      <th>Iteration</th>\n",
       "      <th>Time</th>\n",
       "      <th>Fitness</th>\n",
       "      <th>FEvals</th>\n",
       "      <th>Population Size</th>\n",
       "      <th>Mutation Rate</th>\n",
       "      <th>max_iters</th>\n",
       "    </tr>\n",
       "  </thead>\n",
       "  <tbody>\n",
       "    <tr>\n",
       "      <th>0</th>\n",
       "      <td>0</td>\n",
       "      <td>0.001476</td>\n",
       "      <td>62.0</td>\n",
       "      <td>0.0</td>\n",
       "      <td>20</td>\n",
       "      <td>0.1</td>\n",
       "      <td>200</td>\n",
       "    </tr>\n",
       "    <tr>\n",
       "      <th>1</th>\n",
       "      <td>1</td>\n",
       "      <td>0.009538</td>\n",
       "      <td>91.0</td>\n",
       "      <td>2.0</td>\n",
       "      <td>20</td>\n",
       "      <td>0.1</td>\n",
       "      <td>200</td>\n",
       "    </tr>\n",
       "    <tr>\n",
       "      <th>2</th>\n",
       "      <td>2</td>\n",
       "      <td>0.010871</td>\n",
       "      <td>91.0</td>\n",
       "      <td>3.0</td>\n",
       "      <td>20</td>\n",
       "      <td>0.1</td>\n",
       "      <td>200</td>\n",
       "    </tr>\n",
       "    <tr>\n",
       "      <th>3</th>\n",
       "      <td>3</td>\n",
       "      <td>0.012244</td>\n",
       "      <td>91.0</td>\n",
       "      <td>4.0</td>\n",
       "      <td>20</td>\n",
       "      <td>0.1</td>\n",
       "      <td>200</td>\n",
       "    </tr>\n",
       "    <tr>\n",
       "      <th>4</th>\n",
       "      <td>4</td>\n",
       "      <td>0.013805</td>\n",
       "      <td>92.0</td>\n",
       "      <td>6.0</td>\n",
       "      <td>20</td>\n",
       "      <td>0.1</td>\n",
       "      <td>200</td>\n",
       "    </tr>\n",
       "    <tr>\n",
       "      <th>...</th>\n",
       "      <td>...</td>\n",
       "      <td>...</td>\n",
       "      <td>...</td>\n",
       "      <td>...</td>\n",
       "      <td>...</td>\n",
       "      <td>...</td>\n",
       "      <td>...</td>\n",
       "    </tr>\n",
       "    <tr>\n",
       "      <th>1804</th>\n",
       "      <td>196</td>\n",
       "      <td>0.272332</td>\n",
       "      <td>132.0</td>\n",
       "      <td>214.0</td>\n",
       "      <td>100</td>\n",
       "      <td>0.5</td>\n",
       "      <td>200</td>\n",
       "    </tr>\n",
       "    <tr>\n",
       "      <th>1805</th>\n",
       "      <td>197</td>\n",
       "      <td>0.273896</td>\n",
       "      <td>132.0</td>\n",
       "      <td>215.0</td>\n",
       "      <td>100</td>\n",
       "      <td>0.5</td>\n",
       "      <td>200</td>\n",
       "    </tr>\n",
       "    <tr>\n",
       "      <th>1806</th>\n",
       "      <td>198</td>\n",
       "      <td>0.275208</td>\n",
       "      <td>132.0</td>\n",
       "      <td>216.0</td>\n",
       "      <td>100</td>\n",
       "      <td>0.5</td>\n",
       "      <td>200</td>\n",
       "    </tr>\n",
       "    <tr>\n",
       "      <th>1807</th>\n",
       "      <td>199</td>\n",
       "      <td>0.276512</td>\n",
       "      <td>132.0</td>\n",
       "      <td>217.0</td>\n",
       "      <td>100</td>\n",
       "      <td>0.5</td>\n",
       "      <td>200</td>\n",
       "    </tr>\n",
       "    <tr>\n",
       "      <th>1808</th>\n",
       "      <td>200</td>\n",
       "      <td>0.277828</td>\n",
       "      <td>132.0</td>\n",
       "      <td>218.0</td>\n",
       "      <td>100</td>\n",
       "      <td>0.5</td>\n",
       "      <td>200</td>\n",
       "    </tr>\n",
       "  </tbody>\n",
       "</table>\n",
       "<p>1809 rows × 7 columns</p>\n",
       "</div>"
      ],
      "text/plain": [
       "      Iteration      Time  Fitness  FEvals  Population Size  Mutation Rate  \\\n",
       "0             0  0.001476     62.0     0.0               20            0.1   \n",
       "1             1  0.009538     91.0     2.0               20            0.1   \n",
       "2             2  0.010871     91.0     3.0               20            0.1   \n",
       "3             3  0.012244     91.0     4.0               20            0.1   \n",
       "4             4  0.013805     92.0     6.0               20            0.1   \n",
       "...         ...       ...      ...     ...              ...            ...   \n",
       "1804        196  0.272332    132.0   214.0              100            0.5   \n",
       "1805        197  0.273896    132.0   215.0              100            0.5   \n",
       "1806        198  0.275208    132.0   216.0              100            0.5   \n",
       "1807        199  0.276512    132.0   217.0              100            0.5   \n",
       "1808        200  0.277828    132.0   218.0              100            0.5   \n",
       "\n",
       "      max_iters  \n",
       "0           200  \n",
       "1           200  \n",
       "2           200  \n",
       "3           200  \n",
       "4           200  \n",
       "...         ...  \n",
       "1804        200  \n",
       "1805        200  \n",
       "1806        200  \n",
       "1807        200  \n",
       "1808        200  \n",
       "\n",
       "[1809 rows x 7 columns]"
      ]
     },
     "execution_count": 70,
     "metadata": {},
     "output_type": "execute_result"
    }
   ],
   "source": [
    "ga_run_curves"
   ]
  },
  {
   "cell_type": "code",
   "execution_count": 71,
   "id": "f0641c3d",
   "metadata": {},
   "outputs": [
    {
     "data": {
      "text/plain": [
       "Text(0, 0.5, 'Fitness')"
      ]
     },
     "execution_count": 71,
     "metadata": {},
     "output_type": "execute_result"
    },
    {
     "data": {
      "image/png": "[encoded data removed]",
      "text/plain": [
       "<Figure size 360x360 with 1 Axes>"
      ]
     },
     "metadata": {
      "needs_background": "light"
     },
     "output_type": "display_data"
    }
   ],
   "source": [
    "ga_ps = ga_run_curves.groupby(['Iteration','Population Size']).agg({'Fitness':'mean'}).reset_index()\n",
    "ax = ga_ps.pivot_table(values=\"Fitness\", index=\"Iteration\", columns=\"Population Size\").plot(lw=2, colormap='jet', \n",
    "                                                                                             grid=1, marker='.', \n",
    "                                                                                          markersize=2,\n",
    "                                                                                          title='GA - Population Size')\n",
    "ax.set_xlabel(\"Iteration\")\n",
    "ax.set_ylabel(\"Fitness\")"
   ]
  },
  {
   "cell_type": "code",
   "execution_count": 72,
   "id": "9ceb4e95",
   "metadata": {},
   "outputs": [
    {
     "data": {
      "text/plain": [
       "Text(0, 0.5, 'Fitness')"
      ]
     },
     "execution_count": 72,
     "metadata": {},
     "output_type": "execute_result"
    },
    {
     "data": {
      "image/png": "[encoded data removed]",
      "text/plain": [
       "<Figure size 360x360 with 1 Axes>"
      ]
     },
     "metadata": {
      "needs_background": "light"
     },
     "output_type": "display_data"
    }
   ],
   "source": [
    "ga_mutaion = ga_run_curves.groupby(['Iteration','Mutation Rate']).agg({'Fitness':'mean'}).reset_index()\n",
    "ax = ga_mutaion.pivot_table(values=\"Fitness\", index=\"Iteration\", columns=\"Mutation Rate\").plot(lw=2, colormap='jet', \n",
    "                                                                                             grid=1, marker='.', \n",
    "                                                                                          markersize=2,\n",
    "                                                                                          title='GA - Mutation Rate')\n",
    "ax.set_xlabel(\"Iteration\")\n",
    "ax.set_ylabel(\"Fitness\")"
   ]
  },
  {
   "cell_type": "code",
   "execution_count": 73,
   "id": "7f566788",
   "metadata": {},
   "outputs": [
    {
     "data": {
      "image/png": "[encoded data removed]",
      "text/plain": [
       "<Figure size 360x360 with 1 Axes>"
      ]
     },
     "metadata": {
      "needs_background": "light"
     },
     "output_type": "display_data"
    }
   ],
   "source": [
    "all_curves = {\"Random Hill Climb\": best_curve_rhc.Fitness, \"Simulated Annealing\": best_curve_sa.Fitness, \"Genetic Alg\": best_curve_ga.Fitness, \"MIMIC\": best_curve_mmc.Fitness}\n",
    "\n",
    "np.array([len(x) for x in all_curves]).max()\n",
    "\n",
    "plt.xlabel(\"Iterations\")\n",
    "plt.ylabel(\"Fitness\")\n",
    "plt.title(\"FlipFlop\")\n",
    "\n",
    "for name, curve in all_curves.items():\n",
    "    plt.plot(range(len(curve)), curve, label=name, lw=2)\n",
    "\n",
    "    plt.legend(loc=\"best\")\n",
    "plt.show()"
   ]
  },
  {
   "cell_type": "code",
   "execution_count": 74,
   "id": "b55a8312",
   "metadata": {},
   "outputs": [
    {
     "data": {
      "image/png": "[encoded data removed]",
      "text/plain": [
       "<Figure size 360x360 with 1 Axes>"
      ]
     },
     "metadata": {
      "needs_background": "light"
     },
     "output_type": "display_data"
    }
   ],
   "source": [
    "all_curves = {\"Random Hill Climb\": best_curve_rhc.FEvals, \"Simulated Annealing\": best_curve_sa.FEvals, \"Genetic Alg\": best_curve_ga.FEvals, \"MIMIC\": best_curve_mmc.FEvals}\n",
    "\n",
    "np.array([len(x) for x in all_curves]).max()\n",
    "\n",
    "plt.xlabel(\"Iterations\")\n",
    "plt.ylabel(\"Fitness\")\n",
    "plt.title(\"FlipFlop\")\n",
    "\n",
    "for name, curve in all_curves.items():\n",
    "    plt.plot(range(len(curve)), curve, label=name, lw=2)\n",
    "\n",
    "    plt.legend(loc=\"best\")\n",
    "plt.show()"
   ]
  },
  {
   "cell_type": "code",
   "execution_count": 75,
   "id": "2a7fa437",
   "metadata": {},
   "outputs": [],
   "source": [
    "def train_and_time(algo, times, scores):\n",
    "    start = time.clock()\n",
    "    #print(algo())\n",
    "    state, top_score,_ = algo()\n",
    "    end = time.clock()\n",
    "    times.append(end - start)\n",
    "    scores.append(top_score)"
   ]
  },
  {
   "cell_type": "code",
   "execution_count": 76,
   "id": "6a0b4a11",
   "metadata": {},
   "outputs": [
    {
     "name": "stdout",
     "output_type": "stream",
     "text": [
      "Flip flop Problem with  10  points\n",
      "Flip flop Problem with  30  points\n",
      "Flip flop Problem with  50  points\n",
      "Flip flop Problem with  70  points\n",
      "Flip flop Problem with  90  points\n"
     ]
    },
    {
     "ename": "KeyboardInterrupt",
     "evalue": "",
     "output_type": "error",
     "traceback": [
      "\u001b[1;31m---------------------------------------------------------------------------\u001b[0m",
      "\u001b[1;31mKeyboardInterrupt\u001b[0m                         Traceback (most recent call last)",
      "\u001b[1;32mC:\\Users\\VIPULK~1\\AppData\\Local\\Temp/ipykernel_15972/550239861.py\u001b[0m in \u001b[0;36m<module>\u001b[1;34m\u001b[0m\n\u001b[0;32m     18\u001b[0m \u001b[0mpoint_range\u001b[0m \u001b[1;33m=\u001b[0m \u001b[0mrange\u001b[0m\u001b[1;33m(\u001b[0m\u001b[1;36m10\u001b[0m\u001b[1;33m,\u001b[0m\u001b[1;36m200\u001b[0m\u001b[1;33m,\u001b[0m\u001b[1;36m20\u001b[0m\u001b[1;33m)\u001b[0m\u001b[1;33m\u001b[0m\u001b[1;33m\u001b[0m\u001b[0m\n\u001b[0;32m     19\u001b[0m \u001b[1;32mfor\u001b[0m \u001b[0mp\u001b[0m \u001b[1;32min\u001b[0m \u001b[0mpoint_range\u001b[0m\u001b[1;33m:\u001b[0m\u001b[1;33m\u001b[0m\u001b[1;33m\u001b[0m\u001b[0m\n\u001b[1;32m---> 20\u001b[1;33m     \u001b[0mrun_flip_flop\u001b[0m\u001b[1;33m(\u001b[0m\u001b[0mp\u001b[0m\u001b[1;33m)\u001b[0m\u001b[1;33m\u001b[0m\u001b[1;33m\u001b[0m\u001b[0m\n\u001b[0m\u001b[0;32m     21\u001b[0m \u001b[0mplt\u001b[0m\u001b[1;33m.\u001b[0m\u001b[0mrcParams\u001b[0m\u001b[1;33m[\u001b[0m\u001b[1;34m\"figure.figsize\"\u001b[0m\u001b[1;33m]\u001b[0m \u001b[1;33m=\u001b[0m \u001b[1;33m(\u001b[0m\u001b[1;36m5\u001b[0m\u001b[1;33m,\u001b[0m\u001b[1;36m5\u001b[0m\u001b[1;33m)\u001b[0m\u001b[1;33m\u001b[0m\u001b[1;33m\u001b[0m\u001b[0m\n\u001b[0;32m     22\u001b[0m \u001b[0mplt\u001b[0m\u001b[1;33m.\u001b[0m\u001b[0mplot\u001b[0m\u001b[1;33m(\u001b[0m\u001b[0mpoint_range\u001b[0m\u001b[1;33m,\u001b[0m\u001b[0mc_hill_times\u001b[0m\u001b[1;33m,\u001b[0m\u001b[1;34m'o-'\u001b[0m\u001b[1;33m,\u001b[0m\u001b[0mpoint_range\u001b[0m\u001b[1;33m,\u001b[0m\u001b[0mc_anneal_times\u001b[0m\u001b[1;33m,\u001b[0m\u001b[1;34m'o-'\u001b[0m\u001b[1;33m,\u001b[0m\u001b[0mpoint_range\u001b[0m\u001b[1;33m,\u001b[0m\u001b[0mc_genetic_times\u001b[0m\u001b[1;33m,\u001b[0m\u001b[1;34m'o-'\u001b[0m\u001b[1;33m,\u001b[0m \u001b[0mpoint_range\u001b[0m\u001b[1;33m,\u001b[0m\u001b[0mc_mimic_times\u001b[0m\u001b[1;33m,\u001b[0m\u001b[1;34m'o-'\u001b[0m\u001b[1;33m)\u001b[0m\u001b[1;33m\u001b[0m\u001b[1;33m\u001b[0m\u001b[0m\n",
      "\u001b[1;32mC:\\Users\\VIPULK~1\\AppData\\Local\\Temp/ipykernel_15972/550239861.py\u001b[0m in \u001b[0;36mrun_flip_flop\u001b[1;34m(num_points)\u001b[0m\n\u001b[0;32m     14\u001b[0m     \u001b[0mtrain_and_time\u001b[0m\u001b[1;33m(\u001b[0m\u001b[1;32mlambda\u001b[0m \u001b[1;33m:\u001b[0m \u001b[0mmlrose_hiive\u001b[0m\u001b[1;33m.\u001b[0m\u001b[0msimulated_annealing\u001b[0m\u001b[1;33m(\u001b[0m\u001b[0mproblem\u001b[0m\u001b[1;33m=\u001b[0m\u001b[0mflip_flop\u001b[0m\u001b[1;33m)\u001b[0m\u001b[1;33m,\u001b[0m \u001b[0mc_anneal_times\u001b[0m\u001b[1;33m,\u001b[0m \u001b[0mc_anneal_scores\u001b[0m\u001b[1;33m)\u001b[0m\u001b[1;33m\u001b[0m\u001b[1;33m\u001b[0m\u001b[0m\n\u001b[0;32m     15\u001b[0m     \u001b[0mtrain_and_time\u001b[0m\u001b[1;33m(\u001b[0m\u001b[1;32mlambda\u001b[0m \u001b[1;33m:\u001b[0m \u001b[0mmlrose_hiive\u001b[0m\u001b[1;33m.\u001b[0m\u001b[0mgenetic_alg\u001b[0m\u001b[1;33m(\u001b[0m\u001b[0mproblem\u001b[0m\u001b[1;33m=\u001b[0m\u001b[0mflip_flop\u001b[0m\u001b[1;33m)\u001b[0m\u001b[1;33m,\u001b[0m \u001b[0mc_genetic_times\u001b[0m\u001b[1;33m,\u001b[0m \u001b[0mc_genetic_scores\u001b[0m\u001b[1;33m)\u001b[0m\u001b[1;33m\u001b[0m\u001b[1;33m\u001b[0m\u001b[0m\n\u001b[1;32m---> 16\u001b[1;33m     \u001b[0mtrain_and_time\u001b[0m\u001b[1;33m(\u001b[0m\u001b[1;32mlambda\u001b[0m \u001b[1;33m:\u001b[0m \u001b[0mmlrose_hiive\u001b[0m\u001b[1;33m.\u001b[0m\u001b[0mmimic\u001b[0m\u001b[1;33m(\u001b[0m\u001b[0mproblem\u001b[0m\u001b[1;33m=\u001b[0m\u001b[0mflip_flop\u001b[0m\u001b[1;33m,\u001b[0m \u001b[0mmax_iters\u001b[0m\u001b[1;33m=\u001b[0m\u001b[1;36m100\u001b[0m\u001b[1;33m)\u001b[0m\u001b[1;33m,\u001b[0m \u001b[0mc_mimic_times\u001b[0m\u001b[1;33m,\u001b[0m \u001b[0mc_mimic_scores\u001b[0m\u001b[1;33m)\u001b[0m\u001b[1;33m\u001b[0m\u001b[1;33m\u001b[0m\u001b[0m\n\u001b[0m\u001b[0;32m     17\u001b[0m \u001b[1;33m\u001b[0m\u001b[0m\n\u001b[0;32m     18\u001b[0m \u001b[0mpoint_range\u001b[0m \u001b[1;33m=\u001b[0m \u001b[0mrange\u001b[0m\u001b[1;33m(\u001b[0m\u001b[1;36m10\u001b[0m\u001b[1;33m,\u001b[0m\u001b[1;36m200\u001b[0m\u001b[1;33m,\u001b[0m\u001b[1;36m20\u001b[0m\u001b[1;33m)\u001b[0m\u001b[1;33m\u001b[0m\u001b[1;33m\u001b[0m\u001b[0m\n",
      "\u001b[1;32mC:\\Users\\VIPULK~1\\AppData\\Local\\Temp/ipykernel_15972/3150316079.py\u001b[0m in \u001b[0;36mtrain_and_time\u001b[1;34m(algo, times, scores)\u001b[0m\n\u001b[0;32m      2\u001b[0m     \u001b[0mstart\u001b[0m \u001b[1;33m=\u001b[0m \u001b[0mtime\u001b[0m\u001b[1;33m.\u001b[0m\u001b[0mclock\u001b[0m\u001b[1;33m(\u001b[0m\u001b[1;33m)\u001b[0m\u001b[1;33m\u001b[0m\u001b[1;33m\u001b[0m\u001b[0m\n\u001b[0;32m      3\u001b[0m     \u001b[1;31m#print(algo())\u001b[0m\u001b[1;33m\u001b[0m\u001b[1;33m\u001b[0m\u001b[1;33m\u001b[0m\u001b[0m\n\u001b[1;32m----> 4\u001b[1;33m     \u001b[0mstate\u001b[0m\u001b[1;33m,\u001b[0m \u001b[0mtop_score\u001b[0m\u001b[1;33m,\u001b[0m\u001b[0m_\u001b[0m \u001b[1;33m=\u001b[0m \u001b[0malgo\u001b[0m\u001b[1;33m(\u001b[0m\u001b[1;33m)\u001b[0m\u001b[1;33m\u001b[0m\u001b[1;33m\u001b[0m\u001b[0m\n\u001b[0m\u001b[0;32m      5\u001b[0m     \u001b[0mend\u001b[0m \u001b[1;33m=\u001b[0m \u001b[0mtime\u001b[0m\u001b[1;33m.\u001b[0m\u001b[0mclock\u001b[0m\u001b[1;33m(\u001b[0m\u001b[1;33m)\u001b[0m\u001b[1;33m\u001b[0m\u001b[1;33m\u001b[0m\u001b[0m\n\u001b[0;32m      6\u001b[0m     \u001b[0mtimes\u001b[0m\u001b[1;33m.\u001b[0m\u001b[0mappend\u001b[0m\u001b[1;33m(\u001b[0m\u001b[0mend\u001b[0m \u001b[1;33m-\u001b[0m \u001b[0mstart\u001b[0m\u001b[1;33m)\u001b[0m\u001b[1;33m\u001b[0m\u001b[1;33m\u001b[0m\u001b[0m\n",
      "\u001b[1;32mC:\\Users\\VIPULK~1\\AppData\\Local\\Temp/ipykernel_15972/550239861.py\u001b[0m in \u001b[0;36m<lambda>\u001b[1;34m()\u001b[0m\n\u001b[0;32m     14\u001b[0m     \u001b[0mtrain_and_time\u001b[0m\u001b[1;33m(\u001b[0m\u001b[1;32mlambda\u001b[0m \u001b[1;33m:\u001b[0m \u001b[0mmlrose_hiive\u001b[0m\u001b[1;33m.\u001b[0m\u001b[0msimulated_annealing\u001b[0m\u001b[1;33m(\u001b[0m\u001b[0mproblem\u001b[0m\u001b[1;33m=\u001b[0m\u001b[0mflip_flop\u001b[0m\u001b[1;33m)\u001b[0m\u001b[1;33m,\u001b[0m \u001b[0mc_anneal_times\u001b[0m\u001b[1;33m,\u001b[0m \u001b[0mc_anneal_scores\u001b[0m\u001b[1;33m)\u001b[0m\u001b[1;33m\u001b[0m\u001b[1;33m\u001b[0m\u001b[0m\n\u001b[0;32m     15\u001b[0m     \u001b[0mtrain_and_time\u001b[0m\u001b[1;33m(\u001b[0m\u001b[1;32mlambda\u001b[0m \u001b[1;33m:\u001b[0m \u001b[0mmlrose_hiive\u001b[0m\u001b[1;33m.\u001b[0m\u001b[0mgenetic_alg\u001b[0m\u001b[1;33m(\u001b[0m\u001b[0mproblem\u001b[0m\u001b[1;33m=\u001b[0m\u001b[0mflip_flop\u001b[0m\u001b[1;33m)\u001b[0m\u001b[1;33m,\u001b[0m \u001b[0mc_genetic_times\u001b[0m\u001b[1;33m,\u001b[0m \u001b[0mc_genetic_scores\u001b[0m\u001b[1;33m)\u001b[0m\u001b[1;33m\u001b[0m\u001b[1;33m\u001b[0m\u001b[0m\n\u001b[1;32m---> 16\u001b[1;33m     \u001b[0mtrain_and_time\u001b[0m\u001b[1;33m(\u001b[0m\u001b[1;32mlambda\u001b[0m \u001b[1;33m:\u001b[0m \u001b[0mmlrose_hiive\u001b[0m\u001b[1;33m.\u001b[0m\u001b[0mmimic\u001b[0m\u001b[1;33m(\u001b[0m\u001b[0mproblem\u001b[0m\u001b[1;33m=\u001b[0m\u001b[0mflip_flop\u001b[0m\u001b[1;33m,\u001b[0m \u001b[0mmax_iters\u001b[0m\u001b[1;33m=\u001b[0m\u001b[1;36m100\u001b[0m\u001b[1;33m)\u001b[0m\u001b[1;33m,\u001b[0m \u001b[0mc_mimic_times\u001b[0m\u001b[1;33m,\u001b[0m \u001b[0mc_mimic_scores\u001b[0m\u001b[1;33m)\u001b[0m\u001b[1;33m\u001b[0m\u001b[1;33m\u001b[0m\u001b[0m\n\u001b[0m\u001b[0;32m     17\u001b[0m \u001b[1;33m\u001b[0m\u001b[0m\n\u001b[0;32m     18\u001b[0m \u001b[0mpoint_range\u001b[0m \u001b[1;33m=\u001b[0m \u001b[0mrange\u001b[0m\u001b[1;33m(\u001b[0m\u001b[1;36m10\u001b[0m\u001b[1;33m,\u001b[0m\u001b[1;36m200\u001b[0m\u001b[1;33m,\u001b[0m\u001b[1;36m20\u001b[0m\u001b[1;33m)\u001b[0m\u001b[1;33m\u001b[0m\u001b[1;33m\u001b[0m\u001b[0m\n",
      "\u001b[1;32mC:\\Anaconda\\envs\\ml_env\\lib\\site-packages\\mlrose_hiive\\algorithms\\mimic.py\u001b[0m in \u001b[0;36mmimic\u001b[1;34m(problem, pop_size, keep_pct, max_attempts, max_iters, curve, random_state, state_fitness_callback, callback_user_info, noise)\u001b[0m\n\u001b[0;32m    117\u001b[0m \u001b[1;33m\u001b[0m\u001b[0m\n\u001b[0;32m    118\u001b[0m         \u001b[1;31m# Update probability estimates\u001b[0m\u001b[1;33m\u001b[0m\u001b[1;33m\u001b[0m\u001b[1;33m\u001b[0m\u001b[0m\n\u001b[1;32m--> 119\u001b[1;33m         \u001b[0mproblem\u001b[0m\u001b[1;33m.\u001b[0m\u001b[0meval_node_probs\u001b[0m\u001b[1;33m(\u001b[0m\u001b[1;33m)\u001b[0m\u001b[1;33m\u001b[0m\u001b[1;33m\u001b[0m\u001b[0m\n\u001b[0m\u001b[0;32m    120\u001b[0m \u001b[1;33m\u001b[0m\u001b[0m\n\u001b[0;32m    121\u001b[0m         \u001b[1;31m# Generate new sample\u001b[0m\u001b[1;33m\u001b[0m\u001b[1;33m\u001b[0m\u001b[1;33m\u001b[0m\u001b[0m\n",
      "\u001b[1;32mC:\\Anaconda\\envs\\ml_env\\lib\\site-packages\\mlrose_hiive\\opt_probs\\discrete_opt.py\u001b[0m in \u001b[0;36meval_node_probs\u001b[1;34m(self)\u001b[0m\n\u001b[0;32m     75\u001b[0m         \"\"\"\n\u001b[0;32m     76\u001b[0m         \u001b[1;31m# Create mutual info matrix\u001b[0m\u001b[1;33m\u001b[0m\u001b[1;33m\u001b[0m\u001b[1;33m\u001b[0m\u001b[0m\n\u001b[1;32m---> 77\u001b[1;33m         \u001b[0mmutual_info\u001b[0m \u001b[1;33m=\u001b[0m \u001b[0mself\u001b[0m\u001b[1;33m.\u001b[0m\u001b[0m_get_mutual_info_impl\u001b[0m\u001b[1;33m(\u001b[0m\u001b[1;33m)\u001b[0m\u001b[1;33m\u001b[0m\u001b[1;33m\u001b[0m\u001b[0m\n\u001b[0m\u001b[0;32m     78\u001b[0m \u001b[1;33m\u001b[0m\u001b[0m\n\u001b[0;32m     79\u001b[0m         \u001b[1;31m# Find minimum spanning tree of mutual info matrix\u001b[0m\u001b[1;33m\u001b[0m\u001b[1;33m\u001b[0m\u001b[1;33m\u001b[0m\u001b[0m\n",
      "\u001b[1;32mC:\\Anaconda\\envs\\ml_env\\lib\\site-packages\\mlrose_hiive\\opt_probs\\discrete_opt.py\u001b[0m in \u001b[0;36m_get_mutual_info_slow\u001b[1;34m(self)\u001b[0m\n\u001b[0;32m    146\u001b[0m                 mutual_info[i, j] = -1 * mutual_info_score(\n\u001b[0;32m    147\u001b[0m                     \u001b[0mself\u001b[0m\u001b[1;33m.\u001b[0m\u001b[0mkeep_sample\u001b[0m\u001b[1;33m[\u001b[0m\u001b[1;33m:\u001b[0m\u001b[1;33m,\u001b[0m \u001b[0mi\u001b[0m\u001b[1;33m]\u001b[0m\u001b[1;33m,\u001b[0m\u001b[1;33m\u001b[0m\u001b[1;33m\u001b[0m\u001b[0m\n\u001b[1;32m--> 148\u001b[1;33m                     self.keep_sample[:, j])\n\u001b[0m\u001b[0;32m    149\u001b[0m         \u001b[1;32mreturn\u001b[0m \u001b[0mmutual_info\u001b[0m\u001b[1;33m\u001b[0m\u001b[1;33m\u001b[0m\u001b[0m\n\u001b[0;32m    150\u001b[0m \u001b[1;33m\u001b[0m\u001b[0m\n",
      "\u001b[1;32mC:\\Anaconda\\envs\\ml_env\\lib\\site-packages\\sklearn\\metrics\\cluster\\_supervised.py\u001b[0m in \u001b[0;36mmutual_info_score\u001b[1;34m(labels_true, labels_pred, contingency)\u001b[0m\n\u001b[0;32m    780\u001b[0m     \"\"\"\n\u001b[0;32m    781\u001b[0m     \u001b[1;32mif\u001b[0m \u001b[0mcontingency\u001b[0m \u001b[1;32mis\u001b[0m \u001b[1;32mNone\u001b[0m\u001b[1;33m:\u001b[0m\u001b[1;33m\u001b[0m\u001b[1;33m\u001b[0m\u001b[0m\n\u001b[1;32m--> 782\u001b[1;33m         \u001b[0mlabels_true\u001b[0m\u001b[1;33m,\u001b[0m \u001b[0mlabels_pred\u001b[0m \u001b[1;33m=\u001b[0m \u001b[0mcheck_clusterings\u001b[0m\u001b[1;33m(\u001b[0m\u001b[0mlabels_true\u001b[0m\u001b[1;33m,\u001b[0m \u001b[0mlabels_pred\u001b[0m\u001b[1;33m)\u001b[0m\u001b[1;33m\u001b[0m\u001b[1;33m\u001b[0m\u001b[0m\n\u001b[0m\u001b[0;32m    783\u001b[0m         \u001b[0mcontingency\u001b[0m \u001b[1;33m=\u001b[0m \u001b[0mcontingency_matrix\u001b[0m\u001b[1;33m(\u001b[0m\u001b[0mlabels_true\u001b[0m\u001b[1;33m,\u001b[0m \u001b[0mlabels_pred\u001b[0m\u001b[1;33m,\u001b[0m \u001b[0msparse\u001b[0m\u001b[1;33m=\u001b[0m\u001b[1;32mTrue\u001b[0m\u001b[1;33m)\u001b[0m\u001b[1;33m\u001b[0m\u001b[1;33m\u001b[0m\u001b[0m\n\u001b[0;32m    784\u001b[0m     \u001b[1;32melse\u001b[0m\u001b[1;33m:\u001b[0m\u001b[1;33m\u001b[0m\u001b[1;33m\u001b[0m\u001b[0m\n",
      "\u001b[1;32mC:\\Anaconda\\envs\\ml_env\\lib\\site-packages\\sklearn\\metrics\\cluster\\_supervised.py\u001b[0m in \u001b[0;36mcheck_clusterings\u001b[1;34m(labels_true, labels_pred)\u001b[0m\n\u001b[0;32m     54\u001b[0m     )\n\u001b[0;32m     55\u001b[0m \u001b[1;33m\u001b[0m\u001b[0m\n\u001b[1;32m---> 56\u001b[1;33m     \u001b[0mtype_label\u001b[0m \u001b[1;33m=\u001b[0m \u001b[0mtype_of_target\u001b[0m\u001b[1;33m(\u001b[0m\u001b[0mlabels_true\u001b[0m\u001b[1;33m)\u001b[0m\u001b[1;33m\u001b[0m\u001b[1;33m\u001b[0m\u001b[0m\n\u001b[0m\u001b[0;32m     57\u001b[0m     \u001b[0mtype_pred\u001b[0m \u001b[1;33m=\u001b[0m \u001b[0mtype_of_target\u001b[0m\u001b[1;33m(\u001b[0m\u001b[0mlabels_pred\u001b[0m\u001b[1;33m)\u001b[0m\u001b[1;33m\u001b[0m\u001b[1;33m\u001b[0m\u001b[0m\n\u001b[0;32m     58\u001b[0m \u001b[1;33m\u001b[0m\u001b[0m\n",
      "\u001b[1;32mC:\\Anaconda\\envs\\ml_env\\lib\\site-packages\\sklearn\\utils\\multiclass.py\u001b[0m in \u001b[0;36mtype_of_target\u001b[1;34m(y)\u001b[0m\n\u001b[0;32m    325\u001b[0m         \u001b[1;32mreturn\u001b[0m \u001b[1;34m\"continuous\"\u001b[0m \u001b[1;33m+\u001b[0m \u001b[0msuffix\u001b[0m\u001b[1;33m\u001b[0m\u001b[1;33m\u001b[0m\u001b[0m\n\u001b[0;32m    326\u001b[0m \u001b[1;33m\u001b[0m\u001b[0m\n\u001b[1;32m--> 327\u001b[1;33m     \u001b[1;32mif\u001b[0m \u001b[1;33m(\u001b[0m\u001b[0mlen\u001b[0m\u001b[1;33m(\u001b[0m\u001b[0mnp\u001b[0m\u001b[1;33m.\u001b[0m\u001b[0munique\u001b[0m\u001b[1;33m(\u001b[0m\u001b[0my\u001b[0m\u001b[1;33m)\u001b[0m\u001b[1;33m)\u001b[0m \u001b[1;33m>\u001b[0m \u001b[1;36m2\u001b[0m\u001b[1;33m)\u001b[0m \u001b[1;32mor\u001b[0m \u001b[1;33m(\u001b[0m\u001b[0my\u001b[0m\u001b[1;33m.\u001b[0m\u001b[0mndim\u001b[0m \u001b[1;33m>=\u001b[0m \u001b[1;36m2\u001b[0m \u001b[1;32mand\u001b[0m \u001b[0mlen\u001b[0m\u001b[1;33m(\u001b[0m\u001b[0my\u001b[0m\u001b[1;33m[\u001b[0m\u001b[1;36m0\u001b[0m\u001b[1;33m]\u001b[0m\u001b[1;33m)\u001b[0m \u001b[1;33m>\u001b[0m \u001b[1;36m1\u001b[0m\u001b[1;33m)\u001b[0m\u001b[1;33m:\u001b[0m\u001b[1;33m\u001b[0m\u001b[1;33m\u001b[0m\u001b[0m\n\u001b[0m\u001b[0;32m    328\u001b[0m         \u001b[1;32mreturn\u001b[0m \u001b[1;34m\"multiclass\"\u001b[0m \u001b[1;33m+\u001b[0m \u001b[0msuffix\u001b[0m  \u001b[1;31m# [1, 2, 3] or [[1., 2., 3]] or [[1, 2]]\u001b[0m\u001b[1;33m\u001b[0m\u001b[1;33m\u001b[0m\u001b[0m\n\u001b[0;32m    329\u001b[0m     \u001b[1;32melse\u001b[0m\u001b[1;33m:\u001b[0m\u001b[1;33m\u001b[0m\u001b[1;33m\u001b[0m\u001b[0m\n",
      "\u001b[1;32m<__array_function__ internals>\u001b[0m in \u001b[0;36munique\u001b[1;34m(*args, **kwargs)\u001b[0m\n",
      "\u001b[1;32mC:\\Anaconda\\envs\\ml_env\\lib\\site-packages\\numpy\\lib\\arraysetops.py\u001b[0m in \u001b[0;36munique\u001b[1;34m(ar, return_index, return_inverse, return_counts, axis)\u001b[0m\n\u001b[0;32m    270\u001b[0m     \u001b[0mar\u001b[0m \u001b[1;33m=\u001b[0m \u001b[0mnp\u001b[0m\u001b[1;33m.\u001b[0m\u001b[0masanyarray\u001b[0m\u001b[1;33m(\u001b[0m\u001b[0mar\u001b[0m\u001b[1;33m)\u001b[0m\u001b[1;33m\u001b[0m\u001b[1;33m\u001b[0m\u001b[0m\n\u001b[0;32m    271\u001b[0m     \u001b[1;32mif\u001b[0m \u001b[0maxis\u001b[0m \u001b[1;32mis\u001b[0m \u001b[1;32mNone\u001b[0m\u001b[1;33m:\u001b[0m\u001b[1;33m\u001b[0m\u001b[1;33m\u001b[0m\u001b[0m\n\u001b[1;32m--> 272\u001b[1;33m         \u001b[0mret\u001b[0m \u001b[1;33m=\u001b[0m \u001b[0m_unique1d\u001b[0m\u001b[1;33m(\u001b[0m\u001b[0mar\u001b[0m\u001b[1;33m,\u001b[0m \u001b[0mreturn_index\u001b[0m\u001b[1;33m,\u001b[0m \u001b[0mreturn_inverse\u001b[0m\u001b[1;33m,\u001b[0m \u001b[0mreturn_counts\u001b[0m\u001b[1;33m)\u001b[0m\u001b[1;33m\u001b[0m\u001b[1;33m\u001b[0m\u001b[0m\n\u001b[0m\u001b[0;32m    273\u001b[0m         \u001b[1;32mreturn\u001b[0m \u001b[0m_unpack_tuple\u001b[0m\u001b[1;33m(\u001b[0m\u001b[0mret\u001b[0m\u001b[1;33m)\u001b[0m\u001b[1;33m\u001b[0m\u001b[1;33m\u001b[0m\u001b[0m\n\u001b[0;32m    274\u001b[0m \u001b[1;33m\u001b[0m\u001b[0m\n",
      "\u001b[1;32mC:\\Anaconda\\envs\\ml_env\\lib\\site-packages\\numpy\\lib\\arraysetops.py\u001b[0m in \u001b[0;36m_unique1d\u001b[1;34m(ar, return_index, return_inverse, return_counts)\u001b[0m\n\u001b[0;32m    331\u001b[0m         \u001b[0maux\u001b[0m \u001b[1;33m=\u001b[0m \u001b[0mar\u001b[0m\u001b[1;33m[\u001b[0m\u001b[0mperm\u001b[0m\u001b[1;33m]\u001b[0m\u001b[1;33m\u001b[0m\u001b[1;33m\u001b[0m\u001b[0m\n\u001b[0;32m    332\u001b[0m     \u001b[1;32melse\u001b[0m\u001b[1;33m:\u001b[0m\u001b[1;33m\u001b[0m\u001b[1;33m\u001b[0m\u001b[0m\n\u001b[1;32m--> 333\u001b[1;33m         \u001b[0mar\u001b[0m\u001b[1;33m.\u001b[0m\u001b[0msort\u001b[0m\u001b[1;33m(\u001b[0m\u001b[1;33m)\u001b[0m\u001b[1;33m\u001b[0m\u001b[1;33m\u001b[0m\u001b[0m\n\u001b[0m\u001b[0;32m    334\u001b[0m         \u001b[0maux\u001b[0m \u001b[1;33m=\u001b[0m \u001b[0mar\u001b[0m\u001b[1;33m\u001b[0m\u001b[1;33m\u001b[0m\u001b[0m\n\u001b[0;32m    335\u001b[0m     \u001b[0mmask\u001b[0m \u001b[1;33m=\u001b[0m \u001b[0mnp\u001b[0m\u001b[1;33m.\u001b[0m\u001b[0mempty\u001b[0m\u001b[1;33m(\u001b[0m\u001b[0maux\u001b[0m\u001b[1;33m.\u001b[0m\u001b[0mshape\u001b[0m\u001b[1;33m,\u001b[0m \u001b[0mdtype\u001b[0m\u001b[1;33m=\u001b[0m\u001b[0mnp\u001b[0m\u001b[1;33m.\u001b[0m\u001b[0mbool_\u001b[0m\u001b[1;33m)\u001b[0m\u001b[1;33m\u001b[0m\u001b[1;33m\u001b[0m\u001b[0m\n",
      "\u001b[1;31mKeyboardInterrupt\u001b[0m: "
     ]
    }
   ],
   "source": [
    "c_hill_times = []\n",
    "c_hill_scores = []\n",
    "c_anneal_times = []\n",
    "c_anneal_scores = []\n",
    "c_genetic_times = []\n",
    "c_genetic_scores = []\n",
    "c_mimic_times = []\n",
    "c_mimic_scores = []\n",
    "\n",
    "def run_flip_flop(num_points):\n",
    "    flip_flop = mlrose_hiive.DiscreteOpt(length = num_points, fitness_fn = mlrose_hiive.FlipFlop(), max_val=2)\n",
    "    print (\"Flip flop Problem with \", num_points, \" points\")\n",
    "    train_and_time(lambda : mlrose_hiive.random_hill_climb(problem=flip_flop),c_hill_times, c_hill_scores)\n",
    "    train_and_time(lambda : mlrose_hiive.simulated_annealing(problem=flip_flop), c_anneal_times, c_anneal_scores)\n",
    "    train_and_time(lambda : mlrose_hiive.genetic_alg(problem=flip_flop), c_genetic_times, c_genetic_scores)\n",
    "    train_and_time(lambda : mlrose_hiive.mimic(problem=flip_flop, max_iters=100), c_mimic_times, c_mimic_scores)\n",
    "    \n",
    "point_range = range(10,200,20)\n",
    "for p in point_range:\n",
    "    run_flip_flop(p)\n",
    "plt.rcParams[\"figure.figsize\"] = (5,5)\n",
    "plt.plot(point_range,c_hill_times,'o-',point_range,c_anneal_times,'o-',point_range,c_genetic_times,'o-', point_range,c_mimic_times,'o-')\n",
    "plt.title(\"Flip flop Problem\")\n",
    "plt.xlabel(\"Array Length\")\n",
    "plt.ylabel(\"Time\")\n",
    "plt.legend([\"hill climb\", \"simulated annealing\",\"genetic algorithm\",\"mimic\"])\n",
    "plt.show()\n",
    "\n",
    "plt.plot(point_range,c_hill_scores,'o-',point_range,c_anneal_scores,'o-', point_range,c_genetic_scores,'o-', point_range,c_mimic_times,'o-')\n",
    "plt.title(\"Flip Flop Problem\")\n",
    "plt.xlabel(\"Array Length\")\n",
    "plt.ylabel(\"Highest Score\")\n",
    "plt.legend([\"hill climb\", \"simulated annealing\",\"genetic algorithm\",\"mimic\"])\n",
    "plt.show()"
   ]
  },
  {
   "cell_type": "code",
   "execution_count": null,
   "id": "ec347164",
   "metadata": {},
   "outputs": [],
   "source": []
  }
 ],
 "metadata": {
  "kernelspec": {
   "display_name": "Python 3 (ipykernel)",
   "language": "python",
   "name": "python3"
  },
  "language_info": {
   "codemirror_mode": {
    "name": "ipython",
    "version": 3
   },
   "file_extension": ".py",
   "mimetype": "text/x-python",
   "name": "python",
   "nbconvert_exporter": "python",
   "pygments_lexer": "ipython3",
   "version": "3.7.13"
  }
 },
 "nbformat": 4,
 "nbformat_minor": 5
}
