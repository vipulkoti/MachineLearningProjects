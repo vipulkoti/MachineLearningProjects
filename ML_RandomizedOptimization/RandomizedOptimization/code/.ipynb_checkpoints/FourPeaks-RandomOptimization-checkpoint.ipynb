{
 "cells": [
  {
   "cell_type": "code",
   "execution_count": 165,
   "id": "92f88520",
   "metadata": {},
   "outputs": [],
   "source": [
    "import mlrose_hiive\n",
    "import numpy as np\n",
    "import pandas as pd\n",
    "import matplotlib.pyplot as plt\n",
    "import time\n"
   ]
  },
  {
   "cell_type": "markdown",
   "id": "0a8663fa",
   "metadata": {},
   "source": [
    "<h3>One Problem</h3>"
   ]
  },
  {
   "cell_type": "code",
   "execution_count": 166,
   "id": "694e292c",
   "metadata": {},
   "outputs": [],
   "source": [
    "# Problem definition\n",
    "length = 30\n",
    "\n",
    "fitness = mlrose_hiive.FourPeaks()\n",
    "\n",
    "problem = mlrose_hiive.DiscreteOpt(length=length,\n",
    "                        fitness_fn=fitness,\n",
    "                        maximize=True)\n",
    "experiment_name = \"Four_Peaks\"\n",
    "output_directory = \"Four_Peaks\""
   ]
  },
  {
   "cell_type": "markdown",
   "id": "3d0d53f4",
   "metadata": {},
   "source": [
    "<h3>MIMC</h3>"
   ]
  },
  {
   "cell_type": "code",
   "execution_count": 167,
   "id": "1cd682e7",
   "metadata": {},
   "outputs": [
    {
     "name": "stdout",
     "output_type": "stream",
     "text": [
      "Wall time: 23.1 s\n"
     ]
    }
   ],
   "source": [
    "%%time\n",
    "mmc = mlrose_hiive.MIMICRunner(problem=problem,\n",
    "                          experiment_name=experiment_name + \"_MIMIC\",\n",
    "                               output_directory=output_directory,\n",
    "                          seed=33,\n",
    "                          iteration_list=[200],\n",
    "                          max_attempts=100,\n",
    "                       population_sizes=[200, 400, 600],\n",
    "                       keep_percent_list=[0.05, 0.1, 0.15, 0.20],\n",
    "#                           population_sizes=[20,50,100],\n",
    "#                           keep_percent_list=[0.25, 0.5, 0.75],\n",
    "                          use_fast_mimic=True)\n",
    "\n",
    "# the two data frames will contain the results\n",
    "mmc_run_stats, mmc_run_curves = mmc.run()"
   ]
  },
  {
   "cell_type": "code",
   "execution_count": 168,
   "id": "78adbe0d",
   "metadata": {},
   "outputs": [
    {
     "data": {
      "text/html": [
       "<div>\n",
       "<style scoped>\n",
       "    .dataframe tbody tr th:only-of-type {\n",
       "        vertical-align: middle;\n",
       "    }\n",
       "\n",
       "    .dataframe tbody tr th {\n",
       "        vertical-align: top;\n",
       "    }\n",
       "\n",
       "    .dataframe thead th {\n",
       "        text-align: right;\n",
       "    }\n",
       "</style>\n",
       "<table border=\"1\" class=\"dataframe\">\n",
       "  <thead>\n",
       "    <tr style=\"text-align: right;\">\n",
       "      <th></th>\n",
       "      <th>Iteration</th>\n",
       "      <th>Time</th>\n",
       "      <th>Fitness</th>\n",
       "      <th>FEvals</th>\n",
       "      <th>use_fast_mimic</th>\n",
       "      <th>Population Size</th>\n",
       "      <th>Keep Percent</th>\n",
       "      <th>max_iters</th>\n",
       "    </tr>\n",
       "  </thead>\n",
       "  <tbody>\n",
       "    <tr>\n",
       "      <th>0</th>\n",
       "      <td>0</td>\n",
       "      <td>0.004386</td>\n",
       "      <td>6.0</td>\n",
       "      <td>200.0</td>\n",
       "      <td>True</td>\n",
       "      <td>200</td>\n",
       "      <td>0.05</td>\n",
       "      <td>200</td>\n",
       "    </tr>\n",
       "    <tr>\n",
       "      <th>1</th>\n",
       "      <td>1</td>\n",
       "      <td>0.017793</td>\n",
       "      <td>38.0</td>\n",
       "      <td>402.0</td>\n",
       "      <td>True</td>\n",
       "      <td>200</td>\n",
       "      <td>0.05</td>\n",
       "      <td>200</td>\n",
       "    </tr>\n",
       "    <tr>\n",
       "      <th>2</th>\n",
       "      <td>2</td>\n",
       "      <td>0.025937</td>\n",
       "      <td>44.0</td>\n",
       "      <td>604.0</td>\n",
       "      <td>True</td>\n",
       "      <td>200</td>\n",
       "      <td>0.05</td>\n",
       "      <td>200</td>\n",
       "    </tr>\n",
       "    <tr>\n",
       "      <th>3</th>\n",
       "      <td>3</td>\n",
       "      <td>0.034863</td>\n",
       "      <td>50.0</td>\n",
       "      <td>806.0</td>\n",
       "      <td>True</td>\n",
       "      <td>200</td>\n",
       "      <td>0.05</td>\n",
       "      <td>200</td>\n",
       "    </tr>\n",
       "    <tr>\n",
       "      <th>4</th>\n",
       "      <td>4</td>\n",
       "      <td>0.042751</td>\n",
       "      <td>50.0</td>\n",
       "      <td>1007.0</td>\n",
       "      <td>True</td>\n",
       "      <td>200</td>\n",
       "      <td>0.05</td>\n",
       "      <td>200</td>\n",
       "    </tr>\n",
       "    <tr>\n",
       "      <th>...</th>\n",
       "      <td>...</td>\n",
       "      <td>...</td>\n",
       "      <td>...</td>\n",
       "      <td>...</td>\n",
       "      <td>...</td>\n",
       "      <td>...</td>\n",
       "      <td>...</td>\n",
       "      <td>...</td>\n",
       "    </tr>\n",
       "    <tr>\n",
       "      <th>1292</th>\n",
       "      <td>109</td>\n",
       "      <td>0.047201</td>\n",
       "      <td>56.0</td>\n",
       "      <td>66119.0</td>\n",
       "      <td>True</td>\n",
       "      <td>600</td>\n",
       "      <td>0.20</td>\n",
       "      <td>200</td>\n",
       "    </tr>\n",
       "    <tr>\n",
       "      <th>1293</th>\n",
       "      <td>110</td>\n",
       "      <td>0.060848</td>\n",
       "      <td>56.0</td>\n",
       "      <td>66720.0</td>\n",
       "      <td>True</td>\n",
       "      <td>600</td>\n",
       "      <td>0.20</td>\n",
       "      <td>200</td>\n",
       "    </tr>\n",
       "    <tr>\n",
       "      <th>1294</th>\n",
       "      <td>111</td>\n",
       "      <td>0.073227</td>\n",
       "      <td>56.0</td>\n",
       "      <td>67321.0</td>\n",
       "      <td>True</td>\n",
       "      <td>600</td>\n",
       "      <td>0.20</td>\n",
       "      <td>200</td>\n",
       "    </tr>\n",
       "    <tr>\n",
       "      <th>1295</th>\n",
       "      <td>112</td>\n",
       "      <td>0.085135</td>\n",
       "      <td>56.0</td>\n",
       "      <td>67922.0</td>\n",
       "      <td>True</td>\n",
       "      <td>600</td>\n",
       "      <td>0.20</td>\n",
       "      <td>200</td>\n",
       "    </tr>\n",
       "    <tr>\n",
       "      <th>1296</th>\n",
       "      <td>113</td>\n",
       "      <td>0.096818</td>\n",
       "      <td>56.0</td>\n",
       "      <td>68523.0</td>\n",
       "      <td>True</td>\n",
       "      <td>600</td>\n",
       "      <td>0.20</td>\n",
       "      <td>200</td>\n",
       "    </tr>\n",
       "  </tbody>\n",
       "</table>\n",
       "<p>1297 rows × 8 columns</p>\n",
       "</div>"
      ],
      "text/plain": [
       "      Iteration      Time  Fitness   FEvals  use_fast_mimic  Population Size  \\\n",
       "0             0  0.004386      6.0    200.0            True              200   \n",
       "1             1  0.017793     38.0    402.0            True              200   \n",
       "2             2  0.025937     44.0    604.0            True              200   \n",
       "3             3  0.034863     50.0    806.0            True              200   \n",
       "4             4  0.042751     50.0   1007.0            True              200   \n",
       "...         ...       ...      ...      ...             ...              ...   \n",
       "1292        109  0.047201     56.0  66119.0            True              600   \n",
       "1293        110  0.060848     56.0  66720.0            True              600   \n",
       "1294        111  0.073227     56.0  67321.0            True              600   \n",
       "1295        112  0.085135     56.0  67922.0            True              600   \n",
       "1296        113  0.096818     56.0  68523.0            True              600   \n",
       "\n",
       "      Keep Percent  max_iters  \n",
       "0             0.05        200  \n",
       "1             0.05        200  \n",
       "2             0.05        200  \n",
       "3             0.05        200  \n",
       "4             0.05        200  \n",
       "...            ...        ...  \n",
       "1292          0.20        200  \n",
       "1293          0.20        200  \n",
       "1294          0.20        200  \n",
       "1295          0.20        200  \n",
       "1296          0.20        200  \n",
       "\n",
       "[1297 rows x 8 columns]"
      ]
     },
     "execution_count": 168,
     "metadata": {},
     "output_type": "execute_result"
    }
   ],
   "source": [
    "mmc_run_curves"
   ]
  },
  {
   "cell_type": "code",
   "execution_count": 169,
   "id": "e3c93a68",
   "metadata": {},
   "outputs": [
    {
     "name": "stdout",
     "output_type": "stream",
     "text": [
      "Max and mean\n",
      "56.0 51.083333333333336 1.9115482916671074\n",
      "Keep Percent\n",
      "0.05    50.000000\n",
      "0.10    49.000000\n",
      "0.15    52.000000\n",
      "0.20    53.333333\n",
      "Name: Fitness, dtype: float64\n",
      "Population Size\n",
      "200    46.75\n",
      "400    54.00\n",
      "600    52.50\n",
      "Name: Fitness, dtype: float64\n",
      "Population Size\n",
      "200    1.227521\n",
      "400    1.924535\n",
      "600    2.582589\n",
      "Name: Time, dtype: float64\n"
     ]
    }
   ],
   "source": [
    "last_iters = mmc_run_stats[mmc_run_stats.Iteration != 0].reset_index()\n",
    "print(\"Max and mean\")\n",
    "print(last_iters.Fitness.max(), last_iters.Fitness.mean(), last_iters.Time.mean())\n",
    "print(last_iters.groupby(\"Keep Percent\").Fitness.mean())\n",
    "print(last_iters.groupby(\"Population Size\").Fitness.mean())\n",
    "print(last_iters.groupby(\"Population Size\").Time.mean())"
   ]
  },
  {
   "cell_type": "code",
   "execution_count": 170,
   "id": "eb4c1f92",
   "metadata": {},
   "outputs": [
    {
     "data": {
      "text/plain": [
       "Iteration                 7\n",
       "Time               0.076873\n",
       "Fitness                56.0\n",
       "FEvals               3213.0\n",
       "use_fast_mimic         True\n",
       "Population Size         400\n",
       "Keep Percent            0.1\n",
       "max_iters               200\n",
       "Name: 536, dtype: object"
      ]
     },
     "execution_count": 170,
     "metadata": {},
     "output_type": "execute_result"
    }
   ],
   "source": [
    "best_index_in_mmc_curve = mmc_run_curves.Fitness.idxmax()\n",
    "mmc_run_curves.iloc[best_index_in_mmc_curve]\n"
   ]
  },
  {
   "cell_type": "code",
   "execution_count": 171,
   "id": "0ee08189",
   "metadata": {},
   "outputs": [
    {
     "data": {
      "text/plain": [
       "(400, 0.1)"
      ]
     },
     "execution_count": 171,
     "metadata": {},
     "output_type": "execute_result"
    }
   ],
   "source": [
    "best_p_size = mmc_run_curves.iloc[best_index_in_mmc_curve]['Population Size'] \n",
    "best_keep = mmc_run_curves.iloc[best_index_in_mmc_curve]['Keep Percent']  \n",
    "best_curve_mmc = mmc_run_curves.loc[mmc_run_curves['Population Size'] == best_p_size, :]\n",
    "best_curve_mmc = best_curve_mmc.loc[best_curve_mmc['Keep Percent'] == best_keep, :]\n",
    "best_curve_mmc.reset_index(inplace=True)\n",
    "best_p_size, best_keep\n"
   ]
  },
  {
   "cell_type": "code",
   "execution_count": 172,
   "id": "4ff406ec",
   "metadata": {},
   "outputs": [
    {
     "data": {
      "text/plain": [
       "Text(0, 0.5, 'Value')"
      ]
     },
     "execution_count": 172,
     "metadata": {},
     "output_type": "execute_result"
    },
    {
     "data": {
      "image/png": "[encoded data removed]",
      "text/plain": [
       "<Figure size 864x576 with 1 Axes>"
      ]
     },
     "metadata": {
      "needs_background": "light"
     },
     "output_type": "display_data"
    }
   ],
   "source": [
    "ax = best_curve_mmc.Fitness.plot(lw=2, colormap='jet', marker='.', markersize=2, \n",
    "                             figsize=(12,8), grid=1,\n",
    "                             title='Best MMC Search')\n",
    "ax.set_xlabel(\"Iterations\")\n",
    "ax.set_ylabel(\"Value\")"
   ]
  },
  {
   "cell_type": "code",
   "execution_count": 173,
   "id": "3877be3e",
   "metadata": {},
   "outputs": [
    {
     "data": {
      "text/html": [
       "<div>\n",
       "<style scoped>\n",
       "    .dataframe tbody tr th:only-of-type {\n",
       "        vertical-align: middle;\n",
       "    }\n",
       "\n",
       "    .dataframe tbody tr th {\n",
       "        vertical-align: top;\n",
       "    }\n",
       "\n",
       "    .dataframe thead th {\n",
       "        text-align: right;\n",
       "    }\n",
       "</style>\n",
       "<table border=\"1\" class=\"dataframe\">\n",
       "  <thead>\n",
       "    <tr style=\"text-align: right;\">\n",
       "      <th></th>\n",
       "      <th>Iteration</th>\n",
       "      <th>Time</th>\n",
       "      <th>Fitness</th>\n",
       "      <th>FEvals</th>\n",
       "      <th>use_fast_mimic</th>\n",
       "      <th>Population Size</th>\n",
       "      <th>Keep Percent</th>\n",
       "      <th>max_iters</th>\n",
       "    </tr>\n",
       "  </thead>\n",
       "  <tbody>\n",
       "    <tr>\n",
       "      <th>0</th>\n",
       "      <td>0</td>\n",
       "      <td>0.004386</td>\n",
       "      <td>6.0</td>\n",
       "      <td>200.0</td>\n",
       "      <td>True</td>\n",
       "      <td>200</td>\n",
       "      <td>0.05</td>\n",
       "      <td>200</td>\n",
       "    </tr>\n",
       "    <tr>\n",
       "      <th>1</th>\n",
       "      <td>1</td>\n",
       "      <td>0.017793</td>\n",
       "      <td>38.0</td>\n",
       "      <td>402.0</td>\n",
       "      <td>True</td>\n",
       "      <td>200</td>\n",
       "      <td>0.05</td>\n",
       "      <td>200</td>\n",
       "    </tr>\n",
       "    <tr>\n",
       "      <th>2</th>\n",
       "      <td>2</td>\n",
       "      <td>0.025937</td>\n",
       "      <td>44.0</td>\n",
       "      <td>604.0</td>\n",
       "      <td>True</td>\n",
       "      <td>200</td>\n",
       "      <td>0.05</td>\n",
       "      <td>200</td>\n",
       "    </tr>\n",
       "    <tr>\n",
       "      <th>3</th>\n",
       "      <td>3</td>\n",
       "      <td>0.034863</td>\n",
       "      <td>50.0</td>\n",
       "      <td>806.0</td>\n",
       "      <td>True</td>\n",
       "      <td>200</td>\n",
       "      <td>0.05</td>\n",
       "      <td>200</td>\n",
       "    </tr>\n",
       "    <tr>\n",
       "      <th>4</th>\n",
       "      <td>4</td>\n",
       "      <td>0.042751</td>\n",
       "      <td>50.0</td>\n",
       "      <td>1007.0</td>\n",
       "      <td>True</td>\n",
       "      <td>200</td>\n",
       "      <td>0.05</td>\n",
       "      <td>200</td>\n",
       "    </tr>\n",
       "    <tr>\n",
       "      <th>...</th>\n",
       "      <td>...</td>\n",
       "      <td>...</td>\n",
       "      <td>...</td>\n",
       "      <td>...</td>\n",
       "      <td>...</td>\n",
       "      <td>...</td>\n",
       "      <td>...</td>\n",
       "      <td>...</td>\n",
       "    </tr>\n",
       "    <tr>\n",
       "      <th>1292</th>\n",
       "      <td>109</td>\n",
       "      <td>0.047201</td>\n",
       "      <td>56.0</td>\n",
       "      <td>66119.0</td>\n",
       "      <td>True</td>\n",
       "      <td>600</td>\n",
       "      <td>0.20</td>\n",
       "      <td>200</td>\n",
       "    </tr>\n",
       "    <tr>\n",
       "      <th>1293</th>\n",
       "      <td>110</td>\n",
       "      <td>0.060848</td>\n",
       "      <td>56.0</td>\n",
       "      <td>66720.0</td>\n",
       "      <td>True</td>\n",
       "      <td>600</td>\n",
       "      <td>0.20</td>\n",
       "      <td>200</td>\n",
       "    </tr>\n",
       "    <tr>\n",
       "      <th>1294</th>\n",
       "      <td>111</td>\n",
       "      <td>0.073227</td>\n",
       "      <td>56.0</td>\n",
       "      <td>67321.0</td>\n",
       "      <td>True</td>\n",
       "      <td>600</td>\n",
       "      <td>0.20</td>\n",
       "      <td>200</td>\n",
       "    </tr>\n",
       "    <tr>\n",
       "      <th>1295</th>\n",
       "      <td>112</td>\n",
       "      <td>0.085135</td>\n",
       "      <td>56.0</td>\n",
       "      <td>67922.0</td>\n",
       "      <td>True</td>\n",
       "      <td>600</td>\n",
       "      <td>0.20</td>\n",
       "      <td>200</td>\n",
       "    </tr>\n",
       "    <tr>\n",
       "      <th>1296</th>\n",
       "      <td>113</td>\n",
       "      <td>0.096818</td>\n",
       "      <td>56.0</td>\n",
       "      <td>68523.0</td>\n",
       "      <td>True</td>\n",
       "      <td>600</td>\n",
       "      <td>0.20</td>\n",
       "      <td>200</td>\n",
       "    </tr>\n",
       "  </tbody>\n",
       "</table>\n",
       "<p>1297 rows × 8 columns</p>\n",
       "</div>"
      ],
      "text/plain": [
       "      Iteration      Time  Fitness   FEvals  use_fast_mimic  Population Size  \\\n",
       "0             0  0.004386      6.0    200.0            True              200   \n",
       "1             1  0.017793     38.0    402.0            True              200   \n",
       "2             2  0.025937     44.0    604.0            True              200   \n",
       "3             3  0.034863     50.0    806.0            True              200   \n",
       "4             4  0.042751     50.0   1007.0            True              200   \n",
       "...         ...       ...      ...      ...             ...              ...   \n",
       "1292        109  0.047201     56.0  66119.0            True              600   \n",
       "1293        110  0.060848     56.0  66720.0            True              600   \n",
       "1294        111  0.073227     56.0  67321.0            True              600   \n",
       "1295        112  0.085135     56.0  67922.0            True              600   \n",
       "1296        113  0.096818     56.0  68523.0            True              600   \n",
       "\n",
       "      Keep Percent  max_iters  \n",
       "0             0.05        200  \n",
       "1             0.05        200  \n",
       "2             0.05        200  \n",
       "3             0.05        200  \n",
       "4             0.05        200  \n",
       "...            ...        ...  \n",
       "1292          0.20        200  \n",
       "1293          0.20        200  \n",
       "1294          0.20        200  \n",
       "1295          0.20        200  \n",
       "1296          0.20        200  \n",
       "\n",
       "[1297 rows x 8 columns]"
      ]
     },
     "execution_count": 173,
     "metadata": {},
     "output_type": "execute_result"
    }
   ],
   "source": [
    "mmc_run_curves"
   ]
  },
  {
   "cell_type": "code",
   "execution_count": 174,
   "id": "19dffd6c",
   "metadata": {},
   "outputs": [
    {
     "data": {
      "image/png": "[encoded data removed]",
      "text/plain": [
       "<Figure size 360x360 with 1 Axes>"
      ]
     },
     "metadata": {
      "needs_background": "light"
     },
     "output_type": "display_data"
    }
   ],
   "source": [
    "mmc_kp = mmc_run_curves.groupby(['Iteration','Keep Percent']).agg({'Fitness':'mean'}).reset_index()\n",
    "ax = mmc_kp.pivot_table(values=\"Fitness\", index=\"Iteration\", columns=\"Keep Percent\").plot(lw=2, colormap='jet', \n",
    "                                                                                          grid=1, marker='.', \n",
    "                                                                                          markersize=2,\n",
    "                                                                                          title='MMIC- KeepPercentage')\n",
    "ax.set_xlabel(\"Iteration\")\n",
    "ax.set_ylabel(\"Fitness\")\n",
    "fig = ax.get_figure()\n",
    "fig.savefig('../images/Four/four_mmc_keep_pct.png')"
   ]
  },
  {
   "cell_type": "code",
   "execution_count": 175,
   "id": "b3a0e47f",
   "metadata": {},
   "outputs": [
    {
     "data": {
      "image/png": "[encoded data removed]",
      "text/plain": [
       "<Figure size 360x360 with 1 Axes>"
      ]
     },
     "metadata": {
      "needs_background": "light"
     },
     "output_type": "display_data"
    }
   ],
   "source": [
    "mmc_p = mmc_run_curves.groupby(['Iteration','Population Size']).agg({'Fitness':'mean'}).reset_index()\n",
    "ax = mmc_p.pivot_table(values=\"Fitness\", index=\"Iteration\", columns=\"Population Size\").plot(lw=2, colormap='jet', \n",
    "                                                                                          grid=1, marker='.', \n",
    "                                                                                          markersize=2,\n",
    "                                                                                          title='MMIC- Population Size')\n",
    "ax.set_xlabel(\"Iteration\")\n",
    "ax.set_ylabel(\"Fitness\")\n",
    "fig = ax.get_figure()\n",
    "fig.savefig('../images/Four/four_mmc_p_size.png')"
   ]
  },
  {
   "cell_type": "markdown",
   "id": "cc86f212",
   "metadata": {},
   "source": [
    "<h3> RHC </h3>"
   ]
  },
  {
   "cell_type": "code",
   "execution_count": 176,
   "id": "5c8b3a91",
   "metadata": {},
   "outputs": [
    {
     "name": "stdout",
     "output_type": "stream",
     "text": [
      "Wall time: 5min 55s\n"
     ]
    }
   ],
   "source": [
    "%%time\n",
    "runner_return = mlrose_hiive.RHCRunner(problem,\n",
    "                                       experiment_name=experiment_name+ \"_RHC\",\n",
    "                                       output_directory=output_directory,\n",
    "                                       iteration_list=[500],\n",
    "                                       seed=33,\n",
    "                                       restart_list=[100], max_attempts=100)\n",
    "rhc_run_stats, rhc_run_curves = runner_return.run()"
   ]
  },
  {
   "cell_type": "code",
   "execution_count": 177,
   "id": "95b365e9",
   "metadata": {},
   "outputs": [
    {
     "data": {
      "text/html": [
       "<div>\n",
       "<style scoped>\n",
       "    .dataframe tbody tr th:only-of-type {\n",
       "        vertical-align: middle;\n",
       "    }\n",
       "\n",
       "    .dataframe tbody tr th {\n",
       "        vertical-align: top;\n",
       "    }\n",
       "\n",
       "    .dataframe thead th {\n",
       "        text-align: right;\n",
       "    }\n",
       "</style>\n",
       "<table border=\"1\" class=\"dataframe\">\n",
       "  <thead>\n",
       "    <tr style=\"text-align: right;\">\n",
       "      <th></th>\n",
       "      <th>Iteration</th>\n",
       "      <th>Time</th>\n",
       "      <th>Fitness</th>\n",
       "      <th>FEvals</th>\n",
       "      <th>Restarts</th>\n",
       "      <th>max_iters</th>\n",
       "      <th>current_restart</th>\n",
       "    </tr>\n",
       "  </thead>\n",
       "  <tbody>\n",
       "    <tr>\n",
       "      <th>0</th>\n",
       "      <td>0</td>\n",
       "      <td>0.000203</td>\n",
       "      <td>6.0</td>\n",
       "      <td>0.0</td>\n",
       "      <td>100</td>\n",
       "      <td>500</td>\n",
       "      <td>0</td>\n",
       "    </tr>\n",
       "    <tr>\n",
       "      <th>1</th>\n",
       "      <td>1</td>\n",
       "      <td>0.007169</td>\n",
       "      <td>6.0</td>\n",
       "      <td>1.0</td>\n",
       "      <td>100</td>\n",
       "      <td>500</td>\n",
       "      <td>0</td>\n",
       "    </tr>\n",
       "    <tr>\n",
       "      <th>2</th>\n",
       "      <td>2</td>\n",
       "      <td>0.007195</td>\n",
       "      <td>6.0</td>\n",
       "      <td>2.0</td>\n",
       "      <td>100</td>\n",
       "      <td>500</td>\n",
       "      <td>0</td>\n",
       "    </tr>\n",
       "    <tr>\n",
       "      <th>3</th>\n",
       "      <td>3</td>\n",
       "      <td>0.007215</td>\n",
       "      <td>6.0</td>\n",
       "      <td>3.0</td>\n",
       "      <td>100</td>\n",
       "      <td>500</td>\n",
       "      <td>0</td>\n",
       "    </tr>\n",
       "    <tr>\n",
       "      <th>4</th>\n",
       "      <td>4</td>\n",
       "      <td>0.007233</td>\n",
       "      <td>6.0</td>\n",
       "      <td>4.0</td>\n",
       "      <td>100</td>\n",
       "      <td>500</td>\n",
       "      <td>0</td>\n",
       "    </tr>\n",
       "    <tr>\n",
       "      <th>...</th>\n",
       "      <td>...</td>\n",
       "      <td>...</td>\n",
       "      <td>...</td>\n",
       "      <td>...</td>\n",
       "      <td>...</td>\n",
       "      <td>...</td>\n",
       "      <td>...</td>\n",
       "    </tr>\n",
       "    <tr>\n",
       "      <th>36619</th>\n",
       "      <td>270</td>\n",
       "      <td>0.040839</td>\n",
       "      <td>10.0</td>\n",
       "      <td>37691.0</td>\n",
       "      <td>100</td>\n",
       "      <td>500</td>\n",
       "      <td>100</td>\n",
       "    </tr>\n",
       "    <tr>\n",
       "      <th>36620</th>\n",
       "      <td>271</td>\n",
       "      <td>0.040978</td>\n",
       "      <td>10.0</td>\n",
       "      <td>37692.0</td>\n",
       "      <td>100</td>\n",
       "      <td>500</td>\n",
       "      <td>100</td>\n",
       "    </tr>\n",
       "    <tr>\n",
       "      <th>36621</th>\n",
       "      <td>272</td>\n",
       "      <td>0.041123</td>\n",
       "      <td>10.0</td>\n",
       "      <td>37693.0</td>\n",
       "      <td>100</td>\n",
       "      <td>500</td>\n",
       "      <td>100</td>\n",
       "    </tr>\n",
       "    <tr>\n",
       "      <th>36622</th>\n",
       "      <td>273</td>\n",
       "      <td>0.041263</td>\n",
       "      <td>10.0</td>\n",
       "      <td>37694.0</td>\n",
       "      <td>100</td>\n",
       "      <td>500</td>\n",
       "      <td>100</td>\n",
       "    </tr>\n",
       "    <tr>\n",
       "      <th>36623</th>\n",
       "      <td>274</td>\n",
       "      <td>0.041408</td>\n",
       "      <td>10.0</td>\n",
       "      <td>37695.0</td>\n",
       "      <td>100</td>\n",
       "      <td>500</td>\n",
       "      <td>100</td>\n",
       "    </tr>\n",
       "  </tbody>\n",
       "</table>\n",
       "<p>36624 rows × 7 columns</p>\n",
       "</div>"
      ],
      "text/plain": [
       "       Iteration      Time  Fitness   FEvals  Restarts  max_iters  \\\n",
       "0              0  0.000203      6.0      0.0       100        500   \n",
       "1              1  0.007169      6.0      1.0       100        500   \n",
       "2              2  0.007195      6.0      2.0       100        500   \n",
       "3              3  0.007215      6.0      3.0       100        500   \n",
       "4              4  0.007233      6.0      4.0       100        500   \n",
       "...          ...       ...      ...      ...       ...        ...   \n",
       "36619        270  0.040839     10.0  37691.0       100        500   \n",
       "36620        271  0.040978     10.0  37692.0       100        500   \n",
       "36621        272  0.041123     10.0  37693.0       100        500   \n",
       "36622        273  0.041263     10.0  37694.0       100        500   \n",
       "36623        274  0.041408     10.0  37695.0       100        500   \n",
       "\n",
       "       current_restart  \n",
       "0                    0  \n",
       "1                    0  \n",
       "2                    0  \n",
       "3                    0  \n",
       "4                    0  \n",
       "...                ...  \n",
       "36619              100  \n",
       "36620              100  \n",
       "36621              100  \n",
       "36622              100  \n",
       "36623              100  \n",
       "\n",
       "[36624 rows x 7 columns]"
      ]
     },
     "execution_count": 177,
     "metadata": {},
     "output_type": "execute_result"
    }
   ],
   "source": [
    "rhc_run_curves"
   ]
  },
  {
   "cell_type": "code",
   "execution_count": 178,
   "id": "edca45c1",
   "metadata": {},
   "outputs": [
    {
     "data": {
      "text/plain": [
       "2.0"
      ]
     },
     "execution_count": 178,
     "metadata": {},
     "output_type": "execute_result"
    }
   ],
   "source": [
    "best_index_in_curve = rhc_run_curves.Fitness.idxmax()\n",
    "best_decay = rhc_run_curves.iloc[best_index_in_curve].current_restart\n",
    "best_curve_rhc = rhc_run_curves.loc[rhc_run_curves.current_restart == best_decay, :]\n",
    "best_curve_rhc.reset_index(inplace=True)\n",
    "best_decay"
   ]
  },
  {
   "cell_type": "code",
   "execution_count": 179,
   "id": "42f12183",
   "metadata": {},
   "outputs": [
    {
     "data": {
      "text/plain": [
       "Iteration          247.000000\n",
       "Time                 0.037711\n",
       "Fitness             56.000000\n",
       "FEvals             718.000000\n",
       "Restarts           100.000000\n",
       "max_iters          500.000000\n",
       "current_restart      2.000000\n",
       "Name: 698, dtype: float64"
      ]
     },
     "execution_count": 179,
     "metadata": {},
     "output_type": "execute_result"
    }
   ],
   "source": [
    "best_index_in_RHC_curve = rhc_run_curves.Fitness.idxmax()\n",
    "rhc_run_curves.iloc[best_index_in_RHC_curve]"
   ]
  },
  {
   "cell_type": "code",
   "execution_count": 180,
   "id": "aef44ea1",
   "metadata": {},
   "outputs": [
    {
     "data": {
      "text/html": [
       "<div>\n",
       "<style scoped>\n",
       "    .dataframe tbody tr th:only-of-type {\n",
       "        vertical-align: middle;\n",
       "    }\n",
       "\n",
       "    .dataframe tbody tr th {\n",
       "        vertical-align: top;\n",
       "    }\n",
       "\n",
       "    .dataframe thead th {\n",
       "        text-align: right;\n",
       "    }\n",
       "</style>\n",
       "<table border=\"1\" class=\"dataframe\">\n",
       "  <thead>\n",
       "    <tr style=\"text-align: right;\">\n",
       "      <th></th>\n",
       "      <th>index</th>\n",
       "      <th>Iteration</th>\n",
       "      <th>Time</th>\n",
       "      <th>Fitness</th>\n",
       "      <th>FEvals</th>\n",
       "      <th>Restarts</th>\n",
       "      <th>max_iters</th>\n",
       "      <th>current_restart</th>\n",
       "    </tr>\n",
       "  </thead>\n",
       "  <tbody>\n",
       "    <tr>\n",
       "      <th>0</th>\n",
       "      <td>452</td>\n",
       "      <td>1</td>\n",
       "      <td>0.007169</td>\n",
       "      <td>3.0</td>\n",
       "      <td>462.0</td>\n",
       "      <td>100</td>\n",
       "      <td>500</td>\n",
       "      <td>2</td>\n",
       "    </tr>\n",
       "    <tr>\n",
       "      <th>1</th>\n",
       "      <td>453</td>\n",
       "      <td>2</td>\n",
       "      <td>0.007195</td>\n",
       "      <td>12.0</td>\n",
       "      <td>464.0</td>\n",
       "      <td>100</td>\n",
       "      <td>500</td>\n",
       "      <td>2</td>\n",
       "    </tr>\n",
       "    <tr>\n",
       "      <th>2</th>\n",
       "      <td>454</td>\n",
       "      <td>3</td>\n",
       "      <td>0.007215</td>\n",
       "      <td>12.0</td>\n",
       "      <td>465.0</td>\n",
       "      <td>100</td>\n",
       "      <td>500</td>\n",
       "      <td>2</td>\n",
       "    </tr>\n",
       "    <tr>\n",
       "      <th>3</th>\n",
       "      <td>455</td>\n",
       "      <td>4</td>\n",
       "      <td>0.007233</td>\n",
       "      <td>12.0</td>\n",
       "      <td>466.0</td>\n",
       "      <td>100</td>\n",
       "      <td>500</td>\n",
       "      <td>2</td>\n",
       "    </tr>\n",
       "    <tr>\n",
       "      <th>4</th>\n",
       "      <td>456</td>\n",
       "      <td>5</td>\n",
       "      <td>0.007252</td>\n",
       "      <td>12.0</td>\n",
       "      <td>467.0</td>\n",
       "      <td>100</td>\n",
       "      <td>500</td>\n",
       "      <td>2</td>\n",
       "    </tr>\n",
       "    <tr>\n",
       "      <th>...</th>\n",
       "      <td>...</td>\n",
       "      <td>...</td>\n",
       "      <td>...</td>\n",
       "      <td>...</td>\n",
       "      <td>...</td>\n",
       "      <td>...</td>\n",
       "      <td>...</td>\n",
       "      <td>...</td>\n",
       "    </tr>\n",
       "    <tr>\n",
       "      <th>342</th>\n",
       "      <td>794</td>\n",
       "      <td>343</td>\n",
       "      <td>0.052807</td>\n",
       "      <td>56.0</td>\n",
       "      <td>814.0</td>\n",
       "      <td>100</td>\n",
       "      <td>500</td>\n",
       "      <td>2</td>\n",
       "    </tr>\n",
       "    <tr>\n",
       "      <th>343</th>\n",
       "      <td>795</td>\n",
       "      <td>344</td>\n",
       "      <td>0.052991</td>\n",
       "      <td>56.0</td>\n",
       "      <td>815.0</td>\n",
       "      <td>100</td>\n",
       "      <td>500</td>\n",
       "      <td>2</td>\n",
       "    </tr>\n",
       "    <tr>\n",
       "      <th>344</th>\n",
       "      <td>796</td>\n",
       "      <td>345</td>\n",
       "      <td>0.053182</td>\n",
       "      <td>56.0</td>\n",
       "      <td>816.0</td>\n",
       "      <td>100</td>\n",
       "      <td>500</td>\n",
       "      <td>2</td>\n",
       "    </tr>\n",
       "    <tr>\n",
       "      <th>345</th>\n",
       "      <td>797</td>\n",
       "      <td>346</td>\n",
       "      <td>0.053363</td>\n",
       "      <td>56.0</td>\n",
       "      <td>817.0</td>\n",
       "      <td>100</td>\n",
       "      <td>500</td>\n",
       "      <td>2</td>\n",
       "    </tr>\n",
       "    <tr>\n",
       "      <th>346</th>\n",
       "      <td>798</td>\n",
       "      <td>347</td>\n",
       "      <td>0.053557</td>\n",
       "      <td>56.0</td>\n",
       "      <td>818.0</td>\n",
       "      <td>100</td>\n",
       "      <td>500</td>\n",
       "      <td>2</td>\n",
       "    </tr>\n",
       "  </tbody>\n",
       "</table>\n",
       "<p>347 rows × 8 columns</p>\n",
       "</div>"
      ],
      "text/plain": [
       "     index  Iteration      Time  Fitness  FEvals  Restarts  max_iters  \\\n",
       "0      452          1  0.007169      3.0   462.0       100        500   \n",
       "1      453          2  0.007195     12.0   464.0       100        500   \n",
       "2      454          3  0.007215     12.0   465.0       100        500   \n",
       "3      455          4  0.007233     12.0   466.0       100        500   \n",
       "4      456          5  0.007252     12.0   467.0       100        500   \n",
       "..     ...        ...       ...      ...     ...       ...        ...   \n",
       "342    794        343  0.052807     56.0   814.0       100        500   \n",
       "343    795        344  0.052991     56.0   815.0       100        500   \n",
       "344    796        345  0.053182     56.0   816.0       100        500   \n",
       "345    797        346  0.053363     56.0   817.0       100        500   \n",
       "346    798        347  0.053557     56.0   818.0       100        500   \n",
       "\n",
       "     current_restart  \n",
       "0                  2  \n",
       "1                  2  \n",
       "2                  2  \n",
       "3                  2  \n",
       "4                  2  \n",
       "..               ...  \n",
       "342                2  \n",
       "343                2  \n",
       "344                2  \n",
       "345                2  \n",
       "346                2  \n",
       "\n",
       "[347 rows x 8 columns]"
      ]
     },
     "execution_count": 180,
     "metadata": {},
     "output_type": "execute_result"
    }
   ],
   "source": [
    "best_curve_rhc"
   ]
  },
  {
   "cell_type": "code",
   "execution_count": 181,
   "id": "d4fbec23",
   "metadata": {},
   "outputs": [
    {
     "data": {
      "text/plain": [
       "Text(0, 0.5, 'Value')"
      ]
     },
     "execution_count": 181,
     "metadata": {},
     "output_type": "execute_result"
    },
    {
     "data": {
      "image/png": "[encoded data removed]",
      "text/plain": [
       "<Figure size 864x576 with 1 Axes>"
      ]
     },
     "metadata": {
      "needs_background": "light"
     },
     "output_type": "display_data"
    }
   ],
   "source": [
    "ax = best_curve_rhc.Fitness.plot(lw=2, colormap='jet', marker='.', markersize=2, \n",
    "                             figsize=(12,8), grid=1,\n",
    "                             title='Best Random Search')\n",
    "ax.set_xlabel(\"Iterations\")\n",
    "ax.set_ylabel(\"Value\")"
   ]
  },
  {
   "cell_type": "code",
   "execution_count": 182,
   "id": "69bd3746",
   "metadata": {},
   "outputs": [
    {
     "data": {
      "text/html": [
       "<div>\n",
       "<style scoped>\n",
       "    .dataframe tbody tr th:only-of-type {\n",
       "        vertical-align: middle;\n",
       "    }\n",
       "\n",
       "    .dataframe tbody tr th {\n",
       "        vertical-align: top;\n",
       "    }\n",
       "\n",
       "    .dataframe thead th {\n",
       "        text-align: right;\n",
       "    }\n",
       "</style>\n",
       "<table border=\"1\" class=\"dataframe\">\n",
       "  <thead>\n",
       "    <tr style=\"text-align: right;\">\n",
       "      <th></th>\n",
       "      <th>Iteration</th>\n",
       "      <th>Time</th>\n",
       "      <th>Fitness</th>\n",
       "      <th>FEvals</th>\n",
       "      <th>Restarts</th>\n",
       "      <th>max_iters</th>\n",
       "      <th>current_restart</th>\n",
       "    </tr>\n",
       "  </thead>\n",
       "  <tbody>\n",
       "    <tr>\n",
       "      <th>0</th>\n",
       "      <td>0</td>\n",
       "      <td>0.000203</td>\n",
       "      <td>6.0</td>\n",
       "      <td>0.0</td>\n",
       "      <td>100</td>\n",
       "      <td>500</td>\n",
       "      <td>0</td>\n",
       "    </tr>\n",
       "    <tr>\n",
       "      <th>1</th>\n",
       "      <td>1</td>\n",
       "      <td>0.007169</td>\n",
       "      <td>6.0</td>\n",
       "      <td>1.0</td>\n",
       "      <td>100</td>\n",
       "      <td>500</td>\n",
       "      <td>0</td>\n",
       "    </tr>\n",
       "    <tr>\n",
       "      <th>2</th>\n",
       "      <td>2</td>\n",
       "      <td>0.007195</td>\n",
       "      <td>6.0</td>\n",
       "      <td>2.0</td>\n",
       "      <td>100</td>\n",
       "      <td>500</td>\n",
       "      <td>0</td>\n",
       "    </tr>\n",
       "    <tr>\n",
       "      <th>3</th>\n",
       "      <td>3</td>\n",
       "      <td>0.007215</td>\n",
       "      <td>6.0</td>\n",
       "      <td>3.0</td>\n",
       "      <td>100</td>\n",
       "      <td>500</td>\n",
       "      <td>0</td>\n",
       "    </tr>\n",
       "    <tr>\n",
       "      <th>4</th>\n",
       "      <td>4</td>\n",
       "      <td>0.007233</td>\n",
       "      <td>6.0</td>\n",
       "      <td>4.0</td>\n",
       "      <td>100</td>\n",
       "      <td>500</td>\n",
       "      <td>0</td>\n",
       "    </tr>\n",
       "    <tr>\n",
       "      <th>...</th>\n",
       "      <td>...</td>\n",
       "      <td>...</td>\n",
       "      <td>...</td>\n",
       "      <td>...</td>\n",
       "      <td>...</td>\n",
       "      <td>...</td>\n",
       "      <td>...</td>\n",
       "    </tr>\n",
       "    <tr>\n",
       "      <th>36619</th>\n",
       "      <td>270</td>\n",
       "      <td>0.040839</td>\n",
       "      <td>10.0</td>\n",
       "      <td>37691.0</td>\n",
       "      <td>100</td>\n",
       "      <td>500</td>\n",
       "      <td>100</td>\n",
       "    </tr>\n",
       "    <tr>\n",
       "      <th>36620</th>\n",
       "      <td>271</td>\n",
       "      <td>0.040978</td>\n",
       "      <td>10.0</td>\n",
       "      <td>37692.0</td>\n",
       "      <td>100</td>\n",
       "      <td>500</td>\n",
       "      <td>100</td>\n",
       "    </tr>\n",
       "    <tr>\n",
       "      <th>36621</th>\n",
       "      <td>272</td>\n",
       "      <td>0.041123</td>\n",
       "      <td>10.0</td>\n",
       "      <td>37693.0</td>\n",
       "      <td>100</td>\n",
       "      <td>500</td>\n",
       "      <td>100</td>\n",
       "    </tr>\n",
       "    <tr>\n",
       "      <th>36622</th>\n",
       "      <td>273</td>\n",
       "      <td>0.041263</td>\n",
       "      <td>10.0</td>\n",
       "      <td>37694.0</td>\n",
       "      <td>100</td>\n",
       "      <td>500</td>\n",
       "      <td>100</td>\n",
       "    </tr>\n",
       "    <tr>\n",
       "      <th>36623</th>\n",
       "      <td>274</td>\n",
       "      <td>0.041408</td>\n",
       "      <td>10.0</td>\n",
       "      <td>37695.0</td>\n",
       "      <td>100</td>\n",
       "      <td>500</td>\n",
       "      <td>100</td>\n",
       "    </tr>\n",
       "  </tbody>\n",
       "</table>\n",
       "<p>36624 rows × 7 columns</p>\n",
       "</div>"
      ],
      "text/plain": [
       "       Iteration      Time  Fitness   FEvals  Restarts  max_iters  \\\n",
       "0              0  0.000203      6.0      0.0       100        500   \n",
       "1              1  0.007169      6.0      1.0       100        500   \n",
       "2              2  0.007195      6.0      2.0       100        500   \n",
       "3              3  0.007215      6.0      3.0       100        500   \n",
       "4              4  0.007233      6.0      4.0       100        500   \n",
       "...          ...       ...      ...      ...       ...        ...   \n",
       "36619        270  0.040839     10.0  37691.0       100        500   \n",
       "36620        271  0.040978     10.0  37692.0       100        500   \n",
       "36621        272  0.041123     10.0  37693.0       100        500   \n",
       "36622        273  0.041263     10.0  37694.0       100        500   \n",
       "36623        274  0.041408     10.0  37695.0       100        500   \n",
       "\n",
       "       current_restart  \n",
       "0                    0  \n",
       "1                    0  \n",
       "2                    0  \n",
       "3                    0  \n",
       "4                    0  \n",
       "...                ...  \n",
       "36619              100  \n",
       "36620              100  \n",
       "36621              100  \n",
       "36622              100  \n",
       "36623              100  \n",
       "\n",
       "[36624 rows x 7 columns]"
      ]
     },
     "execution_count": 182,
     "metadata": {},
     "output_type": "execute_result"
    }
   ],
   "source": [
    "rhc_run_curves"
   ]
  },
  {
   "cell_type": "code",
   "execution_count": 183,
   "id": "632822ae",
   "metadata": {},
   "outputs": [
    {
     "data": {
      "image/png": "[encoded data removed]",
      "text/plain": [
       "<Figure size 360x360 with 1 Axes>"
      ]
     },
     "metadata": {
      "needs_background": "light"
     },
     "output_type": "display_data"
    }
   ],
   "source": [
    "rhc_cr = rhc_run_curves.groupby(['Iteration','current_restart']).agg({'Fitness':'mean'}).reset_index()\n",
    "ax = rhc_cr.pivot_table(values=\"Fitness\", index=\"Iteration\", columns=\"current_restart\").plot(lw=2, colormap='jet', legend=False\n",
    "                                                                                          , grid=1, marker='.', \n",
    "                                                                                          markersize=2,\n",
    "                                                                                          title='RHC - current_restart')\n",
    "ax.set_xlabel(\"Iteration\")\n",
    "ax.set_ylabel(\"Fitness\")\n",
    "fig = ax.get_figure()\n",
    "fig.savefig('../images/Four/four_rhc_restarts.png')"
   ]
  },
  {
   "cell_type": "markdown",
   "id": "7ac495f1",
   "metadata": {},
   "source": [
    "<h3>SA</h3>"
   ]
  },
  {
   "cell_type": "code",
   "execution_count": 184,
   "id": "2d975c8a",
   "metadata": {},
   "outputs": [
    {
     "name": "stdout",
     "output_type": "stream",
     "text": [
      "Wall time: 1.79 s\n"
     ]
    }
   ],
   "source": [
    "%%time\n",
    "sa = mlrose_hiive.SARunner(problem,\n",
    "                            experiment_name=experiment_name+ \"_SA\",\n",
    "                            output_directory=output_directory, \n",
    "                           iteration_list=[500],\n",
    "                           temperature_list=[1, 5, 10, 50, 100],\n",
    "                   decay_list=[mlrose_hiive.GeomDecay, mlrose_hiive.ExpDecay, mlrose_hiive.ArithDecay],\n",
    "#                            temperature_list=[1, 10, 50, 100, 250],\n",
    "#                            decay_list=[mlrose_hiive.ExpDecay,\n",
    "#                                        mlrose_hiive.GeomDecay],\n",
    "                           seed=33, max_attempts=100)\n",
    "\n",
    "sa_run_stats, sa_run_curves = sa.run()   "
   ]
  },
  {
   "cell_type": "code",
   "execution_count": 185,
   "id": "e01042c3",
   "metadata": {},
   "outputs": [
    {
     "name": "stdout",
     "output_type": "stream",
     "text": [
      "27.666666666666668 56.0\n",
      "0.09072485999956068\n"
     ]
    }
   ],
   "source": [
    "last_iters = sa_run_stats[sa_run_stats.Iteration != 0].reset_index()\n",
    "print(last_iters.Fitness.mean(), last_iters.Fitness.max())\n",
    "print(last_iters.Time.mean())"
   ]
  },
  {
   "cell_type": "code",
   "execution_count": 186,
   "id": "c5ecb39f",
   "metadata": {},
   "outputs": [
    {
     "name": "stdout",
     "output_type": "stream",
     "text": [
      "nan\n",
      "nan\n",
      "nan\n",
      "0.0605416999994001\n",
      "0.09429053333345412\n",
      "nan\n",
      "nan\n",
      "0.09072485999956068\n"
     ]
    }
   ],
   "source": [
    "print(last_iters.loc[last_iters.schedule_init_temp == 0.05, \"Time\"].mean())\n",
    "print(last_iters.loc[last_iters.schedule_init_temp == 0.1, \"Time\"].mean())\n",
    "print(last_iters.loc[last_iters.schedule_init_temp == 0.5, \"Time\"].mean())\n",
    "print(last_iters.loc[last_iters.schedule_init_temp == 1, \"Time\"].mean())\n",
    "print(last_iters.loc[last_iters.schedule_init_temp == 10, \"Time\"].mean())\n",
    "print(last_iters.loc[last_iters.schedule_init_temp == 20, \"Time\"].mean())\n",
    "print(last_iters.loc[last_iters.schedule_init_temp == 25, \"Time\"].mean())\n",
    "print(last_iters.loc[:, \"Time\"].mean())"
   ]
  },
  {
   "cell_type": "code",
   "execution_count": 187,
   "id": "e3d77122",
   "metadata": {},
   "outputs": [
    {
     "data": {
      "text/plain": [
       "GeomDecay(init_temp=1, decay=0.99, min_temp=0.001)"
      ]
     },
     "execution_count": 187,
     "metadata": {},
     "output_type": "execute_result"
    }
   ],
   "source": [
    "best_index_in_curve = sa_run_curves.Fitness.idxmax()\n",
    "best_decay = sa_run_curves.iloc[best_index_in_curve].Temperature\n",
    "best_curve_sa = sa_run_curves.loc[sa_run_curves.Temperature == best_decay, :]\n",
    "best_curve_sa.reset_index(inplace=True)\n",
    "best_decay"
   ]
  },
  {
   "cell_type": "code",
   "execution_count": 188,
   "id": "9f2d1c1e",
   "metadata": {},
   "outputs": [
    {
     "data": {
      "text/plain": [
       "Iteration           283\n",
       "Time           0.033029\n",
       "Fitness            56.0\n",
       "FEvals            426.0\n",
       "Temperature           1\n",
       "max_iters           500\n",
       "Name: 283, dtype: object"
      ]
     },
     "execution_count": 188,
     "metadata": {},
     "output_type": "execute_result"
    }
   ],
   "source": [
    "best_index_in_SA_curve = sa_run_curves.Fitness.idxmax()\n",
    "sa_run_curves.iloc[best_index_in_SA_curve]"
   ]
  },
  {
   "cell_type": "code",
   "execution_count": 189,
   "id": "fa70727f",
   "metadata": {},
   "outputs": [],
   "source": [
    "dfp = pd.DataFrame(sa_run_curves)\n",
    "dfp = dfp.astype({'Temperature':'string'})"
   ]
  },
  {
   "cell_type": "code",
   "execution_count": 190,
   "id": "468c4bf1",
   "metadata": {},
   "outputs": [
    {
     "data": {
      "image/png": "[encoded data removed]",
      "text/plain": [
       "<Figure size 360x360 with 1 Axes>"
      ]
     },
     "metadata": {
      "needs_background": "light"
     },
     "output_type": "display_data"
    }
   ],
   "source": [
    "sa_ps = dfp.groupby(['Iteration','Temperature']).agg({'Fitness':'mean'}).reset_index()\n",
    "ax = sa_ps.pivot_table(values=\"Fitness\", index=\"Iteration\", columns=\"Temperature\").plot(lw=2, colormap='jet', \n",
    "                                                                                             grid=1, marker='.', \n",
    "                                                                                          markersize=2,\n",
    "                                                                                          title='SA - Temperature')\n",
    "ax.set_xlabel(\"Iteration\")\n",
    "ax.set_ylabel(\"Fitness\")\n",
    "fig = ax.get_figure()\n",
    "fig.savefig('../images/Four/four_sa_temp.png')"
   ]
  },
  {
   "cell_type": "code",
   "execution_count": 191,
   "id": "e24c56d3",
   "metadata": {},
   "outputs": [
    {
     "data": {
      "text/plain": [
       "Text(0, 0.5, 'Value')"
      ]
     },
     "execution_count": 191,
     "metadata": {},
     "output_type": "execute_result"
    },
    {
     "data": {
      "image/png": "[encoded data removed]",
      "text/plain": [
       "<Figure size 864x576 with 1 Axes>"
      ]
     },
     "metadata": {
      "needs_background": "light"
     },
     "output_type": "display_data"
    }
   ],
   "source": [
    "ax = best_curve_sa.Fitness.plot(lw=2, colormap='jet', marker='.', markersize=2, \n",
    "                             figsize=(12,8), grid=1,\n",
    "                             title='Best Simulated Annealing')\n",
    "ax.set_xlabel(\"Iterations\")\n",
    "ax.set_ylabel(\"Value\")\n"
   ]
  },
  {
   "cell_type": "markdown",
   "id": "47087d94",
   "metadata": {},
   "source": [
    "<h3>GA</h3>"
   ]
  },
  {
   "cell_type": "code",
   "execution_count": 192,
   "id": "465fdba0",
   "metadata": {},
   "outputs": [
    {
     "name": "stdout",
     "output_type": "stream",
     "text": [
      "Wall time: 6.51 s\n"
     ]
    }
   ],
   "source": [
    "%%time\n",
    "ga = mlrose_hiive.GARunner(problem=problem,\n",
    "                        experiment_name=experiment_name+ \"_GA\",\n",
    "                        output_directory=output_directory,\n",
    "                          seed=44,\n",
    "                          iteration_list=[200],\n",
    "                          population_sizes=[20,50,100],\n",
    "                          mutation_rates=[0.1, 0.25, 0.5])\n",
    "ga_run_stats, ga_run_curves = ga.run()   "
   ]
  },
  {
   "cell_type": "code",
   "execution_count": 193,
   "id": "e495267f",
   "metadata": {},
   "outputs": [
    {
     "name": "stdout",
     "output_type": "stream",
     "text": [
      "Max and mean\n",
      "56.0 55.55555555555556 0.7096701222225319\n",
      "Mutation Rate\n",
      "0.10    54.666667\n",
      "0.25    56.000000\n",
      "0.50    56.000000\n",
      "Name: Fitness, dtype: float64\n",
      "Population Size\n",
      "20     54.666667\n",
      "50     56.000000\n",
      "100    56.000000\n",
      "Name: Fitness, dtype: float64\n",
      "Population Size\n",
      "20     0.268600\n",
      "50     0.633042\n",
      "100    1.227369\n",
      "Name: Time, dtype: float64\n"
     ]
    }
   ],
   "source": [
    "\n",
    "last_iters = ga_run_stats[ga_run_stats.Iteration != 0].reset_index()\n",
    "print(\"Max and mean\")\n",
    "print(last_iters.Fitness.max(), last_iters.Fitness.mean(), last_iters.Time.mean())\n",
    "print(last_iters.groupby(\"Mutation Rate\").Fitness.mean())\n",
    "print(last_iters.groupby(\"Population Size\").Fitness.mean())\n",
    "print(last_iters.groupby(\"Population Size\").Time.mean())"
   ]
  },
  {
   "cell_type": "code",
   "execution_count": 194,
   "id": "35092fe6",
   "metadata": {},
   "outputs": [
    {
     "data": {
      "text/plain": [
       "Iteration           144.000000\n",
       "Time                  0.185095\n",
       "Fitness              56.000000\n",
       "FEvals             3061.000000\n",
       "Population Size      20.000000\n",
       "Mutation Rate         0.250000\n",
       "max_iters           200.000000\n",
       "Name: 345, dtype: float64"
      ]
     },
     "execution_count": 194,
     "metadata": {},
     "output_type": "execute_result"
    }
   ],
   "source": [
    "best_index_in_GA_curve = ga_run_curves.Fitness.idxmax()\n",
    "ga_run_curves.iloc[best_index_in_GA_curve]\n"
   ]
  },
  {
   "cell_type": "code",
   "execution_count": 195,
   "id": "76e3f163",
   "metadata": {},
   "outputs": [
    {
     "data": {
      "text/plain": [
       "20.0"
      ]
     },
     "execution_count": 195,
     "metadata": {},
     "output_type": "execute_result"
    }
   ],
   "source": [
    "best_p_size_ga = ga_run_curves.iloc[best_index_in_GA_curve]['Population Size'] \n",
    "best_m_rate = ga_run_curves.iloc[best_index_in_GA_curve]['Mutation Rate']  \n",
    "best_curve_ga = ga_run_curves.loc[ga_run_curves['Population Size'] == best_p_size_ga, :]\n",
    "best_curve_ga = best_curve_ga.loc[best_curve_ga['Mutation Rate'] == best_m_rate, :]\n",
    "best_curve_ga.reset_index(inplace=True)\n",
    "best_p_size_ga"
   ]
  },
  {
   "cell_type": "code",
   "execution_count": 196,
   "id": "f0e4ecb2",
   "metadata": {},
   "outputs": [
    {
     "data": {
      "text/plain": [
       "Text(0, 0.5, 'Value')"
      ]
     },
     "execution_count": 196,
     "metadata": {},
     "output_type": "execute_result"
    },
    {
     "data": {
      "image/png": "[encoded data removed]",
      "text/plain": [
       "<Figure size 864x576 with 1 Axes>"
      ]
     },
     "metadata": {
      "needs_background": "light"
     },
     "output_type": "display_data"
    }
   ],
   "source": [
    "ax = best_curve_ga.Fitness.plot(lw=2, colormap='jet', marker='.', markersize=2, \n",
    "                             figsize=(12,8), grid=1,\n",
    "                             title='Best GA Search')\n",
    "ax.set_xlabel(\"Iterations\")\n",
    "ax.set_ylabel(\"Value\")"
   ]
  },
  {
   "cell_type": "code",
   "execution_count": 197,
   "id": "494665b8",
   "metadata": {},
   "outputs": [
    {
     "data": {
      "text/html": [
       "<div>\n",
       "<style scoped>\n",
       "    .dataframe tbody tr th:only-of-type {\n",
       "        vertical-align: middle;\n",
       "    }\n",
       "\n",
       "    .dataframe tbody tr th {\n",
       "        vertical-align: top;\n",
       "    }\n",
       "\n",
       "    .dataframe thead th {\n",
       "        text-align: right;\n",
       "    }\n",
       "</style>\n",
       "<table border=\"1\" class=\"dataframe\">\n",
       "  <thead>\n",
       "    <tr style=\"text-align: right;\">\n",
       "      <th></th>\n",
       "      <th>Iteration</th>\n",
       "      <th>Time</th>\n",
       "      <th>Fitness</th>\n",
       "      <th>FEvals</th>\n",
       "      <th>Population Size</th>\n",
       "      <th>Mutation Rate</th>\n",
       "      <th>max_iters</th>\n",
       "    </tr>\n",
       "  </thead>\n",
       "  <tbody>\n",
       "    <tr>\n",
       "      <th>0</th>\n",
       "      <td>0</td>\n",
       "      <td>0.000481</td>\n",
       "      <td>0.0</td>\n",
       "      <td>20.0</td>\n",
       "      <td>20</td>\n",
       "      <td>0.1</td>\n",
       "      <td>200</td>\n",
       "    </tr>\n",
       "    <tr>\n",
       "      <th>1</th>\n",
       "      <td>1</td>\n",
       "      <td>0.007012</td>\n",
       "      <td>34.0</td>\n",
       "      <td>42.0</td>\n",
       "      <td>20</td>\n",
       "      <td>0.1</td>\n",
       "      <td>200</td>\n",
       "    </tr>\n",
       "    <tr>\n",
       "      <th>2</th>\n",
       "      <td>2</td>\n",
       "      <td>0.008313</td>\n",
       "      <td>38.0</td>\n",
       "      <td>64.0</td>\n",
       "      <td>20</td>\n",
       "      <td>0.1</td>\n",
       "      <td>200</td>\n",
       "    </tr>\n",
       "    <tr>\n",
       "      <th>3</th>\n",
       "      <td>3</td>\n",
       "      <td>0.009613</td>\n",
       "      <td>38.0</td>\n",
       "      <td>85.0</td>\n",
       "      <td>20</td>\n",
       "      <td>0.1</td>\n",
       "      <td>200</td>\n",
       "    </tr>\n",
       "    <tr>\n",
       "      <th>4</th>\n",
       "      <td>4</td>\n",
       "      <td>0.010755</td>\n",
       "      <td>38.0</td>\n",
       "      <td>106.0</td>\n",
       "      <td>20</td>\n",
       "      <td>0.1</td>\n",
       "      <td>200</td>\n",
       "    </tr>\n",
       "    <tr>\n",
       "      <th>...</th>\n",
       "      <td>...</td>\n",
       "      <td>...</td>\n",
       "      <td>...</td>\n",
       "      <td>...</td>\n",
       "      <td>...</td>\n",
       "      <td>...</td>\n",
       "      <td>...</td>\n",
       "    </tr>\n",
       "    <tr>\n",
       "      <th>1804</th>\n",
       "      <td>196</td>\n",
       "      <td>0.255192</td>\n",
       "      <td>56.0</td>\n",
       "      <td>19908.0</td>\n",
       "      <td>100</td>\n",
       "      <td>0.5</td>\n",
       "      <td>200</td>\n",
       "    </tr>\n",
       "    <tr>\n",
       "      <th>1805</th>\n",
       "      <td>197</td>\n",
       "      <td>0.256546</td>\n",
       "      <td>56.0</td>\n",
       "      <td>20009.0</td>\n",
       "      <td>100</td>\n",
       "      <td>0.5</td>\n",
       "      <td>200</td>\n",
       "    </tr>\n",
       "    <tr>\n",
       "      <th>1806</th>\n",
       "      <td>198</td>\n",
       "      <td>0.257971</td>\n",
       "      <td>56.0</td>\n",
       "      <td>20110.0</td>\n",
       "      <td>100</td>\n",
       "      <td>0.5</td>\n",
       "      <td>200</td>\n",
       "    </tr>\n",
       "    <tr>\n",
       "      <th>1807</th>\n",
       "      <td>199</td>\n",
       "      <td>0.259327</td>\n",
       "      <td>56.0</td>\n",
       "      <td>20211.0</td>\n",
       "      <td>100</td>\n",
       "      <td>0.5</td>\n",
       "      <td>200</td>\n",
       "    </tr>\n",
       "    <tr>\n",
       "      <th>1808</th>\n",
       "      <td>200</td>\n",
       "      <td>0.260663</td>\n",
       "      <td>56.0</td>\n",
       "      <td>20312.0</td>\n",
       "      <td>100</td>\n",
       "      <td>0.5</td>\n",
       "      <td>200</td>\n",
       "    </tr>\n",
       "  </tbody>\n",
       "</table>\n",
       "<p>1809 rows × 7 columns</p>\n",
       "</div>"
      ],
      "text/plain": [
       "      Iteration      Time  Fitness   FEvals  Population Size  Mutation Rate  \\\n",
       "0             0  0.000481      0.0     20.0               20            0.1   \n",
       "1             1  0.007012     34.0     42.0               20            0.1   \n",
       "2             2  0.008313     38.0     64.0               20            0.1   \n",
       "3             3  0.009613     38.0     85.0               20            0.1   \n",
       "4             4  0.010755     38.0    106.0               20            0.1   \n",
       "...         ...       ...      ...      ...              ...            ...   \n",
       "1804        196  0.255192     56.0  19908.0              100            0.5   \n",
       "1805        197  0.256546     56.0  20009.0              100            0.5   \n",
       "1806        198  0.257971     56.0  20110.0              100            0.5   \n",
       "1807        199  0.259327     56.0  20211.0              100            0.5   \n",
       "1808        200  0.260663     56.0  20312.0              100            0.5   \n",
       "\n",
       "      max_iters  \n",
       "0           200  \n",
       "1           200  \n",
       "2           200  \n",
       "3           200  \n",
       "4           200  \n",
       "...         ...  \n",
       "1804        200  \n",
       "1805        200  \n",
       "1806        200  \n",
       "1807        200  \n",
       "1808        200  \n",
       "\n",
       "[1809 rows x 7 columns]"
      ]
     },
     "execution_count": 197,
     "metadata": {},
     "output_type": "execute_result"
    }
   ],
   "source": [
    "ga_run_curves"
   ]
  },
  {
   "cell_type": "code",
   "execution_count": 198,
   "id": "f0641c3d",
   "metadata": {},
   "outputs": [
    {
     "data": {
      "image/png": "[encoded data removed]",
      "text/plain": [
       "<Figure size 360x360 with 1 Axes>"
      ]
     },
     "metadata": {
      "needs_background": "light"
     },
     "output_type": "display_data"
    }
   ],
   "source": [
    "ga_ps = ga_run_curves.groupby(['Iteration','Population Size']).agg({'Fitness':'mean'}).reset_index()\n",
    "ax = ga_ps.pivot_table(values=\"Fitness\", index=\"Iteration\", columns=\"Population Size\").plot(lw=2, colormap='jet', \n",
    "                                                                                             grid=1, marker='.', \n",
    "                                                                                          markersize=2,\n",
    "                                                                                          title='GA - Population Size')\n",
    "ax.set_xlabel(\"Iteration\")\n",
    "ax.set_ylabel(\"Fitness\")\n",
    "fig = ax.get_figure()\n",
    "fig.savefig('../images/Four/four_ga_p_size.png')"
   ]
  },
  {
   "cell_type": "code",
   "execution_count": 199,
   "id": "9ceb4e95",
   "metadata": {},
   "outputs": [
    {
     "data": {
      "image/png": "[encoded data removed]",
      "text/plain": [
       "<Figure size 360x360 with 1 Axes>"
      ]
     },
     "metadata": {
      "needs_background": "light"
     },
     "output_type": "display_data"
    }
   ],
   "source": [
    "ga_mutaion = ga_run_curves.groupby(['Iteration','Mutation Rate']).agg({'Fitness':'mean'}).reset_index()\n",
    "ax = ga_mutaion.pivot_table(values=\"Fitness\", index=\"Iteration\", columns=\"Mutation Rate\").plot(lw=2, colormap='jet', \n",
    "                                                                                             grid=1, marker='.', \n",
    "                                                                                          markersize=2,\n",
    "                                                                                          title='GA - Mutation Rate')\n",
    "ax.set_xlabel(\"Iteration\")\n",
    "ax.set_ylabel(\"Fitness\")\n",
    "fig = ax.get_figure()\n",
    "fig.savefig('../images/Four/four_ga_M_Rate.png')"
   ]
  },
  {
   "cell_type": "code",
   "execution_count": 200,
   "id": "7f566788",
   "metadata": {},
   "outputs": [
    {
     "data": {
      "image/png": "[encoded data removed]",
      "text/plain": [
       "<Figure size 360x360 with 1 Axes>"
      ]
     },
     "metadata": {
      "needs_background": "light"
     },
     "output_type": "display_data"
    }
   ],
   "source": [
    "all_curves = {\"Random Hill Climb\": best_curve_rhc.Fitness, \"Simulated Annealing\": best_curve_sa.Fitness, \"Genetic Alg\": best_curve_ga.Fitness, \"MIMIC\": best_curve_mmc.Fitness}\n",
    "\n",
    "np.array([len(x) for x in all_curves]).max()\n",
    "\n",
    "plt.xlabel(\"Iterations\")\n",
    "plt.ylabel(\"Fitness\")\n",
    "plt.title(\"Four Peaks\")\n",
    "\n",
    "for name, curve in all_curves.items():\n",
    "    plt.plot(range(len(curve)), curve, label=name, lw=2)\n",
    "\n",
    "    plt.legend(loc=\"best\")\n",
    "plt.grid(visible=True)\n",
    "plt.savefig('../images/Four/four_f_score_compare.png')\n",
    "plt.show()"
   ]
  },
  {
   "cell_type": "code",
   "execution_count": 201,
   "id": "6c6f10a1",
   "metadata": {},
   "outputs": [
    {
     "data": {
      "image/png": "[encoded data removed]",
      "text/plain": [
       "<Figure size 360x360 with 1 Axes>"
      ]
     },
     "metadata": {
      "needs_background": "light"
     },
     "output_type": "display_data"
    }
   ],
   "source": [
    "all_curves = {\"Random Hill Climb\": best_curve_rhc.FEvals, \"Simulated Annealing\": best_curve_sa.FEvals, \"Genetic Alg\": best_curve_ga.FEvals, \"MIMIC\": best_curve_mmc.FEvals}\n",
    "\n",
    "np.array([len(x) for x in all_curves]).max()\n",
    "\n",
    "plt.xlabel(\"Iterations\")\n",
    "plt.ylabel(\"Function evals\")\n",
    "plt.title(\"Four Peaks\")\n",
    "\n",
    "for name, curve in all_curves.items():\n",
    "    plt.plot(range(len(curve)), curve, label=name, lw=2)\n",
    "\n",
    "    plt.legend(loc=\"best\")\n",
    "plt.grid(visible=True)\n",
    "plt.savefig('../images/Four/four_f_evals_compare.png')\n",
    "plt.show()"
   ]
  },
  {
   "cell_type": "code",
   "execution_count": 202,
   "id": "2a7fa437",
   "metadata": {},
   "outputs": [],
   "source": [
    "def train_and_time(algo, times, fitness):\n",
    "    start = time.clock()\n",
    "    #print(algo())\n",
    "    best_state, best_fitness,_ = algo()\n",
    "    end = time.clock()\n",
    "    times.append(end - start)\n",
    "    fitness.append(best_fitness)"
   ]
  },
  {
   "cell_type": "code",
   "execution_count": 203,
   "id": "6a0b4a11",
   "metadata": {},
   "outputs": [
    {
     "name": "stdout",
     "output_type": "stream",
     "text": [
      "Four Peaks Problem with  10  points\n",
      "Four Peaks Problem with  30  points\n",
      "Four Peaks Problem with  50  points\n",
      "Four Peaks Problem with  70  points\n",
      "Four Peaks Problem with  90  points\n",
      "Four Peaks Problem with  110  points\n",
      "Four Peaks Problem with  130  points\n",
      "Four Peaks Problem with  150  points\n",
      "Four Peaks Problem with  170  points\n",
      "Four Peaks Problem with  190  points\n"
     ]
    },
    {
     "data": {
      "image/png": "[encoded data removed]",
      "text/plain": [
       "<Figure size 360x360 with 1 Axes>"
      ]
     },
     "metadata": {
      "needs_background": "light"
     },
     "output_type": "display_data"
    },
    {
     "data": {
      "image/png": "[encoded data removed]",
      "text/plain": [
       "<Figure size 360x360 with 1 Axes>"
      ]
     },
     "metadata": {
      "needs_background": "light"
     },
     "output_type": "display_data"
    }
   ],
   "source": [
    "####### Four PEAKS\n",
    "import time\n",
    "cp_hill_times = []\n",
    "cp_hill_scores = []\n",
    "cp_anneal_times = []\n",
    "cp_anneal_scores = []\n",
    "cp_genetic_times = []\n",
    "cp_genetic_scores = []\n",
    "cp_mimic_times = []\n",
    "cp_mimic_scores = []\n",
    "\n",
    "def run_four_peaks(num_points):\n",
    "    four_peaks = mlrose_hiive.DiscreteOpt(length = num_points,fitness_fn = mlrose_hiive.FourPeaks())\n",
    "    print (\"Four Peaks Problem with \", num_points, \" points\")\n",
    "    train_and_time(lambda : mlrose_hiive.random_hill_climb(problem=four_peaks, max_attempts=10),cp_hill_times, cp_hill_scores)\n",
    "    train_and_time(lambda : mlrose_hiive.simulated_annealing(problem=four_peaks, max_attempts=10), cp_anneal_times, cp_anneal_scores)\n",
    "    train_and_time(lambda : mlrose_hiive.genetic_alg(pop_size = 30, problem=four_peaks, max_attempts=10), cp_genetic_times, cp_genetic_scores)\n",
    "    train_and_time(lambda : mlrose_hiive.mimic(pop_size = 30, problem=four_peaks, max_attempts=10), cp_mimic_times, cp_mimic_scores)\n",
    "\n",
    "point_range = range(10,200,20)\n",
    "for p in point_range:\n",
    "    run_four_peaks(p)\n",
    "plt.rcParams[\"figure.figsize\"] = (5,5)\n",
    "plt.plot(point_range,cp_hill_times,point_range,cp_anneal_times,point_range,cp_genetic_times,point_range,cp_mimic_times)\n",
    "plt.title(\"Four Peaks Problem\")\n",
    "plt.xlabel(\"Problem Length\")\n",
    "plt.ylabel(\"Time\")\n",
    "plt.legend([\"hill climb\", \"simulated annealing\",\"genetic algorithm\",\"mimic\"])\n",
    "plt.grid(visible=True)\n",
    "plt.savefig('../images/Four/four_h_times.png')\n",
    "\n",
    "plt.show()\n",
    "\n",
    "plt.plot(point_range,cp_hill_scores,point_range,cp_anneal_scores, point_range,cp_genetic_scores,point_range,cp_mimic_scores)\n",
    "plt.title(\"Four Peaks Problem\")\n",
    "plt.xlabel(\"Problem Length\")\n",
    "plt.ylabel(\"Highest Score\")\n",
    "plt.legend([\"hill climb\", \"simulated annealing\",\"genetic algorithm\",\"mimic\"])\n",
    "plt.grid(visible=True)\n",
    "plt.savefig('../images/Four/four_h_score.png')\n",
    "plt.show()"
   ]
  },
  {
   "cell_type": "code",
   "execution_count": null,
   "id": "7eb2f74d",
   "metadata": {},
   "outputs": [],
   "source": []
  }
 ],
 "metadata": {
  "kernelspec": {
   "display_name": "Python 3 (ipykernel)",
   "language": "python",
   "name": "python3"
  },
  "language_info": {
   "codemirror_mode": {
    "name": "ipython",
    "version": 3
   },
   "file_extension": ".py",
   "mimetype": "text/x-python",
   "name": "python",
   "nbconvert_exporter": "python",
   "pygments_lexer": "ipython3",
   "version": "3.7.13"
  }
 },
 "nbformat": 4,
 "nbformat_minor": 5
}
