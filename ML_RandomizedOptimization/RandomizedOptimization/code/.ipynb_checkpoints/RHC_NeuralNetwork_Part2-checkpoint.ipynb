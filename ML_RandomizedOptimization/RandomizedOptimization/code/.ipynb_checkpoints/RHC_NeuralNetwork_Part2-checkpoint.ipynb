{
 "cells": [
  {
   "cell_type": "code",
   "execution_count": 39,
   "id": "a49cbdb0",
   "metadata": {},
   "outputs": [],
   "source": [
    "import pandas as pd\n",
    "import numpy as np\n",
    "import matplotlib.pyplot as plt\n",
    "import plotly.express as px\n",
    "import seaborn as sns\n",
    "from sklearn import preprocessing\n",
    "from sklearn import tree\n",
    "from sklearn.model_selection import train_test_split\n",
    "from sklearn.preprocessing import LabelEncoder\n",
    "from sklearn import model_selection\n",
    "from sklearn.metrics import confusion_matrix,classification_report,accuracy_score,roc_auc_score,recall_score, balanced_accuracy_score,f1_score, mean_squared_error\n",
    "from sklearn.preprocessing import RobustScaler,MinMaxScaler,StandardScaler\n",
    "from sklearn.model_selection import validation_curve\n",
    "from sklearn.model_selection import GridSearchCV\n",
    "from sklearn.model_selection import learning_curve\n",
    "from sklearn.neural_network import MLPClassifier\n",
    "from sklearn.ensemble import AdaBoostClassifier\n",
    "from sklearn.neighbors import KNeighborsClassifier\n",
    "from sklearn import svm\n",
    "\n",
    "import mlrose_hiive\n",
    "from functools import partial\n",
    "\n",
    "import time\n",
    "import warnings\n",
    "warnings.filterwarnings('ignore')"
   ]
  },
  {
   "cell_type": "code",
   "execution_count": 40,
   "id": "776dc811",
   "metadata": {},
   "outputs": [
    {
     "name": "stdout",
     "output_type": "stream",
     "text": [
      "(1143, 13)\n",
      "<class 'pandas.core.frame.DataFrame'>\n",
      "RangeIndex: 1143 entries, 0 to 1142\n",
      "Data columns (total 13 columns):\n",
      " #   Column                Non-Null Count  Dtype  \n",
      "---  ------                --------------  -----  \n",
      " 0   fixed acidity         1143 non-null   float64\n",
      " 1   volatile acidity      1143 non-null   float64\n",
      " 2   citric acid           1143 non-null   float64\n",
      " 3   residual sugar        1143 non-null   float64\n",
      " 4   chlorides             1143 non-null   float64\n",
      " 5   free sulfur dioxide   1143 non-null   float64\n",
      " 6   total sulfur dioxide  1143 non-null   float64\n",
      " 7   density               1143 non-null   float64\n",
      " 8   pH                    1143 non-null   float64\n",
      " 9   sulphates             1143 non-null   float64\n",
      " 10  alcohol               1143 non-null   float64\n",
      " 11  quality               1143 non-null   int64  \n",
      " 12  Id                    1143 non-null   int64  \n",
      "dtypes: float64(11), int64(2)\n",
      "memory usage: 116.2 KB\n"
     ]
    }
   ],
   "source": [
    "data = pd.read_csv('../data/wineQualityDataset/WineQT.csv', sep=',')\n",
    "#data = pd.read_excel('../data/Raisin_Dataset/Raisin_Dataset.xlsx' , sheet_name = 'Raisin_Dataset')\n",
    "# print(data.shape)\n",
    "# data.head(5)\n",
    "# get data info\n",
    "print(data.shape)\n",
    "data.info()"
   ]
  },
  {
   "cell_type": "code",
   "execution_count": 41,
   "id": "612882de",
   "metadata": {},
   "outputs": [
    {
     "data": {
      "text/plain": [
       "5    483\n",
       "6    462\n",
       "7    143\n",
       "4     33\n",
       "8     16\n",
       "3      6\n",
       "Name: quality, dtype: int64"
      ]
     },
     "execution_count": 41,
     "metadata": {},
     "output_type": "execute_result"
    }
   ],
   "source": [
    "data.quality.value_counts()"
   ]
  },
  {
   "cell_type": "code",
   "execution_count": 42,
   "id": "0814fc7f",
   "metadata": {},
   "outputs": [],
   "source": [
    "#drop duplicate\n",
    "data = data.drop_duplicates().reset_index(drop=True)"
   ]
  },
  {
   "cell_type": "code",
   "execution_count": 43,
   "id": "ae7b9c6f",
   "metadata": {},
   "outputs": [],
   "source": [
    "data = data.drop(data[data.quality == 3].index).reset_index(drop=True)\n",
    "data = data.drop(data[data.quality == 4].index).reset_index(drop=True)\n",
    "#data = data.drop(data[data.quality == 8].index).reset_index(drop=True)\n",
    "data.loc[data[\"quality\"] == 8, \"quality\"] = 7\n"
   ]
  },
  {
   "cell_type": "code",
   "execution_count": 44,
   "id": "42432a28",
   "metadata": {},
   "outputs": [
    {
     "data": {
      "text/plain": [
       "5    483\n",
       "6    462\n",
       "7    159\n",
       "Name: quality, dtype: int64"
      ]
     },
     "execution_count": 44,
     "metadata": {},
     "output_type": "execute_result"
    }
   ],
   "source": [
    "data.quality.value_counts()"
   ]
  },
  {
   "cell_type": "code",
   "execution_count": 45,
   "id": "c5ddd460",
   "metadata": {},
   "outputs": [
    {
     "name": "stdout",
     "output_type": "stream",
     "text": [
      "<class 'pandas.core.indexes.base.Index'>\n"
     ]
    }
   ],
   "source": [
    "\n",
    "# Select numerical variables\n",
    "data_X = data.drop(\"quality\", axis=1)\n",
    "# data_X = data_X.drop(\"Id\", axis=1)\n",
    "numeric = data_X.select_dtypes(exclude=object).columns\n",
    "#numeric.remove('quality')\n",
    "print(type(numeric))\n",
    "for col in numeric:\n",
    "    data_X[col] = StandardScaler().fit_transform(data_X[[col]])\n",
    "\n",
    "data = data_X.join(data['quality'])"
   ]
  },
  {
   "cell_type": "code",
   "execution_count": 46,
   "id": "a64b2ddb",
   "metadata": {},
   "outputs": [
    {
     "name": "stdout",
     "output_type": "stream",
     "text": [
      "Splitting StratifiedShuffleSplit into train/test\n"
     ]
    }
   ],
   "source": [
    "# stratified sampling\n",
    "from sklearn.model_selection import StratifiedShuffleSplit\n",
    "\n",
    "print(\"Splitting StratifiedShuffleSplit into train/test\")\n",
    "\n",
    "split = StratifiedShuffleSplit(n_splits=1 , test_size=0.3, random_state=33)\n",
    "for train_ind, test_ind in split.split(data, data[\"quality\"]):\n",
    "    strat_train_set = data.loc[train_ind]\n",
    "    strat_test_set = data.loc[test_ind]\n",
    "    \n",
    "train_set = strat_train_set\n",
    "test_set = strat_test_set\n",
    "\n",
    "y_train = train_set[[\"quality\"]]\n",
    "X_train = train_set.drop(\"quality\", axis=1)\n",
    "y_test = test_set[[\"quality\"]]\n",
    "X_test = test_set.drop(\"quality\", axis=1)\n",
    "\n",
    "y = data[[\"quality\"]]\n",
    "X = data.drop(\"quality\", axis=1)\n"
   ]
  },
  {
   "cell_type": "code",
   "execution_count": 47,
   "id": "d10e5ac6",
   "metadata": {},
   "outputs": [],
   "source": [
    "def model_evaluation(model, X_train, y_train, X_test, y_test):\n",
    "    \n",
    "    print('Starting ...')\n",
    "    \n",
    "    ss = StandardScaler()\n",
    "    X_train_ss = ss.fit_transform(X_train)\n",
    "    X_test_ss = ss.fit_transform(X_test)\n",
    "    print(\"Scaling process is done ...\")\n",
    "    \n",
    "    print(\"**********************************\")\n",
    "    \n",
    "    print(\"Model building process is started ...\")\n",
    "    mod = model.fit(X_train, y_train)\n",
    "    mod_pred = model.predict(X_test)\n",
    "    print(\"Model creation process is done ...\")\n",
    "    \n",
    "    print(\"**********************************\")\n",
    "    print(\"Evaluation of the Model\")\n",
    "    print(\"***********************************\")\n",
    "    \n",
    "    print(\"Classification report of the Model: \\n {}\".format(classification_report(y_test, mod_pred)))\n",
    "    print(\"Confusion Matrix of the given Model: \\n {}\".format(confusion_matrix(y_test, mod_pred)))\n",
    "    print(\"f1_Micro score of the Model: \\n{}\".format(f1_score(y_test, mod_pred, average='micro')))\n",
    "    \n",
    "    print(\"Evaluation process is done ...\")\n",
    "    \n",
    "    print(\"***********************************************\")\n",
    "    \n",
    "    pass"
   ]
  },
  {
   "cell_type": "markdown",
   "id": "a5dc37c8",
   "metadata": {},
   "source": [
    "<p> Best parameters set found on development set:\n",
    "{'hidden_layer_sizes': 4, 'learning_rate_init': 0.001}\n",
    "f1_micro score for best Neural Network: 0.6530612244897959\n",
    "Completed training in 4.469036 seconds</p>"
   ]
  },
  {
   "cell_type": "code",
   "execution_count": 32,
   "id": "e5832a01",
   "metadata": {},
   "outputs": [
    {
     "data": {
      "text/plain": [
       "NeuralNetwork(algorithm='genetic_alg', early_stopping=True, hidden_nodes=[4, 4],\n",
       "              learning_rate=0.001, max_attempts=100, max_iters=10000,\n",
       "              random_state=44)"
      ]
     },
     "execution_count": 32,
     "metadata": {},
     "output_type": "execute_result"
    }
   ],
   "source": [
    "nn_model1 = mlrose_hiive.NeuralNetwork(hidden_nodes = [4,4], activation = 'relu',\n",
    "                                 algorithm = 'genetic_alg', \n",
    "                                 max_iters = 10000,\n",
    "                                 bias = True, is_classifier = True, \n",
    "                                 learning_rate = 0.001,\n",
    "                                 early_stopping = True,\n",
    "                                 max_attempts = 100,\n",
    "                                 random_state = 44,\n",
    "                                 pop_size=200,\n",
    "                                 mutation_prob=0.1)\n",
    "nn_model1.fit(X_train, pd.get_dummies(y_train.values.ravel()).values)"
   ]
  },
  {
   "cell_type": "code",
   "execution_count": 36,
   "id": "42881ec0",
   "metadata": {},
   "outputs": [
    {
     "name": "stdout",
     "output_type": "stream",
     "text": [
      "              precision    recall  f1-score   support\n",
      "\n",
      "           0       0.44      1.00      0.61       145\n",
      "           1       0.00      0.00      0.00       139\n",
      "           2       0.00      0.00      0.00        48\n",
      "\n",
      "   micro avg       0.44      0.44      0.44       332\n",
      "   macro avg       0.15      0.33      0.20       332\n",
      "weighted avg       0.19      0.44      0.27       332\n",
      " samples avg       0.44      0.44      0.44       332\n",
      "\n",
      "              precision    recall  f1-score   support\n",
      "\n",
      "           0       0.44      1.00      0.61       338\n",
      "           1       0.00      0.00      0.00       323\n",
      "           2       0.00      0.00      0.00       111\n",
      "\n",
      "   micro avg       0.44      0.44      0.44       772\n",
      "   macro avg       0.15      0.33      0.20       772\n",
      "weighted avg       0.19      0.44      0.27       772\n",
      " samples avg       0.44      0.44      0.44       772\n",
      "\n"
     ]
    }
   ],
   "source": [
    "from sklearn.metrics import f1_score, accuracy_score, classification_report\n",
    "y_pred = nn_model1.predict(X_test)\n",
    "print(classification_report(pd.get_dummies(y_test.values.ravel()).values, y_pred))\n",
    "y_pred_train = nn_model1.predict(X_train)\n",
    "print(classification_report(pd.get_dummies(y_train.values.ravel()).values, y_pred_train))"
   ]
  },
  {
   "cell_type": "code",
   "execution_count": 49,
   "id": "86106703",
   "metadata": {},
   "outputs": [
    {
     "data": {
      "text/plain": [
       "NeuralNetwork(algorithm='genetic_alg', early_stopping=True, hidden_nodes=[4, 4],\n",
       "              learning_rate=0.001, max_attempts=100, max_iters=10000,\n",
       "              mutation_prob=0.25, random_state=44)"
      ]
     },
     "execution_count": 49,
     "metadata": {},
     "output_type": "execute_result"
    }
   ],
   "source": [
    "nn_model2 = mlrose_hiive.NeuralNetwork(hidden_nodes = [4,4], activation = 'relu',\n",
    "                                 algorithm = 'genetic_alg', \n",
    "                                 max_iters = 10000,\n",
    "                                 bias = True, is_classifier = True, \n",
    "                                 learning_rate = 0.001,\n",
    "                                 early_stopping = True,\n",
    "                                 max_attempts = 100,\n",
    "                                 random_state = 44,\n",
    "                                 pop_size=200,\n",
    "                                 mutation_prob=0.25)\n",
    "nn_model2.fit(X_train, pd.get_dummies(y_train.values.ravel()).values)"
   ]
  },
  {
   "cell_type": "code",
   "execution_count": 50,
   "id": "ef9f3a6b",
   "metadata": {},
   "outputs": [
    {
     "name": "stdout",
     "output_type": "stream",
     "text": [
      "              precision    recall  f1-score   support\n",
      "\n",
      "           0       0.44      1.00      0.61       145\n",
      "           1       1.00      0.01      0.03       139\n",
      "           2       0.00      0.00      0.00        48\n",
      "\n",
      "   micro avg       0.44      0.44      0.44       332\n",
      "   macro avg       0.48      0.34      0.21       332\n",
      "weighted avg       0.61      0.44      0.28       332\n",
      " samples avg       0.44      0.44      0.44       332\n",
      "\n",
      "              precision    recall  f1-score   support\n",
      "\n",
      "           0       0.44      1.00      0.61       338\n",
      "           1       1.00      0.01      0.02       323\n",
      "           2       0.00      0.00      0.00       111\n",
      "\n",
      "   micro avg       0.44      0.44      0.44       772\n",
      "   macro avg       0.48      0.34      0.21       772\n",
      "weighted avg       0.61      0.44      0.28       772\n",
      " samples avg       0.44      0.44      0.44       772\n",
      "\n"
     ]
    }
   ],
   "source": [
    "from sklearn.metrics import f1_score, accuracy_score, classification_report\n",
    "y_pred = nn_model2.predict(X_test)\n",
    "print(classification_report(pd.get_dummies(y_test.values.ravel()).values, y_pred))\n",
    "y_pred_train = nn_model2.predict(X_train)\n",
    "print(classification_report(pd.get_dummies(y_train.values.ravel()).values, y_pred_train))"
   ]
  },
  {
   "cell_type": "code",
   "execution_count": null,
   "id": "842f06ba",
   "metadata": {},
   "outputs": [],
   "source": []
  }
 ],
 "metadata": {
  "kernelspec": {
   "display_name": "Python 3 (ipykernel)",
   "language": "python",
   "name": "python3"
  },
  "language_info": {
   "codemirror_mode": {
    "name": "ipython",
    "version": 3
   },
   "file_extension": ".py",
   "mimetype": "text/x-python",
   "name": "python",
   "nbconvert_exporter": "python",
   "pygments_lexer": "ipython3",
   "version": "3.7.13"
  }
 },
 "nbformat": 4,
 "nbformat_minor": 5
}
