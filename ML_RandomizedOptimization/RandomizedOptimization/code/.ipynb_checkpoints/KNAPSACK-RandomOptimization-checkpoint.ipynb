{
 "cells": [
  {
   "cell_type": "code",
   "execution_count": 106,
   "id": "92f88520",
   "metadata": {},
   "outputs": [],
   "source": [
    "import mlrose_hiive\n",
    "import numpy as np\n",
    "import pandas as pd\n",
    "import matplotlib.pyplot as plt\n",
    "\n"
   ]
  },
  {
   "cell_type": "markdown",
   "id": "0a8663fa",
   "metadata": {},
   "source": [
    "<h3>KNAPSACK Problem</h3>"
   ]
  },
  {
   "cell_type": "code",
   "execution_count": 107,
   "id": "694e292c",
   "metadata": {},
   "outputs": [],
   "source": [
    "# Problem definition\n",
    "knapsack_len=300\n",
    "# weights between 10 to 40\n",
    "knapsack_weights=np.random.uniform(10,40,knapsack_len)\n",
    "# values between 20 to 30\n",
    "knapsack_values=np.random.uniform(20,30,knapsack_len)\n",
    "max_weight_pct = 0.5\n",
    "problem = mlrose_hiive.KnapsackOpt(weights=knapsack_weights, values=knapsack_values,\n",
    "                                  max_weight_pct=max_weight_pct)\n",
    "\n",
    "experiment_name = \"Knapsack\"\n",
    "output_directory = \"Knapsack\""
   ]
  },
  {
   "cell_type": "markdown",
   "id": "3d0d53f4",
   "metadata": {},
   "source": [
    "<h3>MIMC</h3>"
   ]
  },
  {
   "cell_type": "code",
   "execution_count": 108,
   "id": "1cd682e7",
   "metadata": {},
   "outputs": [
    {
     "name": "stdout",
     "output_type": "stream",
     "text": [
      "Wall time: 13min 22s\n"
     ]
    }
   ],
   "source": [
    "%%time\n",
    "mmc = mlrose_hiive.MIMICRunner(problem=problem,\n",
    "                          experiment_name=experiment_name + \"_MIMIC\",\n",
    "                               output_directory=output_directory,\n",
    "                          seed=33,\n",
    "                          iteration_list=[100],\n",
    "                          max_attempts=100,\n",
    "                       population_sizes=[200, 400, 600],\n",
    "                       keep_percent_list=[0.05, 0.1, 0.20, 0.3],\n",
    "#                           population_sizes=[20,50,100],\n",
    "#                           keep_percent_list=[0.25, 0.5, 0.75],\n",
    "                          use_fast_mimic=True)\n",
    "\n",
    "# the two data frames will contain the results\n",
    "mmc_run_stats, mmc_run_curves = mmc.run()"
   ]
  },
  {
   "cell_type": "code",
   "execution_count": 109,
   "id": "78adbe0d",
   "metadata": {},
   "outputs": [
    {
     "data": {
      "text/html": [
       "<div>\n",
       "<style scoped>\n",
       "    .dataframe tbody tr th:only-of-type {\n",
       "        vertical-align: middle;\n",
       "    }\n",
       "\n",
       "    .dataframe tbody tr th {\n",
       "        vertical-align: top;\n",
       "    }\n",
       "\n",
       "    .dataframe thead th {\n",
       "        text-align: right;\n",
       "    }\n",
       "</style>\n",
       "<table border=\"1\" class=\"dataframe\">\n",
       "  <thead>\n",
       "    <tr style=\"text-align: right;\">\n",
       "      <th></th>\n",
       "      <th>Iteration</th>\n",
       "      <th>Time</th>\n",
       "      <th>Fitness</th>\n",
       "      <th>FEvals</th>\n",
       "      <th>use_fast_mimic</th>\n",
       "      <th>Population Size</th>\n",
       "      <th>Keep Percent</th>\n",
       "      <th>max_iters</th>\n",
       "    </tr>\n",
       "  </thead>\n",
       "  <tbody>\n",
       "    <tr>\n",
       "      <th>0</th>\n",
       "      <td>0</td>\n",
       "      <td>0.006370</td>\n",
       "      <td>3582.875503</td>\n",
       "      <td>200.0</td>\n",
       "      <td>True</td>\n",
       "      <td>200</td>\n",
       "      <td>0.05</td>\n",
       "      <td>100</td>\n",
       "    </tr>\n",
       "    <tr>\n",
       "      <th>1</th>\n",
       "      <td>1</td>\n",
       "      <td>0.117858</td>\n",
       "      <td>4024.593890</td>\n",
       "      <td>402.0</td>\n",
       "      <td>True</td>\n",
       "      <td>200</td>\n",
       "      <td>0.05</td>\n",
       "      <td>100</td>\n",
       "    </tr>\n",
       "    <tr>\n",
       "      <th>2</th>\n",
       "      <td>2</td>\n",
       "      <td>0.212799</td>\n",
       "      <td>4108.428247</td>\n",
       "      <td>604.0</td>\n",
       "      <td>True</td>\n",
       "      <td>200</td>\n",
       "      <td>0.05</td>\n",
       "      <td>100</td>\n",
       "    </tr>\n",
       "    <tr>\n",
       "      <th>3</th>\n",
       "      <td>3</td>\n",
       "      <td>0.315134</td>\n",
       "      <td>4171.303551</td>\n",
       "      <td>806.0</td>\n",
       "      <td>True</td>\n",
       "      <td>200</td>\n",
       "      <td>0.05</td>\n",
       "      <td>100</td>\n",
       "    </tr>\n",
       "    <tr>\n",
       "      <th>4</th>\n",
       "      <td>4</td>\n",
       "      <td>0.426327</td>\n",
       "      <td>4173.980844</td>\n",
       "      <td>1008.0</td>\n",
       "      <td>True</td>\n",
       "      <td>200</td>\n",
       "      <td>0.05</td>\n",
       "      <td>100</td>\n",
       "    </tr>\n",
       "    <tr>\n",
       "      <th>...</th>\n",
       "      <td>...</td>\n",
       "      <td>...</td>\n",
       "      <td>...</td>\n",
       "      <td>...</td>\n",
       "      <td>...</td>\n",
       "      <td>...</td>\n",
       "      <td>...</td>\n",
       "      <td>...</td>\n",
       "    </tr>\n",
       "    <tr>\n",
       "      <th>1207</th>\n",
       "      <td>96</td>\n",
       "      <td>43.805293</td>\n",
       "      <td>4857.236953</td>\n",
       "      <td>58347.0</td>\n",
       "      <td>True</td>\n",
       "      <td>600</td>\n",
       "      <td>0.30</td>\n",
       "      <td>100</td>\n",
       "    </tr>\n",
       "    <tr>\n",
       "      <th>1208</th>\n",
       "      <td>97</td>\n",
       "      <td>44.305672</td>\n",
       "      <td>4857.236953</td>\n",
       "      <td>58948.0</td>\n",
       "      <td>True</td>\n",
       "      <td>600</td>\n",
       "      <td>0.30</td>\n",
       "      <td>100</td>\n",
       "    </tr>\n",
       "    <tr>\n",
       "      <th>1209</th>\n",
       "      <td>98</td>\n",
       "      <td>44.800038</td>\n",
       "      <td>4857.236953</td>\n",
       "      <td>59549.0</td>\n",
       "      <td>True</td>\n",
       "      <td>600</td>\n",
       "      <td>0.30</td>\n",
       "      <td>100</td>\n",
       "    </tr>\n",
       "    <tr>\n",
       "      <th>1210</th>\n",
       "      <td>99</td>\n",
       "      <td>45.282865</td>\n",
       "      <td>4857.236953</td>\n",
       "      <td>60150.0</td>\n",
       "      <td>True</td>\n",
       "      <td>600</td>\n",
       "      <td>0.30</td>\n",
       "      <td>100</td>\n",
       "    </tr>\n",
       "    <tr>\n",
       "      <th>1211</th>\n",
       "      <td>100</td>\n",
       "      <td>45.762960</td>\n",
       "      <td>4857.236953</td>\n",
       "      <td>60751.0</td>\n",
       "      <td>True</td>\n",
       "      <td>600</td>\n",
       "      <td>0.30</td>\n",
       "      <td>100</td>\n",
       "    </tr>\n",
       "  </tbody>\n",
       "</table>\n",
       "<p>1212 rows × 8 columns</p>\n",
       "</div>"
      ],
      "text/plain": [
       "      Iteration       Time      Fitness   FEvals  use_fast_mimic  \\\n",
       "0             0   0.006370  3582.875503    200.0            True   \n",
       "1             1   0.117858  4024.593890    402.0            True   \n",
       "2             2   0.212799  4108.428247    604.0            True   \n",
       "3             3   0.315134  4171.303551    806.0            True   \n",
       "4             4   0.426327  4173.980844   1008.0            True   \n",
       "...         ...        ...          ...      ...             ...   \n",
       "1207         96  43.805293  4857.236953  58347.0            True   \n",
       "1208         97  44.305672  4857.236953  58948.0            True   \n",
       "1209         98  44.800038  4857.236953  59549.0            True   \n",
       "1210         99  45.282865  4857.236953  60150.0            True   \n",
       "1211        100  45.762960  4857.236953  60751.0            True   \n",
       "\n",
       "      Population Size  Keep Percent  max_iters  \n",
       "0                 200          0.05        100  \n",
       "1                 200          0.05        100  \n",
       "2                 200          0.05        100  \n",
       "3                 200          0.05        100  \n",
       "4                 200          0.05        100  \n",
       "...               ...           ...        ...  \n",
       "1207              600          0.30        100  \n",
       "1208              600          0.30        100  \n",
       "1209              600          0.30        100  \n",
       "1210              600          0.30        100  \n",
       "1211              600          0.30        100  \n",
       "\n",
       "[1212 rows x 8 columns]"
      ]
     },
     "execution_count": 109,
     "metadata": {},
     "output_type": "execute_result"
    }
   ],
   "source": [
    "mmc_run_curves"
   ]
  },
  {
   "cell_type": "code",
   "execution_count": 110,
   "id": "e3c93a68",
   "metadata": {},
   "outputs": [
    {
     "name": "stdout",
     "output_type": "stream",
     "text": [
      "Max and mean\n",
      "4857.236953245015 4637.96988858545 66.87351685833316\n",
      "Keep Percent\n",
      "0.05    4438.241604\n",
      "0.10    4641.131041\n",
      "0.20    4722.869962\n",
      "0.30    4749.636948\n",
      "Name: Fitness, dtype: float64\n",
      "Population Size\n",
      "200    4428.252758\n",
      "400    4683.244749\n",
      "600    4802.412159\n",
      "Name: Fitness, dtype: float64\n",
      "Population Size\n",
      "200    41.131250\n",
      "400    66.427125\n",
      "600    93.062176\n",
      "Name: Time, dtype: float64\n"
     ]
    }
   ],
   "source": [
    "last_iters = mmc_run_stats[mmc_run_stats.Iteration != 0].reset_index()\n",
    "print(\"Max and mean\")\n",
    "print(last_iters.Fitness.max(), last_iters.Fitness.mean(), last_iters.Time.mean())\n",
    "print(last_iters.groupby(\"Keep Percent\").Fitness.mean())\n",
    "print(last_iters.groupby(\"Population Size\").Fitness.mean())\n",
    "print(last_iters.groupby(\"Population Size\").Time.mean())"
   ]
  },
  {
   "cell_type": "code",
   "execution_count": 111,
   "id": "eb4c1f92",
   "metadata": {},
   "outputs": [
    {
     "data": {
      "text/plain": [
       "Iteration                   70\n",
       "Time                 31.006799\n",
       "Fitness            4857.236953\n",
       "FEvals                 42721.0\n",
       "use_fast_mimic            True\n",
       "Population Size            600\n",
       "Keep Percent               0.3\n",
       "max_iters                  100\n",
       "Name: 1181, dtype: object"
      ]
     },
     "execution_count": 111,
     "metadata": {},
     "output_type": "execute_result"
    }
   ],
   "source": [
    "best_index_in_mmc_curve = mmc_run_curves.Fitness.idxmax()\n",
    "mmc_run_curves.iloc[best_index_in_mmc_curve]\n"
   ]
  },
  {
   "cell_type": "code",
   "execution_count": 112,
   "id": "85abaa61",
   "metadata": {},
   "outputs": [
    {
     "data": {
      "text/html": [
       "<div>\n",
       "<style scoped>\n",
       "    .dataframe tbody tr th:only-of-type {\n",
       "        vertical-align: middle;\n",
       "    }\n",
       "\n",
       "    .dataframe tbody tr th {\n",
       "        vertical-align: top;\n",
       "    }\n",
       "\n",
       "    .dataframe thead th {\n",
       "        text-align: right;\n",
       "    }\n",
       "</style>\n",
       "<table border=\"1\" class=\"dataframe\">\n",
       "  <thead>\n",
       "    <tr style=\"text-align: right;\">\n",
       "      <th></th>\n",
       "      <th>Iteration</th>\n",
       "      <th>Time</th>\n",
       "      <th>Fitness</th>\n",
       "      <th>FEvals</th>\n",
       "      <th>use_fast_mimic</th>\n",
       "      <th>Population Size</th>\n",
       "      <th>Keep Percent</th>\n",
       "      <th>max_iters</th>\n",
       "    </tr>\n",
       "  </thead>\n",
       "  <tbody>\n",
       "    <tr>\n",
       "      <th>0</th>\n",
       "      <td>0</td>\n",
       "      <td>0.006370</td>\n",
       "      <td>3582.875503</td>\n",
       "      <td>200.0</td>\n",
       "      <td>True</td>\n",
       "      <td>200</td>\n",
       "      <td>0.05</td>\n",
       "      <td>100</td>\n",
       "    </tr>\n",
       "    <tr>\n",
       "      <th>1</th>\n",
       "      <td>1</td>\n",
       "      <td>0.117858</td>\n",
       "      <td>4024.593890</td>\n",
       "      <td>402.0</td>\n",
       "      <td>True</td>\n",
       "      <td>200</td>\n",
       "      <td>0.05</td>\n",
       "      <td>100</td>\n",
       "    </tr>\n",
       "    <tr>\n",
       "      <th>2</th>\n",
       "      <td>2</td>\n",
       "      <td>0.212799</td>\n",
       "      <td>4108.428247</td>\n",
       "      <td>604.0</td>\n",
       "      <td>True</td>\n",
       "      <td>200</td>\n",
       "      <td>0.05</td>\n",
       "      <td>100</td>\n",
       "    </tr>\n",
       "    <tr>\n",
       "      <th>3</th>\n",
       "      <td>3</td>\n",
       "      <td>0.315134</td>\n",
       "      <td>4171.303551</td>\n",
       "      <td>806.0</td>\n",
       "      <td>True</td>\n",
       "      <td>200</td>\n",
       "      <td>0.05</td>\n",
       "      <td>100</td>\n",
       "    </tr>\n",
       "    <tr>\n",
       "      <th>4</th>\n",
       "      <td>4</td>\n",
       "      <td>0.426327</td>\n",
       "      <td>4173.980844</td>\n",
       "      <td>1008.0</td>\n",
       "      <td>True</td>\n",
       "      <td>200</td>\n",
       "      <td>0.05</td>\n",
       "      <td>100</td>\n",
       "    </tr>\n",
       "    <tr>\n",
       "      <th>...</th>\n",
       "      <td>...</td>\n",
       "      <td>...</td>\n",
       "      <td>...</td>\n",
       "      <td>...</td>\n",
       "      <td>...</td>\n",
       "      <td>...</td>\n",
       "      <td>...</td>\n",
       "      <td>...</td>\n",
       "    </tr>\n",
       "    <tr>\n",
       "      <th>1207</th>\n",
       "      <td>96</td>\n",
       "      <td>43.805293</td>\n",
       "      <td>4857.236953</td>\n",
       "      <td>58347.0</td>\n",
       "      <td>True</td>\n",
       "      <td>600</td>\n",
       "      <td>0.30</td>\n",
       "      <td>100</td>\n",
       "    </tr>\n",
       "    <tr>\n",
       "      <th>1208</th>\n",
       "      <td>97</td>\n",
       "      <td>44.305672</td>\n",
       "      <td>4857.236953</td>\n",
       "      <td>58948.0</td>\n",
       "      <td>True</td>\n",
       "      <td>600</td>\n",
       "      <td>0.30</td>\n",
       "      <td>100</td>\n",
       "    </tr>\n",
       "    <tr>\n",
       "      <th>1209</th>\n",
       "      <td>98</td>\n",
       "      <td>44.800038</td>\n",
       "      <td>4857.236953</td>\n",
       "      <td>59549.0</td>\n",
       "      <td>True</td>\n",
       "      <td>600</td>\n",
       "      <td>0.30</td>\n",
       "      <td>100</td>\n",
       "    </tr>\n",
       "    <tr>\n",
       "      <th>1210</th>\n",
       "      <td>99</td>\n",
       "      <td>45.282865</td>\n",
       "      <td>4857.236953</td>\n",
       "      <td>60150.0</td>\n",
       "      <td>True</td>\n",
       "      <td>600</td>\n",
       "      <td>0.30</td>\n",
       "      <td>100</td>\n",
       "    </tr>\n",
       "    <tr>\n",
       "      <th>1211</th>\n",
       "      <td>100</td>\n",
       "      <td>45.762960</td>\n",
       "      <td>4857.236953</td>\n",
       "      <td>60751.0</td>\n",
       "      <td>True</td>\n",
       "      <td>600</td>\n",
       "      <td>0.30</td>\n",
       "      <td>100</td>\n",
       "    </tr>\n",
       "  </tbody>\n",
       "</table>\n",
       "<p>1212 rows × 8 columns</p>\n",
       "</div>"
      ],
      "text/plain": [
       "      Iteration       Time      Fitness   FEvals  use_fast_mimic  \\\n",
       "0             0   0.006370  3582.875503    200.0            True   \n",
       "1             1   0.117858  4024.593890    402.0            True   \n",
       "2             2   0.212799  4108.428247    604.0            True   \n",
       "3             3   0.315134  4171.303551    806.0            True   \n",
       "4             4   0.426327  4173.980844   1008.0            True   \n",
       "...         ...        ...          ...      ...             ...   \n",
       "1207         96  43.805293  4857.236953  58347.0            True   \n",
       "1208         97  44.305672  4857.236953  58948.0            True   \n",
       "1209         98  44.800038  4857.236953  59549.0            True   \n",
       "1210         99  45.282865  4857.236953  60150.0            True   \n",
       "1211        100  45.762960  4857.236953  60751.0            True   \n",
       "\n",
       "      Population Size  Keep Percent  max_iters  \n",
       "0                 200          0.05        100  \n",
       "1                 200          0.05        100  \n",
       "2                 200          0.05        100  \n",
       "3                 200          0.05        100  \n",
       "4                 200          0.05        100  \n",
       "...               ...           ...        ...  \n",
       "1207              600          0.30        100  \n",
       "1208              600          0.30        100  \n",
       "1209              600          0.30        100  \n",
       "1210              600          0.30        100  \n",
       "1211              600          0.30        100  \n",
       "\n",
       "[1212 rows x 8 columns]"
      ]
     },
     "execution_count": 112,
     "metadata": {},
     "output_type": "execute_result"
    }
   ],
   "source": [
    "mmc_run_curves"
   ]
  },
  {
   "cell_type": "code",
   "execution_count": 113,
   "id": "0ee08189",
   "metadata": {},
   "outputs": [
    {
     "data": {
      "text/plain": [
       "(600, 0.3)"
      ]
     },
     "execution_count": 113,
     "metadata": {},
     "output_type": "execute_result"
    }
   ],
   "source": [
    "best_p_size = mmc_run_curves.iloc[best_index_in_mmc_curve]['Population Size'] \n",
    "best_keep = mmc_run_curves.iloc[best_index_in_mmc_curve]['Keep Percent']  \n",
    "best_curve_mmc = mmc_run_curves.loc[mmc_run_curves['Population Size'] == best_p_size, :]\n",
    "best_curve_mmc = best_curve_mmc.loc[best_curve_mmc['Keep Percent'] == best_keep, :]\n",
    "best_curve_mmc.reset_index(inplace=True)\n",
    "best_p_size, best_keep\n"
   ]
  },
  {
   "cell_type": "code",
   "execution_count": 114,
   "id": "4ff406ec",
   "metadata": {},
   "outputs": [
    {
     "data": {
      "text/plain": [
       "Text(0, 0.5, 'Value')"
      ]
     },
     "execution_count": 114,
     "metadata": {},
     "output_type": "execute_result"
    },
    {
     "data": {
      "image/png": "[encoded data removed]",
      "text/plain": [
       "<Figure size 864x576 with 1 Axes>"
      ]
     },
     "metadata": {
      "needs_background": "light"
     },
     "output_type": "display_data"
    }
   ],
   "source": [
    "ax = best_curve_mmc.Fitness.plot(lw=2, colormap='jet', marker='.', markersize=2, \n",
    "                             figsize=(12,8), grid=1,\n",
    "                             title='Best MMC Search')\n",
    "ax.set_xlabel(\"Iterations\")\n",
    "ax.set_ylabel(\"Value\")"
   ]
  },
  {
   "cell_type": "code",
   "execution_count": 115,
   "id": "3877be3e",
   "metadata": {},
   "outputs": [
    {
     "data": {
      "text/html": [
       "<div>\n",
       "<style scoped>\n",
       "    .dataframe tbody tr th:only-of-type {\n",
       "        vertical-align: middle;\n",
       "    }\n",
       "\n",
       "    .dataframe tbody tr th {\n",
       "        vertical-align: top;\n",
       "    }\n",
       "\n",
       "    .dataframe thead th {\n",
       "        text-align: right;\n",
       "    }\n",
       "</style>\n",
       "<table border=\"1\" class=\"dataframe\">\n",
       "  <thead>\n",
       "    <tr style=\"text-align: right;\">\n",
       "      <th></th>\n",
       "      <th>Iteration</th>\n",
       "      <th>Time</th>\n",
       "      <th>Fitness</th>\n",
       "      <th>FEvals</th>\n",
       "      <th>use_fast_mimic</th>\n",
       "      <th>Population Size</th>\n",
       "      <th>Keep Percent</th>\n",
       "      <th>max_iters</th>\n",
       "    </tr>\n",
       "  </thead>\n",
       "  <tbody>\n",
       "    <tr>\n",
       "      <th>0</th>\n",
       "      <td>0</td>\n",
       "      <td>0.006370</td>\n",
       "      <td>3582.875503</td>\n",
       "      <td>200.0</td>\n",
       "      <td>True</td>\n",
       "      <td>200</td>\n",
       "      <td>0.05</td>\n",
       "      <td>100</td>\n",
       "    </tr>\n",
       "    <tr>\n",
       "      <th>1</th>\n",
       "      <td>1</td>\n",
       "      <td>0.117858</td>\n",
       "      <td>4024.593890</td>\n",
       "      <td>402.0</td>\n",
       "      <td>True</td>\n",
       "      <td>200</td>\n",
       "      <td>0.05</td>\n",
       "      <td>100</td>\n",
       "    </tr>\n",
       "    <tr>\n",
       "      <th>2</th>\n",
       "      <td>2</td>\n",
       "      <td>0.212799</td>\n",
       "      <td>4108.428247</td>\n",
       "      <td>604.0</td>\n",
       "      <td>True</td>\n",
       "      <td>200</td>\n",
       "      <td>0.05</td>\n",
       "      <td>100</td>\n",
       "    </tr>\n",
       "    <tr>\n",
       "      <th>3</th>\n",
       "      <td>3</td>\n",
       "      <td>0.315134</td>\n",
       "      <td>4171.303551</td>\n",
       "      <td>806.0</td>\n",
       "      <td>True</td>\n",
       "      <td>200</td>\n",
       "      <td>0.05</td>\n",
       "      <td>100</td>\n",
       "    </tr>\n",
       "    <tr>\n",
       "      <th>4</th>\n",
       "      <td>4</td>\n",
       "      <td>0.426327</td>\n",
       "      <td>4173.980844</td>\n",
       "      <td>1008.0</td>\n",
       "      <td>True</td>\n",
       "      <td>200</td>\n",
       "      <td>0.05</td>\n",
       "      <td>100</td>\n",
       "    </tr>\n",
       "    <tr>\n",
       "      <th>...</th>\n",
       "      <td>...</td>\n",
       "      <td>...</td>\n",
       "      <td>...</td>\n",
       "      <td>...</td>\n",
       "      <td>...</td>\n",
       "      <td>...</td>\n",
       "      <td>...</td>\n",
       "      <td>...</td>\n",
       "    </tr>\n",
       "    <tr>\n",
       "      <th>1207</th>\n",
       "      <td>96</td>\n",
       "      <td>43.805293</td>\n",
       "      <td>4857.236953</td>\n",
       "      <td>58347.0</td>\n",
       "      <td>True</td>\n",
       "      <td>600</td>\n",
       "      <td>0.30</td>\n",
       "      <td>100</td>\n",
       "    </tr>\n",
       "    <tr>\n",
       "      <th>1208</th>\n",
       "      <td>97</td>\n",
       "      <td>44.305672</td>\n",
       "      <td>4857.236953</td>\n",
       "      <td>58948.0</td>\n",
       "      <td>True</td>\n",
       "      <td>600</td>\n",
       "      <td>0.30</td>\n",
       "      <td>100</td>\n",
       "    </tr>\n",
       "    <tr>\n",
       "      <th>1209</th>\n",
       "      <td>98</td>\n",
       "      <td>44.800038</td>\n",
       "      <td>4857.236953</td>\n",
       "      <td>59549.0</td>\n",
       "      <td>True</td>\n",
       "      <td>600</td>\n",
       "      <td>0.30</td>\n",
       "      <td>100</td>\n",
       "    </tr>\n",
       "    <tr>\n",
       "      <th>1210</th>\n",
       "      <td>99</td>\n",
       "      <td>45.282865</td>\n",
       "      <td>4857.236953</td>\n",
       "      <td>60150.0</td>\n",
       "      <td>True</td>\n",
       "      <td>600</td>\n",
       "      <td>0.30</td>\n",
       "      <td>100</td>\n",
       "    </tr>\n",
       "    <tr>\n",
       "      <th>1211</th>\n",
       "      <td>100</td>\n",
       "      <td>45.762960</td>\n",
       "      <td>4857.236953</td>\n",
       "      <td>60751.0</td>\n",
       "      <td>True</td>\n",
       "      <td>600</td>\n",
       "      <td>0.30</td>\n",
       "      <td>100</td>\n",
       "    </tr>\n",
       "  </tbody>\n",
       "</table>\n",
       "<p>1212 rows × 8 columns</p>\n",
       "</div>"
      ],
      "text/plain": [
       "      Iteration       Time      Fitness   FEvals  use_fast_mimic  \\\n",
       "0             0   0.006370  3582.875503    200.0            True   \n",
       "1             1   0.117858  4024.593890    402.0            True   \n",
       "2             2   0.212799  4108.428247    604.0            True   \n",
       "3             3   0.315134  4171.303551    806.0            True   \n",
       "4             4   0.426327  4173.980844   1008.0            True   \n",
       "...         ...        ...          ...      ...             ...   \n",
       "1207         96  43.805293  4857.236953  58347.0            True   \n",
       "1208         97  44.305672  4857.236953  58948.0            True   \n",
       "1209         98  44.800038  4857.236953  59549.0            True   \n",
       "1210         99  45.282865  4857.236953  60150.0            True   \n",
       "1211        100  45.762960  4857.236953  60751.0            True   \n",
       "\n",
       "      Population Size  Keep Percent  max_iters  \n",
       "0                 200          0.05        100  \n",
       "1                 200          0.05        100  \n",
       "2                 200          0.05        100  \n",
       "3                 200          0.05        100  \n",
       "4                 200          0.05        100  \n",
       "...               ...           ...        ...  \n",
       "1207              600          0.30        100  \n",
       "1208              600          0.30        100  \n",
       "1209              600          0.30        100  \n",
       "1210              600          0.30        100  \n",
       "1211              600          0.30        100  \n",
       "\n",
       "[1212 rows x 8 columns]"
      ]
     },
     "execution_count": 115,
     "metadata": {},
     "output_type": "execute_result"
    }
   ],
   "source": [
    "mmc_run_curves"
   ]
  },
  {
   "cell_type": "code",
   "execution_count": 116,
   "id": "19dffd6c",
   "metadata": {},
   "outputs": [
    {
     "data": {
      "image/png": "[encoded data removed]",
      "text/plain": [
       "<Figure size 360x360 with 1 Axes>"
      ]
     },
     "metadata": {
      "needs_background": "light"
     },
     "output_type": "display_data"
    }
   ],
   "source": [
    "mmc_kp = mmc_run_curves.groupby(['Iteration','Keep Percent']).agg({'Fitness':'mean'}).reset_index()\n",
    "ax = mmc_kp.pivot_table(values=\"Fitness\", index=\"Iteration\", columns=\"Keep Percent\").plot(lw=2, colormap='jet', \n",
    "                                                                                          grid=1, marker='.', \n",
    "                                                                                          markersize=2,\n",
    "                                                                                          title='MMIC- KeepPercentage')\n",
    "ax.set_xlabel(\"Iteration\")\n",
    "ax.set_ylabel(\"Fitness\")\n",
    "fig = ax.get_figure()\n",
    "fig.savefig('../images/Knap/Knap_mmc_keep_percent.png')"
   ]
  },
  {
   "cell_type": "code",
   "execution_count": 117,
   "id": "b3a0e47f",
   "metadata": {},
   "outputs": [
    {
     "data": {
      "image/png": "[encoded data removed]",
      "text/plain": [
       "<Figure size 360x360 with 1 Axes>"
      ]
     },
     "metadata": {
      "needs_background": "light"
     },
     "output_type": "display_data"
    }
   ],
   "source": [
    "mmc_p = mmc_run_curves.groupby(['Iteration','Population Size']).agg({'Fitness':'mean'}).reset_index()\n",
    "ax = mmc_p.pivot_table(values=\"Fitness\", index=\"Iteration\", columns=\"Population Size\").plot(lw=2, colormap='jet', \n",
    "                                                                                          grid=1, marker='.', \n",
    "                                                                                          markersize=2,\n",
    "                                                                                          title='MMIC- Population Size')\n",
    "ax.set_xlabel(\"Iteration\")\n",
    "ax.set_ylabel(\"Fitness\")\n",
    "fig = ax.get_figure()\n",
    "fig.savefig('../images/Knap/Knap_mmc_p_size.png')"
   ]
  },
  {
   "cell_type": "markdown",
   "id": "cc86f212",
   "metadata": {},
   "source": [
    "<h3> RHC </h3>"
   ]
  },
  {
   "cell_type": "code",
   "execution_count": 167,
   "id": "5c8b3a91",
   "metadata": {},
   "outputs": [
    {
     "name": "stdout",
     "output_type": "stream",
     "text": [
      "Wall time: 1min 4s\n"
     ]
    }
   ],
   "source": [
    "%%time\n",
    "runner_return = mlrose_hiive.RHCRunner(problem,\n",
    "                                       experiment_name=experiment_name+ \"_RHC\",\n",
    "                                       output_directory=output_directory,\n",
    "                                       iteration_list=[300],\n",
    "                                       seed=33,\n",
    "                                       restart_list=[10, 50, 100], max_attempts=100)\n",
    "rhc_run_stats, rhc_run_curves = runner_return.run()"
   ]
  },
  {
   "cell_type": "code",
   "execution_count": 168,
   "id": "95b365e9",
   "metadata": {},
   "outputs": [
    {
     "data": {
      "text/html": [
       "<div>\n",
       "<style scoped>\n",
       "    .dataframe tbody tr th:only-of-type {\n",
       "        vertical-align: middle;\n",
       "    }\n",
       "\n",
       "    .dataframe tbody tr th {\n",
       "        vertical-align: top;\n",
       "    }\n",
       "\n",
       "    .dataframe thead th {\n",
       "        text-align: right;\n",
       "    }\n",
       "</style>\n",
       "<table border=\"1\" class=\"dataframe\">\n",
       "  <thead>\n",
       "    <tr style=\"text-align: right;\">\n",
       "      <th></th>\n",
       "      <th>Iteration</th>\n",
       "      <th>Time</th>\n",
       "      <th>Fitness</th>\n",
       "      <th>FEvals</th>\n",
       "      <th>Restarts</th>\n",
       "      <th>max_iters</th>\n",
       "      <th>current_restart</th>\n",
       "    </tr>\n",
       "  </thead>\n",
       "  <tbody>\n",
       "    <tr>\n",
       "      <th>0</th>\n",
       "      <td>0</td>\n",
       "      <td>0.000385</td>\n",
       "      <td>3582.875503</td>\n",
       "      <td>0.0</td>\n",
       "      <td>10</td>\n",
       "      <td>300</td>\n",
       "      <td>0</td>\n",
       "    </tr>\n",
       "    <tr>\n",
       "      <th>1</th>\n",
       "      <td>1</td>\n",
       "      <td>0.008462</td>\n",
       "      <td>3582.875503</td>\n",
       "      <td>1.0</td>\n",
       "      <td>10</td>\n",
       "      <td>300</td>\n",
       "      <td>0</td>\n",
       "    </tr>\n",
       "    <tr>\n",
       "      <th>2</th>\n",
       "      <td>2</td>\n",
       "      <td>0.008514</td>\n",
       "      <td>3608.414654</td>\n",
       "      <td>3.0</td>\n",
       "      <td>10</td>\n",
       "      <td>300</td>\n",
       "      <td>0</td>\n",
       "    </tr>\n",
       "    <tr>\n",
       "      <th>3</th>\n",
       "      <td>3</td>\n",
       "      <td>0.008578</td>\n",
       "      <td>3608.414654</td>\n",
       "      <td>4.0</td>\n",
       "      <td>10</td>\n",
       "      <td>300</td>\n",
       "      <td>0</td>\n",
       "    </tr>\n",
       "    <tr>\n",
       "      <th>4</th>\n",
       "      <td>4</td>\n",
       "      <td>0.008626</td>\n",
       "      <td>3608.414654</td>\n",
       "      <td>5.0</td>\n",
       "      <td>10</td>\n",
       "      <td>300</td>\n",
       "      <td>0</td>\n",
       "    </tr>\n",
       "    <tr>\n",
       "      <th>...</th>\n",
       "      <td>...</td>\n",
       "      <td>...</td>\n",
       "      <td>...</td>\n",
       "      <td>...</td>\n",
       "      <td>...</td>\n",
       "      <td>...</td>\n",
       "      <td>...</td>\n",
       "    </tr>\n",
       "    <tr>\n",
       "      <th>18340</th>\n",
       "      <td>104</td>\n",
       "      <td>0.014396</td>\n",
       "      <td>3842.060481</td>\n",
       "      <td>11555.0</td>\n",
       "      <td>100</td>\n",
       "      <td>300</td>\n",
       "      <td>100</td>\n",
       "    </tr>\n",
       "    <tr>\n",
       "      <th>18341</th>\n",
       "      <td>105</td>\n",
       "      <td>0.014497</td>\n",
       "      <td>3842.060481</td>\n",
       "      <td>11556.0</td>\n",
       "      <td>100</td>\n",
       "      <td>300</td>\n",
       "      <td>100</td>\n",
       "    </tr>\n",
       "    <tr>\n",
       "      <th>18342</th>\n",
       "      <td>106</td>\n",
       "      <td>0.014592</td>\n",
       "      <td>3842.060481</td>\n",
       "      <td>11557.0</td>\n",
       "      <td>100</td>\n",
       "      <td>300</td>\n",
       "      <td>100</td>\n",
       "    </tr>\n",
       "    <tr>\n",
       "      <th>18343</th>\n",
       "      <td>107</td>\n",
       "      <td>0.014686</td>\n",
       "      <td>3842.060481</td>\n",
       "      <td>11558.0</td>\n",
       "      <td>100</td>\n",
       "      <td>300</td>\n",
       "      <td>100</td>\n",
       "    </tr>\n",
       "    <tr>\n",
       "      <th>18344</th>\n",
       "      <td>108</td>\n",
       "      <td>0.014793</td>\n",
       "      <td>3842.060481</td>\n",
       "      <td>11559.0</td>\n",
       "      <td>100</td>\n",
       "      <td>300</td>\n",
       "      <td>100</td>\n",
       "    </tr>\n",
       "  </tbody>\n",
       "</table>\n",
       "<p>18345 rows × 7 columns</p>\n",
       "</div>"
      ],
      "text/plain": [
       "       Iteration      Time      Fitness   FEvals  Restarts  max_iters  \\\n",
       "0              0  0.000385  3582.875503      0.0        10        300   \n",
       "1              1  0.008462  3582.875503      1.0        10        300   \n",
       "2              2  0.008514  3608.414654      3.0        10        300   \n",
       "3              3  0.008578  3608.414654      4.0        10        300   \n",
       "4              4  0.008626  3608.414654      5.0        10        300   \n",
       "...          ...       ...          ...      ...       ...        ...   \n",
       "18340        104  0.014396  3842.060481  11555.0       100        300   \n",
       "18341        105  0.014497  3842.060481  11556.0       100        300   \n",
       "18342        106  0.014592  3842.060481  11557.0       100        300   \n",
       "18343        107  0.014686  3842.060481  11558.0       100        300   \n",
       "18344        108  0.014793  3842.060481  11559.0       100        300   \n",
       "\n",
       "       current_restart  \n",
       "0                    0  \n",
       "1                    0  \n",
       "2                    0  \n",
       "3                    0  \n",
       "4                    0  \n",
       "...                ...  \n",
       "18340              100  \n",
       "18341              100  \n",
       "18342              100  \n",
       "18343              100  \n",
       "18344              100  \n",
       "\n",
       "[18345 rows x 7 columns]"
      ]
     },
     "execution_count": 168,
     "metadata": {},
     "output_type": "execute_result"
    }
   ],
   "source": [
    "rhc_run_curves"
   ]
  },
  {
   "cell_type": "code",
   "execution_count": 169,
   "id": "edca45c1",
   "metadata": {},
   "outputs": [
    {
     "data": {
      "text/plain": [
       "56.0"
      ]
     },
     "execution_count": 169,
     "metadata": {},
     "output_type": "execute_result"
    }
   ],
   "source": [
    "best_index_in_curve = rhc_run_curves.Fitness.idxmax()\n",
    "best_decay = rhc_run_curves.iloc[best_index_in_curve].current_restart\n",
    "best_curve_rhc = rhc_run_curves.loc[rhc_run_curves.current_restart == best_decay, :]\n",
    "best_curve_rhc.reset_index(inplace=True)\n",
    "best_decay"
   ]
  },
  {
   "cell_type": "code",
   "execution_count": 170,
   "id": "d42cce1b",
   "metadata": {},
   "outputs": [
    {
     "data": {
      "text/plain": [
       "Iteration            32.000000\n",
       "Time                  0.009810\n",
       "Fitness            4037.685311\n",
       "FEvals             6459.000000\n",
       "Restarts            100.000000\n",
       "max_iters           300.000000\n",
       "current_restart      56.000000\n",
       "Name: 13359, dtype: float64"
      ]
     },
     "execution_count": 170,
     "metadata": {},
     "output_type": "execute_result"
    }
   ],
   "source": [
    "best_index_in_RHC_curve = rhc_run_curves.Fitness.idxmax()\n",
    "rhc_run_curves.iloc[best_index_in_RHC_curve]"
   ]
  },
  {
   "cell_type": "code",
   "execution_count": 171,
   "id": "95f42373",
   "metadata": {},
   "outputs": [
    {
     "name": "stdout",
     "output_type": "stream",
     "text": [
      "Max and mean\n",
      "4037.685311461136 2078.926389382943 13.150763977298514\n",
      "Restarts\n",
      "10     2427.650275\n",
      "50     1945.317019\n",
      "100    2108.412678\n",
      "Name: Fitness, dtype: float64\n",
      "Restarts\n",
      "10      0.318554\n",
      "50      4.327947\n",
      "100    19.003417\n",
      "Name: Time, dtype: float64\n",
      "Restarts\n",
      "10      831.363636\n",
      "50     3088.392157\n",
      "100    5870.524752\n",
      "Name: FEvals, dtype: float64\n"
     ]
    }
   ],
   "source": [
    "last_iters = rhc_run_stats[rhc_run_stats.Iteration != 0].reset_index()\n",
    "print(\"Max and mean\")\n",
    "print(last_iters.Fitness.max(), last_iters.Fitness.mean(), last_iters.Time.mean())\n",
    "print(last_iters.groupby(\"Restarts\").Fitness.mean())\n",
    "print(last_iters.groupby(\"Restarts\").Time.mean())\n",
    "print(last_iters.groupby(\"Restarts\").FEvals.mean())"
   ]
  },
  {
   "cell_type": "code",
   "execution_count": 172,
   "id": "aef44ea1",
   "metadata": {},
   "outputs": [
    {
     "data": {
      "text/html": [
       "<div>\n",
       "<style scoped>\n",
       "    .dataframe tbody tr th:only-of-type {\n",
       "        vertical-align: middle;\n",
       "    }\n",
       "\n",
       "    .dataframe tbody tr th {\n",
       "        vertical-align: top;\n",
       "    }\n",
       "\n",
       "    .dataframe thead th {\n",
       "        text-align: right;\n",
       "    }\n",
       "</style>\n",
       "<table border=\"1\" class=\"dataframe\">\n",
       "  <thead>\n",
       "    <tr style=\"text-align: right;\">\n",
       "      <th></th>\n",
       "      <th>index</th>\n",
       "      <th>Iteration</th>\n",
       "      <th>Time</th>\n",
       "      <th>Fitness</th>\n",
       "      <th>FEvals</th>\n",
       "      <th>Restarts</th>\n",
       "      <th>max_iters</th>\n",
       "      <th>current_restart</th>\n",
       "    </tr>\n",
       "  </thead>\n",
       "  <tbody>\n",
       "    <tr>\n",
       "      <th>0</th>\n",
       "      <td>13328</td>\n",
       "      <td>1</td>\n",
       "      <td>0.008462</td>\n",
       "      <td>3855.370754</td>\n",
       "      <td>6421.0</td>\n",
       "      <td>100</td>\n",
       "      <td>300</td>\n",
       "      <td>56</td>\n",
       "    </tr>\n",
       "    <tr>\n",
       "      <th>1</th>\n",
       "      <td>13329</td>\n",
       "      <td>2</td>\n",
       "      <td>0.008514</td>\n",
       "      <td>3855.370754</td>\n",
       "      <td>6422.0</td>\n",
       "      <td>100</td>\n",
       "      <td>300</td>\n",
       "      <td>56</td>\n",
       "    </tr>\n",
       "    <tr>\n",
       "      <th>2</th>\n",
       "      <td>13330</td>\n",
       "      <td>3</td>\n",
       "      <td>0.008578</td>\n",
       "      <td>3880.840327</td>\n",
       "      <td>6424.0</td>\n",
       "      <td>100</td>\n",
       "      <td>300</td>\n",
       "      <td>56</td>\n",
       "    </tr>\n",
       "    <tr>\n",
       "      <th>3</th>\n",
       "      <td>13331</td>\n",
       "      <td>4</td>\n",
       "      <td>0.008626</td>\n",
       "      <td>3904.770440</td>\n",
       "      <td>6426.0</td>\n",
       "      <td>100</td>\n",
       "      <td>300</td>\n",
       "      <td>56</td>\n",
       "    </tr>\n",
       "    <tr>\n",
       "      <th>4</th>\n",
       "      <td>13332</td>\n",
       "      <td>5</td>\n",
       "      <td>0.008702</td>\n",
       "      <td>3931.569649</td>\n",
       "      <td>6428.0</td>\n",
       "      <td>100</td>\n",
       "      <td>300</td>\n",
       "      <td>56</td>\n",
       "    </tr>\n",
       "    <tr>\n",
       "      <th>...</th>\n",
       "      <td>...</td>\n",
       "      <td>...</td>\n",
       "      <td>...</td>\n",
       "      <td>...</td>\n",
       "      <td>...</td>\n",
       "      <td>...</td>\n",
       "      <td>...</td>\n",
       "      <td>...</td>\n",
       "    </tr>\n",
       "    <tr>\n",
       "      <th>127</th>\n",
       "      <td>13455</td>\n",
       "      <td>128</td>\n",
       "      <td>0.017032</td>\n",
       "      <td>4037.685311</td>\n",
       "      <td>6555.0</td>\n",
       "      <td>100</td>\n",
       "      <td>300</td>\n",
       "      <td>56</td>\n",
       "    </tr>\n",
       "    <tr>\n",
       "      <th>128</th>\n",
       "      <td>13456</td>\n",
       "      <td>129</td>\n",
       "      <td>0.017134</td>\n",
       "      <td>4037.685311</td>\n",
       "      <td>6556.0</td>\n",
       "      <td>100</td>\n",
       "      <td>300</td>\n",
       "      <td>56</td>\n",
       "    </tr>\n",
       "    <tr>\n",
       "      <th>129</th>\n",
       "      <td>13457</td>\n",
       "      <td>130</td>\n",
       "      <td>0.017230</td>\n",
       "      <td>4037.685311</td>\n",
       "      <td>6557.0</td>\n",
       "      <td>100</td>\n",
       "      <td>300</td>\n",
       "      <td>56</td>\n",
       "    </tr>\n",
       "    <tr>\n",
       "      <th>130</th>\n",
       "      <td>13458</td>\n",
       "      <td>131</td>\n",
       "      <td>0.017326</td>\n",
       "      <td>4037.685311</td>\n",
       "      <td>6558.0</td>\n",
       "      <td>100</td>\n",
       "      <td>300</td>\n",
       "      <td>56</td>\n",
       "    </tr>\n",
       "    <tr>\n",
       "      <th>131</th>\n",
       "      <td>13459</td>\n",
       "      <td>132</td>\n",
       "      <td>0.017467</td>\n",
       "      <td>4037.685311</td>\n",
       "      <td>6559.0</td>\n",
       "      <td>100</td>\n",
       "      <td>300</td>\n",
       "      <td>56</td>\n",
       "    </tr>\n",
       "  </tbody>\n",
       "</table>\n",
       "<p>132 rows × 8 columns</p>\n",
       "</div>"
      ],
      "text/plain": [
       "     index  Iteration      Time      Fitness  FEvals  Restarts  max_iters  \\\n",
       "0    13328          1  0.008462  3855.370754  6421.0       100        300   \n",
       "1    13329          2  0.008514  3855.370754  6422.0       100        300   \n",
       "2    13330          3  0.008578  3880.840327  6424.0       100        300   \n",
       "3    13331          4  0.008626  3904.770440  6426.0       100        300   \n",
       "4    13332          5  0.008702  3931.569649  6428.0       100        300   \n",
       "..     ...        ...       ...          ...     ...       ...        ...   \n",
       "127  13455        128  0.017032  4037.685311  6555.0       100        300   \n",
       "128  13456        129  0.017134  4037.685311  6556.0       100        300   \n",
       "129  13457        130  0.017230  4037.685311  6557.0       100        300   \n",
       "130  13458        131  0.017326  4037.685311  6558.0       100        300   \n",
       "131  13459        132  0.017467  4037.685311  6559.0       100        300   \n",
       "\n",
       "     current_restart  \n",
       "0                 56  \n",
       "1                 56  \n",
       "2                 56  \n",
       "3                 56  \n",
       "4                 56  \n",
       "..               ...  \n",
       "127               56  \n",
       "128               56  \n",
       "129               56  \n",
       "130               56  \n",
       "131               56  \n",
       "\n",
       "[132 rows x 8 columns]"
      ]
     },
     "execution_count": 172,
     "metadata": {},
     "output_type": "execute_result"
    }
   ],
   "source": [
    "best_curve_rhc"
   ]
  },
  {
   "cell_type": "code",
   "execution_count": 173,
   "id": "d4fbec23",
   "metadata": {},
   "outputs": [
    {
     "data": {
      "text/plain": [
       "Text(0, 0.5, 'Value')"
      ]
     },
     "execution_count": 173,
     "metadata": {},
     "output_type": "execute_result"
    },
    {
     "data": {
      "image/png": "[encoded data removed]",
      "text/plain": [
       "<Figure size 864x576 with 1 Axes>"
      ]
     },
     "metadata": {
      "needs_background": "light"
     },
     "output_type": "display_data"
    }
   ],
   "source": [
    "ax = best_curve_rhc.Fitness.plot(lw=2, colormap='jet', marker='.', markersize=2, \n",
    "                             figsize=(12,8), grid=1,\n",
    "                             title='Best Random Search')\n",
    "ax.set_xlabel(\"Iterations\")\n",
    "ax.set_ylabel(\"Value\")"
   ]
  },
  {
   "cell_type": "code",
   "execution_count": 174,
   "id": "69bd3746",
   "metadata": {},
   "outputs": [
    {
     "data": {
      "text/html": [
       "<div>\n",
       "<style scoped>\n",
       "    .dataframe tbody tr th:only-of-type {\n",
       "        vertical-align: middle;\n",
       "    }\n",
       "\n",
       "    .dataframe tbody tr th {\n",
       "        vertical-align: top;\n",
       "    }\n",
       "\n",
       "    .dataframe thead th {\n",
       "        text-align: right;\n",
       "    }\n",
       "</style>\n",
       "<table border=\"1\" class=\"dataframe\">\n",
       "  <thead>\n",
       "    <tr style=\"text-align: right;\">\n",
       "      <th></th>\n",
       "      <th>Iteration</th>\n",
       "      <th>Time</th>\n",
       "      <th>Fitness</th>\n",
       "      <th>FEvals</th>\n",
       "      <th>Restarts</th>\n",
       "      <th>max_iters</th>\n",
       "      <th>current_restart</th>\n",
       "    </tr>\n",
       "  </thead>\n",
       "  <tbody>\n",
       "    <tr>\n",
       "      <th>0</th>\n",
       "      <td>0</td>\n",
       "      <td>0.000385</td>\n",
       "      <td>3582.875503</td>\n",
       "      <td>0.0</td>\n",
       "      <td>10</td>\n",
       "      <td>300</td>\n",
       "      <td>0</td>\n",
       "    </tr>\n",
       "    <tr>\n",
       "      <th>1</th>\n",
       "      <td>1</td>\n",
       "      <td>0.008462</td>\n",
       "      <td>3582.875503</td>\n",
       "      <td>1.0</td>\n",
       "      <td>10</td>\n",
       "      <td>300</td>\n",
       "      <td>0</td>\n",
       "    </tr>\n",
       "    <tr>\n",
       "      <th>2</th>\n",
       "      <td>2</td>\n",
       "      <td>0.008514</td>\n",
       "      <td>3608.414654</td>\n",
       "      <td>3.0</td>\n",
       "      <td>10</td>\n",
       "      <td>300</td>\n",
       "      <td>0</td>\n",
       "    </tr>\n",
       "    <tr>\n",
       "      <th>3</th>\n",
       "      <td>3</td>\n",
       "      <td>0.008578</td>\n",
       "      <td>3608.414654</td>\n",
       "      <td>4.0</td>\n",
       "      <td>10</td>\n",
       "      <td>300</td>\n",
       "      <td>0</td>\n",
       "    </tr>\n",
       "    <tr>\n",
       "      <th>4</th>\n",
       "      <td>4</td>\n",
       "      <td>0.008626</td>\n",
       "      <td>3608.414654</td>\n",
       "      <td>5.0</td>\n",
       "      <td>10</td>\n",
       "      <td>300</td>\n",
       "      <td>0</td>\n",
       "    </tr>\n",
       "    <tr>\n",
       "      <th>...</th>\n",
       "      <td>...</td>\n",
       "      <td>...</td>\n",
       "      <td>...</td>\n",
       "      <td>...</td>\n",
       "      <td>...</td>\n",
       "      <td>...</td>\n",
       "      <td>...</td>\n",
       "    </tr>\n",
       "    <tr>\n",
       "      <th>18340</th>\n",
       "      <td>104</td>\n",
       "      <td>0.014396</td>\n",
       "      <td>3842.060481</td>\n",
       "      <td>11555.0</td>\n",
       "      <td>100</td>\n",
       "      <td>300</td>\n",
       "      <td>100</td>\n",
       "    </tr>\n",
       "    <tr>\n",
       "      <th>18341</th>\n",
       "      <td>105</td>\n",
       "      <td>0.014497</td>\n",
       "      <td>3842.060481</td>\n",
       "      <td>11556.0</td>\n",
       "      <td>100</td>\n",
       "      <td>300</td>\n",
       "      <td>100</td>\n",
       "    </tr>\n",
       "    <tr>\n",
       "      <th>18342</th>\n",
       "      <td>106</td>\n",
       "      <td>0.014592</td>\n",
       "      <td>3842.060481</td>\n",
       "      <td>11557.0</td>\n",
       "      <td>100</td>\n",
       "      <td>300</td>\n",
       "      <td>100</td>\n",
       "    </tr>\n",
       "    <tr>\n",
       "      <th>18343</th>\n",
       "      <td>107</td>\n",
       "      <td>0.014686</td>\n",
       "      <td>3842.060481</td>\n",
       "      <td>11558.0</td>\n",
       "      <td>100</td>\n",
       "      <td>300</td>\n",
       "      <td>100</td>\n",
       "    </tr>\n",
       "    <tr>\n",
       "      <th>18344</th>\n",
       "      <td>108</td>\n",
       "      <td>0.014793</td>\n",
       "      <td>3842.060481</td>\n",
       "      <td>11559.0</td>\n",
       "      <td>100</td>\n",
       "      <td>300</td>\n",
       "      <td>100</td>\n",
       "    </tr>\n",
       "  </tbody>\n",
       "</table>\n",
       "<p>18345 rows × 7 columns</p>\n",
       "</div>"
      ],
      "text/plain": [
       "       Iteration      Time      Fitness   FEvals  Restarts  max_iters  \\\n",
       "0              0  0.000385  3582.875503      0.0        10        300   \n",
       "1              1  0.008462  3582.875503      1.0        10        300   \n",
       "2              2  0.008514  3608.414654      3.0        10        300   \n",
       "3              3  0.008578  3608.414654      4.0        10        300   \n",
       "4              4  0.008626  3608.414654      5.0        10        300   \n",
       "...          ...       ...          ...      ...       ...        ...   \n",
       "18340        104  0.014396  3842.060481  11555.0       100        300   \n",
       "18341        105  0.014497  3842.060481  11556.0       100        300   \n",
       "18342        106  0.014592  3842.060481  11557.0       100        300   \n",
       "18343        107  0.014686  3842.060481  11558.0       100        300   \n",
       "18344        108  0.014793  3842.060481  11559.0       100        300   \n",
       "\n",
       "       current_restart  \n",
       "0                    0  \n",
       "1                    0  \n",
       "2                    0  \n",
       "3                    0  \n",
       "4                    0  \n",
       "...                ...  \n",
       "18340              100  \n",
       "18341              100  \n",
       "18342              100  \n",
       "18343              100  \n",
       "18344              100  \n",
       "\n",
       "[18345 rows x 7 columns]"
      ]
     },
     "execution_count": 174,
     "metadata": {},
     "output_type": "execute_result"
    }
   ],
   "source": [
    "rhc_run_curves"
   ]
  },
  {
   "cell_type": "code",
   "execution_count": 182,
   "id": "632822ae",
   "metadata": {},
   "outputs": [
    {
     "data": {
      "image/png": "[encoded data removed]",
      "text/plain": [
       "<Figure size 360x360 with 1 Axes>"
      ]
     },
     "metadata": {
      "needs_background": "light"
     },
     "output_type": "display_data"
    }
   ],
   "source": [
    "rhc_cr = rhc_run_curves.groupby(['Iteration','Restarts']).agg({'Fitness':'mean'}).reset_index()\n",
    "ax = rhc_cr.pivot_table(values=\"Fitness\", index=\"Iteration\", columns=\"Restarts\").plot(lw=2, colormap='jet', legend=True\n",
    "                                                                                          , grid=1, marker='.', \n",
    "                                                                                          markersize=2,\n",
    "                                                                                          title='RHC - Restarts')\n",
    "ax.set_xlabel(\"Iteration\")\n",
    "ax.set_ylabel(\"Fitness\")\n",
    "fig = ax.get_figure()\n",
    "fig.savefig('../images/Knap/Knap_rhc_restart.png')"
   ]
  },
  {
   "cell_type": "markdown",
   "id": "7ac495f1",
   "metadata": {},
   "source": [
    "<h3>SA</h3>"
   ]
  },
  {
   "cell_type": "code",
   "execution_count": 183,
   "id": "2d975c8a",
   "metadata": {},
   "outputs": [
    {
     "ename": "TypeError",
     "evalue": "cannot unpack non-iterable NoneType object",
     "output_type": "error",
     "traceback": [
      "\u001b[1;31m---------------------------------------------------------------------------\u001b[0m",
      "\u001b[1;31mTypeError\u001b[0m                                 Traceback (most recent call last)",
      "\u001b[1;32m<timed exec>\u001b[0m in \u001b[0;36m<module>\u001b[1;34m\u001b[0m\n",
      "\u001b[1;32mC:\\Anaconda\\envs\\ml_env\\lib\\site-packages\\mlrose_hiive\\runners\\sa_runner.py\u001b[0m in \u001b[0;36mrun\u001b[1;34m(self)\u001b[0m\n\u001b[0;32m     48\u001b[0m                                                                         for d in self.decay_list]\n\u001b[0;32m     49\u001b[0m         return super().run_experiment_(algorithm=mlrose_hiive.simulated_annealing,\n\u001b[1;32m---> 50\u001b[1;33m                                        schedule=('Temperature', temperatures))\n\u001b[0m",
      "\u001b[1;32mC:\\Anaconda\\envs\\ml_env\\lib\\site-packages\\mlrose_hiive\\runners\\_runner_base.py\u001b[0m in \u001b[0;36mrun_experiment_\u001b[1;34m(self, algorithm, **kwargs)\u001b[0m\n\u001b[0;32m    162\u001b[0m \u001b[1;33m\u001b[0m\u001b[0m\n\u001b[0;32m    163\u001b[0m         \u001b[0mself\u001b[0m\u001b[1;33m.\u001b[0m\u001b[0m_create_and_save_run_data_frames\u001b[0m\u001b[1;33m(\u001b[0m\u001b[0mfinal_save\u001b[0m\u001b[1;33m=\u001b[0m\u001b[1;32mTrue\u001b[0m\u001b[1;33m)\u001b[0m\u001b[1;33m\u001b[0m\u001b[1;33m\u001b[0m\u001b[0m\n\u001b[1;32m--> 164\u001b[1;33m         \u001b[0mself\u001b[0m\u001b[1;33m.\u001b[0m\u001b[0m_tear_down\u001b[0m\u001b[1;33m(\u001b[0m\u001b[1;33m)\u001b[0m\u001b[1;33m\u001b[0m\u001b[1;33m\u001b[0m\u001b[0m\n\u001b[0m\u001b[0;32m    165\u001b[0m \u001b[1;33m\u001b[0m\u001b[0m\n\u001b[0;32m    166\u001b[0m         \u001b[1;32mreturn\u001b[0m \u001b[0mself\u001b[0m\u001b[1;33m.\u001b[0m\u001b[0mrun_stats_df\u001b[0m\u001b[1;33m,\u001b[0m \u001b[0mself\u001b[0m\u001b[1;33m.\u001b[0m\u001b[0mcurves_df\u001b[0m\u001b[1;33m\u001b[0m\u001b[1;33m\u001b[0m\u001b[0m\n",
      "\u001b[1;32mC:\\Anaconda\\envs\\ml_env\\lib\\site-packages\\mlrose_hiive\\runners\\_runner_base.py\u001b[0m in \u001b[0;36m_tear_down\u001b[1;34m(self)\u001b[0m\n\u001b[0;32m    136\u001b[0m             \u001b[0msignal\u001b[0m\u001b[1;33m.\u001b[0m\u001b[0msignal\u001b[0m\u001b[1;33m(\u001b[0m\u001b[0msignal\u001b[0m\u001b[1;33m.\u001b[0m\u001b[0mSIGINT\u001b[0m\u001b[1;33m,\u001b[0m \u001b[0mself\u001b[0m\u001b[1;33m.\u001b[0m\u001b[0m__original_sigint_handler\u001b[0m\u001b[1;33m)\u001b[0m\u001b[1;33m\u001b[0m\u001b[1;33m\u001b[0m\u001b[0m\n\u001b[0;32m    137\u001b[0m             \u001b[1;32mif\u001b[0m \u001b[0mself\u001b[0m\u001b[1;33m.\u001b[0m\u001b[0mhas_aborted\u001b[0m\u001b[1;33m(\u001b[0m\u001b[1;33m)\u001b[0m \u001b[1;32mand\u001b[0m \u001b[0mself\u001b[0m\u001b[1;33m.\u001b[0m\u001b[0m_get_spawn_count\u001b[0m\u001b[1;33m(\u001b[0m\u001b[1;33m)\u001b[0m \u001b[1;33m==\u001b[0m \u001b[1;36m0\u001b[0m\u001b[1;33m:\u001b[0m\u001b[1;33m\u001b[0m\u001b[1;33m\u001b[0m\u001b[0m\n\u001b[1;32m--> 138\u001b[1;33m                 \u001b[0msig\u001b[0m\u001b[1;33m,\u001b[0m \u001b[0mframe\u001b[0m \u001b[1;33m=\u001b[0m \u001b[0mself\u001b[0m\u001b[1;33m.\u001b[0m\u001b[0m__sigint_params\u001b[0m\u001b[1;33m\u001b[0m\u001b[1;33m\u001b[0m\u001b[0m\n\u001b[0m\u001b[0;32m    139\u001b[0m                 \u001b[0mself\u001b[0m\u001b[1;33m.\u001b[0m\u001b[0m__original_sigint_handler\u001b[0m\u001b[1;33m(\u001b[0m\u001b[0msig\u001b[0m\u001b[1;33m,\u001b[0m \u001b[0mframe\u001b[0m\u001b[1;33m)\u001b[0m\u001b[1;33m\u001b[0m\u001b[1;33m\u001b[0m\u001b[0m\n\u001b[0;32m    140\u001b[0m \u001b[1;33m\u001b[0m\u001b[0m\n",
      "\u001b[1;31mTypeError\u001b[0m: cannot unpack non-iterable NoneType object"
     ]
    }
   ],
   "source": [
    "%%time\n",
    "sa = mlrose_hiive.SARunner(problem,\n",
    "                            experiment_name=experiment_name+ \"_SA\",\n",
    "                            output_directory=output_directory, \n",
    "                           iteration_list=[300],\n",
    "                           temperature_list=[1, 5, 10, 50, 100],\n",
    "                   decay_list=[mlrose_hiive.GeomDecay, mlrose_hiive.ExpDecay, mlrose_hiive.ArithDecay],\n",
    "#                            temperature_list=[1, 10, 50, 100, 250],\n",
    "#                            decay_list=[mlrose_hiive.ExpDecay,\n",
    "#                                        mlrose_hiive.GeomDecay],\n",
    "                           seed=33, max_attempts=100)\n",
    "\n",
    "sa_run_stats, sa_run_curves = sa.run()   "
   ]
  },
  {
   "cell_type": "code",
   "execution_count": 128,
   "id": "e01042c3",
   "metadata": {},
   "outputs": [
    {
     "name": "stdout",
     "output_type": "stream",
     "text": [
      "3832.2064052566857 3928.5099484661146\n",
      "0.03556921333341355\n"
     ]
    }
   ],
   "source": [
    "last_iters = sa_run_stats[sa_run_stats.Iteration != 0].reset_index()\n",
    "print(last_iters.Fitness.mean(), last_iters.Fitness.max())\n",
    "print(last_iters.Time.mean())"
   ]
  },
  {
   "cell_type": "code",
   "execution_count": 129,
   "id": "c5ecb39f",
   "metadata": {},
   "outputs": [
    {
     "name": "stdout",
     "output_type": "stream",
     "text": [
      "nan\n",
      "nan\n",
      "nan\n",
      "0.015045866667302713\n",
      "0.033798633332480676\n",
      "nan\n",
      "nan\n",
      "0.03556921333341355\n"
     ]
    }
   ],
   "source": [
    "print(last_iters.loc[last_iters.schedule_init_temp == 0.05, \"Time\"].mean())\n",
    "print(last_iters.loc[last_iters.schedule_init_temp == 0.1, \"Time\"].mean())\n",
    "print(last_iters.loc[last_iters.schedule_init_temp == 0.5, \"Time\"].mean())\n",
    "print(last_iters.loc[last_iters.schedule_init_temp == 1, \"Time\"].mean())\n",
    "print(last_iters.loc[last_iters.schedule_init_temp == 10, \"Time\"].mean())\n",
    "print(last_iters.loc[last_iters.schedule_init_temp == 20, \"Time\"].mean())\n",
    "print(last_iters.loc[last_iters.schedule_init_temp == 25, \"Time\"].mean())\n",
    "print(last_iters.loc[:, \"Time\"].mean())"
   ]
  },
  {
   "cell_type": "code",
   "execution_count": 130,
   "id": "e3d77122",
   "metadata": {},
   "outputs": [
    {
     "data": {
      "text/plain": [
       "ArithDecay(init_temp=10, decay=0.0001, min_temp=0.001)"
      ]
     },
     "execution_count": 130,
     "metadata": {},
     "output_type": "execute_result"
    }
   ],
   "source": [
    "best_index_in_curve = sa_run_curves.Fitness.idxmax()\n",
    "best_decay = sa_run_curves.iloc[best_index_in_curve].Temperature\n",
    "best_curve_sa = sa_run_curves.loc[sa_run_curves.Temperature == best_decay, :]\n",
    "best_curve_sa.reset_index(inplace=True)\n",
    "best_decay"
   ]
  },
  {
   "cell_type": "code",
   "execution_count": 131,
   "id": "2ba532f4",
   "metadata": {},
   "outputs": [
    {
     "data": {
      "text/plain": [
       "Iteration              266\n",
       "Time              0.007247\n",
       "Fitness        3950.814621\n",
       "FEvals               308.0\n",
       "Temperature             10\n",
       "max_iters              300\n",
       "Name: 1352, dtype: object"
      ]
     },
     "execution_count": 131,
     "metadata": {},
     "output_type": "execute_result"
    }
   ],
   "source": [
    "best_index_in_SA_curve = sa_run_curves.Fitness.idxmax()\n",
    "sa_run_curves.iloc[best_index_in_SA_curve]"
   ]
  },
  {
   "cell_type": "code",
   "execution_count": 177,
   "id": "fa70727f",
   "metadata": {},
   "outputs": [],
   "source": [
    "dfp = pd.DataFrame(sa_run_curves)\n",
    "dfp = dfp.astype({'Temperature':'string'})"
   ]
  },
  {
   "cell_type": "code",
   "execution_count": 178,
   "id": "468c4bf1",
   "metadata": {},
   "outputs": [
    {
     "data": {
      "image/png": "[encoded data removed]",
      "text/plain": [
       "<Figure size 360x360 with 1 Axes>"
      ]
     },
     "metadata": {
      "needs_background": "light"
     },
     "output_type": "display_data"
    }
   ],
   "source": [
    "sa_ps = dfp.groupby(['Iteration','Temperature']).agg({'Fitness':'mean'}).reset_index()\n",
    "ax = sa_ps.pivot_table(values=\"Fitness\", index=\"Iteration\", columns=\"Temperature\").plot(lw=2, colormap='jet', \n",
    "                                                                                             grid=1, marker='.', \n",
    "                                                                                          markersize=2,\n",
    "                                                                                          title='SA - Temperature')\n",
    "ax.set_xlabel(\"Iteration\")\n",
    "ax.set_ylabel(\"Fitness\")\n",
    "fig = ax.get_figure()\n",
    "fig.savefig('../images/Knap/Knap_sa_temp.png')"
   ]
  },
  {
   "cell_type": "code",
   "execution_count": 134,
   "id": "e24c56d3",
   "metadata": {},
   "outputs": [
    {
     "data": {
      "text/plain": [
       "Text(0, 0.5, 'Value')"
      ]
     },
     "execution_count": 134,
     "metadata": {},
     "output_type": "execute_result"
    },
    {
     "data": {
      "image/png": "[encoded data removed]",
      "text/plain": [
       "<Figure size 864x576 with 1 Axes>"
      ]
     },
     "metadata": {
      "needs_background": "light"
     },
     "output_type": "display_data"
    }
   ],
   "source": [
    "ax = best_curve_sa.Fitness.plot(lw=2, colormap='jet', marker='.', markersize=2, \n",
    "                             figsize=(12,8), grid=1,\n",
    "                             title='Best Simulated Annealing')\n",
    "ax.set_xlabel(\"Iterations\")\n",
    "ax.set_ylabel(\"Value\")"
   ]
  },
  {
   "cell_type": "markdown",
   "id": "47087d94",
   "metadata": {},
   "source": [
    "<h3>GA</h3>"
   ]
  },
  {
   "cell_type": "code",
   "execution_count": 135,
   "id": "465fdba0",
   "metadata": {},
   "outputs": [
    {
     "name": "stdout",
     "output_type": "stream",
     "text": [
      "Wall time: 25.3 s\n"
     ]
    }
   ],
   "source": [
    "%%time\n",
    "ga = mlrose_hiive.GARunner(problem=problem,\n",
    "                        experiment_name=experiment_name+ \"_GA\",\n",
    "                        output_directory=output_directory,\n",
    "                          seed=44,\n",
    "                          iteration_list=[100],\n",
    "                          population_sizes=[200,400,600],\n",
    "                          mutation_rates=[0.1, 0.25, 0.5])\n",
    "ga_run_stats, ga_run_curves = ga.run()   "
   ]
  },
  {
   "cell_type": "code",
   "execution_count": 136,
   "id": "e495267f",
   "metadata": {},
   "outputs": [
    {
     "name": "stdout",
     "output_type": "stream",
     "text": [
      "Max and mean\n",
      "4825.336370207168 4798.829934040674 2.797611833333374\n",
      "Mutation Rate\n",
      "0.10    4818.405196\n",
      "0.25    4794.977770\n",
      "0.50    4783.106836\n",
      "Name: Fitness, dtype: float64\n",
      "Population Size\n",
      "200    4767.888580\n",
      "400    4808.559415\n",
      "600    4820.041808\n",
      "Name: Fitness, dtype: float64\n",
      "Population Size\n",
      "200    1.372132\n",
      "400    2.819564\n",
      "600    4.201139\n",
      "Name: Time, dtype: float64\n"
     ]
    }
   ],
   "source": [
    "\n",
    "last_iters = ga_run_stats[ga_run_stats.Iteration != 0].reset_index()\n",
    "print(\"Max and mean\")\n",
    "print(last_iters.Fitness.max(), last_iters.Fitness.mean(), last_iters.Time.mean())\n",
    "print(last_iters.groupby(\"Mutation Rate\").Fitness.mean())\n",
    "print(last_iters.groupby(\"Population Size\").Fitness.mean())\n",
    "print(last_iters.groupby(\"Population Size\").Time.mean())"
   ]
  },
  {
   "cell_type": "code",
   "execution_count": 137,
   "id": "35092fe6",
   "metadata": {},
   "outputs": [
    {
     "data": {
      "text/plain": [
       "Iteration            100.000000\n",
       "Time                   1.356285\n",
       "Fitness             4825.336370\n",
       "FEvals             60750.000000\n",
       "Population Size      600.000000\n",
       "Mutation Rate          0.100000\n",
       "max_iters            100.000000\n",
       "Name: 706, dtype: float64"
      ]
     },
     "execution_count": 137,
     "metadata": {},
     "output_type": "execute_result"
    }
   ],
   "source": [
    "best_index_in_GA_curve = ga_run_curves.Fitness.idxmax()\n",
    "ga_run_curves.iloc[best_index_in_GA_curve]\n"
   ]
  },
  {
   "cell_type": "code",
   "execution_count": 138,
   "id": "76e3f163",
   "metadata": {},
   "outputs": [
    {
     "data": {
      "text/plain": [
       "600.0"
      ]
     },
     "execution_count": 138,
     "metadata": {},
     "output_type": "execute_result"
    }
   ],
   "source": [
    "best_p_size_ga = ga_run_curves.iloc[best_index_in_GA_curve]['Population Size'] \n",
    "best_m_rate = ga_run_curves.iloc[best_index_in_GA_curve]['Mutation Rate']  \n",
    "best_curve_ga = ga_run_curves.loc[ga_run_curves['Population Size'] == best_p_size_ga, :]\n",
    "best_curve_ga = best_curve_ga.loc[best_curve_ga['Mutation Rate'] == best_m_rate, :]\n",
    "best_curve_ga.reset_index(inplace=True)\n",
    "best_p_size_ga"
   ]
  },
  {
   "cell_type": "code",
   "execution_count": 139,
   "id": "f0e4ecb2",
   "metadata": {},
   "outputs": [
    {
     "data": {
      "text/plain": [
       "Text(0, 0.5, 'Value')"
      ]
     },
     "execution_count": 139,
     "metadata": {},
     "output_type": "execute_result"
    },
    {
     "data": {
      "image/png": "[encoded data removed]",
      "text/plain": [
       "<Figure size 864x576 with 1 Axes>"
      ]
     },
     "metadata": {
      "needs_background": "light"
     },
     "output_type": "display_data"
    }
   ],
   "source": [
    "ax = best_curve_ga.Fitness.plot(lw=2, colormap='jet', marker='.', markersize=2, \n",
    "                             figsize=(12,8), grid=1,\n",
    "                             title='Best GA Search')\n",
    "ax.set_xlabel(\"Iterations\")\n",
    "ax.set_ylabel(\"Value\")"
   ]
  },
  {
   "cell_type": "code",
   "execution_count": 140,
   "id": "494665b8",
   "metadata": {},
   "outputs": [
    {
     "data": {
      "text/html": [
       "<div>\n",
       "<style scoped>\n",
       "    .dataframe tbody tr th:only-of-type {\n",
       "        vertical-align: middle;\n",
       "    }\n",
       "\n",
       "    .dataframe tbody tr th {\n",
       "        vertical-align: top;\n",
       "    }\n",
       "\n",
       "    .dataframe thead th {\n",
       "        text-align: right;\n",
       "    }\n",
       "</style>\n",
       "<table border=\"1\" class=\"dataframe\">\n",
       "  <thead>\n",
       "    <tr style=\"text-align: right;\">\n",
       "      <th></th>\n",
       "      <th>Iteration</th>\n",
       "      <th>Time</th>\n",
       "      <th>Fitness</th>\n",
       "      <th>FEvals</th>\n",
       "      <th>Population Size</th>\n",
       "      <th>Mutation Rate</th>\n",
       "      <th>max_iters</th>\n",
       "    </tr>\n",
       "  </thead>\n",
       "  <tbody>\n",
       "    <tr>\n",
       "      <th>0</th>\n",
       "      <td>0</td>\n",
       "      <td>0.006697</td>\n",
       "      <td>3792.189458</td>\n",
       "      <td>200.0</td>\n",
       "      <td>200</td>\n",
       "      <td>0.1</td>\n",
       "      <td>100</td>\n",
       "    </tr>\n",
       "    <tr>\n",
       "      <th>1</th>\n",
       "      <td>1</td>\n",
       "      <td>0.025201</td>\n",
       "      <td>3946.576263</td>\n",
       "      <td>402.0</td>\n",
       "      <td>200</td>\n",
       "      <td>0.1</td>\n",
       "      <td>100</td>\n",
       "    </tr>\n",
       "    <tr>\n",
       "      <th>2</th>\n",
       "      <td>2</td>\n",
       "      <td>0.038395</td>\n",
       "      <td>3975.929999</td>\n",
       "      <td>604.0</td>\n",
       "      <td>200</td>\n",
       "      <td>0.1</td>\n",
       "      <td>100</td>\n",
       "    </tr>\n",
       "    <tr>\n",
       "      <th>3</th>\n",
       "      <td>3</td>\n",
       "      <td>0.051545</td>\n",
       "      <td>3975.929999</td>\n",
       "      <td>805.0</td>\n",
       "      <td>200</td>\n",
       "      <td>0.1</td>\n",
       "      <td>100</td>\n",
       "    </tr>\n",
       "    <tr>\n",
       "      <th>4</th>\n",
       "      <td>4</td>\n",
       "      <td>0.064813</td>\n",
       "      <td>3975.929999</td>\n",
       "      <td>1006.0</td>\n",
       "      <td>200</td>\n",
       "      <td>0.1</td>\n",
       "      <td>100</td>\n",
       "    </tr>\n",
       "    <tr>\n",
       "      <th>...</th>\n",
       "      <td>...</td>\n",
       "      <td>...</td>\n",
       "      <td>...</td>\n",
       "      <td>...</td>\n",
       "      <td>...</td>\n",
       "      <td>...</td>\n",
       "      <td>...</td>\n",
       "    </tr>\n",
       "    <tr>\n",
       "      <th>904</th>\n",
       "      <td>96</td>\n",
       "      <td>1.303618</td>\n",
       "      <td>4803.285148</td>\n",
       "      <td>58335.0</td>\n",
       "      <td>600</td>\n",
       "      <td>0.5</td>\n",
       "      <td>100</td>\n",
       "    </tr>\n",
       "    <tr>\n",
       "      <th>905</th>\n",
       "      <td>97</td>\n",
       "      <td>1.316843</td>\n",
       "      <td>4803.285148</td>\n",
       "      <td>58936.0</td>\n",
       "      <td>600</td>\n",
       "      <td>0.5</td>\n",
       "      <td>100</td>\n",
       "    </tr>\n",
       "    <tr>\n",
       "      <th>906</th>\n",
       "      <td>98</td>\n",
       "      <td>1.329921</td>\n",
       "      <td>4807.405403</td>\n",
       "      <td>59538.0</td>\n",
       "      <td>600</td>\n",
       "      <td>0.5</td>\n",
       "      <td>100</td>\n",
       "    </tr>\n",
       "    <tr>\n",
       "      <th>907</th>\n",
       "      <td>99</td>\n",
       "      <td>1.343130</td>\n",
       "      <td>4807.405403</td>\n",
       "      <td>60139.0</td>\n",
       "      <td>600</td>\n",
       "      <td>0.5</td>\n",
       "      <td>100</td>\n",
       "    </tr>\n",
       "    <tr>\n",
       "      <th>908</th>\n",
       "      <td>100</td>\n",
       "      <td>1.356285</td>\n",
       "      <td>4822.984423</td>\n",
       "      <td>60741.0</td>\n",
       "      <td>600</td>\n",
       "      <td>0.5</td>\n",
       "      <td>100</td>\n",
       "    </tr>\n",
       "  </tbody>\n",
       "</table>\n",
       "<p>909 rows × 7 columns</p>\n",
       "</div>"
      ],
      "text/plain": [
       "     Iteration      Time      Fitness   FEvals  Population Size  \\\n",
       "0            0  0.006697  3792.189458    200.0              200   \n",
       "1            1  0.025201  3946.576263    402.0              200   \n",
       "2            2  0.038395  3975.929999    604.0              200   \n",
       "3            3  0.051545  3975.929999    805.0              200   \n",
       "4            4  0.064813  3975.929999   1006.0              200   \n",
       "..         ...       ...          ...      ...              ...   \n",
       "904         96  1.303618  4803.285148  58335.0              600   \n",
       "905         97  1.316843  4803.285148  58936.0              600   \n",
       "906         98  1.329921  4807.405403  59538.0              600   \n",
       "907         99  1.343130  4807.405403  60139.0              600   \n",
       "908        100  1.356285  4822.984423  60741.0              600   \n",
       "\n",
       "     Mutation Rate  max_iters  \n",
       "0              0.1        100  \n",
       "1              0.1        100  \n",
       "2              0.1        100  \n",
       "3              0.1        100  \n",
       "4              0.1        100  \n",
       "..             ...        ...  \n",
       "904            0.5        100  \n",
       "905            0.5        100  \n",
       "906            0.5        100  \n",
       "907            0.5        100  \n",
       "908            0.5        100  \n",
       "\n",
       "[909 rows x 7 columns]"
      ]
     },
     "execution_count": 140,
     "metadata": {},
     "output_type": "execute_result"
    }
   ],
   "source": [
    "ga_run_curves"
   ]
  },
  {
   "cell_type": "code",
   "execution_count": 141,
   "id": "f0641c3d",
   "metadata": {},
   "outputs": [
    {
     "data": {
      "image/png": "[encoded data removed]",
      "text/plain": [
       "<Figure size 360x360 with 1 Axes>"
      ]
     },
     "metadata": {
      "needs_background": "light"
     },
     "output_type": "display_data"
    }
   ],
   "source": [
    "ga_ps = ga_run_curves.groupby(['Iteration','Population Size']).agg({'Fitness':'mean'}).reset_index()\n",
    "ax = ga_ps.pivot_table(values=\"Fitness\", index=\"Iteration\", columns=\"Population Size\").plot(lw=2, colormap='jet', \n",
    "                                                                                             grid=1, marker='.', \n",
    "                                                                                          markersize=2,\n",
    "                                                                                          title='GA - Population Size')\n",
    "ax.set_xlabel(\"Iteration\")\n",
    "ax.set_ylabel(\"Fitness\")\n",
    "fig = ax.get_figure()\n",
    "fig.savefig('../images/Knap/Knap_ga_p_size.png')"
   ]
  },
  {
   "cell_type": "code",
   "execution_count": 142,
   "id": "9ceb4e95",
   "metadata": {},
   "outputs": [
    {
     "data": {
      "image/png": "[encoded data removed]",
      "text/plain": [
       "<Figure size 360x360 with 1 Axes>"
      ]
     },
     "metadata": {
      "needs_background": "light"
     },
     "output_type": "display_data"
    }
   ],
   "source": [
    "ga_mutaion = ga_run_curves.groupby(['Iteration','Mutation Rate']).agg({'Fitness':'mean'}).reset_index()\n",
    "ax = ga_mutaion.pivot_table(values=\"Fitness\", index=\"Iteration\", columns=\"Mutation Rate\").plot(lw=2, colormap='jet', \n",
    "                                                                                             grid=1, marker='.', \n",
    "                                                                                          markersize=2,\n",
    "                                                                                          title='GA - Mutation Rate')\n",
    "ax.set_xlabel(\"Iteration\")\n",
    "ax.set_ylabel(\"Fitness\")\n",
    "fig = ax.get_figure()\n",
    "fig.savefig('../images/Knap/Knap_ga_M_Rate.png')"
   ]
  },
  {
   "cell_type": "code",
   "execution_count": 143,
   "id": "7f566788",
   "metadata": {},
   "outputs": [
    {
     "data": {
      "image/png": "[encoded data removed]",
      "text/plain": [
       "<Figure size 360x360 with 1 Axes>"
      ]
     },
     "metadata": {
      "needs_background": "light"
     },
     "output_type": "display_data"
    }
   ],
   "source": [
    "all_curves = {\"Random Hill Climb\": best_curve_rhc.Fitness, \"Simulated Annealing\": best_curve_sa.Fitness, \"Genetic Alg\": best_curve_ga.Fitness, \"MIMIC\": best_curve_mmc.Fitness}\n",
    "\n",
    "np.array([len(x) for x in all_curves]).max()\n",
    "\n",
    "plt.xlabel(\"Iterations\")\n",
    "plt.ylabel(\"Fitness\")\n",
    "plt.title(\"Knap snack\")\n",
    "\n",
    "for name, curve in all_curves.items():\n",
    "    plt.plot(range(len(curve)), curve, label=name, lw=2)\n",
    "\n",
    "    plt.legend(loc=\"best\")\n",
    "plt.grid(visible=True)\n",
    "plt.savefig('../images/Knap/knap_f_score_compare.png')\n",
    "plt.show()"
   ]
  },
  {
   "cell_type": "code",
   "execution_count": 144,
   "id": "2a7fa437",
   "metadata": {},
   "outputs": [
    {
     "data": {
      "image/png": "[encoded data removed]",
      "text/plain": [
       "<Figure size 360x360 with 1 Axes>"
      ]
     },
     "metadata": {
      "needs_background": "light"
     },
     "output_type": "display_data"
    }
   ],
   "source": [
    "all_curves = {\"Random Hill Climb\": best_curve_rhc.FEvals, \"Simulated Annealing\": best_curve_sa.FEvals, \"Genetic Alg\": best_curve_ga.FEvals, \"MIMIC\": best_curve_mmc.FEvals}\n",
    "\n",
    "np.array([len(x) for x in all_curves]).max()\n",
    "\n",
    "plt.xlabel(\"Iterations\")\n",
    "plt.ylabel(\"Function evals\")\n",
    "plt.title(\"Kanp Snack\")\n",
    "\n",
    "for name, curve in all_curves.items():\n",
    "    plt.plot(range(len(curve)), curve, label=name, lw=2)\n",
    "\n",
    "    plt.legend(loc=\"best\")\n",
    "plt.grid(visible=True)\n",
    "plt.savefig('../images/Knap/knap_f_evals_compare.png')\n",
    "plt.show()"
   ]
  },
  {
   "cell_type": "code",
   "execution_count": 145,
   "id": "6a0b4a11",
   "metadata": {},
   "outputs": [],
   "source": [
    "def train_and_time(algo, times, fitness):\n",
    "    start = time.clock()\n",
    "    #print(algo())\n",
    "    best_state, best_fitness,_ = algo()\n",
    "    end = time.clock()\n",
    "    times.append(end - start)\n",
    "    fitness.append(best_fitness)"
   ]
  },
  {
   "cell_type": "code",
   "execution_count": 150,
   "id": "ec347164",
   "metadata": {},
   "outputs": [
    {
     "name": "stdout",
     "output_type": "stream",
     "text": [
      "KnapSack Problem with  10  points\n",
      "KnapSack Problem with  20  points\n",
      "KnapSack Problem with  30  points\n",
      "KnapSack Problem with  40  points\n",
      "KnapSack Problem with  50  points\n",
      "KnapSack Problem with  60  points\n",
      "KnapSack Problem with  70  points\n"
     ]
    },
    {
     "data": {
      "image/png": "[encoded data removed]",
      "text/plain": [
       "<Figure size 360x360 with 1 Axes>"
      ]
     },
     "metadata": {
      "needs_background": "light"
     },
     "output_type": "display_data"
    },
    {
     "data": {
      "image/png": "[encoded data removed]",
      "text/plain": [
       "<Figure size 360x360 with 1 Axes>"
      ]
     },
     "metadata": {
      "needs_background": "light"
     },
     "output_type": "display_data"
    }
   ],
   "source": [
    "####### Kanp Snack\n",
    "import time \n",
    "\n",
    "cp_hill_times = []\n",
    "cp_hill_scores = []\n",
    "cp_anneal_times = []\n",
    "cp_anneal_scores = []\n",
    "cp_genetic_times = []\n",
    "cp_genetic_scores = []\n",
    "cp_mimic_times = []\n",
    "cp_mimic_scores = []\n",
    "\n",
    "\n",
    "def run_knapSnack(num_points):\n",
    "    \n",
    "    knapsack_weights=np.random.uniform(10,40,num_points)\n",
    "    knapsack_values=np.random.uniform(20,30,num_points)\n",
    "    max_weight_pct = 0.5\n",
    "    \n",
    "    print (\"KnapSack Problem with \", num_points, \" points\")\n",
    "    \n",
    "    knapSnack = mlrose_hiive.KnapsackOpt(weights=knapsack_weights, values=knapsack_values, max_weight_pct=max_weight_pct)\n",
    "    train_and_time(lambda : mlrose_hiive.random_hill_climb(problem=knapSnack, restarts =100, max_iters= 500, max_attempts= 100, random_state=33),cp_hill_times, cp_hill_scores)\n",
    "    \n",
    "    knapSnack = mlrose_hiive.KnapsackOpt(weights=knapsack_weights, values=knapsack_values, max_weight_pct=max_weight_pct)\n",
    "    train_and_time(lambda : mlrose_hiive.simulated_annealing(problem=knapSnack, schedule= mlrose_hiive.GeomDecay(init_temp=0.5),max_iters=500, max_attempts= 100, random_state=33), cp_anneal_times, cp_anneal_scores)\n",
    "    \n",
    "    knapSnack = mlrose_hiive.KnapsackOpt(weights=knapsack_weights, values=knapsack_values, max_weight_pct=max_weight_pct)\n",
    "    train_and_time(lambda : mlrose_hiive.genetic_alg(problem=knapSnack,pop_size = 100, mutation_prob=0.1, max_iters=200, max_attempts= 100, random_state=33), cp_genetic_times, cp_genetic_scores)\n",
    "    \n",
    "    knapSnack = mlrose_hiive.KnapsackOpt(weights=knapsack_weights, values=knapsack_values, max_weight_pct=max_weight_pct)\n",
    "    train_and_time(lambda : mlrose_hiive.mimic(problem=knapSnack, pop_size = 600, keep_pct= 0.3, max_iters=200, max_attempts= 100, random_state=33), cp_mimic_times, cp_mimic_scores)\n",
    "\n",
    "\n",
    "point_range = range(10,80,10)\n",
    "for p in point_range:\n",
    "    run_knapSnack(p)\n",
    "plt.rcParams[\"figure.figsize\"] = (5,5)\n",
    "plt.plot(point_range,cp_hill_times,'-d',point_range,cp_anneal_times,'-d',point_range,cp_genetic_times,'-d',point_range,cp_mimic_times,'-d')\n",
    "plt.title(\"KnapSnack Problem\")\n",
    "plt.xlabel(\"Problem Length\")\n",
    "plt.ylabel(\"Time\")\n",
    "plt.legend([\"random hill climb\", \"simulated annealing\",\"genetic algorithm\",\"mimic\"])\n",
    "plt.grid(visible=True)\n",
    "plt.savefig('../images/Knap/knap_time.png')\n",
    "plt.show()\n",
    "\n",
    "plt.plot(point_range,cp_hill_scores,'-d',point_range,cp_anneal_scores,'-d',point_range,cp_genetic_scores,'-d',point_range,cp_mimic_scores,'-d')\n",
    "plt.title(\"KnapSnack Problem\")\n",
    "plt.xlabel(\"Problem Length\")\n",
    "plt.ylabel(\"Highest Score\")\n",
    "plt.legend([\"random hill climb\", \"simulated annealing\",\"genetic algorithm\",\"mimic\"])\n",
    "plt.grid(visible=True)\n",
    "plt.savefig('../images/Knap/knap_h_score.png')\n",
    "plt.show()"
   ]
  },
  {
   "cell_type": "code",
   "execution_count": null,
   "id": "dc3740ba",
   "metadata": {},
   "outputs": [],
   "source": []
  }
 ],
 "metadata": {
  "kernelspec": {
   "display_name": "Python 3 (ipykernel)",
   "language": "python",
   "name": "python3"
  },
  "language_info": {
   "codemirror_mode": {
    "name": "ipython",
    "version": 3
   },
   "file_extension": ".py",
   "mimetype": "text/x-python",
   "name": "python",
   "nbconvert_exporter": "python",
   "pygments_lexer": "ipython3",
   "version": "3.7.13"
  }
 },
 "nbformat": 4,
 "nbformat_minor": 5
}
