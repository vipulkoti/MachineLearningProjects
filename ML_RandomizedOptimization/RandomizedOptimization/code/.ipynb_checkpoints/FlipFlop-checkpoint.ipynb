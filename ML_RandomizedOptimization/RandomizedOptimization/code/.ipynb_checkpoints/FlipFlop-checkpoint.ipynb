{
 "cells": [
  {
   "cell_type": "code",
   "execution_count": 1,
   "metadata": {},
   "outputs": [],
   "source": [
    "import mlrose_hiive\n",
    "import numpy as np\n",
    "import pandas as pd\n",
    "# np.random.seed(44)"
   ]
  },
  {
   "cell_type": "code",
   "execution_count": 2,
   "metadata": {},
   "outputs": [],
   "source": [
    "# rhc_run_stats = pd.read_pickle(\"./pickles/flipFlop_rhc_run_stats.pkl\")\n",
    "# rhc_run_curves = pd.read_pickle(\"./pickles/flipFlop_rhc_run_curves.pkl\")\n",
    "# sa_run_stats = pd.read_pickle(\"./pickles/flipFlop_sa_run_stats.pkl\")\n",
    "# sa_run_curves = pd.read_pickle(\"./pickles/flipFlop_sa_run_curves.pkl\")\n",
    "# ga_run_stats = pd.read_pickle(\"./pickles/flipFlop_ga_run_stats.pkl\")\n",
    "# ga_run_curves = pd.read_pickle(\"./pickles/flipFlop_ga_run_curves.pkl\")\n",
    "# mmc_run_stats = pd.read_pickle(\"./pickles/flipFlop_mmc_run_stats.pkl\")\n",
    "# mmc_run_curves = pd.read_pickle(\"./pickles/flipFlop_mmc_run_curves.pkl\")"
   ]
  },
  {
   "cell_type": "markdown",
   "metadata": {},
   "source": [
    "## Define a Fitness Function"
   ]
  },
  {
   "cell_type": "code",
   "execution_count": 3,
   "metadata": {},
   "outputs": [],
   "source": [
    "flip_len=200\n",
    "problem = mlrose_hiive.FlipFlopOpt(length=flip_len)\n",
    "experiment_name = \"four_peaks\"\n",
    "output_directory = \"four_peaks\""
   ]
  },
  {
   "cell_type": "markdown",
   "metadata": {},
   "source": [
    "## Define an Optimization Problem Object\n",
    "We use the fitness function as input into the optimization problem\n",
    "\n",
    "__TSPOpt() descrive TSP optimization__"
   ]
  },
  {
   "cell_type": "markdown",
   "metadata": {},
   "source": [
    "### Random Hill Climb"
   ]
  },
  {
   "cell_type": "code",
   "execution_count": 4,
   "metadata": {
    "scrolled": true
   },
   "outputs": [
    {
     "name": "stdout",
     "output_type": "stream",
     "text": [
      "Wall time: 34.1 s\n"
     ]
    }
   ],
   "source": [
    "%%time\n",
    "runner_return = mlrose_hiive.RHCRunner(problem,\n",
    "                                       experiment_name=experiment_name,\n",
    "                                       output_directory=output_directory,\n",
    "                                       iteration_list=[100],\n",
    "                                       seed=44,\n",
    "                                       restart_list=[100])\n",
    "rhc_run_stats, rhc_run_curves = runner_return.run()"
   ]
  },
  {
   "cell_type": "code",
   "execution_count": 5,
   "metadata": {},
   "outputs": [
    {
     "data": {
      "text/plain": [
       "55.0"
      ]
     },
     "execution_count": 5,
     "metadata": {},
     "output_type": "execute_result"
    }
   ],
   "source": [
    "best_index_in_curve = rhc_run_curves.Fitness.idxmax()\n",
    "best_decay = rhc_run_curves.iloc[best_index_in_curve].current_restart\n",
    "best_curve = rhc_run_curves.loc[rhc_run_curves.current_restart == best_decay, :]\n",
    "best_curve.reset_index(inplace=True)\n",
    "best_decay"
   ]
  },
  {
   "cell_type": "code",
   "execution_count": 6,
   "metadata": {},
   "outputs": [
    {
     "data": {
      "text/plain": [
       "Text(0, 0.5, 'Value')"
      ]
     },
     "execution_count": 6,
     "metadata": {},
     "output_type": "execute_result"
    },
    {
     "data": {
      "image/png": "[encoded data removed]",
      "text/plain": [
       "<Figure size 864x576 with 1 Axes>"
      ]
     },
     "metadata": {
      "needs_background": "light"
     },
     "output_type": "display_data"
    }
   ],
   "source": [
    "ax = best_curve.Fitness.plot(lw=2, colormap='jet', marker='.', markersize=2, \n",
    "                             figsize=(12,8), grid=1,\n",
    "                             title='Best Random Search')\n",
    "ax.set_xlabel(\"Iterations\")\n",
    "ax.set_ylabel(\"Value\")"
   ]
  },
  {
   "cell_type": "code",
   "execution_count": 6,
   "metadata": {},
   "outputs": [
    {
     "name": "stdout",
     "output_type": "stream",
     "text": [
      "119.14851485148515 129.0\n",
      "416.785455\n"
     ]
    }
   ],
   "source": [
    "last_iters = rhc_run_stats[rhc_run_stats.Iteration != 0].reset_index()\n",
    "print(last_iters.Fitness.mean(), last_iters.Fitness.max())\n",
    "print(last_iters.Time.max())"
   ]
  },
  {
   "cell_type": "markdown",
   "metadata": {},
   "source": [
    "## Simulated Annealing"
   ]
  },
  {
   "cell_type": "code",
   "execution_count": 5,
   "metadata": {
    "scrolled": true
   },
   "outputs": [
    {
     "name": "stdout",
     "output_type": "stream",
     "text": [
      "Running sa\n",
      "*****************\n",
      "*** Run START ***\n",
      "*****************\n",
      "schedule:[1], max_iters:[100000]\n",
      "runner_name:[sa], experiment_name:[SA_Exp], attempt:[0], iteration:[0], done:[False], time:[0.00], fitness:[257.0000]\n",
      "\t[0 1 1 1 1 1 0 0 1 1 0 0 1 1 0 1 1 1 1 1 0 1 1 0 1 1 1 0 0 1 0 1 1 1 0 0 0// 1 1 0 0 1 1 0 0 0 0 0 0 1 0 0 1 0 0 0 1 1 1 0 0 1 1 0 1 0 1 0 1 0 0 0 1 0// 0 1 1 0 1 1 1 0 0 1 1 1 1 1 1 1 1 0 0 1 1 1 0 0...\n",
      "\n",
      "schedule:[1], max_iters:[100000]\n",
      "runner_name:[sa], experiment_name:[SA_Exp], attempt:[101], iteration:[21930], done:[True], time:[48.87], fitness:[483.0000]\n",
      "\t[1 0 1 0 1 0 1 0 1 0 1 0 1 0 1 0 1 0 1 0 1 0 0 1 0 1 0 1 0 1 0 1 0 1 0 1 0// 1 0 1 0 1 0 1 0 1 0 1 0 1 0 1 0 1 0 1 0 1 0 1 0 1 0 1 0 1 0 1 0 1 0 1 0 1// 0 1 0 1 0 1 0 1 0 0 1 0 1 0 1 0 1 0 1 0 1 0 1 0...\n",
      "\n",
      "***************\n",
      "*** Run END ***\n",
      "***************\n",
      "*****************\n",
      "*** Run START ***\n",
      "*****************\n",
      "schedule:[1], max_iters:[100000]\n",
      "runner_name:[sa], experiment_name:[SA_Exp], attempt:[0], iteration:[0], done:[False], time:[0.00], fitness:[257.0000]\n",
      "\t[0 1 1 1 1 1 0 0 1 1 0 0 1 1 0 1 1 1 1 1 0 1 1 0 1 1 1 0 0 1 0 1 1 1 0 0 0// 1 1 0 0 1 1 0 0 0 0 0 0 1 0 0 1 0 0 0 1 1 1 0 0 1 1 0 1 0 1 0 1 0 0 0 1 0// 0 1 1 0 1 1 1 0 0 1 1 1 1 1 1 1 1 0 0 1 1 1 0 0...\n",
      "\n",
      "schedule:[1], max_iters:[100000]\n",
      "runner_name:[sa], experiment_name:[SA_Exp], attempt:[101], iteration:[12257], done:[True], time:[24.27], fitness:[478.0000]\n",
      "\t[1 0 1 0 1 0 1 0 1 0 1 0 1 0 1 1 0 1 0 1 0 1 0 1 0 1 0 1 0 1 0 1 0 1 0 1 0// 1 0 0 1 0 1 0 1 0 1 0 1 0 1 0 1 0 1 0 1 0 1 0 1 0 1 0 1 1 0 1 0 1 0 0 1 0// 1 0 1 0 1 0 1 0 1 0 1 0 1 0 1 0 1 0 1 0 1 0 1 0...\n",
      "\n",
      "***************\n",
      "*** Run END ***\n",
      "***************\n",
      "*****************\n",
      "*** Run START ***\n",
      "*****************\n",
      "schedule:[10], max_iters:[100000]\n",
      "runner_name:[sa], experiment_name:[SA_Exp], attempt:[0], iteration:[0], done:[False], time:[0.00], fitness:[257.0000]\n",
      "\t[0 1 1 1 1 1 0 0 1 1 0 0 1 1 0 1 1 1 1 1 0 1 1 0 1 1 1 0 0 1 0 1 1 1 0 0 0// 1 1 0 0 1 1 0 0 0 0 0 0 1 0 0 1 0 0 0 1 1 1 0 0 1 1 0 1 0 1 0 1 0 0 0 1 0// 0 1 1 0 1 1 1 0 0 1 1 1 1 1 1 1 1 0 0 1 1 1 0 0...\n",
      "\n",
      "schedule:[10], max_iters:[100000]\n",
      "runner_name:[sa], experiment_name:[SA_Exp], attempt:[101], iteration:[17869], done:[True], time:[39.22], fitness:[485.0000]\n",
      "\t[1 0 1 0 1 0 1 1 0 1 0 1 0 1 0 1 0 1 0 1 0 1 0 1 0 1 0 1 0 1 0 1 0 1 0 1 0// 1 0 1 0 1 0 1 0 1 0 1 0 1 0 1 0 1 0 1 0 1 0 1 0 1 0 1 0 1 0 1 0 1 0 1 0 1// 0 1 0 1 0 0 1 0 1 0 1 0 1 0 1 0 1 1 0 1 0 1 0 1...\n",
      "\n",
      "***************\n",
      "*** Run END ***\n",
      "***************\n",
      "*****************\n",
      "*** Run START ***\n",
      "*****************\n",
      "schedule:[10], max_iters:[100000]\n",
      "runner_name:[sa], experiment_name:[SA_Exp], attempt:[0], iteration:[0], done:[False], time:[0.00], fitness:[257.0000]\n",
      "\t[0 1 1 1 1 1 0 0 1 1 0 0 1 1 0 1 1 1 1 1 0 1 1 0 1 1 1 0 0 1 0 1 1 1 0 0 0// 1 1 0 0 1 1 0 0 0 0 0 0 1 0 0 1 0 0 0 1 1 1 0 0 1 1 0 1 0 1 0 1 0 0 0 1 0// 0 1 1 0 1 1 1 0 0 1 1 1 1 1 1 1 1 0 0 1 1 1 0 0...\n",
      "\n",
      "schedule:[10], max_iters:[100000]\n",
      "runner_name:[sa], experiment_name:[SA_Exp], attempt:[101], iteration:[22019], done:[True], time:[51.73], fitness:[485.0000]\n",
      "\t[0 1 0 1 0 1 0 1 0 1 0 1 0 1 0 1 0 1 0 1 0 0 1 0 1 0 1 0 1 0 1 0 1 0 1 0 1// 0 0 1 0 1 0 1 0 1 0 1 0 1 0 1 0 1 0 1 0 1 0 0 1 0 1 0 1 0 1 0 1 0 1 0 1 0// 1 0 1 0 1 0 1 0 1 0 1 0 1 0 1 0 1 0 1 0 1 0 1 0...\n",
      "\n",
      "***************\n",
      "*** Run END ***\n",
      "***************\n",
      "*****************\n",
      "*** Run START ***\n",
      "*****************\n",
      "schedule:[50], max_iters:[100000]\n",
      "runner_name:[sa], experiment_name:[SA_Exp], attempt:[0], iteration:[0], done:[False], time:[0.00], fitness:[257.0000]\n",
      "\t[0 1 1 1 1 1 0 0 1 1 0 0 1 1 0 1 1 1 1 1 0 1 1 0 1 1 1 0 0 1 0 1 1 1 0 0 0// 1 1 0 0 1 1 0 0 0 0 0 0 1 0 0 1 0 0 0 1 1 1 0 0 1 1 0 1 0 1 0 1 0 0 0 1 0// 0 1 1 0 1 1 1 0 0 1 1 1 1 1 1 1 1 0 0 1 1 1 0 0...\n",
      "\n",
      "schedule:[50], max_iters:[100000]\n",
      "runner_name:[sa], experiment_name:[SA_Exp], attempt:[101], iteration:[16886], done:[True], time:[37.89], fitness:[480.0000]\n",
      "\t[0 1 0 1 0 1 0 1 0 1 0 1 0 1 0 1 0 1 0 1 0 1 0 1 0 1 0 1 0 0 1 0 1 0 1 0 1// 0 1 0 1 0 1 0 1 0 1 0 1 0 1 0 1 0 1 0 1 0 1 0 1 0 1 0 1 0 1 0 1 0 1 1 0 1// 0 1 0 1 0 1 0 1 0 1 0 1 0 1 0 1 0 1 0 0 1 0 0 1...\n",
      "\n",
      "***************\n",
      "*** Run END ***\n",
      "***************\n",
      "*****************\n",
      "*** Run START ***\n",
      "*****************\n",
      "schedule:[50], max_iters:[100000]\n",
      "runner_name:[sa], experiment_name:[SA_Exp], attempt:[0], iteration:[0], done:[False], time:[0.00], fitness:[257.0000]\n",
      "\t[0 1 1 1 1 1 0 0 1 1 0 0 1 1 0 1 1 1 1 1 0 1 1 0 1 1 1 0 0 1 0 1 1 1 0 0 0// 1 1 0 0 1 1 0 0 0 0 0 0 1 0 0 1 0 0 0 1 1 1 0 0 1 1 0 1 0 1 0 1 0 0 0 1 0// 0 1 1 0 1 1 1 0 0 1 1 1 1 1 1 1 1 0 0 1 1 1 0 0...\n",
      "\n",
      "schedule:[50], max_iters:[100000]\n",
      "runner_name:[sa], experiment_name:[SA_Exp], attempt:[101], iteration:[17095], done:[True], time:[37.14], fitness:[477.0000]\n",
      "\t[1 0 1 0 1 1 0 1 0 1 0 1 0 1 0 1 0 1 0 1 0 1 0 1 0 1 0 1 0 1 0 1 0 1 0 1 0// 1 0 0 1 0 1 0 1 0 0 1 0 1 0 1 0 1 0 1 0 1 0 1 0 1 0 1 0 1 0 1 0 0 1 0 1 0// 1 0 1 0 1 0 1 0 1 0 1 0 1 0 1 0 1 0 1 0 0 1 0 0...\n",
      "\n",
      "***************\n",
      "*** Run END ***\n",
      "***************\n",
      "*****************\n",
      "*** Run START ***\n",
      "*****************\n",
      "schedule:[100], max_iters:[100000]\n",
      "runner_name:[sa], experiment_name:[SA_Exp], attempt:[0], iteration:[0], done:[False], time:[0.00], fitness:[257.0000]\n",
      "\t[0 1 1 1 1 1 0 0 1 1 0 0 1 1 0 1 1 1 1 1 0 1 1 0 1 1 1 0 0 1 0 1 1 1 0 0 0// 1 1 0 0 1 1 0 0 0 0 0 0 1 0 0 1 0 0 0 1 1 1 0 0 1 1 0 1 0 1 0 1 0 0 0 1 0// 0 1 1 0 1 1 1 0 0 1 1 1 1 1 1 1 1 0 0 1 1 1 0 0...\n",
      "\n",
      "schedule:[100], max_iters:[100000]\n",
      "runner_name:[sa], experiment_name:[SA_Exp], attempt:[101], iteration:[19777], done:[True], time:[44.96], fitness:[485.0000]\n",
      "\t[0 1 0 1 0 1 0 1 0 1 0 1 0 1 0 1 0 1 0 1 0 1 0 1 0 1 0 1 0 1 0 1 0 1 0 1 0// 0 1 0 1 0 1 0 1 0 1 0 1 0 1 0 1 0 1 0 1 0 1 0 1 0 1 0 1 0 1 0 1 0 1 0 1 0// 1 0 1 0 1 0 1 0 1 0 1 0 1 0 1 0 1 0 1 0 1 1 0 1...\n",
      "\n",
      "***************\n",
      "*** Run END ***\n",
      "***************\n",
      "*****************\n",
      "*** Run START ***\n",
      "*****************\n",
      "schedule:[100], max_iters:[100000]\n",
      "runner_name:[sa], experiment_name:[SA_Exp], attempt:[0], iteration:[0], done:[False], time:[0.00], fitness:[257.0000]\n",
      "\t[0 1 1 1 1 1 0 0 1 1 0 0 1 1 0 1 1 1 1 1 0 1 1 0 1 1 1 0 0 1 0 1 1 1 0 0 0// 1 1 0 0 1 1 0 0 0 0 0 0 1 0 0 1 0 0 0 1 1 1 0 0 1 1 0 1 0 1 0 1 0 0 0 1 0// 0 1 1 0 1 1 1 0 0 1 1 1 1 1 1 1 1 0 0 1 1 1 0 0...\n",
      "\n",
      "schedule:[100], max_iters:[100000]\n",
      "runner_name:[sa], experiment_name:[SA_Exp], attempt:[101], iteration:[23205], done:[True], time:[54.74], fitness:[485.0000]\n",
      "\t[0 1 0 1 0 1 0 1 0 1 0 1 0 1 0 1 0 1 0 1 0 1 0 1 0 1 0 1 0 1 0 1 0 1 0 1 0// 1 0 1 0 1 0 1 0 1 0 1 0 1 0 1 0 1 0 1 0 1 0 1 0 1 0 1 0 1 0 1 0 1 0 1 0 1// 0 1 0 1 0 1 0 1 0 1 0 1 0 1 0 1 0 1 0 1 0 1 0 1...\n",
      "\n",
      "***************\n",
      "*** Run END ***\n",
      "***************\n",
      "*****************\n",
      "*** Run START ***\n",
      "*****************\n",
      "schedule:[250], max_iters:[100000]\n",
      "runner_name:[sa], experiment_name:[SA_Exp], attempt:[0], iteration:[0], done:[False], time:[0.00], fitness:[257.0000]\n",
      "\t[0 1 1 1 1 1 0 0 1 1 0 0 1 1 0 1 1 1 1 1 0 1 1 0 1 1 1 0 0 1 0 1 1 1 0 0 0// 1 1 0 0 1 1 0 0 0 0 0 0 1 0 0 1 0 0 0 1 1 1 0 0 1 1 0 1 0 1 0 1 0 0 0 1 0// 0 1 1 0 1 1 1 0 0 1 1 1 1 1 1 1 1 0 0 1 1 1 0 0...\n",
      "\n",
      "schedule:[250], max_iters:[100000]\n",
      "runner_name:[sa], experiment_name:[SA_Exp], attempt:[101], iteration:[49539], done:[True], time:[187.28], fitness:[483.0000]\n",
      "\t[1 0 1 0 1 0 1 0 1 0 1 0 1 0 1 0 1 0 1 0 1 0 1 0 1 0 1 0 0 1 0 1 0 1 0 1 0// 1 0 1 0 1 0 0 1 0 1 0 1 0 1 0 1 0 1 0 1 0 1 0 1 0 1 0 1 0 1 0 1 0 1 0 0 1// 0 1 0 1 0 1 0 1 0 1 0 1 0 1 1 0 1 0 1 0 1 0 1 0...\n",
      "\n",
      "***************\n",
      "*** Run END ***\n",
      "***************\n",
      "*****************\n",
      "*** Run START ***\n",
      "*****************\n",
      "schedule:[250], max_iters:[100000]\n",
      "runner_name:[sa], experiment_name:[SA_Exp], attempt:[0], iteration:[0], done:[False], time:[0.00], fitness:[257.0000]\n",
      "\t[0 1 1 1 1 1 0 0 1 1 0 0 1 1 0 1 1 1 1 1 0 1 1 0 1 1 1 0 0 1 0 1 1 1 0 0 0// 1 1 0 0 1 1 0 0 0 0 0 0 1 0 0 1 0 0 0 1 1 1 0 0 1 1 0 1 0 1 0 1 0 0 0 1 0// 0 1 1 0 1 1 1 0 0 1 1 1 1 1 1 1 1 0 0 1 1 1 0 0...\n",
      "\n",
      "schedule:[250], max_iters:[100000]\n",
      "runner_name:[sa], experiment_name:[SA_Exp], attempt:[101], iteration:[27340], done:[True], time:[74.07], fitness:[486.0000]\n",
      "\t[1 0 1 0 1 0 1 0 1 0 1 0 1 0 1 0 1 0 1 0 1 0 1 0 1 0 1 0 1 0 1 1 0 1 0 1 0// 1 0 1 0 1 0 1 0 1 0 1 0 1 0 1 0 1 0 1 0 1 0 1 0 1 0 1 0 1 0 1 0 1 0 1 0 1// 0 1 0 1 0 1 0 1 0 1 0 1 0 1 0 1 0 1 0 1 0 1 0 1...\n",
      "\n",
      "***************\n",
      "*** Run END ***\n",
      "***************\n",
      "Run time: 602.0394205289922\n",
      "CPU times: user 10min 4s, sys: 985 ms, total: 10min 5s\n",
      "Wall time: 10min 2s\n"
     ]
    }
   ],
   "source": [
    "%%time\n",
    "sa = mlrose_hiive.SARunner(problem, experiment_name=\"SA_Exp\", \n",
    "                           iteration_list=[100],\n",
    "                           temperature_list=[1, 10, 50, 100, 250],\n",
    "                           decay_list=[mlrose_hiive.ExpDecay,\n",
    "                                       mlrose_hiive.GeomDecay],\n",
    "                           seed=44, max_attempts=100)\n",
    "\n",
    "sa_run_stats, sa_run_curves = sa.run()   "
   ]
  },
  {
   "cell_type": "code",
   "execution_count": 24,
   "metadata": {},
   "outputs": [
    {
     "name": "stdout",
     "output_type": "stream",
     "text": [
      "482.7 486.0\n",
      "60.01470385250432\n"
     ]
    }
   ],
   "source": [
    "last_iters = sa_run_stats[sa_run_stats.Iteration != 0].reset_index()\n",
    "print(last_iters.Fitness.mean(), last_iters.Fitness.max())\n",
    "print(last_iters.Time.mean())"
   ]
  },
  {
   "cell_type": "code",
   "execution_count": 41,
   "metadata": {},
   "outputs": [
    {
     "name": "stdout",
     "output_type": "stream",
     "text": [
      "36.566883312501886\n",
      "45.470769145504164\n",
      "37.51369811700715\n",
      "49.85014865400444\n",
      "130.67202003350394\n",
      "60.01470385250432\n"
     ]
    }
   ],
   "source": [
    "print(last_iters.loc[last_iters.schedule_init_temp == 1, \"Time\"].mean())\n",
    "print(last_iters.loc[last_iters.schedule_init_temp == 10, \"Time\"].mean())\n",
    "print(last_iters.loc[last_iters.schedule_init_temp == 50, \"Time\"].mean())\n",
    "print(last_iters.loc[last_iters.schedule_init_temp == 100, \"Time\"].mean())\n",
    "print(last_iters.loc[last_iters.schedule_init_temp == 250, \"Time\"].mean())\n",
    "print(last_iters.loc[:, \"Time\"].mean())\n"
   ]
  },
  {
   "cell_type": "code",
   "execution_count": 25,
   "metadata": {},
   "outputs": [
    {
     "data": {
      "text/plain": [
       "GeomDecay(init_temp=250, decay=0.99, min_temp=0.001)"
      ]
     },
     "execution_count": 25,
     "metadata": {},
     "output_type": "execute_result"
    }
   ],
   "source": [
    "best_index_in_curve = sa_run_curves.Fitness.idxmax()\n",
    "best_decay = sa_run_curves.iloc[best_index_in_curve].Temperature\n",
    "best_curve = sa_run_curves.loc[sa_run_curves.Temperature == best_decay, :]\n",
    "best_curve.reset_index(inplace=True)\n",
    "best_decay"
   ]
  },
  {
   "cell_type": "code",
   "execution_count": 26,
   "metadata": {},
   "outputs": [
    {
     "data": {
      "text/plain": [
       "Text(0, 0.5, 'Value')"
      ]
     },
     "execution_count": 26,
     "metadata": {},
     "output_type": "execute_result"
    },
    {
     "data": {
      "image/png": "[encoded data removed]",
      "text/plain": [
       "<Figure size 864x576 with 1 Axes>"
      ]
     },
     "metadata": {
      "needs_background": "light"
     },
     "output_type": "display_data"
    }
   ],
   "source": [
    "ax = best_curve.Fitness.plot(lw=2, colormap='jet', marker='.', markersize=2, \n",
    "                             figsize=(12,8), grid=1,\n",
    "                             title='Best Simulated Annealing')\n",
    "ax.set_xlabel(\"Iterations\")\n",
    "ax.set_ylabel(\"Value\")"
   ]
  },
  {
   "cell_type": "markdown",
   "metadata": {},
   "source": [
    "## Genetic Alg"
   ]
  },
  {
   "cell_type": "code",
   "execution_count": 7,
   "metadata": {
    "scrolled": true
   },
   "outputs": [
    {
     "name": "stdout",
     "output_type": "stream",
     "text": [
      "Running ga\n",
      "*****************\n",
      "*** Run START ***\n",
      "*****************\n",
      "pop_size:[20], mutation_prob:[0.1], max_iters:[100000]\n",
      "runner_name:[ga], experiment_name:[GA_Exp], attempt:[0], iteration:[0], done:[False], time:[0.00], fitness:[257.0000]\n",
      "\t[0 1 1 1 1 1 0 0 1 1 0 0 1 1 0 1 1 1 1 1 0 1 1 0 1 1 1 0 0 1 0 1 1 1 0 0 0// 1 1 0 0 1 1 0 0 0 0 0 0 1 0 0 1 0 0 0 1 1 1 0 0 1 1 0 1 0 1 0 1 0 0 0 1 0// 0 1 1 0 1 1 1 0 0 1 1 1 1 1 1 1 1 0 0 1 1 1 0 0...\n",
      "\n",
      "pop_size:[20], mutation_prob:[0.1], max_iters:[100000]\n",
      "runner_name:[ga], experiment_name:[GA_Exp], attempt:[101], iteration:[1026], done:[True], time:[4.19], fitness:[379.0000]\n",
      "\t[0. 1. 0. 1. 0. 0. 1. 1. 0. 0. 1. 0. 1. 1. 0. 0. 1. 0. 1. 1. 0. 0. 0. 1.// 0. 1. 0. 0. 1. 0. 1. 0. 1. 0. 0. 0. 1. 1. 0. 0. 1. 1. 0. 1. 0. 0. 1. 0.// 0. 1. 0. 1. 0. 0. 1. 0. 1. 0. 1. 1. 0. 1. 0. 1. 0. ...\n",
      "\n",
      "***************\n",
      "*** Run END ***\n",
      "***************\n",
      "*****************\n",
      "*** Run START ***\n",
      "*****************\n",
      "pop_size:[20], mutation_prob:[0.25], max_iters:[100000]\n",
      "runner_name:[ga], experiment_name:[GA_Exp], attempt:[0], iteration:[0], done:[False], time:[0.00], fitness:[257.0000]\n",
      "\t[0 1 1 1 1 1 0 0 1 1 0 0 1 1 0 1 1 1 1 1 0 1 1 0 1 1 1 0 0 1 0 1 1 1 0 0 0// 1 1 0 0 1 1 0 0 0 0 0 0 1 0 0 1 0 0 0 1 1 1 0 0 1 1 0 1 0 1 0 1 0 0 0 1 0// 0 1 1 0 1 1 1 0 0 1 1 1 1 1 1 1 1 0 0 1 1 1 0 0...\n",
      "\n",
      "pop_size:[20], mutation_prob:[0.25], max_iters:[100000]\n",
      "runner_name:[ga], experiment_name:[GA_Exp], attempt:[101], iteration:[824], done:[True], time:[3.29], fitness:[409.0000]\n",
      "\t[1. 0. 1. 0. 1. 0. 1. 0. 1. 0. 0. 1. 1. 0. 1. 0. 1. 0. 1. 0. 1. 0. 0. 1.// 0. 1. 0. 1. 0. 0. 1. 1. 0. 0. 1. 0. 1. 0. 1. 1. 0. 1. 0. 0. 1. 0. 1. 1.// 0. 1. 0. 1. 0. 1. 0. 1. 1. 0. 1. 1. 0. 1. 0. 1. 0. ...\n",
      "\n",
      "***************\n",
      "*** Run END ***\n",
      "***************\n",
      "*****************\n",
      "*** Run START ***\n",
      "*****************\n",
      "pop_size:[20], mutation_prob:[0.5], max_iters:[100000]\n",
      "runner_name:[ga], experiment_name:[GA_Exp], attempt:[0], iteration:[0], done:[False], time:[0.00], fitness:[257.0000]\n",
      "\t[0 1 1 1 1 1 0 0 1 1 0 0 1 1 0 1 1 1 1 1 0 1 1 0 1 1 1 0 0 1 0 1 1 1 0 0 0// 1 1 0 0 1 1 0 0 0 0 0 0 1 0 0 1 0 0 0 1 1 1 0 0 1 1 0 1 0 1 0 1 0 0 0 1 0// 0 1 1 0 1 1 1 0 0 1 1 1 1 1 1 1 1 0 0 1 1 1 0 0...\n",
      "\n",
      "pop_size:[20], mutation_prob:[0.5], max_iters:[100000]\n",
      "runner_name:[ga], experiment_name:[GA_Exp], attempt:[101], iteration:[504], done:[True], time:[2.07], fitness:[384.0000]\n",
      "\t[0. 1. 0. 1. 0. 0. 1. 1. 0. 0. 1. 0. 1. 1. 0. 0. 1. 0. 1. 1. 0. 1. 0. 1.// 0. 1. 0. 0. 1. 0. 1. 0. 1. 1. 1. 0. 1. 1. 0. 0. 1. 0. 1. 1. 0. 0. 1. 0.// 1. 0. 0. 1. 0. 0. 1. 0. 1. 0. 1. 1. 0. 0. 0. 1. 0. ...\n",
      "\n",
      "***************\n",
      "*** Run END ***\n",
      "***************\n",
      "*****************\n",
      "*** Run START ***\n",
      "*****************\n",
      "pop_size:[50], mutation_prob:[0.1], max_iters:[100000]\n",
      "runner_name:[ga], experiment_name:[GA_Exp], attempt:[0], iteration:[0], done:[False], time:[0.00], fitness:[257.0000]\n",
      "\t[0 1 1 1 1 1 0 0 1 1 0 0 1 1 0 1 1 1 1 1 0 1 1 0 1 1 1 0 0 1 0 1 1 1 0 0 0// 1 1 0 0 1 1 0 0 0 0 0 0 1 0 0 1 0 0 0 1 1 1 0 0 1 1 0 1 0 1 0 1 0 0 0 1 0// 0 1 1 0 1 1 1 0 0 1 1 1 1 1 1 1 1 0 0 1 1 1 0 0...\n",
      "\n",
      "pop_size:[50], mutation_prob:[0.1], max_iters:[100000]\n",
      "runner_name:[ga], experiment_name:[GA_Exp], attempt:[101], iteration:[747], done:[True], time:[5.63], fitness:[399.0000]\n",
      "\t[0. 1. 0. 1. 1. 0. 0. 1. 0. 1. 0. 1. 1. 0. 1. 0. 1. 0. 0. 1. 0. 1. 0. 0.// 1. 0. 1. 1. 0. 1. 1. 0. 1. 0. 1. 0. 1. 0. 1. 0. 1. 0. 1. 1. 0. 1. 0. 0.// 1. 1. 0. 1. 0. 0. 1. 0. 0. 1. 0. 1. 0. 0. 1. 0. 1. ...\n",
      "\n",
      "***************\n",
      "*** Run END ***\n",
      "***************\n",
      "*****************\n",
      "*** Run START ***\n",
      "*****************\n",
      "pop_size:[50], mutation_prob:[0.25], max_iters:[100000]\n",
      "runner_name:[ga], experiment_name:[GA_Exp], attempt:[0], iteration:[0], done:[False], time:[0.00], fitness:[257.0000]\n",
      "\t[0 1 1 1 1 1 0 0 1 1 0 0 1 1 0 1 1 1 1 1 0 1 1 0 1 1 1 0 0 1 0 1 1 1 0 0 0// 1 1 0 0 1 1 0 0 0 0 0 0 1 0 0 1 0 0 0 1 1 1 0 0 1 1 0 1 0 1 0 1 0 0 0 1 0// 0 1 1 0 1 1 1 0 0 1 1 1 1 1 1 1 1 0 0 1 1 1 0 0...\n",
      "\n",
      "pop_size:[50], mutation_prob:[0.25], max_iters:[100000]\n",
      "runner_name:[ga], experiment_name:[GA_Exp], attempt:[101], iteration:[556], done:[True], time:[4.24], fitness:[421.0000]\n",
      "\t[1. 0. 1. 1. 0. 1. 0. 1. 0. 1. 0. 1. 1. 0. 1. 0. 1. 1. 0. 1. 0. 1. 0. 1.// 0. 0. 1. 0. 1. 0. 0. 1. 0. 1. 0. 1. 0. 1. 0. 1. 0. 1. 0. 1. 0. 1. 1. 0.// 1. 0. 1. 0. 1. 0. 0. 1. 0. 1. 0. 1. 0. 1. 0. 1. 0. ...\n",
      "\n",
      "***************\n",
      "*** Run END ***\n",
      "***************\n",
      "*****************\n",
      "*** Run START ***\n",
      "*****************\n",
      "pop_size:[50], mutation_prob:[0.5], max_iters:[100000]\n",
      "runner_name:[ga], experiment_name:[GA_Exp], attempt:[0], iteration:[0], done:[False], time:[0.00], fitness:[257.0000]\n",
      "\t[0 1 1 1 1 1 0 0 1 1 0 0 1 1 0 1 1 1 1 1 0 1 1 0 1 1 1 0 0 1 0 1 1 1 0 0 0// 1 1 0 0 1 1 0 0 0 0 0 0 1 0 0 1 0 0 0 1 1 1 0 0 1 1 0 1 0 1 0 1 0 0 0 1 0// 0 1 1 0 1 1 1 0 0 1 1 1 1 1 1 1 1 0 0 1 1 1 0 0...\n",
      "\n",
      "pop_size:[50], mutation_prob:[0.5], max_iters:[100000]\n",
      "runner_name:[ga], experiment_name:[GA_Exp], attempt:[101], iteration:[536], done:[True], time:[4.16], fitness:[424.0000]\n",
      "\t[0. 1. 0. 1. 1. 0. 0. 1. 0. 1. 0. 1. 1. 0. 1. 0. 1. 0. 0. 1. 0. 1. 0. 1.// 1. 0. 1. 0. 1. 0. 1. 0. 1. 1. 0. 0. 1. 0. 0. 1. 0. 0. 1. 0. 1. 1. 0. 1.// 0. 1. 0. 0. 1. 0. 1. 0. 1. 0. 1. 0. 1. 1. 0. 1. 0. ...\n",
      "\n",
      "***************\n",
      "*** Run END ***\n",
      "***************\n",
      "*****************\n",
      "*** Run START ***\n",
      "*****************\n",
      "pop_size:[100], mutation_prob:[0.1], max_iters:[100000]\n",
      "runner_name:[ga], experiment_name:[GA_Exp], attempt:[0], iteration:[0], done:[False], time:[0.00], fitness:[257.0000]\n",
      "\t[0 1 1 1 1 1 0 0 1 1 0 0 1 1 0 1 1 1 1 1 0 1 1 0 1 1 1 0 0 1 0 1 1 1 0 0 0// 1 1 0 0 1 1 0 0 0 0 0 0 1 0 0 1 0 0 0 1 1 1 0 0 1 1 0 1 0 1 0 1 0 0 0 1 0// 0 1 1 0 1 1 1 0 0 1 1 1 1 1 1 1 1 0 0 1 1 1 0 0...\n",
      "\n",
      "pop_size:[100], mutation_prob:[0.1], max_iters:[100000]\n",
      "runner_name:[ga], experiment_name:[GA_Exp], attempt:[101], iteration:[634], done:[True], time:[8.81], fitness:[418.0000]\n",
      "\t[1. 0. 1. 0. 1. 0. 1. 0. 1. 0. 0. 1. 0. 1. 1. 0. 1. 0. 1. 0. 1. 0. 0. 1.// 0. 1. 1. 0. 0. 1. 0. 0. 1. 0. 0. 1. 0. 1. 0. 1. 0. 1. 0. 0. 1. 0. 1. 0.// 1. 0. 0. 1. 1. 0. 0. 1. 0. 1. 0. 1. 1. 0. 0. 1. 1. ...\n",
      "\n",
      "***************\n",
      "*** Run END ***\n",
      "***************\n",
      "*****************\n",
      "*** Run START ***\n",
      "*****************\n",
      "pop_size:[100], mutation_prob:[0.25], max_iters:[100000]\n",
      "runner_name:[ga], experiment_name:[GA_Exp], attempt:[0], iteration:[0], done:[False], time:[0.00], fitness:[257.0000]\n",
      "\t[0 1 1 1 1 1 0 0 1 1 0 0 1 1 0 1 1 1 1 1 0 1 1 0 1 1 1 0 0 1 0 1 1 1 0 0 0// 1 1 0 0 1 1 0 0 0 0 0 0 1 0 0 1 0 0 0 1 1 1 0 0 1 1 0 1 0 1 0 1 0 0 0 1 0// 0 1 1 0 1 1 1 0 0 1 1 1 1 1 1 1 1 0 0 1 1 1 0 0...\n",
      "\n",
      "pop_size:[100], mutation_prob:[0.25], max_iters:[100000]\n",
      "runner_name:[ga], experiment_name:[GA_Exp], attempt:[101], iteration:[478], done:[True], time:[6.85], fitness:[420.0000]\n",
      "\t[0. 1. 0. 1. 1. 0. 0. 1. 0. 1. 0. 1. 1. 0. 1. 0. 1. 0. 1. 1. 0. 1. 0. 0.// 1. 0. 1. 1. 0. 1. 1. 0. 1. 0. 1. 0. 1. 0. 1. 1. 0. 0. 1. 0. 0. 1. 0. 1.// 0. 1. 0. 1. 0. 1. 0. 1. 0. 1. 0. 0. 1. 0. 1. 0. 1. ...\n",
      "\n",
      "***************\n",
      "*** Run END ***\n",
      "***************\n",
      "*****************\n",
      "*** Run START ***\n",
      "*****************\n",
      "pop_size:[100], mutation_prob:[0.5], max_iters:[100000]\n",
      "runner_name:[ga], experiment_name:[GA_Exp], attempt:[0], iteration:[0], done:[False], time:[0.00], fitness:[257.0000]\n",
      "\t[0 1 1 1 1 1 0 0 1 1 0 0 1 1 0 1 1 1 1 1 0 1 1 0 1 1 1 0 0 1 0 1 1 1 0 0 0// 1 1 0 0 1 1 0 0 0 0 0 0 1 0 0 1 0 0 0 1 1 1 0 0 1 1 0 1 0 1 0 1 0 0 0 1 0// 0 1 1 0 1 1 1 0 0 1 1 1 1 1 1 1 1 0 0 1 1 1 0 0...\n",
      "\n",
      "pop_size:[100], mutation_prob:[0.5], max_iters:[100000]\n",
      "runner_name:[ga], experiment_name:[GA_Exp], attempt:[101], iteration:[422], done:[True], time:[6.26], fitness:[428.0000]\n",
      "\t[1. 0. 1. 0. 1. 0. 1. 0. 1. 0. 0. 1. 0. 1. 0. 0. 1. 0. 1. 1. 0. 1. 0. 1.// 1. 0. 1. 0. 1. 0. 0. 1. 0. 1. 0. 1. 0. 1. 0. 1. 0. 0. 1. 1. 0. 1. 0. 1.// 0. 1. 1. 0. 1. 0. 0. 1. 0. 1. 0. 0. 1. 0. 1. 0. 1. ...\n",
      "\n",
      "***************\n",
      "*** Run END ***\n",
      "***************\n",
      "Run time: 45.59833047899883\n",
      "CPU times: user 45.6 s, sys: 7.9 ms, total: 45.6 s\n",
      "Wall time: 45.6 s\n"
     ]
    }
   ],
   "source": [
    "%%time\n",
    "ga = mlrose_hiive.GARunner(problem=problem,\n",
    "                          experiment_name=\"GA_Exp\",\n",
    "                          seed=44,\n",
    "                          iteration_list=[100],\n",
    "                          population_sizes=[20,50,100],\n",
    "                          mutation_rates=[0.1, 0.25, 0.5])\n",
    "ga_run_stats, ga_run_curves = ga.run()   "
   ]
  },
  {
   "cell_type": "code",
   "execution_count": 44,
   "metadata": {},
   "outputs": [
    {
     "data": {
      "text/html": [
       "<div>\n",
       "<style scoped>\n",
       "    .dataframe tbody tr th:only-of-type {\n",
       "        vertical-align: middle;\n",
       "    }\n",
       "\n",
       "    .dataframe tbody tr th {\n",
       "        vertical-align: top;\n",
       "    }\n",
       "\n",
       "    .dataframe thead th {\n",
       "        text-align: right;\n",
       "    }\n",
       "</style>\n",
       "<table border=\"1\" class=\"dataframe\">\n",
       "  <thead>\n",
       "    <tr style=\"text-align: right;\">\n",
       "      <th></th>\n",
       "      <th>index</th>\n",
       "      <th>Iteration</th>\n",
       "      <th>Fitness</th>\n",
       "      <th>Time</th>\n",
       "      <th>State</th>\n",
       "      <th>Population Size</th>\n",
       "      <th>Mutation Rate</th>\n",
       "      <th>max_iters</th>\n",
       "    </tr>\n",
       "  </thead>\n",
       "  <tbody>\n",
       "    <tr>\n",
       "      <th>0</th>\n",
       "      <td>1</td>\n",
       "      <td>100000</td>\n",
       "      <td>379.0</td>\n",
       "      <td>4.185149</td>\n",
       "      <td>[0.0, 1.0, 0.0, 1.0, 0.0, 0.0, 1.0, 1.0, 0.0, ...</td>\n",
       "      <td>20</td>\n",
       "      <td>0.10</td>\n",
       "      <td>100000</td>\n",
       "    </tr>\n",
       "    <tr>\n",
       "      <th>1</th>\n",
       "      <td>3</td>\n",
       "      <td>100000</td>\n",
       "      <td>409.0</td>\n",
       "      <td>3.291087</td>\n",
       "      <td>[1.0, 0.0, 1.0, 0.0, 1.0, 0.0, 1.0, 0.0, 1.0, ...</td>\n",
       "      <td>20</td>\n",
       "      <td>0.25</td>\n",
       "      <td>100000</td>\n",
       "    </tr>\n",
       "    <tr>\n",
       "      <th>2</th>\n",
       "      <td>5</td>\n",
       "      <td>100000</td>\n",
       "      <td>384.0</td>\n",
       "      <td>2.072852</td>\n",
       "      <td>[0.0, 1.0, 0.0, 1.0, 0.0, 0.0, 1.0, 1.0, 0.0, ...</td>\n",
       "      <td>20</td>\n",
       "      <td>0.50</td>\n",
       "      <td>100000</td>\n",
       "    </tr>\n",
       "    <tr>\n",
       "      <th>3</th>\n",
       "      <td>7</td>\n",
       "      <td>100000</td>\n",
       "      <td>399.0</td>\n",
       "      <td>5.630646</td>\n",
       "      <td>[0.0, 1.0, 0.0, 1.0, 1.0, 0.0, 0.0, 1.0, 0.0, ...</td>\n",
       "      <td>50</td>\n",
       "      <td>0.10</td>\n",
       "      <td>100000</td>\n",
       "    </tr>\n",
       "    <tr>\n",
       "      <th>4</th>\n",
       "      <td>9</td>\n",
       "      <td>100000</td>\n",
       "      <td>421.0</td>\n",
       "      <td>4.239982</td>\n",
       "      <td>[1.0, 0.0, 1.0, 1.0, 0.0, 1.0, 0.0, 1.0, 0.0, ...</td>\n",
       "      <td>50</td>\n",
       "      <td>0.25</td>\n",
       "      <td>100000</td>\n",
       "    </tr>\n",
       "    <tr>\n",
       "      <th>5</th>\n",
       "      <td>11</td>\n",
       "      <td>100000</td>\n",
       "      <td>424.0</td>\n",
       "      <td>4.156302</td>\n",
       "      <td>[0.0, 1.0, 0.0, 1.0, 1.0, 0.0, 0.0, 1.0, 0.0, ...</td>\n",
       "      <td>50</td>\n",
       "      <td>0.50</td>\n",
       "      <td>100000</td>\n",
       "    </tr>\n",
       "    <tr>\n",
       "      <th>6</th>\n",
       "      <td>13</td>\n",
       "      <td>100000</td>\n",
       "      <td>418.0</td>\n",
       "      <td>8.809485</td>\n",
       "      <td>[1.0, 0.0, 1.0, 0.0, 1.0, 0.0, 1.0, 0.0, 1.0, ...</td>\n",
       "      <td>100</td>\n",
       "      <td>0.10</td>\n",
       "      <td>100000</td>\n",
       "    </tr>\n",
       "    <tr>\n",
       "      <th>7</th>\n",
       "      <td>15</td>\n",
       "      <td>100000</td>\n",
       "      <td>420.0</td>\n",
       "      <td>6.848414</td>\n",
       "      <td>[0.0, 1.0, 0.0, 1.0, 1.0, 0.0, 0.0, 1.0, 0.0, ...</td>\n",
       "      <td>100</td>\n",
       "      <td>0.25</td>\n",
       "      <td>100000</td>\n",
       "    </tr>\n",
       "    <tr>\n",
       "      <th>8</th>\n",
       "      <td>17</td>\n",
       "      <td>100000</td>\n",
       "      <td>428.0</td>\n",
       "      <td>6.256343</td>\n",
       "      <td>[1.0, 0.0, 1.0, 0.0, 1.0, 0.0, 1.0, 0.0, 1.0, ...</td>\n",
       "      <td>100</td>\n",
       "      <td>0.50</td>\n",
       "      <td>100000</td>\n",
       "    </tr>\n",
       "  </tbody>\n",
       "</table>\n",
       "</div>"
      ],
      "text/plain": [
       "   index  Iteration  Fitness      Time  \\\n",
       "0      1     100000    379.0  4.185149   \n",
       "1      3     100000    409.0  3.291087   \n",
       "2      5     100000    384.0  2.072852   \n",
       "3      7     100000    399.0  5.630646   \n",
       "4      9     100000    421.0  4.239982   \n",
       "5     11     100000    424.0  4.156302   \n",
       "6     13     100000    418.0  8.809485   \n",
       "7     15     100000    420.0  6.848414   \n",
       "8     17     100000    428.0  6.256343   \n",
       "\n",
       "                                               State  Population Size  \\\n",
       "0  [0.0, 1.0, 0.0, 1.0, 0.0, 0.0, 1.0, 1.0, 0.0, ...               20   \n",
       "1  [1.0, 0.0, 1.0, 0.0, 1.0, 0.0, 1.0, 0.0, 1.0, ...               20   \n",
       "2  [0.0, 1.0, 0.0, 1.0, 0.0, 0.0, 1.0, 1.0, 0.0, ...               20   \n",
       "3  [0.0, 1.0, 0.0, 1.0, 1.0, 0.0, 0.0, 1.0, 0.0, ...               50   \n",
       "4  [1.0, 0.0, 1.0, 1.0, 0.0, 1.0, 0.0, 1.0, 0.0, ...               50   \n",
       "5  [0.0, 1.0, 0.0, 1.0, 1.0, 0.0, 0.0, 1.0, 0.0, ...               50   \n",
       "6  [1.0, 0.0, 1.0, 0.0, 1.0, 0.0, 1.0, 0.0, 1.0, ...              100   \n",
       "7  [0.0, 1.0, 0.0, 1.0, 1.0, 0.0, 0.0, 1.0, 0.0, ...              100   \n",
       "8  [1.0, 0.0, 1.0, 0.0, 1.0, 0.0, 1.0, 0.0, 1.0, ...              100   \n",
       "\n",
       "   Mutation Rate  max_iters  \n",
       "0           0.10     100000  \n",
       "1           0.25     100000  \n",
       "2           0.50     100000  \n",
       "3           0.10     100000  \n",
       "4           0.25     100000  \n",
       "5           0.50     100000  \n",
       "6           0.10     100000  \n",
       "7           0.25     100000  \n",
       "8           0.50     100000  "
      ]
     },
     "execution_count": 44,
     "metadata": {},
     "output_type": "execute_result"
    }
   ],
   "source": [
    "last_iters"
   ]
  },
  {
   "cell_type": "code",
   "execution_count": null,
   "metadata": {},
   "outputs": [],
   "source": []
  },
  {
   "cell_type": "code",
   "execution_count": 50,
   "metadata": {},
   "outputs": [
    {
     "name": "stdout",
     "output_type": "stream",
     "text": [
      "Max and mean\n",
      "428.0 409.1111111111111 5.054473384553502\n",
      "Mutation Rate\n",
      "0.10    398.666667\n",
      "0.25    416.666667\n",
      "0.50    412.000000\n",
      "Name: Fitness, dtype: float64\n",
      "Population Size\n",
      "20     390.666667\n",
      "50     414.666667\n",
      "100    422.000000\n",
      "Name: Fitness, dtype: float64\n",
      "Population Size\n",
      "20     3.183029\n",
      "50     4.675644\n",
      "100    7.304747\n",
      "Name: Time, dtype: float64\n"
     ]
    }
   ],
   "source": [
    "last_iters = ga_run_stats[ga_run_stats.Iteration != 0].reset_index()\n",
    "print(\"Max and mean\")\n",
    "print(last_iters.Fitness.max(), last_iters.Fitness.mean(), last_iters.Time.mean())\n",
    "print(last_iters.groupby(\"Mutation Rate\").Fitness.mean())\n",
    "print(last_iters.groupby(\"Population Size\").Fitness.mean())\n",
    "print(last_iters.groupby(\"Population Size\").Time.mean())"
   ]
  },
  {
   "cell_type": "markdown",
   "metadata": {},
   "source": [
    "## MIMIC"
   ]
  },
  {
   "cell_type": "code",
   "execution_count": 9,
   "metadata": {
    "scrolled": true
   },
   "outputs": [
    {
     "name": "stdout",
     "output_type": "stream",
     "text": [
      "Running mimic\n",
      "*****************\n",
      "*** Run START ***\n",
      "*****************\n",
      "use_fast_mimic:[True], pop_size:[20], keep_pct:[0.25], max_iters:[100000]\n",
      "runner_name:[mimic], experiment_name:[MMC_Exp], attempt:[0], iteration:[0], done:[False], time:[0.00], fitness:[257.0000]\n",
      "\t[0 1 1 1 1 1 0 0 1 1 0 0 1 1 0 1 1 1 1 1 0 1 1 0 1 1 1 0 0 1 0 1 1 1 0 0 0// 1 1 0 0 1 1 0 0 0 0 0 0 1 0 0 1 0 0 0 1 1 1 0 0 1 1 0 1 0 1 0 1 0 0 0 1 0// 0 1 1 0 1 1 1 0 0 1 1 1 1 1 1 1 1 0 0 1 1 1 0 0...\n",
      "\n",
      "use_fast_mimic:[True], pop_size:[20], keep_pct:[0.25], max_iters:[100000]\n",
      "runner_name:[mimic], experiment_name:[MMC_Exp], attempt:[101], iteration:[101], done:[True], time:[24.62], fitness:[275.0000]\n",
      "\t[0. 1. 0. 0. 0. 1. 0. 0. 0. 0. 1. 0. 1. 0. 1. 0. 1. 0. 0. 1. 0. 1. 0. 1.// 1. 0. 0. 0. 1. 0. 0. 0. 0. 0. 1. 0. 1. 1. 1. 1. 0. 0. 1. 0. 1. 0. 1. 0.// 0. 1. 0. 1. 0. 0. 1. 1. 1. 0. 1. 0. 1. 1. 0. 1. 1. ...\n",
      "\n",
      "***************\n",
      "*** Run END ***\n",
      "***************\n",
      "*****************\n",
      "*** Run START ***\n",
      "*****************\n",
      "use_fast_mimic:[True], pop_size:[20], keep_pct:[0.5], max_iters:[100000]\n",
      "runner_name:[mimic], experiment_name:[MMC_Exp], attempt:[0], iteration:[0], done:[False], time:[0.00], fitness:[257.0000]\n",
      "\t[0 1 1 1 1 1 0 0 1 1 0 0 1 1 0 1 1 1 1 1 0 1 1 0 1 1 1 0 0 1 0 1 1 1 0 0 0// 1 1 0 0 1 1 0 0 0 0 0 0 1 0 0 1 0 0 0 1 1 1 0 0 1 1 0 1 0 1 0 1 0 0 0 1 0// 0 1 1 0 1 1 1 0 0 1 1 1 1 1 1 1 1 0 0 1 1 1 0 0...\n",
      "\n",
      "use_fast_mimic:[True], pop_size:[20], keep_pct:[0.5], max_iters:[100000]\n",
      "runner_name:[mimic], experiment_name:[MMC_Exp], attempt:[101], iteration:[105], done:[True], time:[25.04], fitness:[293.0000]\n",
      "\t[0. 1. 0. 0. 0. 0. 1. 0. 1. 1. 1. 0. 1. 0. 0. 0. 1. 1. 1. 1. 1. 0. 0. 1.// 1. 0. 0. 1. 1. 1. 1. 1. 0. 1. 1. 1. 1. 0. 1. 1. 0. 1. 1. 0. 0. 0. 1. 0.// 1. 0. 1. 0. 1. 1. 1. 0. 0. 0. 0. 1. 0. 1. 1. 1. 1. ...\n",
      "\n",
      "***************\n",
      "*** Run END ***\n",
      "***************\n",
      "*****************\n",
      "*** Run START ***\n",
      "*****************\n",
      "use_fast_mimic:[True], pop_size:[20], keep_pct:[0.75], max_iters:[100000]\n",
      "runner_name:[mimic], experiment_name:[MMC_Exp], attempt:[0], iteration:[0], done:[False], time:[0.00], fitness:[257.0000]\n",
      "\t[0 1 1 1 1 1 0 0 1 1 0 0 1 1 0 1 1 1 1 1 0 1 1 0 1 1 1 0 0 1 0 1 1 1 0 0 0// 1 1 0 0 1 1 0 0 0 0 0 0 1 0 0 1 0 0 0 1 1 1 0 0 1 1 0 1 0 1 0 1 0 0 0 1 0// 0 1 1 0 1 1 1 0 0 1 1 1 1 1 1 1 1 0 0 1 1 1 0 0...\n",
      "\n",
      "use_fast_mimic:[True], pop_size:[20], keep_pct:[0.75], max_iters:[100000]\n",
      "runner_name:[mimic], experiment_name:[MMC_Exp], attempt:[101], iteration:[134], done:[True], time:[34.07], fitness:[291.0000]\n",
      "\t[0. 0. 1. 0. 0. 1. 0. 0. 1. 0. 0. 1. 0. 0. 1. 0. 0. 1. 0. 0. 0. 1. 1. 1.// 0. 1. 1. 1. 1. 0. 1. 0. 1. 0. 0. 0. 1. 0. 0. 1. 0. 1. 0. 1. 1. 1. 1. 0.// 0. 1. 1. 0. 0. 1. 0. 1. 1. 0. 0. 0. 1. 0. 0. 1. 1. ...\n",
      "\n",
      "***************\n",
      "*** Run END ***\n",
      "***************\n",
      "*****************\n",
      "*** Run START ***\n",
      "*****************\n",
      "use_fast_mimic:[True], pop_size:[50], keep_pct:[0.25], max_iters:[100000]\n",
      "runner_name:[mimic], experiment_name:[MMC_Exp], attempt:[0], iteration:[0], done:[False], time:[0.00], fitness:[257.0000]\n",
      "\t[0 1 1 1 1 1 0 0 1 1 0 0 1 1 0 1 1 1 1 1 0 1 1 0 1 1 1 0 0 1 0 1 1 1 0 0 0// 1 1 0 0 1 1 0 0 0 0 0 0 1 0 0 1 0 0 0 1 1 1 0 0 1 1 0 1 0 1 0 1 0 0 0 1 0// 0 1 1 0 1 1 1 0 0 1 1 1 1 1 1 1 1 0 0 1 1 1 0 0...\n",
      "\n",
      "use_fast_mimic:[True], pop_size:[50], keep_pct:[0.25], max_iters:[100000]\n",
      "runner_name:[mimic], experiment_name:[MMC_Exp], attempt:[101], iteration:[135], done:[True], time:[62.50], fitness:[309.0000]\n",
      "\t[0. 0. 1. 1. 1. 0. 0. 1. 1. 0. 0. 1. 0. 1. 0. 1. 1. 1. 1. 0. 1. 0. 0. 0.// 1. 0. 1. 0. 1. 1. 1. 1. 0. 1. 0. 1. 0. 1. 1. 1. 0. 1. 0. 1. 0. 1. 0. 1.// 1. 1. 1. 1. 1. 0. 0. 1. 0. 0. 1. 0. 0. 0. 1. 1. 1. ...\n",
      "\n",
      "***************\n",
      "*** Run END ***\n",
      "***************\n",
      "*****************\n",
      "*** Run START ***\n",
      "*****************\n",
      "use_fast_mimic:[True], pop_size:[50], keep_pct:[0.5], max_iters:[100000]\n",
      "runner_name:[mimic], experiment_name:[MMC_Exp], attempt:[0], iteration:[0], done:[False], time:[0.00], fitness:[257.0000]\n",
      "\t[0 1 1 1 1 1 0 0 1 1 0 0 1 1 0 1 1 1 1 1 0 1 1 0 1 1 1 0 0 1 0 1 1 1 0 0 0// 1 1 0 0 1 1 0 0 0 0 0 0 1 0 0 1 0 0 0 1 1 1 0 0 1 1 0 1 0 1 0 1 0 0 0 1 0// 0 1 1 0 1 1 1 0 0 1 1 1 1 1 1 1 1 0 0 1 1 1 0 0...\n",
      "\n",
      "use_fast_mimic:[True], pop_size:[50], keep_pct:[0.5], max_iters:[100000]\n",
      "runner_name:[mimic], experiment_name:[MMC_Exp], attempt:[101], iteration:[118], done:[True], time:[55.28], fitness:[317.0000]\n",
      "\t[1. 0. 1. 1. 0. 0. 0. 1. 0. 0. 1. 0. 0. 0. 0. 0. 1. 0. 1. 0. 1. 1. 1. 0.// 1. 0. 0. 1. 1. 0. 0. 1. 1. 1. 0. 1. 0. 1. 0. 1. 1. 1. 1. 1. 1. 0. 0. 1.// 0. 1. 0. 0. 1. 1. 1. 1. 1. 0. 1. 0. 1. 1. 0. 1. 1. ...\n",
      "\n",
      "***************\n",
      "*** Run END ***\n",
      "***************\n",
      "*****************\n",
      "*** Run START ***\n",
      "*****************\n",
      "use_fast_mimic:[True], pop_size:[50], keep_pct:[0.75], max_iters:[100000]\n",
      "runner_name:[mimic], experiment_name:[MMC_Exp], attempt:[0], iteration:[0], done:[False], time:[0.00], fitness:[257.0000]\n",
      "\t[0 1 1 1 1 1 0 0 1 1 0 0 1 1 0 1 1 1 1 1 0 1 1 0 1 1 1 0 0 1 0 1 1 1 0 0 0// 1 1 0 0 1 1 0 0 0 0 0 0 1 0 0 1 0 0 0 1 1 1 0 0 1 1 0 1 0 1 0 1 0 0 0 1 0// 0 1 1 0 1 1 1 0 0 1 1 1 1 1 1 1 1 0 0 1 1 1 0 0...\n",
      "\n",
      "use_fast_mimic:[True], pop_size:[50], keep_pct:[0.75], max_iters:[100000]\n",
      "runner_name:[mimic], experiment_name:[MMC_Exp], attempt:[101], iteration:[174], done:[True], time:[72.07], fitness:[321.0000]\n",
      "\t[0. 1. 0. 1. 1. 0. 1. 0. 1. 0. 0. 0. 0. 1. 1. 0. 1. 1. 0. 0. 1. 1. 0. 1.// 0. 1. 1. 0. 1. 0. 1. 0. 1. 0. 0. 1. 1. 1. 0. 1. 0. 1. 0. 1. 0. 0. 1. 0.// 0. 1. 1. 0. 0. 1. 0. 1. 0. 1. 1. 0. 1. 1. 0. 0. 1. ...\n",
      "\n",
      "***************\n",
      "*** Run END ***\n",
      "***************\n",
      "*****************\n",
      "*** Run START ***\n",
      "*****************\n",
      "use_fast_mimic:[True], pop_size:[100], keep_pct:[0.25], max_iters:[100000]\n",
      "runner_name:[mimic], experiment_name:[MMC_Exp], attempt:[0], iteration:[0], done:[False], time:[0.00], fitness:[257.0000]\n",
      "\t[0 1 1 1 1 1 0 0 1 1 0 0 1 1 0 1 1 1 1 1 0 1 1 0 1 1 1 0 0 1 0 1 1 1 0 0 0// 1 1 0 0 1 1 0 0 0 0 0 0 1 0 0 1 0 0 0 1 1 1 0 0 1 1 0 1 0 1 0 1 0 0 0 1 0// 0 1 1 0 1 1 1 0 0 1 1 1 1 1 1 1 1 0 0 1 1 1 0 0...\n",
      "\n",
      "use_fast_mimic:[True], pop_size:[100], keep_pct:[0.25], max_iters:[100000]\n",
      "runner_name:[mimic], experiment_name:[MMC_Exp], attempt:[101], iteration:[172], done:[True], time:[108.57], fitness:[355.0000]\n",
      "\t[0. 1. 0. 1. 0. 0. 0. 1. 1. 0. 1. 0. 1. 0. 0. 0. 1. 0. 0. 1. 1. 1. 0. 1.// 0. 1. 0. 1. 0. 1. 0. 1. 1. 0. 1. 1. 0. 1. 1. 1. 0. 1. 0. 0. 1. 0. 1. 0.// 1. 1. 1. 0. 0. 1. 0. 1. 1. 1. 1. 1. 0. 1. 1. 0. 1. ...\n",
      "\n",
      "***************\n",
      "*** Run END ***\n",
      "***************\n",
      "*****************\n",
      "*** Run START ***\n",
      "*****************\n",
      "use_fast_mimic:[True], pop_size:[100], keep_pct:[0.5], max_iters:[100000]\n",
      "runner_name:[mimic], experiment_name:[MMC_Exp], attempt:[0], iteration:[0], done:[False], time:[0.00], fitness:[257.0000]\n",
      "\t[0 1 1 1 1 1 0 0 1 1 0 0 1 1 0 1 1 1 1 1 0 1 1 0 1 1 1 0 0 1 0 1 1 1 0 0 0// 1 1 0 0 1 1 0 0 0 0 0 0 1 0 0 1 0 0 0 1 1 1 0 0 1 1 0 1 0 1 0 1 0 0 0 1 0// 0 1 1 0 1 1 1 0 0 1 1 1 1 1 1 1 1 0 0 1 1 1 0 0...\n",
      "\n",
      "use_fast_mimic:[True], pop_size:[100], keep_pct:[0.5], max_iters:[100000]\n",
      "runner_name:[mimic], experiment_name:[MMC_Exp], attempt:[101], iteration:[136], done:[True], time:[102.22], fitness:[375.0000]\n",
      "\t[0. 1. 0. 1. 1. 0. 0. 1. 1. 0. 1. 0. 1. 1. 0. 0. 1. 0. 1. 0. 0. 1. 0. 1.// 0. 1. 1. 0. 0. 0. 1. 1. 0. 0. 1. 1. 0. 0. 1. 1. 1. 0. 1. 0. 1. 0. 1. 0.// 0. 1. 0. 1. 1. 0. 0. 1. 0. 1. 0. 0. 0. 1. 0. 1. 0. ...\n",
      "\n",
      "***************\n",
      "*** Run END ***\n",
      "***************\n",
      "*****************\n",
      "*** Run START ***\n",
      "*****************\n",
      "use_fast_mimic:[True], pop_size:[100], keep_pct:[0.75], max_iters:[100000]\n",
      "runner_name:[mimic], experiment_name:[MMC_Exp], attempt:[0], iteration:[0], done:[False], time:[0.00], fitness:[257.0000]\n",
      "\t[0 1 1 1 1 1 0 0 1 1 0 0 1 1 0 1 1 1 1 1 0 1 1 0 1 1 1 0 0 1 0 1 1 1 0 0 0// 1 1 0 0 1 1 0 0 0 0 0 0 1 0 0 1 0 0 0 1 1 1 0 0 1 1 0 1 0 1 0 1 0 0 0 1 0// 0 1 1 0 1 1 1 0 0 1 1 1 1 1 1 1 1 0 0 1 1 1 0 0...\n",
      "\n",
      "use_fast_mimic:[True], pop_size:[100], keep_pct:[0.75], max_iters:[100000]\n",
      "runner_name:[mimic], experiment_name:[MMC_Exp], attempt:[101], iteration:[164], done:[True], time:[124.34], fitness:[363.0000]\n",
      "\t[0. 0. 0. 1. 1. 0. 1. 0. 1. 1. 0. 1. 1. 0. 1. 0. 1. 0. 1. 0. 0. 1. 0. 1.// 0. 0. 1. 0. 0. 1. 1. 0. 1. 1. 0. 1. 1. 0. 0. 1. 0. 1. 0. 0. 1. 0. 1. 0.// 1. 0. 0. 1. 0. 0. 0. 1. 0. 1. 0. 0. 1. 0. 0. 1. 1. ...\n",
      "\n",
      "***************\n",
      "*** Run END ***\n",
      "***************\n",
      "Run time: 608.7736461470049\n"
     ]
    }
   ],
   "source": [
    "mmc = mlrose_hiive.MIMICRunner(problem=problem,\n",
    "                          experiment_name=\"MMC_Exp\",\n",
    "                          seed=44,\n",
    "                          iteration_list=[100000],\n",
    "                          max_attempts=100,\n",
    "                          population_sizes=[20,50,100],\n",
    "                          keep_percent_list=[0.25, 0.5, 0.75],\n",
    "                          use_fast_mimic=True)\n",
    "\n",
    "# the two data frames will contain the results\n",
    "mmc_run_stats, mmc_run_curves = mmc.run()"
   ]
  },
  {
   "cell_type": "code",
   "execution_count": 49,
   "metadata": {},
   "outputs": [
    {
     "name": "stdout",
     "output_type": "stream",
     "text": [
      "Max and mean\n",
      "375.0 322.1111111111111 67.63447598477877\n",
      "Keep Percent\n",
      "0.25    313.000000\n",
      "0.50    328.333333\n",
      "0.75    325.000000\n",
      "Name: Fitness, dtype: float64\n",
      "Population Size\n",
      "20     286.333333\n",
      "50     315.666667\n",
      "100    364.333333\n",
      "Name: Fitness, dtype: float64\n",
      "Population Size\n",
      "20      27.908701\n",
      "50      63.284759\n",
      "100    111.709968\n",
      "Name: Time, dtype: float64\n"
     ]
    }
   ],
   "source": [
    "last_iters = mmc_run_stats[mmc_run_stats.Iteration != 0].reset_index()\n",
    "print(\"Max and mean\")\n",
    "print(last_iters.Fitness.max(), last_iters.Fitness.mean(), last_iters.Time.mean())\n",
    "print(last_iters.groupby(\"Keep Percent\").Fitness.mean())\n",
    "print(last_iters.groupby(\"Population Size\").Fitness.mean())\n",
    "print(last_iters.groupby(\"Population Size\").Time.mean())"
   ]
  },
  {
   "cell_type": "code",
   "execution_count": 26,
   "metadata": {},
   "outputs": [],
   "source": [
    "rhc_run_stats.to_pickle(\"./flipFlop_rhc_run_stats.pkl\")\n",
    "rhc_run_curves.to_pickle(\"./flipFlop_rhc_run_curves.pkl\")\n",
    "sa_run_stats.to_pickle(\"./flipFlop_sa_run_stats.pkl\")\n",
    "sa_run_curves.to_pickle(\"./flipFlop_sa_run_curves.pkl\")\n",
    "ga_run_stats.to_pickle(\"./flipFlop_ga_run_stats.pkl\")\n",
    "ga_run_curves.to_pickle(\"./flipFlop_ga_run_curves.pkl\")\n",
    "mmc_run_stats.to_pickle(\"./flipFlop_mmc_run_stats.pkl\")\n",
    "mmc_run_curves.to_pickle(\"./flipFlop_mmc_run_curves.pkl\")\n"
   ]
  },
  {
   "cell_type": "code",
   "execution_count": null,
   "metadata": {},
   "outputs": [],
   "source": []
  }
 ],
 "metadata": {
  "kernelspec": {
   "display_name": "Python 3 (ipykernel)",
   "language": "python",
   "name": "python3"
  },
  "language_info": {
   "codemirror_mode": {
    "name": "ipython",
    "version": 3
   },
   "file_extension": ".py",
   "mimetype": "text/x-python",
   "name": "python",
   "nbconvert_exporter": "python",
   "pygments_lexer": "ipython3",
   "version": "3.7.13"
  }
 },
 "nbformat": 4,
 "nbformat_minor": 4
}
